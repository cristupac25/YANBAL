{
 "cells": [
  {
   "cell_type": "code",
   "execution_count": 14,
   "id": "023d8183",
   "metadata": {},
   "outputs": [
    {
     "data": {
      "text/html": [
       "        <script type=\"text/javascript\">\n",
       "        window.PlotlyConfig = {MathJaxConfig: 'local'};\n",
       "        if (window.MathJax && window.MathJax.Hub && window.MathJax.Hub.Config) {window.MathJax.Hub.Config({SVG: {font: \"STIX-Web\"}});}\n",
       "        if (typeof require !== 'undefined') {\n",
       "        require.undef(\"plotly\");\n",
       "        requirejs.config({\n",
       "            paths: {\n",
       "                'plotly': ['https://cdn.plot.ly/plotly-2.12.1.min']\n",
       "            }\n",
       "        });\n",
       "        require(['plotly'], function(Plotly) {\n",
       "            window._Plotly = Plotly;\n",
       "        });\n",
       "        }\n",
       "        </script>\n",
       "        "
      ]
     },
     "metadata": {},
     "output_type": "display_data"
    }
   ],
   "source": [
    "import pandas as pd\n",
    "import cufflinks as cf\n",
    "from IPython.display import display,HTML\n",
    "\n",
    "cf.set_config_file(sharing='public',theme='ggplot',offline=True) # write cf.getThemes() to find all themes available"
   ]
  },
  {
   "cell_type": "code",
   "execution_count": 15,
   "id": "12e15d40",
   "metadata": {},
   "outputs": [
    {
     "data": {
      "text/html": [
       "<div>\n",
       "<style scoped>\n",
       "    .dataframe tbody tr th:only-of-type {\n",
       "        vertical-align: middle;\n",
       "    }\n",
       "\n",
       "    .dataframe tbody tr th {\n",
       "        vertical-align: top;\n",
       "    }\n",
       "\n",
       "    .dataframe thead th {\n",
       "        text-align: right;\n",
       "    }\n",
       "</style>\n",
       "<table border=\"1\" class=\"dataframe\">\n",
       "  <thead>\n",
       "    <tr style=\"text-align: right;\">\n",
       "      <th></th>\n",
       "      <th>ID_CAMPANIA</th>\n",
       "      <th>CAMPANIA</th>\n",
       "      <th>NOMBRES</th>\n",
       "      <th>VENTA_PUBLICA_PERSONAL</th>\n",
       "      <th>VENTA_PUBLICA_GRUPAL</th>\n",
       "      <th>IM_PROYECTADO</th>\n",
       "      <th>INCORPORADAS</th>\n",
       "    </tr>\n",
       "  </thead>\n",
       "  <tbody>\n",
       "    <tr>\n",
       "      <th>0</th>\n",
       "      <td>1</td>\n",
       "      <td>2018-C04</td>\n",
       "      <td>Rosario Elizabe Lazo Ramirez</td>\n",
       "      <td>902.7</td>\n",
       "      <td>57296.37</td>\n",
       "      <td>0.0240</td>\n",
       "      <td>12</td>\n",
       "    </tr>\n",
       "    <tr>\n",
       "      <th>1</th>\n",
       "      <td>1</td>\n",
       "      <td>2018-C04</td>\n",
       "      <td>Imelda Chamba Niño</td>\n",
       "      <td>465.7</td>\n",
       "      <td>19724.47</td>\n",
       "      <td>0.0095</td>\n",
       "      <td>4</td>\n",
       "    </tr>\n",
       "    <tr>\n",
       "      <th>2</th>\n",
       "      <td>1</td>\n",
       "      <td>2018-C04</td>\n",
       "      <td>Ana Fabiola Huancas Ruiz</td>\n",
       "      <td>462.6</td>\n",
       "      <td>19491.01</td>\n",
       "      <td>0.0402</td>\n",
       "      <td>2</td>\n",
       "    </tr>\n",
       "    <tr>\n",
       "      <th>3</th>\n",
       "      <td>1</td>\n",
       "      <td>2018-C04</td>\n",
       "      <td>Rosa Concepcion Ruiz De Abad</td>\n",
       "      <td>512.9</td>\n",
       "      <td>20708.13</td>\n",
       "      <td>0.0367</td>\n",
       "      <td>4</td>\n",
       "    </tr>\n",
       "    <tr>\n",
       "      <th>4</th>\n",
       "      <td>2</td>\n",
       "      <td>2018-C05</td>\n",
       "      <td>Rosario Elizabe Lazo Ramirez</td>\n",
       "      <td>535.9</td>\n",
       "      <td>58918.80</td>\n",
       "      <td>0.0261</td>\n",
       "      <td>15</td>\n",
       "    </tr>\n",
       "    <tr>\n",
       "      <th>...</th>\n",
       "      <td>...</td>\n",
       "      <td>...</td>\n",
       "      <td>...</td>\n",
       "      <td>...</td>\n",
       "      <td>...</td>\n",
       "      <td>...</td>\n",
       "      <td>...</td>\n",
       "    </tr>\n",
       "    <tr>\n",
       "      <th>347</th>\n",
       "      <td>52</td>\n",
       "      <td>2022-C04</td>\n",
       "      <td>Lesly Anali Valladolid Silva</td>\n",
       "      <td>0.0</td>\n",
       "      <td>5861.00</td>\n",
       "      <td>0.0677</td>\n",
       "      <td>0</td>\n",
       "    </tr>\n",
       "    <tr>\n",
       "      <th>348</th>\n",
       "      <td>52</td>\n",
       "      <td>2022-C04</td>\n",
       "      <td>ELENA ELIZABETH CHERO RUIZ</td>\n",
       "      <td>2017.9</td>\n",
       "      <td>12118.80</td>\n",
       "      <td>0.0589</td>\n",
       "      <td>1</td>\n",
       "    </tr>\n",
       "    <tr>\n",
       "      <th>349</th>\n",
       "      <td>52</td>\n",
       "      <td>2022-C04</td>\n",
       "      <td>Blanca Susana Severino Carreño De Berru</td>\n",
       "      <td>484.1</td>\n",
       "      <td>17001.20</td>\n",
       "      <td>0.0497</td>\n",
       "      <td>7</td>\n",
       "    </tr>\n",
       "    <tr>\n",
       "      <th>350</th>\n",
       "      <td>52</td>\n",
       "      <td>2022-C04</td>\n",
       "      <td>Rosa Concepcion Ruiz De Abad</td>\n",
       "      <td>978.9</td>\n",
       "      <td>19846.20</td>\n",
       "      <td>0.0109</td>\n",
       "      <td>2</td>\n",
       "    </tr>\n",
       "    <tr>\n",
       "      <th>351</th>\n",
       "      <td>52</td>\n",
       "      <td>2022-C04</td>\n",
       "      <td>Imelda Chamba Niño</td>\n",
       "      <td>499.0</td>\n",
       "      <td>11780.60</td>\n",
       "      <td>0.0151</td>\n",
       "      <td>2</td>\n",
       "    </tr>\n",
       "  </tbody>\n",
       "</table>\n",
       "<p>352 rows × 7 columns</p>\n",
       "</div>"
      ],
      "text/plain": [
       "     ID_CAMPANIA  CAMPANIA                                  NOMBRES  \\\n",
       "0              1  2018-C04             Rosario Elizabe Lazo Ramirez   \n",
       "1              1  2018-C04                       Imelda Chamba Niño   \n",
       "2              1  2018-C04                 Ana Fabiola Huancas Ruiz   \n",
       "3              1  2018-C04             Rosa Concepcion Ruiz De Abad   \n",
       "4              2  2018-C05             Rosario Elizabe Lazo Ramirez   \n",
       "..           ...       ...                                      ...   \n",
       "347           52  2022-C04             Lesly Anali Valladolid Silva   \n",
       "348           52  2022-C04               ELENA ELIZABETH CHERO RUIZ   \n",
       "349           52  2022-C04  Blanca Susana Severino Carreño De Berru   \n",
       "350           52  2022-C04             Rosa Concepcion Ruiz De Abad   \n",
       "351           52  2022-C04                       Imelda Chamba Niño   \n",
       "\n",
       "     VENTA_PUBLICA_PERSONAL  VENTA_PUBLICA_GRUPAL  IM_PROYECTADO  INCORPORADAS  \n",
       "0                     902.7              57296.37         0.0240            12  \n",
       "1                     465.7              19724.47         0.0095             4  \n",
       "2                     462.6              19491.01         0.0402             2  \n",
       "3                     512.9              20708.13         0.0367             4  \n",
       "4                     535.9              58918.80         0.0261            15  \n",
       "..                      ...                   ...            ...           ...  \n",
       "347                     0.0               5861.00         0.0677             0  \n",
       "348                  2017.9              12118.80         0.0589             1  \n",
       "349                   484.1              17001.20         0.0497             7  \n",
       "350                   978.9              19846.20         0.0109             2  \n",
       "351                   499.0              11780.60         0.0151             2  \n",
       "\n",
       "[352 rows x 7 columns]"
      ]
     },
     "execution_count": 15,
     "metadata": {},
     "output_type": "execute_result"
    }
   ],
   "source": [
    "pd.read_excel(r'C:\\Users\\Usuario\\Desktop\\Yanbal\\HISTORICO\\DESEMPENO\\DESEMPENO TOTAL.xlsx')"
   ]
  },
  {
   "cell_type": "code",
   "execution_count": 16,
   "id": "1798bfb7",
   "metadata": {},
   "outputs": [
    {
     "data": {
      "text/html": [
       "<div>\n",
       "<style scoped>\n",
       "    .dataframe tbody tr th:only-of-type {\n",
       "        vertical-align: middle;\n",
       "    }\n",
       "\n",
       "    .dataframe tbody tr th {\n",
       "        vertical-align: top;\n",
       "    }\n",
       "\n",
       "    .dataframe thead th {\n",
       "        text-align: right;\n",
       "    }\n",
       "</style>\n",
       "<table border=\"1\" class=\"dataframe\">\n",
       "  <thead>\n",
       "    <tr style=\"text-align: right;\">\n",
       "      <th>NOMBRES</th>\n",
       "      <th>Ana Fabiola Huancas Ruiz</th>\n",
       "      <th>Blanca Susana Severino Carreño De Berru</th>\n",
       "      <th>ELENA ELIZABETH CHERO RUIZ</th>\n",
       "      <th>Imelda Chamba Niño</th>\n",
       "      <th>Lesly Anali Valladolid Silva</th>\n",
       "      <th>Luis Miguel Tupac Yupanqui Lazo</th>\n",
       "      <th>Natali Karen Litano Silupu</th>\n",
       "      <th>Rosa Concepcion Ruiz De Abad</th>\n",
       "      <th>Rosario Elizabe Lazo Ramirez</th>\n",
       "      <th>Yenit Marizela Panta Gonzales</th>\n",
       "      <th>Yessica Lizbeth Panta Gonzales</th>\n",
       "    </tr>\n",
       "    <tr>\n",
       "      <th>CAMPANIA</th>\n",
       "      <th></th>\n",
       "      <th></th>\n",
       "      <th></th>\n",
       "      <th></th>\n",
       "      <th></th>\n",
       "      <th></th>\n",
       "      <th></th>\n",
       "      <th></th>\n",
       "      <th></th>\n",
       "      <th></th>\n",
       "      <th></th>\n",
       "    </tr>\n",
       "  </thead>\n",
       "  <tbody>\n",
       "    <tr>\n",
       "      <th>2018-C04</th>\n",
       "      <td>19491.01</td>\n",
       "      <td>NaN</td>\n",
       "      <td>NaN</td>\n",
       "      <td>19724.47</td>\n",
       "      <td>NaN</td>\n",
       "      <td>NaN</td>\n",
       "      <td>NaN</td>\n",
       "      <td>20708.13</td>\n",
       "      <td>57296.37</td>\n",
       "      <td>NaN</td>\n",
       "      <td>NaN</td>\n",
       "    </tr>\n",
       "    <tr>\n",
       "      <th>2018-C05</th>\n",
       "      <td>13730.70</td>\n",
       "      <td>NaN</td>\n",
       "      <td>NaN</td>\n",
       "      <td>20779.00</td>\n",
       "      <td>NaN</td>\n",
       "      <td>NaN</td>\n",
       "      <td>NaN</td>\n",
       "      <td>20094.50</td>\n",
       "      <td>58918.80</td>\n",
       "      <td>NaN</td>\n",
       "      <td>NaN</td>\n",
       "    </tr>\n",
       "    <tr>\n",
       "      <th>2018-C06</th>\n",
       "      <td>14277.40</td>\n",
       "      <td>21477.0</td>\n",
       "      <td>NaN</td>\n",
       "      <td>23367.60</td>\n",
       "      <td>NaN</td>\n",
       "      <td>NaN</td>\n",
       "      <td>NaN</td>\n",
       "      <td>22719.60</td>\n",
       "      <td>47040.60</td>\n",
       "      <td>NaN</td>\n",
       "      <td>NaN</td>\n",
       "    </tr>\n",
       "    <tr>\n",
       "      <th>2018-C07</th>\n",
       "      <td>13249.40</td>\n",
       "      <td>19283.5</td>\n",
       "      <td>NaN</td>\n",
       "      <td>20940.80</td>\n",
       "      <td>NaN</td>\n",
       "      <td>NaN</td>\n",
       "      <td>NaN</td>\n",
       "      <td>19883.20</td>\n",
       "      <td>46605.60</td>\n",
       "      <td>NaN</td>\n",
       "      <td>NaN</td>\n",
       "    </tr>\n",
       "    <tr>\n",
       "      <th>2018-C08</th>\n",
       "      <td>14568.40</td>\n",
       "      <td>21202.2</td>\n",
       "      <td>NaN</td>\n",
       "      <td>17509.50</td>\n",
       "      <td>NaN</td>\n",
       "      <td>NaN</td>\n",
       "      <td>NaN</td>\n",
       "      <td>14577.10</td>\n",
       "      <td>44148.90</td>\n",
       "      <td>NaN</td>\n",
       "      <td>NaN</td>\n",
       "    </tr>\n",
       "    <tr>\n",
       "      <th>2018-C09</th>\n",
       "      <td>16283.60</td>\n",
       "      <td>24378.6</td>\n",
       "      <td>NaN</td>\n",
       "      <td>16256.40</td>\n",
       "      <td>NaN</td>\n",
       "      <td>NaN</td>\n",
       "      <td>NaN</td>\n",
       "      <td>18519.80</td>\n",
       "      <td>33310.50</td>\n",
       "      <td>19912.00</td>\n",
       "      <td>NaN</td>\n",
       "    </tr>\n",
       "    <tr>\n",
       "      <th>2018-C10</th>\n",
       "      <td>13934.00</td>\n",
       "      <td>23960.5</td>\n",
       "      <td>NaN</td>\n",
       "      <td>16642.90</td>\n",
       "      <td>NaN</td>\n",
       "      <td>NaN</td>\n",
       "      <td>NaN</td>\n",
       "      <td>16235.30</td>\n",
       "      <td>30082.50</td>\n",
       "      <td>18752.00</td>\n",
       "      <td>NaN</td>\n",
       "    </tr>\n",
       "    <tr>\n",
       "      <th>2018-C11</th>\n",
       "      <td>10814.90</td>\n",
       "      <td>16818.3</td>\n",
       "      <td>NaN</td>\n",
       "      <td>18525.50</td>\n",
       "      <td>NaN</td>\n",
       "      <td>NaN</td>\n",
       "      <td>NaN</td>\n",
       "      <td>16977.70</td>\n",
       "      <td>27604.30</td>\n",
       "      <td>20723.50</td>\n",
       "      <td>NaN</td>\n",
       "    </tr>\n",
       "    <tr>\n",
       "      <th>2018-C12</th>\n",
       "      <td>10531.10</td>\n",
       "      <td>21418.5</td>\n",
       "      <td>NaN</td>\n",
       "      <td>18990.40</td>\n",
       "      <td>NaN</td>\n",
       "      <td>NaN</td>\n",
       "      <td>NaN</td>\n",
       "      <td>21585.40</td>\n",
       "      <td>38460.70</td>\n",
       "      <td>19626.10</td>\n",
       "      <td>NaN</td>\n",
       "    </tr>\n",
       "    <tr>\n",
       "      <th>2018-C13</th>\n",
       "      <td>NaN</td>\n",
       "      <td>16866.3</td>\n",
       "      <td>NaN</td>\n",
       "      <td>19796.40</td>\n",
       "      <td>NaN</td>\n",
       "      <td>NaN</td>\n",
       "      <td>NaN</td>\n",
       "      <td>22197.90</td>\n",
       "      <td>47387.40</td>\n",
       "      <td>15602.00</td>\n",
       "      <td>NaN</td>\n",
       "    </tr>\n",
       "    <tr>\n",
       "      <th>2019-C01</th>\n",
       "      <td>NaN</td>\n",
       "      <td>14161.1</td>\n",
       "      <td>NaN</td>\n",
       "      <td>19421.20</td>\n",
       "      <td>NaN</td>\n",
       "      <td>NaN</td>\n",
       "      <td>NaN</td>\n",
       "      <td>23651.70</td>\n",
       "      <td>51469.10</td>\n",
       "      <td>18583.30</td>\n",
       "      <td>NaN</td>\n",
       "    </tr>\n",
       "    <tr>\n",
       "      <th>2019-C02</th>\n",
       "      <td>NaN</td>\n",
       "      <td>14889.7</td>\n",
       "      <td>NaN</td>\n",
       "      <td>19001.20</td>\n",
       "      <td>NaN</td>\n",
       "      <td>NaN</td>\n",
       "      <td>18533.20</td>\n",
       "      <td>26407.20</td>\n",
       "      <td>31964.50</td>\n",
       "      <td>22790.40</td>\n",
       "      <td>NaN</td>\n",
       "    </tr>\n",
       "    <tr>\n",
       "      <th>2019-C03</th>\n",
       "      <td>NaN</td>\n",
       "      <td>15895.7</td>\n",
       "      <td>NaN</td>\n",
       "      <td>18503.60</td>\n",
       "      <td>NaN</td>\n",
       "      <td>NaN</td>\n",
       "      <td>18516.60</td>\n",
       "      <td>23834.10</td>\n",
       "      <td>29281.20</td>\n",
       "      <td>22002.50</td>\n",
       "      <td>NaN</td>\n",
       "    </tr>\n",
       "    <tr>\n",
       "      <th>2019-C04</th>\n",
       "      <td>NaN</td>\n",
       "      <td>13449.7</td>\n",
       "      <td>NaN</td>\n",
       "      <td>18673.60</td>\n",
       "      <td>NaN</td>\n",
       "      <td>NaN</td>\n",
       "      <td>15020.50</td>\n",
       "      <td>21361.50</td>\n",
       "      <td>30424.00</td>\n",
       "      <td>18515.10</td>\n",
       "      <td>NaN</td>\n",
       "    </tr>\n",
       "    <tr>\n",
       "      <th>2019-C05</th>\n",
       "      <td>NaN</td>\n",
       "      <td>11034.0</td>\n",
       "      <td>NaN</td>\n",
       "      <td>21481.80</td>\n",
       "      <td>NaN</td>\n",
       "      <td>NaN</td>\n",
       "      <td>16924.00</td>\n",
       "      <td>22518.00</td>\n",
       "      <td>34902.10</td>\n",
       "      <td>21494.10</td>\n",
       "      <td>NaN</td>\n",
       "    </tr>\n",
       "    <tr>\n",
       "      <th>2019-C06</th>\n",
       "      <td>NaN</td>\n",
       "      <td>9851.8</td>\n",
       "      <td>NaN</td>\n",
       "      <td>19965.30</td>\n",
       "      <td>NaN</td>\n",
       "      <td>NaN</td>\n",
       "      <td>14828.40</td>\n",
       "      <td>23737.90</td>\n",
       "      <td>37738.70</td>\n",
       "      <td>19119.00</td>\n",
       "      <td>NaN</td>\n",
       "    </tr>\n",
       "    <tr>\n",
       "      <th>2019-C07</th>\n",
       "      <td>NaN</td>\n",
       "      <td>11036.6</td>\n",
       "      <td>NaN</td>\n",
       "      <td>18523.10</td>\n",
       "      <td>NaN</td>\n",
       "      <td>NaN</td>\n",
       "      <td>12259.90</td>\n",
       "      <td>25163.90</td>\n",
       "      <td>37327.60</td>\n",
       "      <td>19146.90</td>\n",
       "      <td>NaN</td>\n",
       "    </tr>\n",
       "    <tr>\n",
       "      <th>2019-C08</th>\n",
       "      <td>NaN</td>\n",
       "      <td>12153.2</td>\n",
       "      <td>NaN</td>\n",
       "      <td>16843.60</td>\n",
       "      <td>NaN</td>\n",
       "      <td>NaN</td>\n",
       "      <td>14805.60</td>\n",
       "      <td>23182.50</td>\n",
       "      <td>39584.50</td>\n",
       "      <td>18520.70</td>\n",
       "      <td>NaN</td>\n",
       "    </tr>\n",
       "    <tr>\n",
       "      <th>2019-C09</th>\n",
       "      <td>NaN</td>\n",
       "      <td>11971.8</td>\n",
       "      <td>NaN</td>\n",
       "      <td>18549.90</td>\n",
       "      <td>NaN</td>\n",
       "      <td>NaN</td>\n",
       "      <td>18506.60</td>\n",
       "      <td>25257.50</td>\n",
       "      <td>42614.90</td>\n",
       "      <td>18675.60</td>\n",
       "      <td>NaN</td>\n",
       "    </tr>\n",
       "    <tr>\n",
       "      <th>2019-C10</th>\n",
       "      <td>NaN</td>\n",
       "      <td>NaN</td>\n",
       "      <td>NaN</td>\n",
       "      <td>18684.50</td>\n",
       "      <td>NaN</td>\n",
       "      <td>18577.50</td>\n",
       "      <td>13082.60</td>\n",
       "      <td>21360.10</td>\n",
       "      <td>33302.70</td>\n",
       "      <td>18524.70</td>\n",
       "      <td>NaN</td>\n",
       "    </tr>\n",
       "    <tr>\n",
       "      <th>2019-C11</th>\n",
       "      <td>NaN</td>\n",
       "      <td>NaN</td>\n",
       "      <td>NaN</td>\n",
       "      <td>18526.10</td>\n",
       "      <td>NaN</td>\n",
       "      <td>18538.80</td>\n",
       "      <td>8631.80</td>\n",
       "      <td>22700.20</td>\n",
       "      <td>31090.70</td>\n",
       "      <td>19323.20</td>\n",
       "      <td>NaN</td>\n",
       "    </tr>\n",
       "    <tr>\n",
       "      <th>2019-C12</th>\n",
       "      <td>NaN</td>\n",
       "      <td>NaN</td>\n",
       "      <td>NaN</td>\n",
       "      <td>19992.50</td>\n",
       "      <td>NaN</td>\n",
       "      <td>18669.70</td>\n",
       "      <td>10330.60</td>\n",
       "      <td>27290.30</td>\n",
       "      <td>32986.30</td>\n",
       "      <td>20484.90</td>\n",
       "      <td>NaN</td>\n",
       "    </tr>\n",
       "    <tr>\n",
       "      <th>2019-C13</th>\n",
       "      <td>NaN</td>\n",
       "      <td>NaN</td>\n",
       "      <td>NaN</td>\n",
       "      <td>18600.60</td>\n",
       "      <td>NaN</td>\n",
       "      <td>18789.70</td>\n",
       "      <td>11075.90</td>\n",
       "      <td>25837.40</td>\n",
       "      <td>30611.80</td>\n",
       "      <td>20950.20</td>\n",
       "      <td>NaN</td>\n",
       "    </tr>\n",
       "    <tr>\n",
       "      <th>2020-C01</th>\n",
       "      <td>NaN</td>\n",
       "      <td>NaN</td>\n",
       "      <td>NaN</td>\n",
       "      <td>20305.10</td>\n",
       "      <td>NaN</td>\n",
       "      <td>21346.80</td>\n",
       "      <td>9579.60</td>\n",
       "      <td>20760.40</td>\n",
       "      <td>32225.80</td>\n",
       "      <td>19337.90</td>\n",
       "      <td>NaN</td>\n",
       "    </tr>\n",
       "    <tr>\n",
       "      <th>2020-C02</th>\n",
       "      <td>NaN</td>\n",
       "      <td>NaN</td>\n",
       "      <td>NaN</td>\n",
       "      <td>18672.70</td>\n",
       "      <td>NaN</td>\n",
       "      <td>16837.40</td>\n",
       "      <td>11258.70</td>\n",
       "      <td>22869.40</td>\n",
       "      <td>31788.70</td>\n",
       "      <td>27878.60</td>\n",
       "      <td>NaN</td>\n",
       "    </tr>\n",
       "    <tr>\n",
       "      <th>2020-C03</th>\n",
       "      <td>NaN</td>\n",
       "      <td>NaN</td>\n",
       "      <td>NaN</td>\n",
       "      <td>15234.70</td>\n",
       "      <td>NaN</td>\n",
       "      <td>18505.50</td>\n",
       "      <td>8570.70</td>\n",
       "      <td>22345.10</td>\n",
       "      <td>30263.80</td>\n",
       "      <td>25143.20</td>\n",
       "      <td>NaN</td>\n",
       "    </tr>\n",
       "    <tr>\n",
       "      <th>2020-C04</th>\n",
       "      <td>NaN</td>\n",
       "      <td>NaN</td>\n",
       "      <td>NaN</td>\n",
       "      <td>4924.30</td>\n",
       "      <td>NaN</td>\n",
       "      <td>6859.10</td>\n",
       "      <td>6363.90</td>\n",
       "      <td>6500.10</td>\n",
       "      <td>9907.90</td>\n",
       "      <td>13097.40</td>\n",
       "      <td>NaN</td>\n",
       "    </tr>\n",
       "    <tr>\n",
       "      <th>2020-C05</th>\n",
       "      <td>NaN</td>\n",
       "      <td>NaN</td>\n",
       "      <td>NaN</td>\n",
       "      <td>7135.70</td>\n",
       "      <td>NaN</td>\n",
       "      <td>10003.60</td>\n",
       "      <td>10051.30</td>\n",
       "      <td>12524.20</td>\n",
       "      <td>26715.00</td>\n",
       "      <td>28252.10</td>\n",
       "      <td>NaN</td>\n",
       "    </tr>\n",
       "    <tr>\n",
       "      <th>2020-C06</th>\n",
       "      <td>NaN</td>\n",
       "      <td>NaN</td>\n",
       "      <td>NaN</td>\n",
       "      <td>8758.30</td>\n",
       "      <td>NaN</td>\n",
       "      <td>13047.30</td>\n",
       "      <td>11377.00</td>\n",
       "      <td>11389.60</td>\n",
       "      <td>28880.70</td>\n",
       "      <td>37403.82</td>\n",
       "      <td>NaN</td>\n",
       "    </tr>\n",
       "    <tr>\n",
       "      <th>2020-C07</th>\n",
       "      <td>NaN</td>\n",
       "      <td>NaN</td>\n",
       "      <td>NaN</td>\n",
       "      <td>12934.00</td>\n",
       "      <td>NaN</td>\n",
       "      <td>17160.02</td>\n",
       "      <td>12533.70</td>\n",
       "      <td>15337.16</td>\n",
       "      <td>31073.10</td>\n",
       "      <td>47458.32</td>\n",
       "      <td>NaN</td>\n",
       "    </tr>\n",
       "    <tr>\n",
       "      <th>2020-C08</th>\n",
       "      <td>NaN</td>\n",
       "      <td>NaN</td>\n",
       "      <td>NaN</td>\n",
       "      <td>13177.32</td>\n",
       "      <td>NaN</td>\n",
       "      <td>17798.50</td>\n",
       "      <td>14420.76</td>\n",
       "      <td>15213.20</td>\n",
       "      <td>33657.70</td>\n",
       "      <td>48265.40</td>\n",
       "      <td>NaN</td>\n",
       "    </tr>\n",
       "    <tr>\n",
       "      <th>2020-C09</th>\n",
       "      <td>NaN</td>\n",
       "      <td>NaN</td>\n",
       "      <td>NaN</td>\n",
       "      <td>12652.71</td>\n",
       "      <td>NaN</td>\n",
       "      <td>17790.09</td>\n",
       "      <td>11039.60</td>\n",
       "      <td>12414.73</td>\n",
       "      <td>26730.59</td>\n",
       "      <td>53402.03</td>\n",
       "      <td>NaN</td>\n",
       "    </tr>\n",
       "    <tr>\n",
       "      <th>2020-C10</th>\n",
       "      <td>NaN</td>\n",
       "      <td>NaN</td>\n",
       "      <td>NaN</td>\n",
       "      <td>12678.30</td>\n",
       "      <td>NaN</td>\n",
       "      <td>14852.70</td>\n",
       "      <td>6853.70</td>\n",
       "      <td>14627.10</td>\n",
       "      <td>26644.00</td>\n",
       "      <td>48304.00</td>\n",
       "      <td>NaN</td>\n",
       "    </tr>\n",
       "    <tr>\n",
       "      <th>2020-C11</th>\n",
       "      <td>NaN</td>\n",
       "      <td>NaN</td>\n",
       "      <td>NaN</td>\n",
       "      <td>13052.90</td>\n",
       "      <td>NaN</td>\n",
       "      <td>20364.40</td>\n",
       "      <td>6145.10</td>\n",
       "      <td>17494.10</td>\n",
       "      <td>34406.60</td>\n",
       "      <td>54220.20</td>\n",
       "      <td>NaN</td>\n",
       "    </tr>\n",
       "    <tr>\n",
       "      <th>2020-C12</th>\n",
       "      <td>NaN</td>\n",
       "      <td>NaN</td>\n",
       "      <td>NaN</td>\n",
       "      <td>17090.30</td>\n",
       "      <td>NaN</td>\n",
       "      <td>17513.60</td>\n",
       "      <td>6410.20</td>\n",
       "      <td>17760.30</td>\n",
       "      <td>33194.90</td>\n",
       "      <td>58977.10</td>\n",
       "      <td>NaN</td>\n",
       "    </tr>\n",
       "    <tr>\n",
       "      <th>2021-C01</th>\n",
       "      <td>NaN</td>\n",
       "      <td>NaN</td>\n",
       "      <td>18559.5</td>\n",
       "      <td>14708.50</td>\n",
       "      <td>NaN</td>\n",
       "      <td>20411.80</td>\n",
       "      <td>11488.60</td>\n",
       "      <td>18510.10</td>\n",
       "      <td>32642.00</td>\n",
       "      <td>27426.40</td>\n",
       "      <td>21526.2</td>\n",
       "    </tr>\n",
       "    <tr>\n",
       "      <th>2021-C02</th>\n",
       "      <td>NaN</td>\n",
       "      <td>NaN</td>\n",
       "      <td>18549.9</td>\n",
       "      <td>14372.90</td>\n",
       "      <td>NaN</td>\n",
       "      <td>23205.40</td>\n",
       "      <td>9341.20</td>\n",
       "      <td>22538.10</td>\n",
       "      <td>30066.60</td>\n",
       "      <td>30955.00</td>\n",
       "      <td>22892.0</td>\n",
       "    </tr>\n",
       "    <tr>\n",
       "      <th>2021-C03</th>\n",
       "      <td>NaN</td>\n",
       "      <td>NaN</td>\n",
       "      <td>14106.1</td>\n",
       "      <td>12384.50</td>\n",
       "      <td>NaN</td>\n",
       "      <td>17437.50</td>\n",
       "      <td>9629.20</td>\n",
       "      <td>13647.90</td>\n",
       "      <td>26167.60</td>\n",
       "      <td>29424.20</td>\n",
       "      <td>20952.0</td>\n",
       "    </tr>\n",
       "    <tr>\n",
       "      <th>2021-C04</th>\n",
       "      <td>NaN</td>\n",
       "      <td>NaN</td>\n",
       "      <td>14400.7</td>\n",
       "      <td>11525.30</td>\n",
       "      <td>NaN</td>\n",
       "      <td>16176.00</td>\n",
       "      <td>5892.50</td>\n",
       "      <td>7745.60</td>\n",
       "      <td>24916.40</td>\n",
       "      <td>27056.60</td>\n",
       "      <td>18180.4</td>\n",
       "    </tr>\n",
       "    <tr>\n",
       "      <th>2021-C05</th>\n",
       "      <td>NaN</td>\n",
       "      <td>NaN</td>\n",
       "      <td>13789.5</td>\n",
       "      <td>9501.00</td>\n",
       "      <td>NaN</td>\n",
       "      <td>19051.00</td>\n",
       "      <td>12565.90</td>\n",
       "      <td>8999.70</td>\n",
       "      <td>23319.30</td>\n",
       "      <td>26474.20</td>\n",
       "      <td>16030.8</td>\n",
       "    </tr>\n",
       "    <tr>\n",
       "      <th>2021-C06</th>\n",
       "      <td>NaN</td>\n",
       "      <td>NaN</td>\n",
       "      <td>15220.3</td>\n",
       "      <td>9602.80</td>\n",
       "      <td>NaN</td>\n",
       "      <td>18450.90</td>\n",
       "      <td>7423.30</td>\n",
       "      <td>10582.10</td>\n",
       "      <td>27872.50</td>\n",
       "      <td>31718.70</td>\n",
       "      <td>20533.9</td>\n",
       "    </tr>\n",
       "    <tr>\n",
       "      <th>2021-C07</th>\n",
       "      <td>NaN</td>\n",
       "      <td>NaN</td>\n",
       "      <td>18616.0</td>\n",
       "      <td>7763.90</td>\n",
       "      <td>NaN</td>\n",
       "      <td>17592.90</td>\n",
       "      <td>6521.10</td>\n",
       "      <td>12009.40</td>\n",
       "      <td>27773.00</td>\n",
       "      <td>33044.30</td>\n",
       "      <td>20550.3</td>\n",
       "    </tr>\n",
       "    <tr>\n",
       "      <th>2021-C08</th>\n",
       "      <td>NaN</td>\n",
       "      <td>NaN</td>\n",
       "      <td>22061.2</td>\n",
       "      <td>8196.40</td>\n",
       "      <td>11473.1</td>\n",
       "      <td>19461.70</td>\n",
       "      <td>10589.40</td>\n",
       "      <td>11711.70</td>\n",
       "      <td>26079.70</td>\n",
       "      <td>20721.80</td>\n",
       "      <td>22786.6</td>\n",
       "    </tr>\n",
       "    <tr>\n",
       "      <th>2021-C09</th>\n",
       "      <td>NaN</td>\n",
       "      <td>NaN</td>\n",
       "      <td>19452.9</td>\n",
       "      <td>11237.40</td>\n",
       "      <td>13401.3</td>\n",
       "      <td>18761.60</td>\n",
       "      <td>6720.80</td>\n",
       "      <td>11049.20</td>\n",
       "      <td>30074.00</td>\n",
       "      <td>22077.20</td>\n",
       "      <td>20290.6</td>\n",
       "    </tr>\n",
       "    <tr>\n",
       "      <th>2021-C10</th>\n",
       "      <td>NaN</td>\n",
       "      <td>NaN</td>\n",
       "      <td>20698.8</td>\n",
       "      <td>15139.10</td>\n",
       "      <td>11511.5</td>\n",
       "      <td>16398.60</td>\n",
       "      <td>8203.30</td>\n",
       "      <td>14030.30</td>\n",
       "      <td>32110.50</td>\n",
       "      <td>19385.20</td>\n",
       "      <td>23577.7</td>\n",
       "    </tr>\n",
       "    <tr>\n",
       "      <th>2021-C11</th>\n",
       "      <td>NaN</td>\n",
       "      <td>NaN</td>\n",
       "      <td>19458.5</td>\n",
       "      <td>15044.50</td>\n",
       "      <td>12359.7</td>\n",
       "      <td>15950.00</td>\n",
       "      <td>14016.30</td>\n",
       "      <td>14009.10</td>\n",
       "      <td>29135.70</td>\n",
       "      <td>21880.70</td>\n",
       "      <td>23898.3</td>\n",
       "    </tr>\n",
       "    <tr>\n",
       "      <th>2021-C12</th>\n",
       "      <td>NaN</td>\n",
       "      <td>NaN</td>\n",
       "      <td>19108.6</td>\n",
       "      <td>15214.80</td>\n",
       "      <td>15036.0</td>\n",
       "      <td>23672.10</td>\n",
       "      <td>12064.50</td>\n",
       "      <td>17606.10</td>\n",
       "      <td>36821.30</td>\n",
       "      <td>23925.30</td>\n",
       "      <td>24125.8</td>\n",
       "    </tr>\n",
       "    <tr>\n",
       "      <th>2021-C13</th>\n",
       "      <td>NaN</td>\n",
       "      <td>15011.0</td>\n",
       "      <td>16319.3</td>\n",
       "      <td>13835.90</td>\n",
       "      <td>7580.0</td>\n",
       "      <td>20464.70</td>\n",
       "      <td>8121.30</td>\n",
       "      <td>16605.80</td>\n",
       "      <td>17711.00</td>\n",
       "      <td>18599.90</td>\n",
       "      <td>20697.7</td>\n",
       "    </tr>\n",
       "    <tr>\n",
       "      <th>2022-C01</th>\n",
       "      <td>NaN</td>\n",
       "      <td>17232.8</td>\n",
       "      <td>16263.4</td>\n",
       "      <td>15018.30</td>\n",
       "      <td>9260.5</td>\n",
       "      <td>15000.30</td>\n",
       "      <td>6891.00</td>\n",
       "      <td>15071.10</td>\n",
       "      <td>17665.00</td>\n",
       "      <td>19063.60</td>\n",
       "      <td>12937.8</td>\n",
       "    </tr>\n",
       "    <tr>\n",
       "      <th>2022-C02</th>\n",
       "      <td>NaN</td>\n",
       "      <td>18590.2</td>\n",
       "      <td>15280.2</td>\n",
       "      <td>12637.90</td>\n",
       "      <td>8205.2</td>\n",
       "      <td>15373.00</td>\n",
       "      <td>8428.50</td>\n",
       "      <td>16814.70</td>\n",
       "      <td>20282.30</td>\n",
       "      <td>19998.30</td>\n",
       "      <td>17113.0</td>\n",
       "    </tr>\n",
       "    <tr>\n",
       "      <th>2022-C03</th>\n",
       "      <td>NaN</td>\n",
       "      <td>17244.6</td>\n",
       "      <td>16020.8</td>\n",
       "      <td>13733.00</td>\n",
       "      <td>6799.1</td>\n",
       "      <td>18501.40</td>\n",
       "      <td>7062.90</td>\n",
       "      <td>17614.40</td>\n",
       "      <td>22493.90</td>\n",
       "      <td>22242.10</td>\n",
       "      <td>14690.9</td>\n",
       "    </tr>\n",
       "    <tr>\n",
       "      <th>2022-C04</th>\n",
       "      <td>NaN</td>\n",
       "      <td>17001.2</td>\n",
       "      <td>12118.8</td>\n",
       "      <td>11780.60</td>\n",
       "      <td>5861.0</td>\n",
       "      <td>16194.90</td>\n",
       "      <td>6228.00</td>\n",
       "      <td>19846.20</td>\n",
       "      <td>24891.40</td>\n",
       "      <td>21798.90</td>\n",
       "      <td>13108.7</td>\n",
       "    </tr>\n",
       "  </tbody>\n",
       "</table>\n",
       "</div>"
      ],
      "text/plain": [
       "NOMBRES   Ana Fabiola Huancas Ruiz  Blanca Susana Severino Carreño De Berru  \\\n",
       "CAMPANIA                                                                      \n",
       "2018-C04                  19491.01                                      NaN   \n",
       "2018-C05                  13730.70                                      NaN   \n",
       "2018-C06                  14277.40                                  21477.0   \n",
       "2018-C07                  13249.40                                  19283.5   \n",
       "2018-C08                  14568.40                                  21202.2   \n",
       "2018-C09                  16283.60                                  24378.6   \n",
       "2018-C10                  13934.00                                  23960.5   \n",
       "2018-C11                  10814.90                                  16818.3   \n",
       "2018-C12                  10531.10                                  21418.5   \n",
       "2018-C13                       NaN                                  16866.3   \n",
       "2019-C01                       NaN                                  14161.1   \n",
       "2019-C02                       NaN                                  14889.7   \n",
       "2019-C03                       NaN                                  15895.7   \n",
       "2019-C04                       NaN                                  13449.7   \n",
       "2019-C05                       NaN                                  11034.0   \n",
       "2019-C06                       NaN                                   9851.8   \n",
       "2019-C07                       NaN                                  11036.6   \n",
       "2019-C08                       NaN                                  12153.2   \n",
       "2019-C09                       NaN                                  11971.8   \n",
       "2019-C10                       NaN                                      NaN   \n",
       "2019-C11                       NaN                                      NaN   \n",
       "2019-C12                       NaN                                      NaN   \n",
       "2019-C13                       NaN                                      NaN   \n",
       "2020-C01                       NaN                                      NaN   \n",
       "2020-C02                       NaN                                      NaN   \n",
       "2020-C03                       NaN                                      NaN   \n",
       "2020-C04                       NaN                                      NaN   \n",
       "2020-C05                       NaN                                      NaN   \n",
       "2020-C06                       NaN                                      NaN   \n",
       "2020-C07                       NaN                                      NaN   \n",
       "2020-C08                       NaN                                      NaN   \n",
       "2020-C09                       NaN                                      NaN   \n",
       "2020-C10                       NaN                                      NaN   \n",
       "2020-C11                       NaN                                      NaN   \n",
       "2020-C12                       NaN                                      NaN   \n",
       "2021-C01                       NaN                                      NaN   \n",
       "2021-C02                       NaN                                      NaN   \n",
       "2021-C03                       NaN                                      NaN   \n",
       "2021-C04                       NaN                                      NaN   \n",
       "2021-C05                       NaN                                      NaN   \n",
       "2021-C06                       NaN                                      NaN   \n",
       "2021-C07                       NaN                                      NaN   \n",
       "2021-C08                       NaN                                      NaN   \n",
       "2021-C09                       NaN                                      NaN   \n",
       "2021-C10                       NaN                                      NaN   \n",
       "2021-C11                       NaN                                      NaN   \n",
       "2021-C12                       NaN                                      NaN   \n",
       "2021-C13                       NaN                                  15011.0   \n",
       "2022-C01                       NaN                                  17232.8   \n",
       "2022-C02                       NaN                                  18590.2   \n",
       "2022-C03                       NaN                                  17244.6   \n",
       "2022-C04                       NaN                                  17001.2   \n",
       "\n",
       "NOMBRES   ELENA ELIZABETH CHERO RUIZ  Imelda Chamba Niño  \\\n",
       "CAMPANIA                                                   \n",
       "2018-C04                         NaN            19724.47   \n",
       "2018-C05                         NaN            20779.00   \n",
       "2018-C06                         NaN            23367.60   \n",
       "2018-C07                         NaN            20940.80   \n",
       "2018-C08                         NaN            17509.50   \n",
       "2018-C09                         NaN            16256.40   \n",
       "2018-C10                         NaN            16642.90   \n",
       "2018-C11                         NaN            18525.50   \n",
       "2018-C12                         NaN            18990.40   \n",
       "2018-C13                         NaN            19796.40   \n",
       "2019-C01                         NaN            19421.20   \n",
       "2019-C02                         NaN            19001.20   \n",
       "2019-C03                         NaN            18503.60   \n",
       "2019-C04                         NaN            18673.60   \n",
       "2019-C05                         NaN            21481.80   \n",
       "2019-C06                         NaN            19965.30   \n",
       "2019-C07                         NaN            18523.10   \n",
       "2019-C08                         NaN            16843.60   \n",
       "2019-C09                         NaN            18549.90   \n",
       "2019-C10                         NaN            18684.50   \n",
       "2019-C11                         NaN            18526.10   \n",
       "2019-C12                         NaN            19992.50   \n",
       "2019-C13                         NaN            18600.60   \n",
       "2020-C01                         NaN            20305.10   \n",
       "2020-C02                         NaN            18672.70   \n",
       "2020-C03                         NaN            15234.70   \n",
       "2020-C04                         NaN             4924.30   \n",
       "2020-C05                         NaN             7135.70   \n",
       "2020-C06                         NaN             8758.30   \n",
       "2020-C07                         NaN            12934.00   \n",
       "2020-C08                         NaN            13177.32   \n",
       "2020-C09                         NaN            12652.71   \n",
       "2020-C10                         NaN            12678.30   \n",
       "2020-C11                         NaN            13052.90   \n",
       "2020-C12                         NaN            17090.30   \n",
       "2021-C01                     18559.5            14708.50   \n",
       "2021-C02                     18549.9            14372.90   \n",
       "2021-C03                     14106.1            12384.50   \n",
       "2021-C04                     14400.7            11525.30   \n",
       "2021-C05                     13789.5             9501.00   \n",
       "2021-C06                     15220.3             9602.80   \n",
       "2021-C07                     18616.0             7763.90   \n",
       "2021-C08                     22061.2             8196.40   \n",
       "2021-C09                     19452.9            11237.40   \n",
       "2021-C10                     20698.8            15139.10   \n",
       "2021-C11                     19458.5            15044.50   \n",
       "2021-C12                     19108.6            15214.80   \n",
       "2021-C13                     16319.3            13835.90   \n",
       "2022-C01                     16263.4            15018.30   \n",
       "2022-C02                     15280.2            12637.90   \n",
       "2022-C03                     16020.8            13733.00   \n",
       "2022-C04                     12118.8            11780.60   \n",
       "\n",
       "NOMBRES   Lesly Anali Valladolid Silva  Luis Miguel Tupac Yupanqui Lazo  \\\n",
       "CAMPANIA                                                                  \n",
       "2018-C04                           NaN                              NaN   \n",
       "2018-C05                           NaN                              NaN   \n",
       "2018-C06                           NaN                              NaN   \n",
       "2018-C07                           NaN                              NaN   \n",
       "2018-C08                           NaN                              NaN   \n",
       "2018-C09                           NaN                              NaN   \n",
       "2018-C10                           NaN                              NaN   \n",
       "2018-C11                           NaN                              NaN   \n",
       "2018-C12                           NaN                              NaN   \n",
       "2018-C13                           NaN                              NaN   \n",
       "2019-C01                           NaN                              NaN   \n",
       "2019-C02                           NaN                              NaN   \n",
       "2019-C03                           NaN                              NaN   \n",
       "2019-C04                           NaN                              NaN   \n",
       "2019-C05                           NaN                              NaN   \n",
       "2019-C06                           NaN                              NaN   \n",
       "2019-C07                           NaN                              NaN   \n",
       "2019-C08                           NaN                              NaN   \n",
       "2019-C09                           NaN                              NaN   \n",
       "2019-C10                           NaN                         18577.50   \n",
       "2019-C11                           NaN                         18538.80   \n",
       "2019-C12                           NaN                         18669.70   \n",
       "2019-C13                           NaN                         18789.70   \n",
       "2020-C01                           NaN                         21346.80   \n",
       "2020-C02                           NaN                         16837.40   \n",
       "2020-C03                           NaN                         18505.50   \n",
       "2020-C04                           NaN                          6859.10   \n",
       "2020-C05                           NaN                         10003.60   \n",
       "2020-C06                           NaN                         13047.30   \n",
       "2020-C07                           NaN                         17160.02   \n",
       "2020-C08                           NaN                         17798.50   \n",
       "2020-C09                           NaN                         17790.09   \n",
       "2020-C10                           NaN                         14852.70   \n",
       "2020-C11                           NaN                         20364.40   \n",
       "2020-C12                           NaN                         17513.60   \n",
       "2021-C01                           NaN                         20411.80   \n",
       "2021-C02                           NaN                         23205.40   \n",
       "2021-C03                           NaN                         17437.50   \n",
       "2021-C04                           NaN                         16176.00   \n",
       "2021-C05                           NaN                         19051.00   \n",
       "2021-C06                           NaN                         18450.90   \n",
       "2021-C07                           NaN                         17592.90   \n",
       "2021-C08                       11473.1                         19461.70   \n",
       "2021-C09                       13401.3                         18761.60   \n",
       "2021-C10                       11511.5                         16398.60   \n",
       "2021-C11                       12359.7                         15950.00   \n",
       "2021-C12                       15036.0                         23672.10   \n",
       "2021-C13                        7580.0                         20464.70   \n",
       "2022-C01                        9260.5                         15000.30   \n",
       "2022-C02                        8205.2                         15373.00   \n",
       "2022-C03                        6799.1                         18501.40   \n",
       "2022-C04                        5861.0                         16194.90   \n",
       "\n",
       "NOMBRES   Natali Karen Litano Silupu  Rosa Concepcion Ruiz De Abad  \\\n",
       "CAMPANIA                                                             \n",
       "2018-C04                         NaN                      20708.13   \n",
       "2018-C05                         NaN                      20094.50   \n",
       "2018-C06                         NaN                      22719.60   \n",
       "2018-C07                         NaN                      19883.20   \n",
       "2018-C08                         NaN                      14577.10   \n",
       "2018-C09                         NaN                      18519.80   \n",
       "2018-C10                         NaN                      16235.30   \n",
       "2018-C11                         NaN                      16977.70   \n",
       "2018-C12                         NaN                      21585.40   \n",
       "2018-C13                         NaN                      22197.90   \n",
       "2019-C01                         NaN                      23651.70   \n",
       "2019-C02                    18533.20                      26407.20   \n",
       "2019-C03                    18516.60                      23834.10   \n",
       "2019-C04                    15020.50                      21361.50   \n",
       "2019-C05                    16924.00                      22518.00   \n",
       "2019-C06                    14828.40                      23737.90   \n",
       "2019-C07                    12259.90                      25163.90   \n",
       "2019-C08                    14805.60                      23182.50   \n",
       "2019-C09                    18506.60                      25257.50   \n",
       "2019-C10                    13082.60                      21360.10   \n",
       "2019-C11                     8631.80                      22700.20   \n",
       "2019-C12                    10330.60                      27290.30   \n",
       "2019-C13                    11075.90                      25837.40   \n",
       "2020-C01                     9579.60                      20760.40   \n",
       "2020-C02                    11258.70                      22869.40   \n",
       "2020-C03                     8570.70                      22345.10   \n",
       "2020-C04                     6363.90                       6500.10   \n",
       "2020-C05                    10051.30                      12524.20   \n",
       "2020-C06                    11377.00                      11389.60   \n",
       "2020-C07                    12533.70                      15337.16   \n",
       "2020-C08                    14420.76                      15213.20   \n",
       "2020-C09                    11039.60                      12414.73   \n",
       "2020-C10                     6853.70                      14627.10   \n",
       "2020-C11                     6145.10                      17494.10   \n",
       "2020-C12                     6410.20                      17760.30   \n",
       "2021-C01                    11488.60                      18510.10   \n",
       "2021-C02                     9341.20                      22538.10   \n",
       "2021-C03                     9629.20                      13647.90   \n",
       "2021-C04                     5892.50                       7745.60   \n",
       "2021-C05                    12565.90                       8999.70   \n",
       "2021-C06                     7423.30                      10582.10   \n",
       "2021-C07                     6521.10                      12009.40   \n",
       "2021-C08                    10589.40                      11711.70   \n",
       "2021-C09                     6720.80                      11049.20   \n",
       "2021-C10                     8203.30                      14030.30   \n",
       "2021-C11                    14016.30                      14009.10   \n",
       "2021-C12                    12064.50                      17606.10   \n",
       "2021-C13                     8121.30                      16605.80   \n",
       "2022-C01                     6891.00                      15071.10   \n",
       "2022-C02                     8428.50                      16814.70   \n",
       "2022-C03                     7062.90                      17614.40   \n",
       "2022-C04                     6228.00                      19846.20   \n",
       "\n",
       "NOMBRES   Rosario Elizabe Lazo Ramirez  Yenit Marizela Panta Gonzales  \\\n",
       "CAMPANIA                                                                \n",
       "2018-C04                      57296.37                            NaN   \n",
       "2018-C05                      58918.80                            NaN   \n",
       "2018-C06                      47040.60                            NaN   \n",
       "2018-C07                      46605.60                            NaN   \n",
       "2018-C08                      44148.90                            NaN   \n",
       "2018-C09                      33310.50                       19912.00   \n",
       "2018-C10                      30082.50                       18752.00   \n",
       "2018-C11                      27604.30                       20723.50   \n",
       "2018-C12                      38460.70                       19626.10   \n",
       "2018-C13                      47387.40                       15602.00   \n",
       "2019-C01                      51469.10                       18583.30   \n",
       "2019-C02                      31964.50                       22790.40   \n",
       "2019-C03                      29281.20                       22002.50   \n",
       "2019-C04                      30424.00                       18515.10   \n",
       "2019-C05                      34902.10                       21494.10   \n",
       "2019-C06                      37738.70                       19119.00   \n",
       "2019-C07                      37327.60                       19146.90   \n",
       "2019-C08                      39584.50                       18520.70   \n",
       "2019-C09                      42614.90                       18675.60   \n",
       "2019-C10                      33302.70                       18524.70   \n",
       "2019-C11                      31090.70                       19323.20   \n",
       "2019-C12                      32986.30                       20484.90   \n",
       "2019-C13                      30611.80                       20950.20   \n",
       "2020-C01                      32225.80                       19337.90   \n",
       "2020-C02                      31788.70                       27878.60   \n",
       "2020-C03                      30263.80                       25143.20   \n",
       "2020-C04                       9907.90                       13097.40   \n",
       "2020-C05                      26715.00                       28252.10   \n",
       "2020-C06                      28880.70                       37403.82   \n",
       "2020-C07                      31073.10                       47458.32   \n",
       "2020-C08                      33657.70                       48265.40   \n",
       "2020-C09                      26730.59                       53402.03   \n",
       "2020-C10                      26644.00                       48304.00   \n",
       "2020-C11                      34406.60                       54220.20   \n",
       "2020-C12                      33194.90                       58977.10   \n",
       "2021-C01                      32642.00                       27426.40   \n",
       "2021-C02                      30066.60                       30955.00   \n",
       "2021-C03                      26167.60                       29424.20   \n",
       "2021-C04                      24916.40                       27056.60   \n",
       "2021-C05                      23319.30                       26474.20   \n",
       "2021-C06                      27872.50                       31718.70   \n",
       "2021-C07                      27773.00                       33044.30   \n",
       "2021-C08                      26079.70                       20721.80   \n",
       "2021-C09                      30074.00                       22077.20   \n",
       "2021-C10                      32110.50                       19385.20   \n",
       "2021-C11                      29135.70                       21880.70   \n",
       "2021-C12                      36821.30                       23925.30   \n",
       "2021-C13                      17711.00                       18599.90   \n",
       "2022-C01                      17665.00                       19063.60   \n",
       "2022-C02                      20282.30                       19998.30   \n",
       "2022-C03                      22493.90                       22242.10   \n",
       "2022-C04                      24891.40                       21798.90   \n",
       "\n",
       "NOMBRES   Yessica Lizbeth Panta Gonzales  \n",
       "CAMPANIA                                  \n",
       "2018-C04                             NaN  \n",
       "2018-C05                             NaN  \n",
       "2018-C06                             NaN  \n",
       "2018-C07                             NaN  \n",
       "2018-C08                             NaN  \n",
       "2018-C09                             NaN  \n",
       "2018-C10                             NaN  \n",
       "2018-C11                             NaN  \n",
       "2018-C12                             NaN  \n",
       "2018-C13                             NaN  \n",
       "2019-C01                             NaN  \n",
       "2019-C02                             NaN  \n",
       "2019-C03                             NaN  \n",
       "2019-C04                             NaN  \n",
       "2019-C05                             NaN  \n",
       "2019-C06                             NaN  \n",
       "2019-C07                             NaN  \n",
       "2019-C08                             NaN  \n",
       "2019-C09                             NaN  \n",
       "2019-C10                             NaN  \n",
       "2019-C11                             NaN  \n",
       "2019-C12                             NaN  \n",
       "2019-C13                             NaN  \n",
       "2020-C01                             NaN  \n",
       "2020-C02                             NaN  \n",
       "2020-C03                             NaN  \n",
       "2020-C04                             NaN  \n",
       "2020-C05                             NaN  \n",
       "2020-C06                             NaN  \n",
       "2020-C07                             NaN  \n",
       "2020-C08                             NaN  \n",
       "2020-C09                             NaN  \n",
       "2020-C10                             NaN  \n",
       "2020-C11                             NaN  \n",
       "2020-C12                             NaN  \n",
       "2021-C01                         21526.2  \n",
       "2021-C02                         22892.0  \n",
       "2021-C03                         20952.0  \n",
       "2021-C04                         18180.4  \n",
       "2021-C05                         16030.8  \n",
       "2021-C06                         20533.9  \n",
       "2021-C07                         20550.3  \n",
       "2021-C08                         22786.6  \n",
       "2021-C09                         20290.6  \n",
       "2021-C10                         23577.7  \n",
       "2021-C11                         23898.3  \n",
       "2021-C12                         24125.8  \n",
       "2021-C13                         20697.7  \n",
       "2022-C01                         12937.8  \n",
       "2022-C02                         17113.0  \n",
       "2022-C03                         14690.9  \n",
       "2022-C04                         13108.7  "
      ]
     },
     "execution_count": 16,
     "metadata": {},
     "output_type": "execute_result"
    }
   ],
   "source": [
    "df_desempeno = pd.read_excel(r'C:\\Users\\Usuario\\Desktop\\Yanbal\\HISTORICO\\DESEMPENO\\DESEMPENO TOTAL.xlsx')\n",
    "df_desempeno = df_desempeno.dropna()\n",
    "df_desempeno = df_desempeno.pivot(index='CAMPANIA', columns='NOMBRES',\n",
    "                                    values='VENTA_PUBLICA_GRUPAL')\n",
    "df_desempeno"
   ]
  },
  {
   "cell_type": "code",
   "execution_count": 17,
   "id": "543f2361",
   "metadata": {},
   "outputs": [
    {
     "data": {
      "application/vnd.plotly.v1+json": {
       "config": {
        "linkText": "Export to plot.ly",
        "plotlyServerURL": "https://plot.ly",
        "showLink": true
       },
       "data": [
        {
         "line": {
          "color": "rgba(226, 74, 51, 1.0)",
          "dash": "solid",
          "shape": "linear",
          "width": 1.3
         },
         "mode": "lines",
         "name": "Ana Fabiola Huancas Ruiz",
         "text": "",
         "type": "scatter",
         "x": [
          "2018-C04",
          "2018-C05",
          "2018-C06",
          "2018-C07",
          "2018-C08",
          "2018-C09",
          "2018-C10",
          "2018-C11",
          "2018-C12",
          "2018-C13",
          "2019-C01",
          "2019-C02",
          "2019-C03",
          "2019-C04",
          "2019-C05",
          "2019-C06",
          "2019-C07",
          "2019-C08",
          "2019-C09",
          "2019-C10",
          "2019-C11",
          "2019-C12",
          "2019-C13",
          "2020-C01",
          "2020-C02",
          "2020-C03",
          "2020-C04",
          "2020-C05",
          "2020-C06",
          "2020-C07",
          "2020-C08",
          "2020-C09",
          "2020-C10",
          "2020-C11",
          "2020-C12",
          "2021-C01",
          "2021-C02",
          "2021-C03",
          "2021-C04",
          "2021-C05",
          "2021-C06",
          "2021-C07",
          "2021-C08",
          "2021-C09",
          "2021-C10",
          "2021-C11",
          "2021-C12",
          "2021-C13",
          "2022-C01",
          "2022-C02",
          "2022-C03",
          "2022-C04"
         ],
         "y": [
          19491.01,
          13730.7,
          14277.4,
          13249.4,
          14568.4,
          16283.6,
          13934,
          10814.9,
          10531.1,
          "",
          "",
          "",
          "",
          "",
          "",
          "",
          "",
          "",
          "",
          "",
          "",
          "",
          "",
          "",
          "",
          "",
          "",
          "",
          "",
          "",
          "",
          "",
          "",
          "",
          "",
          "",
          "",
          "",
          "",
          "",
          "",
          "",
          "",
          "",
          "",
          "",
          "",
          "",
          "",
          "",
          "",
          ""
         ]
        },
        {
         "line": {
          "color": "rgba(62, 111, 176, 1.0)",
          "dash": "solid",
          "shape": "linear",
          "width": 1.3
         },
         "mode": "lines",
         "name": "Blanca Susana Severino Carreño De Berru",
         "text": "",
         "type": "scatter",
         "x": [
          "2018-C04",
          "2018-C05",
          "2018-C06",
          "2018-C07",
          "2018-C08",
          "2018-C09",
          "2018-C10",
          "2018-C11",
          "2018-C12",
          "2018-C13",
          "2019-C01",
          "2019-C02",
          "2019-C03",
          "2019-C04",
          "2019-C05",
          "2019-C06",
          "2019-C07",
          "2019-C08",
          "2019-C09",
          "2019-C10",
          "2019-C11",
          "2019-C12",
          "2019-C13",
          "2020-C01",
          "2020-C02",
          "2020-C03",
          "2020-C04",
          "2020-C05",
          "2020-C06",
          "2020-C07",
          "2020-C08",
          "2020-C09",
          "2020-C10",
          "2020-C11",
          "2020-C12",
          "2021-C01",
          "2021-C02",
          "2021-C03",
          "2021-C04",
          "2021-C05",
          "2021-C06",
          "2021-C07",
          "2021-C08",
          "2021-C09",
          "2021-C10",
          "2021-C11",
          "2021-C12",
          "2021-C13",
          "2022-C01",
          "2022-C02",
          "2022-C03",
          "2022-C04"
         ],
         "y": [
          "",
          "",
          21477,
          19283.5,
          21202.2,
          24378.6,
          23960.5,
          16818.3,
          21418.5,
          16866.3,
          14161.1,
          14889.7,
          15895.7,
          13449.7,
          11034,
          9851.8,
          11036.6,
          12153.2,
          11971.8,
          "",
          "",
          "",
          "",
          "",
          "",
          "",
          "",
          "",
          "",
          "",
          "",
          "",
          "",
          "",
          "",
          "",
          "",
          "",
          "",
          "",
          "",
          "",
          "",
          "",
          "",
          "",
          "",
          15011,
          17232.8,
          18590.2,
          17244.6,
          17001.2
         ]
        },
        {
         "line": {
          "color": "rgba(132, 118, 202, 1.0)",
          "dash": "solid",
          "shape": "linear",
          "width": 1.3
         },
         "mode": "lines",
         "name": "ELENA ELIZABETH CHERO RUIZ",
         "text": "",
         "type": "scatter",
         "x": [
          "2018-C04",
          "2018-C05",
          "2018-C06",
          "2018-C07",
          "2018-C08",
          "2018-C09",
          "2018-C10",
          "2018-C11",
          "2018-C12",
          "2018-C13",
          "2019-C01",
          "2019-C02",
          "2019-C03",
          "2019-C04",
          "2019-C05",
          "2019-C06",
          "2019-C07",
          "2019-C08",
          "2019-C09",
          "2019-C10",
          "2019-C11",
          "2019-C12",
          "2019-C13",
          "2020-C01",
          "2020-C02",
          "2020-C03",
          "2020-C04",
          "2020-C05",
          "2020-C06",
          "2020-C07",
          "2020-C08",
          "2020-C09",
          "2020-C10",
          "2020-C11",
          "2020-C12",
          "2021-C01",
          "2021-C02",
          "2021-C03",
          "2021-C04",
          "2021-C05",
          "2021-C06",
          "2021-C07",
          "2021-C08",
          "2021-C09",
          "2021-C10",
          "2021-C11",
          "2021-C12",
          "2021-C13",
          "2022-C01",
          "2022-C02",
          "2022-C03",
          "2022-C04"
         ],
         "y": [
          "",
          "",
          "",
          "",
          "",
          "",
          "",
          "",
          "",
          "",
          "",
          "",
          "",
          "",
          "",
          "",
          "",
          "",
          "",
          "",
          "",
          "",
          "",
          "",
          "",
          "",
          "",
          "",
          "",
          "",
          "",
          "",
          "",
          "",
          "",
          18559.5,
          18549.9,
          14106.1,
          14400.7,
          13789.5,
          15220.3,
          18616,
          22061.2,
          19452.9,
          20698.8,
          19458.5,
          19108.6,
          16319.3,
          16263.4,
          15280.2,
          16020.8,
          12118.8
         ]
        },
        {
         "line": {
          "color": "rgba(101, 101, 101, 1.0)",
          "dash": "solid",
          "shape": "linear",
          "width": 1.3
         },
         "mode": "lines",
         "name": "Imelda Chamba Niño",
         "text": "",
         "type": "scatter",
         "x": [
          "2018-C04",
          "2018-C05",
          "2018-C06",
          "2018-C07",
          "2018-C08",
          "2018-C09",
          "2018-C10",
          "2018-C11",
          "2018-C12",
          "2018-C13",
          "2019-C01",
          "2019-C02",
          "2019-C03",
          "2019-C04",
          "2019-C05",
          "2019-C06",
          "2019-C07",
          "2019-C08",
          "2019-C09",
          "2019-C10",
          "2019-C11",
          "2019-C12",
          "2019-C13",
          "2020-C01",
          "2020-C02",
          "2020-C03",
          "2020-C04",
          "2020-C05",
          "2020-C06",
          "2020-C07",
          "2020-C08",
          "2020-C09",
          "2020-C10",
          "2020-C11",
          "2020-C12",
          "2021-C01",
          "2021-C02",
          "2021-C03",
          "2021-C04",
          "2021-C05",
          "2021-C06",
          "2021-C07",
          "2021-C08",
          "2021-C09",
          "2021-C10",
          "2021-C11",
          "2021-C12",
          "2021-C13",
          "2022-C01",
          "2022-C02",
          "2022-C03",
          "2022-C04"
         ],
         "y": [
          19724.47,
          20779,
          23367.6,
          20940.8,
          17509.5,
          16256.4,
          16642.9,
          18525.5,
          18990.4,
          19796.4,
          19421.2,
          19001.2,
          18503.6,
          18673.6,
          21481.8,
          19965.3,
          18523.1,
          16843.6,
          18549.9,
          18684.5,
          18526.1,
          19992.5,
          18600.6,
          20305.1,
          18672.7,
          15234.7,
          4924.3,
          7135.7,
          8758.3,
          12934,
          13177.32,
          12652.71,
          12678.3,
          13052.9,
          17090.3,
          14708.5,
          14372.9,
          12384.5,
          11525.3,
          9501,
          9602.8,
          7763.9,
          8196.4,
          11237.4,
          15139.1,
          15044.5,
          15214.8,
          13835.9,
          15018.3,
          12637.9,
          13733,
          11780.6
         ]
        },
        {
         "line": {
          "color": "rgba(251, 193, 94, 1.0)",
          "dash": "solid",
          "shape": "linear",
          "width": 1.3
         },
         "mode": "lines",
         "name": "Lesly Anali Valladolid Silva",
         "text": "",
         "type": "scatter",
         "x": [
          "2018-C04",
          "2018-C05",
          "2018-C06",
          "2018-C07",
          "2018-C08",
          "2018-C09",
          "2018-C10",
          "2018-C11",
          "2018-C12",
          "2018-C13",
          "2019-C01",
          "2019-C02",
          "2019-C03",
          "2019-C04",
          "2019-C05",
          "2019-C06",
          "2019-C07",
          "2019-C08",
          "2019-C09",
          "2019-C10",
          "2019-C11",
          "2019-C12",
          "2019-C13",
          "2020-C01",
          "2020-C02",
          "2020-C03",
          "2020-C04",
          "2020-C05",
          "2020-C06",
          "2020-C07",
          "2020-C08",
          "2020-C09",
          "2020-C10",
          "2020-C11",
          "2020-C12",
          "2021-C01",
          "2021-C02",
          "2021-C03",
          "2021-C04",
          "2021-C05",
          "2021-C06",
          "2021-C07",
          "2021-C08",
          "2021-C09",
          "2021-C10",
          "2021-C11",
          "2021-C12",
          "2021-C13",
          "2022-C01",
          "2022-C02",
          "2022-C03",
          "2022-C04"
         ],
         "y": [
          "",
          "",
          "",
          "",
          "",
          "",
          "",
          "",
          "",
          "",
          "",
          "",
          "",
          "",
          "",
          "",
          "",
          "",
          "",
          "",
          "",
          "",
          "",
          "",
          "",
          "",
          "",
          "",
          "",
          "",
          "",
          "",
          "",
          "",
          "",
          "",
          "",
          "",
          "",
          "",
          "",
          "",
          11473.1,
          13401.3,
          11511.5,
          12359.7,
          15036,
          7580,
          9260.5,
          8205.2,
          6799.1,
          5861
         ]
        },
        {
         "line": {
          "color": "rgba(142, 186, 66, 1.0)",
          "dash": "solid",
          "shape": "linear",
          "width": 1.3
         },
         "mode": "lines",
         "name": "Luis Miguel Tupac Yupanqui Lazo",
         "text": "",
         "type": "scatter",
         "x": [
          "2018-C04",
          "2018-C05",
          "2018-C06",
          "2018-C07",
          "2018-C08",
          "2018-C09",
          "2018-C10",
          "2018-C11",
          "2018-C12",
          "2018-C13",
          "2019-C01",
          "2019-C02",
          "2019-C03",
          "2019-C04",
          "2019-C05",
          "2019-C06",
          "2019-C07",
          "2019-C08",
          "2019-C09",
          "2019-C10",
          "2019-C11",
          "2019-C12",
          "2019-C13",
          "2020-C01",
          "2020-C02",
          "2020-C03",
          "2020-C04",
          "2020-C05",
          "2020-C06",
          "2020-C07",
          "2020-C08",
          "2020-C09",
          "2020-C10",
          "2020-C11",
          "2020-C12",
          "2021-C01",
          "2021-C02",
          "2021-C03",
          "2021-C04",
          "2021-C05",
          "2021-C06",
          "2021-C07",
          "2021-C08",
          "2021-C09",
          "2021-C10",
          "2021-C11",
          "2021-C12",
          "2021-C13",
          "2022-C01",
          "2022-C02",
          "2022-C03",
          "2022-C04"
         ],
         "y": [
          "",
          "",
          "",
          "",
          "",
          "",
          "",
          "",
          "",
          "",
          "",
          "",
          "",
          "",
          "",
          "",
          "",
          "",
          "",
          18577.5,
          18538.8,
          18669.7,
          18789.7,
          21346.8,
          16837.4,
          18505.5,
          6859.1,
          10003.6,
          13047.3,
          17160.02,
          17798.5,
          17790.09,
          14852.7,
          20364.4,
          17513.6,
          20411.8,
          23205.4,
          17437.5,
          16176,
          19051,
          18450.9,
          17592.9,
          19461.7,
          18761.6,
          16398.6,
          15950,
          23672.1,
          20464.7,
          15000.3,
          15373,
          18501.4,
          16194.9
         ]
        },
        {
         "line": {
          "color": "rgba(255, 181, 184, 1.0)",
          "dash": "solid",
          "shape": "linear",
          "width": 1.3
         },
         "mode": "lines",
         "name": "Natali Karen Litano Silupu",
         "text": "",
         "type": "scatter",
         "x": [
          "2018-C04",
          "2018-C05",
          "2018-C06",
          "2018-C07",
          "2018-C08",
          "2018-C09",
          "2018-C10",
          "2018-C11",
          "2018-C12",
          "2018-C13",
          "2019-C01",
          "2019-C02",
          "2019-C03",
          "2019-C04",
          "2019-C05",
          "2019-C06",
          "2019-C07",
          "2019-C08",
          "2019-C09",
          "2019-C10",
          "2019-C11",
          "2019-C12",
          "2019-C13",
          "2020-C01",
          "2020-C02",
          "2020-C03",
          "2020-C04",
          "2020-C05",
          "2020-C06",
          "2020-C07",
          "2020-C08",
          "2020-C09",
          "2020-C10",
          "2020-C11",
          "2020-C12",
          "2021-C01",
          "2021-C02",
          "2021-C03",
          "2021-C04",
          "2021-C05",
          "2021-C06",
          "2021-C07",
          "2021-C08",
          "2021-C09",
          "2021-C10",
          "2021-C11",
          "2021-C12",
          "2021-C13",
          "2022-C01",
          "2022-C02",
          "2022-C03",
          "2022-C04"
         ],
         "y": [
          "",
          "",
          "",
          "",
          "",
          "",
          "",
          "",
          "",
          "",
          "",
          18533.2,
          18516.6,
          15020.5,
          16924,
          14828.4,
          12259.9,
          14805.6,
          18506.6,
          13082.6,
          8631.8,
          10330.6,
          11075.9,
          9579.6,
          11258.7,
          8570.7,
          6363.9,
          10051.3,
          11377,
          12533.7,
          14420.76,
          11039.6,
          6853.7,
          6145.1,
          6410.2,
          11488.6,
          9341.2,
          9629.2,
          5892.5,
          12565.9,
          7423.3,
          6521.1,
          10589.4,
          6720.8,
          8203.3,
          14016.3,
          12064.5,
          8121.3,
          6891,
          8428.5,
          7062.9,
          6228
         ]
        },
        {
         "line": {
          "color": "rgba(255, 181, 184, 0.8999999999999999)",
          "dash": "solid",
          "shape": "linear",
          "width": 1.3
         },
         "mode": "lines",
         "name": "Rosa Concepcion Ruiz De Abad",
         "text": "",
         "type": "scatter",
         "x": [
          "2018-C04",
          "2018-C05",
          "2018-C06",
          "2018-C07",
          "2018-C08",
          "2018-C09",
          "2018-C10",
          "2018-C11",
          "2018-C12",
          "2018-C13",
          "2019-C01",
          "2019-C02",
          "2019-C03",
          "2019-C04",
          "2019-C05",
          "2019-C06",
          "2019-C07",
          "2019-C08",
          "2019-C09",
          "2019-C10",
          "2019-C11",
          "2019-C12",
          "2019-C13",
          "2020-C01",
          "2020-C02",
          "2020-C03",
          "2020-C04",
          "2020-C05",
          "2020-C06",
          "2020-C07",
          "2020-C08",
          "2020-C09",
          "2020-C10",
          "2020-C11",
          "2020-C12",
          "2021-C01",
          "2021-C02",
          "2021-C03",
          "2021-C04",
          "2021-C05",
          "2021-C06",
          "2021-C07",
          "2021-C08",
          "2021-C09",
          "2021-C10",
          "2021-C11",
          "2021-C12",
          "2021-C13",
          "2022-C01",
          "2022-C02",
          "2022-C03",
          "2022-C04"
         ],
         "y": [
          20708.13,
          20094.5,
          22719.6,
          19883.2,
          14577.1,
          18519.8,
          16235.3,
          16977.7,
          21585.4,
          22197.9,
          23651.7,
          26407.2,
          23834.1,
          21361.5,
          22518,
          23737.9,
          25163.9,
          23182.5,
          25257.5,
          21360.1,
          22700.2,
          27290.3,
          25837.4,
          20760.4,
          22869.4,
          22345.1,
          6500.1,
          12524.2,
          11389.6,
          15337.16,
          15213.2,
          12414.73,
          14627.1,
          17494.1,
          17760.3,
          18510.1,
          22538.1,
          13647.9,
          7745.6,
          8999.7,
          10582.1,
          12009.4,
          11711.7,
          11049.2,
          14030.3,
          14009.1,
          17606.1,
          16605.8,
          15071.1,
          16814.7,
          17614.4,
          19846.2
         ]
        },
        {
         "line": {
          "color": "rgba(226, 74, 51, 0.8999999999999999)",
          "dash": "solid",
          "shape": "linear",
          "width": 1.3
         },
         "mode": "lines",
         "name": "Rosario Elizabe Lazo Ramirez",
         "text": "",
         "type": "scatter",
         "x": [
          "2018-C04",
          "2018-C05",
          "2018-C06",
          "2018-C07",
          "2018-C08",
          "2018-C09",
          "2018-C10",
          "2018-C11",
          "2018-C12",
          "2018-C13",
          "2019-C01",
          "2019-C02",
          "2019-C03",
          "2019-C04",
          "2019-C05",
          "2019-C06",
          "2019-C07",
          "2019-C08",
          "2019-C09",
          "2019-C10",
          "2019-C11",
          "2019-C12",
          "2019-C13",
          "2020-C01",
          "2020-C02",
          "2020-C03",
          "2020-C04",
          "2020-C05",
          "2020-C06",
          "2020-C07",
          "2020-C08",
          "2020-C09",
          "2020-C10",
          "2020-C11",
          "2020-C12",
          "2021-C01",
          "2021-C02",
          "2021-C03",
          "2021-C04",
          "2021-C05",
          "2021-C06",
          "2021-C07",
          "2021-C08",
          "2021-C09",
          "2021-C10",
          "2021-C11",
          "2021-C12",
          "2021-C13",
          "2022-C01",
          "2022-C02",
          "2022-C03",
          "2022-C04"
         ],
         "y": [
          57296.37,
          58918.8,
          47040.6,
          46605.6,
          44148.9,
          33310.5,
          30082.5,
          27604.3,
          38460.7,
          47387.4,
          51469.1,
          31964.5,
          29281.2,
          30424,
          34902.1,
          37738.7,
          37327.6,
          39584.5,
          42614.9,
          33302.7,
          31090.7,
          32986.3,
          30611.8,
          32225.8,
          31788.7,
          30263.8,
          9907.9,
          26715,
          28880.7,
          31073.1,
          33657.7,
          26730.59,
          26644,
          34406.6,
          33194.9,
          32642,
          30066.6,
          26167.6,
          24916.4,
          23319.3,
          27872.5,
          27773,
          26079.7,
          30074,
          32110.5,
          29135.7,
          36821.3,
          17711,
          17665,
          20282.3,
          22493.9,
          24891.4
         ]
        },
        {
         "line": {
          "color": "rgba(62, 111, 176, 0.8999999999999999)",
          "dash": "solid",
          "shape": "linear",
          "width": 1.3
         },
         "mode": "lines",
         "name": "Yenit Marizela Panta Gonzales",
         "text": "",
         "type": "scatter",
         "x": [
          "2018-C04",
          "2018-C05",
          "2018-C06",
          "2018-C07",
          "2018-C08",
          "2018-C09",
          "2018-C10",
          "2018-C11",
          "2018-C12",
          "2018-C13",
          "2019-C01",
          "2019-C02",
          "2019-C03",
          "2019-C04",
          "2019-C05",
          "2019-C06",
          "2019-C07",
          "2019-C08",
          "2019-C09",
          "2019-C10",
          "2019-C11",
          "2019-C12",
          "2019-C13",
          "2020-C01",
          "2020-C02",
          "2020-C03",
          "2020-C04",
          "2020-C05",
          "2020-C06",
          "2020-C07",
          "2020-C08",
          "2020-C09",
          "2020-C10",
          "2020-C11",
          "2020-C12",
          "2021-C01",
          "2021-C02",
          "2021-C03",
          "2021-C04",
          "2021-C05",
          "2021-C06",
          "2021-C07",
          "2021-C08",
          "2021-C09",
          "2021-C10",
          "2021-C11",
          "2021-C12",
          "2021-C13",
          "2022-C01",
          "2022-C02",
          "2022-C03",
          "2022-C04"
         ],
         "y": [
          "",
          "",
          "",
          "",
          "",
          19912,
          18752,
          20723.5,
          19626.1,
          15602,
          18583.3,
          22790.4,
          22002.5,
          18515.1,
          21494.1,
          19119,
          19146.9,
          18520.7,
          18675.6,
          18524.7,
          19323.2,
          20484.9,
          20950.2,
          19337.9,
          27878.6,
          25143.2,
          13097.4,
          28252.1,
          37403.82,
          47458.32,
          48265.4,
          53402.03,
          48304,
          54220.2,
          58977.1,
          27426.4,
          30955,
          29424.2,
          27056.6,
          26474.2,
          31718.7,
          33044.3,
          20721.8,
          22077.2,
          19385.2,
          21880.7,
          23925.3,
          18599.9,
          19063.6,
          19998.3,
          22242.1,
          21798.9
         ]
        },
        {
         "line": {
          "color": "rgba(132, 118, 202, 0.8999999999999999)",
          "dash": "solid",
          "shape": "linear",
          "width": 1.3
         },
         "mode": "lines",
         "name": "Yessica Lizbeth Panta Gonzales",
         "text": "",
         "type": "scatter",
         "x": [
          "2018-C04",
          "2018-C05",
          "2018-C06",
          "2018-C07",
          "2018-C08",
          "2018-C09",
          "2018-C10",
          "2018-C11",
          "2018-C12",
          "2018-C13",
          "2019-C01",
          "2019-C02",
          "2019-C03",
          "2019-C04",
          "2019-C05",
          "2019-C06",
          "2019-C07",
          "2019-C08",
          "2019-C09",
          "2019-C10",
          "2019-C11",
          "2019-C12",
          "2019-C13",
          "2020-C01",
          "2020-C02",
          "2020-C03",
          "2020-C04",
          "2020-C05",
          "2020-C06",
          "2020-C07",
          "2020-C08",
          "2020-C09",
          "2020-C10",
          "2020-C11",
          "2020-C12",
          "2021-C01",
          "2021-C02",
          "2021-C03",
          "2021-C04",
          "2021-C05",
          "2021-C06",
          "2021-C07",
          "2021-C08",
          "2021-C09",
          "2021-C10",
          "2021-C11",
          "2021-C12",
          "2021-C13",
          "2022-C01",
          "2022-C02",
          "2022-C03",
          "2022-C04"
         ],
         "y": [
          "",
          "",
          "",
          "",
          "",
          "",
          "",
          "",
          "",
          "",
          "",
          "",
          "",
          "",
          "",
          "",
          "",
          "",
          "",
          "",
          "",
          "",
          "",
          "",
          "",
          "",
          "",
          "",
          "",
          "",
          "",
          "",
          "",
          "",
          "",
          21526.2,
          22892,
          20952,
          18180.4,
          16030.8,
          20533.9,
          20550.3,
          22786.6,
          20290.6,
          23577.7,
          23898.3,
          24125.8,
          20697.7,
          12937.8,
          17113,
          14690.9,
          13108.7
         ]
        }
       ],
       "layout": {
        "legend": {
         "bgcolor": "#FFFFFF",
         "font": {
          "color": "#666666"
         }
        },
        "paper_bgcolor": "#FFFFFF",
        "plot_bgcolor": "#E5E5E5",
        "template": {
         "data": {
          "bar": [
           {
            "error_x": {
             "color": "#2a3f5f"
            },
            "error_y": {
             "color": "#2a3f5f"
            },
            "marker": {
             "line": {
              "color": "#E5ECF6",
              "width": 0.5
             },
             "pattern": {
              "fillmode": "overlay",
              "size": 10,
              "solidity": 0.2
             }
            },
            "type": "bar"
           }
          ],
          "barpolar": [
           {
            "marker": {
             "line": {
              "color": "#E5ECF6",
              "width": 0.5
             },
             "pattern": {
              "fillmode": "overlay",
              "size": 10,
              "solidity": 0.2
             }
            },
            "type": "barpolar"
           }
          ],
          "carpet": [
           {
            "aaxis": {
             "endlinecolor": "#2a3f5f",
             "gridcolor": "white",
             "linecolor": "white",
             "minorgridcolor": "white",
             "startlinecolor": "#2a3f5f"
            },
            "baxis": {
             "endlinecolor": "#2a3f5f",
             "gridcolor": "white",
             "linecolor": "white",
             "minorgridcolor": "white",
             "startlinecolor": "#2a3f5f"
            },
            "type": "carpet"
           }
          ],
          "choropleth": [
           {
            "colorbar": {
             "outlinewidth": 0,
             "ticks": ""
            },
            "type": "choropleth"
           }
          ],
          "contour": [
           {
            "colorbar": {
             "outlinewidth": 0,
             "ticks": ""
            },
            "colorscale": [
             [
              0,
              "#0d0887"
             ],
             [
              0.1111111111111111,
              "#46039f"
             ],
             [
              0.2222222222222222,
              "#7201a8"
             ],
             [
              0.3333333333333333,
              "#9c179e"
             ],
             [
              0.4444444444444444,
              "#bd3786"
             ],
             [
              0.5555555555555556,
              "#d8576b"
             ],
             [
              0.6666666666666666,
              "#ed7953"
             ],
             [
              0.7777777777777778,
              "#fb9f3a"
             ],
             [
              0.8888888888888888,
              "#fdca26"
             ],
             [
              1,
              "#f0f921"
             ]
            ],
            "type": "contour"
           }
          ],
          "contourcarpet": [
           {
            "colorbar": {
             "outlinewidth": 0,
             "ticks": ""
            },
            "type": "contourcarpet"
           }
          ],
          "heatmap": [
           {
            "colorbar": {
             "outlinewidth": 0,
             "ticks": ""
            },
            "colorscale": [
             [
              0,
              "#0d0887"
             ],
             [
              0.1111111111111111,
              "#46039f"
             ],
             [
              0.2222222222222222,
              "#7201a8"
             ],
             [
              0.3333333333333333,
              "#9c179e"
             ],
             [
              0.4444444444444444,
              "#bd3786"
             ],
             [
              0.5555555555555556,
              "#d8576b"
             ],
             [
              0.6666666666666666,
              "#ed7953"
             ],
             [
              0.7777777777777778,
              "#fb9f3a"
             ],
             [
              0.8888888888888888,
              "#fdca26"
             ],
             [
              1,
              "#f0f921"
             ]
            ],
            "type": "heatmap"
           }
          ],
          "heatmapgl": [
           {
            "colorbar": {
             "outlinewidth": 0,
             "ticks": ""
            },
            "colorscale": [
             [
              0,
              "#0d0887"
             ],
             [
              0.1111111111111111,
              "#46039f"
             ],
             [
              0.2222222222222222,
              "#7201a8"
             ],
             [
              0.3333333333333333,
              "#9c179e"
             ],
             [
              0.4444444444444444,
              "#bd3786"
             ],
             [
              0.5555555555555556,
              "#d8576b"
             ],
             [
              0.6666666666666666,
              "#ed7953"
             ],
             [
              0.7777777777777778,
              "#fb9f3a"
             ],
             [
              0.8888888888888888,
              "#fdca26"
             ],
             [
              1,
              "#f0f921"
             ]
            ],
            "type": "heatmapgl"
           }
          ],
          "histogram": [
           {
            "marker": {
             "pattern": {
              "fillmode": "overlay",
              "size": 10,
              "solidity": 0.2
             }
            },
            "type": "histogram"
           }
          ],
          "histogram2d": [
           {
            "colorbar": {
             "outlinewidth": 0,
             "ticks": ""
            },
            "colorscale": [
             [
              0,
              "#0d0887"
             ],
             [
              0.1111111111111111,
              "#46039f"
             ],
             [
              0.2222222222222222,
              "#7201a8"
             ],
             [
              0.3333333333333333,
              "#9c179e"
             ],
             [
              0.4444444444444444,
              "#bd3786"
             ],
             [
              0.5555555555555556,
              "#d8576b"
             ],
             [
              0.6666666666666666,
              "#ed7953"
             ],
             [
              0.7777777777777778,
              "#fb9f3a"
             ],
             [
              0.8888888888888888,
              "#fdca26"
             ],
             [
              1,
              "#f0f921"
             ]
            ],
            "type": "histogram2d"
           }
          ],
          "histogram2dcontour": [
           {
            "colorbar": {
             "outlinewidth": 0,
             "ticks": ""
            },
            "colorscale": [
             [
              0,
              "#0d0887"
             ],
             [
              0.1111111111111111,
              "#46039f"
             ],
             [
              0.2222222222222222,
              "#7201a8"
             ],
             [
              0.3333333333333333,
              "#9c179e"
             ],
             [
              0.4444444444444444,
              "#bd3786"
             ],
             [
              0.5555555555555556,
              "#d8576b"
             ],
             [
              0.6666666666666666,
              "#ed7953"
             ],
             [
              0.7777777777777778,
              "#fb9f3a"
             ],
             [
              0.8888888888888888,
              "#fdca26"
             ],
             [
              1,
              "#f0f921"
             ]
            ],
            "type": "histogram2dcontour"
           }
          ],
          "mesh3d": [
           {
            "colorbar": {
             "outlinewidth": 0,
             "ticks": ""
            },
            "type": "mesh3d"
           }
          ],
          "parcoords": [
           {
            "line": {
             "colorbar": {
              "outlinewidth": 0,
              "ticks": ""
             }
            },
            "type": "parcoords"
           }
          ],
          "pie": [
           {
            "automargin": true,
            "type": "pie"
           }
          ],
          "scatter": [
           {
            "fillpattern": {
             "fillmode": "overlay",
             "size": 10,
             "solidity": 0.2
            },
            "type": "scatter"
           }
          ],
          "scatter3d": [
           {
            "line": {
             "colorbar": {
              "outlinewidth": 0,
              "ticks": ""
             }
            },
            "marker": {
             "colorbar": {
              "outlinewidth": 0,
              "ticks": ""
             }
            },
            "type": "scatter3d"
           }
          ],
          "scattercarpet": [
           {
            "marker": {
             "colorbar": {
              "outlinewidth": 0,
              "ticks": ""
             }
            },
            "type": "scattercarpet"
           }
          ],
          "scattergeo": [
           {
            "marker": {
             "colorbar": {
              "outlinewidth": 0,
              "ticks": ""
             }
            },
            "type": "scattergeo"
           }
          ],
          "scattergl": [
           {
            "marker": {
             "colorbar": {
              "outlinewidth": 0,
              "ticks": ""
             }
            },
            "type": "scattergl"
           }
          ],
          "scattermapbox": [
           {
            "marker": {
             "colorbar": {
              "outlinewidth": 0,
              "ticks": ""
             }
            },
            "type": "scattermapbox"
           }
          ],
          "scatterpolar": [
           {
            "marker": {
             "colorbar": {
              "outlinewidth": 0,
              "ticks": ""
             }
            },
            "type": "scatterpolar"
           }
          ],
          "scatterpolargl": [
           {
            "marker": {
             "colorbar": {
              "outlinewidth": 0,
              "ticks": ""
             }
            },
            "type": "scatterpolargl"
           }
          ],
          "scatterternary": [
           {
            "marker": {
             "colorbar": {
              "outlinewidth": 0,
              "ticks": ""
             }
            },
            "type": "scatterternary"
           }
          ],
          "surface": [
           {
            "colorbar": {
             "outlinewidth": 0,
             "ticks": ""
            },
            "colorscale": [
             [
              0,
              "#0d0887"
             ],
             [
              0.1111111111111111,
              "#46039f"
             ],
             [
              0.2222222222222222,
              "#7201a8"
             ],
             [
              0.3333333333333333,
              "#9c179e"
             ],
             [
              0.4444444444444444,
              "#bd3786"
             ],
             [
              0.5555555555555556,
              "#d8576b"
             ],
             [
              0.6666666666666666,
              "#ed7953"
             ],
             [
              0.7777777777777778,
              "#fb9f3a"
             ],
             [
              0.8888888888888888,
              "#fdca26"
             ],
             [
              1,
              "#f0f921"
             ]
            ],
            "type": "surface"
           }
          ],
          "table": [
           {
            "cells": {
             "fill": {
              "color": "#EBF0F8"
             },
             "line": {
              "color": "white"
             }
            },
            "header": {
             "fill": {
              "color": "#C8D4E3"
             },
             "line": {
              "color": "white"
             }
            },
            "type": "table"
           }
          ]
         },
         "layout": {
          "annotationdefaults": {
           "arrowcolor": "#2a3f5f",
           "arrowhead": 0,
           "arrowwidth": 1
          },
          "autotypenumbers": "strict",
          "coloraxis": {
           "colorbar": {
            "outlinewidth": 0,
            "ticks": ""
           }
          },
          "colorscale": {
           "diverging": [
            [
             0,
             "#8e0152"
            ],
            [
             0.1,
             "#c51b7d"
            ],
            [
             0.2,
             "#de77ae"
            ],
            [
             0.3,
             "#f1b6da"
            ],
            [
             0.4,
             "#fde0ef"
            ],
            [
             0.5,
             "#f7f7f7"
            ],
            [
             0.6,
             "#e6f5d0"
            ],
            [
             0.7,
             "#b8e186"
            ],
            [
             0.8,
             "#7fbc41"
            ],
            [
             0.9,
             "#4d9221"
            ],
            [
             1,
             "#276419"
            ]
           ],
           "sequential": [
            [
             0,
             "#0d0887"
            ],
            [
             0.1111111111111111,
             "#46039f"
            ],
            [
             0.2222222222222222,
             "#7201a8"
            ],
            [
             0.3333333333333333,
             "#9c179e"
            ],
            [
             0.4444444444444444,
             "#bd3786"
            ],
            [
             0.5555555555555556,
             "#d8576b"
            ],
            [
             0.6666666666666666,
             "#ed7953"
            ],
            [
             0.7777777777777778,
             "#fb9f3a"
            ],
            [
             0.8888888888888888,
             "#fdca26"
            ],
            [
             1,
             "#f0f921"
            ]
           ],
           "sequentialminus": [
            [
             0,
             "#0d0887"
            ],
            [
             0.1111111111111111,
             "#46039f"
            ],
            [
             0.2222222222222222,
             "#7201a8"
            ],
            [
             0.3333333333333333,
             "#9c179e"
            ],
            [
             0.4444444444444444,
             "#bd3786"
            ],
            [
             0.5555555555555556,
             "#d8576b"
            ],
            [
             0.6666666666666666,
             "#ed7953"
            ],
            [
             0.7777777777777778,
             "#fb9f3a"
            ],
            [
             0.8888888888888888,
             "#fdca26"
            ],
            [
             1,
             "#f0f921"
            ]
           ]
          },
          "colorway": [
           "#636efa",
           "#EF553B",
           "#00cc96",
           "#ab63fa",
           "#FFA15A",
           "#19d3f3",
           "#FF6692",
           "#B6E880",
           "#FF97FF",
           "#FECB52"
          ],
          "font": {
           "color": "#2a3f5f"
          },
          "geo": {
           "bgcolor": "white",
           "lakecolor": "white",
           "landcolor": "#E5ECF6",
           "showlakes": true,
           "showland": true,
           "subunitcolor": "white"
          },
          "hoverlabel": {
           "align": "left"
          },
          "hovermode": "closest",
          "mapbox": {
           "style": "light"
          },
          "paper_bgcolor": "white",
          "plot_bgcolor": "#E5ECF6",
          "polar": {
           "angularaxis": {
            "gridcolor": "white",
            "linecolor": "white",
            "ticks": ""
           },
           "bgcolor": "#E5ECF6",
           "radialaxis": {
            "gridcolor": "white",
            "linecolor": "white",
            "ticks": ""
           }
          },
          "scene": {
           "xaxis": {
            "backgroundcolor": "#E5ECF6",
            "gridcolor": "white",
            "gridwidth": 2,
            "linecolor": "white",
            "showbackground": true,
            "ticks": "",
            "zerolinecolor": "white"
           },
           "yaxis": {
            "backgroundcolor": "#E5ECF6",
            "gridcolor": "white",
            "gridwidth": 2,
            "linecolor": "white",
            "showbackground": true,
            "ticks": "",
            "zerolinecolor": "white"
           },
           "zaxis": {
            "backgroundcolor": "#E5ECF6",
            "gridcolor": "white",
            "gridwidth": 2,
            "linecolor": "white",
            "showbackground": true,
            "ticks": "",
            "zerolinecolor": "white"
           }
          },
          "shapedefaults": {
           "line": {
            "color": "#2a3f5f"
           }
          },
          "ternary": {
           "aaxis": {
            "gridcolor": "white",
            "linecolor": "white",
            "ticks": ""
           },
           "baxis": {
            "gridcolor": "white",
            "linecolor": "white",
            "ticks": ""
           },
           "bgcolor": "#E5ECF6",
           "caxis": {
            "gridcolor": "white",
            "linecolor": "white",
            "ticks": ""
           }
          },
          "title": {
           "x": 0.05
          },
          "xaxis": {
           "automargin": true,
           "gridcolor": "white",
           "linecolor": "white",
           "ticks": "",
           "title": {
            "standoff": 15
           },
           "zerolinecolor": "white",
           "zerolinewidth": 2
          },
          "yaxis": {
           "automargin": true,
           "gridcolor": "white",
           "linecolor": "white",
           "ticks": "",
           "title": {
            "standoff": 15
           },
           "zerolinecolor": "white",
           "zerolinewidth": 2
          }
         }
        },
        "title": {
         "font": {
          "color": "#151516"
         },
         "text": "Venta Publica Grupal por Campania"
        },
        "xaxis": {
         "gridcolor": "#F6F6F6",
         "showgrid": true,
         "tickfont": {
          "color": "#666666"
         },
         "title": {
          "font": {
           "color": "#666666"
          },
          "text": "Campania"
         },
         "zerolinecolor": "#F6F6F6"
        },
        "yaxis": {
         "gridcolor": "#F6F6F6",
         "showgrid": true,
         "tickfont": {
          "color": "#666666"
         },
         "title": {
          "font": {
           "color": "#666666"
          },
          "text": "Venta Publica Grupal"
         },
         "zerolinecolor": "#F6F6F6"
        }
       }
      },
      "text/html": [
       "<div>                            <div id=\"a4d4bca8-ab13-42ad-8e46-bcc85cef7918\" class=\"plotly-graph-div\" style=\"height:525px; width:100%;\"></div>            <script type=\"text/javascript\">                require([\"plotly\"], function(Plotly) {                    window.PLOTLYENV=window.PLOTLYENV || {};\n",
       "                    window.PLOTLYENV.BASE_URL='https://plot.ly';                                    if (document.getElementById(\"a4d4bca8-ab13-42ad-8e46-bcc85cef7918\")) {                    Plotly.newPlot(                        \"a4d4bca8-ab13-42ad-8e46-bcc85cef7918\",                        [{\"line\":{\"color\":\"rgba(226, 74, 51, 1.0)\",\"dash\":\"solid\",\"shape\":\"linear\",\"width\":1.3},\"mode\":\"lines\",\"name\":\"Ana Fabiola Huancas Ruiz\",\"text\":\"\",\"x\":[\"2018-C04\",\"2018-C05\",\"2018-C06\",\"2018-C07\",\"2018-C08\",\"2018-C09\",\"2018-C10\",\"2018-C11\",\"2018-C12\",\"2018-C13\",\"2019-C01\",\"2019-C02\",\"2019-C03\",\"2019-C04\",\"2019-C05\",\"2019-C06\",\"2019-C07\",\"2019-C08\",\"2019-C09\",\"2019-C10\",\"2019-C11\",\"2019-C12\",\"2019-C13\",\"2020-C01\",\"2020-C02\",\"2020-C03\",\"2020-C04\",\"2020-C05\",\"2020-C06\",\"2020-C07\",\"2020-C08\",\"2020-C09\",\"2020-C10\",\"2020-C11\",\"2020-C12\",\"2021-C01\",\"2021-C02\",\"2021-C03\",\"2021-C04\",\"2021-C05\",\"2021-C06\",\"2021-C07\",\"2021-C08\",\"2021-C09\",\"2021-C10\",\"2021-C11\",\"2021-C12\",\"2021-C13\",\"2022-C01\",\"2022-C02\",\"2022-C03\",\"2022-C04\"],\"y\":[19491.01,13730.7,14277.4,13249.4,14568.4,16283.6,13934.0,10814.9,10531.1,\"\",\"\",\"\",\"\",\"\",\"\",\"\",\"\",\"\",\"\",\"\",\"\",\"\",\"\",\"\",\"\",\"\",\"\",\"\",\"\",\"\",\"\",\"\",\"\",\"\",\"\",\"\",\"\",\"\",\"\",\"\",\"\",\"\",\"\",\"\",\"\",\"\",\"\",\"\",\"\",\"\",\"\",\"\"],\"type\":\"scatter\"},{\"line\":{\"color\":\"rgba(62, 111, 176, 1.0)\",\"dash\":\"solid\",\"shape\":\"linear\",\"width\":1.3},\"mode\":\"lines\",\"name\":\"Blanca Susana Severino Carre\\u00f1o De Berru\",\"text\":\"\",\"x\":[\"2018-C04\",\"2018-C05\",\"2018-C06\",\"2018-C07\",\"2018-C08\",\"2018-C09\",\"2018-C10\",\"2018-C11\",\"2018-C12\",\"2018-C13\",\"2019-C01\",\"2019-C02\",\"2019-C03\",\"2019-C04\",\"2019-C05\",\"2019-C06\",\"2019-C07\",\"2019-C08\",\"2019-C09\",\"2019-C10\",\"2019-C11\",\"2019-C12\",\"2019-C13\",\"2020-C01\",\"2020-C02\",\"2020-C03\",\"2020-C04\",\"2020-C05\",\"2020-C06\",\"2020-C07\",\"2020-C08\",\"2020-C09\",\"2020-C10\",\"2020-C11\",\"2020-C12\",\"2021-C01\",\"2021-C02\",\"2021-C03\",\"2021-C04\",\"2021-C05\",\"2021-C06\",\"2021-C07\",\"2021-C08\",\"2021-C09\",\"2021-C10\",\"2021-C11\",\"2021-C12\",\"2021-C13\",\"2022-C01\",\"2022-C02\",\"2022-C03\",\"2022-C04\"],\"y\":[\"\",\"\",21477.0,19283.5,21202.2,24378.6,23960.5,16818.3,21418.5,16866.3,14161.1,14889.7,15895.7,13449.7,11034.0,9851.8,11036.6,12153.2,11971.8,\"\",\"\",\"\",\"\",\"\",\"\",\"\",\"\",\"\",\"\",\"\",\"\",\"\",\"\",\"\",\"\",\"\",\"\",\"\",\"\",\"\",\"\",\"\",\"\",\"\",\"\",\"\",\"\",15011.0,17232.8,18590.2,17244.6,17001.2],\"type\":\"scatter\"},{\"line\":{\"color\":\"rgba(132, 118, 202, 1.0)\",\"dash\":\"solid\",\"shape\":\"linear\",\"width\":1.3},\"mode\":\"lines\",\"name\":\"ELENA ELIZABETH CHERO RUIZ\",\"text\":\"\",\"x\":[\"2018-C04\",\"2018-C05\",\"2018-C06\",\"2018-C07\",\"2018-C08\",\"2018-C09\",\"2018-C10\",\"2018-C11\",\"2018-C12\",\"2018-C13\",\"2019-C01\",\"2019-C02\",\"2019-C03\",\"2019-C04\",\"2019-C05\",\"2019-C06\",\"2019-C07\",\"2019-C08\",\"2019-C09\",\"2019-C10\",\"2019-C11\",\"2019-C12\",\"2019-C13\",\"2020-C01\",\"2020-C02\",\"2020-C03\",\"2020-C04\",\"2020-C05\",\"2020-C06\",\"2020-C07\",\"2020-C08\",\"2020-C09\",\"2020-C10\",\"2020-C11\",\"2020-C12\",\"2021-C01\",\"2021-C02\",\"2021-C03\",\"2021-C04\",\"2021-C05\",\"2021-C06\",\"2021-C07\",\"2021-C08\",\"2021-C09\",\"2021-C10\",\"2021-C11\",\"2021-C12\",\"2021-C13\",\"2022-C01\",\"2022-C02\",\"2022-C03\",\"2022-C04\"],\"y\":[\"\",\"\",\"\",\"\",\"\",\"\",\"\",\"\",\"\",\"\",\"\",\"\",\"\",\"\",\"\",\"\",\"\",\"\",\"\",\"\",\"\",\"\",\"\",\"\",\"\",\"\",\"\",\"\",\"\",\"\",\"\",\"\",\"\",\"\",\"\",18559.5,18549.9,14106.1,14400.7,13789.5,15220.3,18616.0,22061.2,19452.9,20698.8,19458.5,19108.6,16319.3,16263.4,15280.2,16020.8,12118.8],\"type\":\"scatter\"},{\"line\":{\"color\":\"rgba(101, 101, 101, 1.0)\",\"dash\":\"solid\",\"shape\":\"linear\",\"width\":1.3},\"mode\":\"lines\",\"name\":\"Imelda Chamba Ni\\u00f1o\",\"text\":\"\",\"x\":[\"2018-C04\",\"2018-C05\",\"2018-C06\",\"2018-C07\",\"2018-C08\",\"2018-C09\",\"2018-C10\",\"2018-C11\",\"2018-C12\",\"2018-C13\",\"2019-C01\",\"2019-C02\",\"2019-C03\",\"2019-C04\",\"2019-C05\",\"2019-C06\",\"2019-C07\",\"2019-C08\",\"2019-C09\",\"2019-C10\",\"2019-C11\",\"2019-C12\",\"2019-C13\",\"2020-C01\",\"2020-C02\",\"2020-C03\",\"2020-C04\",\"2020-C05\",\"2020-C06\",\"2020-C07\",\"2020-C08\",\"2020-C09\",\"2020-C10\",\"2020-C11\",\"2020-C12\",\"2021-C01\",\"2021-C02\",\"2021-C03\",\"2021-C04\",\"2021-C05\",\"2021-C06\",\"2021-C07\",\"2021-C08\",\"2021-C09\",\"2021-C10\",\"2021-C11\",\"2021-C12\",\"2021-C13\",\"2022-C01\",\"2022-C02\",\"2022-C03\",\"2022-C04\"],\"y\":[19724.47,20779.0,23367.6,20940.8,17509.5,16256.4,16642.9,18525.5,18990.4,19796.4,19421.2,19001.2,18503.6,18673.6,21481.8,19965.3,18523.1,16843.6,18549.9,18684.5,18526.1,19992.5,18600.6,20305.1,18672.7,15234.7,4924.3,7135.7,8758.3,12934.0,13177.32,12652.71,12678.3,13052.9,17090.3,14708.5,14372.9,12384.5,11525.3,9501.0,9602.8,7763.9,8196.4,11237.4,15139.1,15044.5,15214.8,13835.9,15018.3,12637.9,13733.0,11780.6],\"type\":\"scatter\"},{\"line\":{\"color\":\"rgba(251, 193, 94, 1.0)\",\"dash\":\"solid\",\"shape\":\"linear\",\"width\":1.3},\"mode\":\"lines\",\"name\":\"Lesly Anali Valladolid Silva\",\"text\":\"\",\"x\":[\"2018-C04\",\"2018-C05\",\"2018-C06\",\"2018-C07\",\"2018-C08\",\"2018-C09\",\"2018-C10\",\"2018-C11\",\"2018-C12\",\"2018-C13\",\"2019-C01\",\"2019-C02\",\"2019-C03\",\"2019-C04\",\"2019-C05\",\"2019-C06\",\"2019-C07\",\"2019-C08\",\"2019-C09\",\"2019-C10\",\"2019-C11\",\"2019-C12\",\"2019-C13\",\"2020-C01\",\"2020-C02\",\"2020-C03\",\"2020-C04\",\"2020-C05\",\"2020-C06\",\"2020-C07\",\"2020-C08\",\"2020-C09\",\"2020-C10\",\"2020-C11\",\"2020-C12\",\"2021-C01\",\"2021-C02\",\"2021-C03\",\"2021-C04\",\"2021-C05\",\"2021-C06\",\"2021-C07\",\"2021-C08\",\"2021-C09\",\"2021-C10\",\"2021-C11\",\"2021-C12\",\"2021-C13\",\"2022-C01\",\"2022-C02\",\"2022-C03\",\"2022-C04\"],\"y\":[\"\",\"\",\"\",\"\",\"\",\"\",\"\",\"\",\"\",\"\",\"\",\"\",\"\",\"\",\"\",\"\",\"\",\"\",\"\",\"\",\"\",\"\",\"\",\"\",\"\",\"\",\"\",\"\",\"\",\"\",\"\",\"\",\"\",\"\",\"\",\"\",\"\",\"\",\"\",\"\",\"\",\"\",11473.1,13401.3,11511.5,12359.7,15036.0,7580.0,9260.5,8205.2,6799.1,5861.0],\"type\":\"scatter\"},{\"line\":{\"color\":\"rgba(142, 186, 66, 1.0)\",\"dash\":\"solid\",\"shape\":\"linear\",\"width\":1.3},\"mode\":\"lines\",\"name\":\"Luis Miguel Tupac Yupanqui Lazo\",\"text\":\"\",\"x\":[\"2018-C04\",\"2018-C05\",\"2018-C06\",\"2018-C07\",\"2018-C08\",\"2018-C09\",\"2018-C10\",\"2018-C11\",\"2018-C12\",\"2018-C13\",\"2019-C01\",\"2019-C02\",\"2019-C03\",\"2019-C04\",\"2019-C05\",\"2019-C06\",\"2019-C07\",\"2019-C08\",\"2019-C09\",\"2019-C10\",\"2019-C11\",\"2019-C12\",\"2019-C13\",\"2020-C01\",\"2020-C02\",\"2020-C03\",\"2020-C04\",\"2020-C05\",\"2020-C06\",\"2020-C07\",\"2020-C08\",\"2020-C09\",\"2020-C10\",\"2020-C11\",\"2020-C12\",\"2021-C01\",\"2021-C02\",\"2021-C03\",\"2021-C04\",\"2021-C05\",\"2021-C06\",\"2021-C07\",\"2021-C08\",\"2021-C09\",\"2021-C10\",\"2021-C11\",\"2021-C12\",\"2021-C13\",\"2022-C01\",\"2022-C02\",\"2022-C03\",\"2022-C04\"],\"y\":[\"\",\"\",\"\",\"\",\"\",\"\",\"\",\"\",\"\",\"\",\"\",\"\",\"\",\"\",\"\",\"\",\"\",\"\",\"\",18577.5,18538.8,18669.7,18789.7,21346.8,16837.4,18505.5,6859.1,10003.6,13047.3,17160.02,17798.5,17790.09,14852.7,20364.4,17513.6,20411.8,23205.4,17437.5,16176.0,19051.0,18450.9,17592.9,19461.7,18761.6,16398.6,15950.0,23672.1,20464.7,15000.3,15373.0,18501.4,16194.9],\"type\":\"scatter\"},{\"line\":{\"color\":\"rgba(255, 181, 184, 1.0)\",\"dash\":\"solid\",\"shape\":\"linear\",\"width\":1.3},\"mode\":\"lines\",\"name\":\"Natali Karen Litano Silupu\",\"text\":\"\",\"x\":[\"2018-C04\",\"2018-C05\",\"2018-C06\",\"2018-C07\",\"2018-C08\",\"2018-C09\",\"2018-C10\",\"2018-C11\",\"2018-C12\",\"2018-C13\",\"2019-C01\",\"2019-C02\",\"2019-C03\",\"2019-C04\",\"2019-C05\",\"2019-C06\",\"2019-C07\",\"2019-C08\",\"2019-C09\",\"2019-C10\",\"2019-C11\",\"2019-C12\",\"2019-C13\",\"2020-C01\",\"2020-C02\",\"2020-C03\",\"2020-C04\",\"2020-C05\",\"2020-C06\",\"2020-C07\",\"2020-C08\",\"2020-C09\",\"2020-C10\",\"2020-C11\",\"2020-C12\",\"2021-C01\",\"2021-C02\",\"2021-C03\",\"2021-C04\",\"2021-C05\",\"2021-C06\",\"2021-C07\",\"2021-C08\",\"2021-C09\",\"2021-C10\",\"2021-C11\",\"2021-C12\",\"2021-C13\",\"2022-C01\",\"2022-C02\",\"2022-C03\",\"2022-C04\"],\"y\":[\"\",\"\",\"\",\"\",\"\",\"\",\"\",\"\",\"\",\"\",\"\",18533.2,18516.6,15020.5,16924.0,14828.4,12259.9,14805.6,18506.6,13082.6,8631.8,10330.6,11075.9,9579.6,11258.7,8570.7,6363.9,10051.3,11377.0,12533.7,14420.76,11039.6,6853.7,6145.1,6410.2,11488.6,9341.2,9629.2,5892.5,12565.9,7423.3,6521.1,10589.4,6720.8,8203.3,14016.3,12064.5,8121.3,6891.0,8428.5,7062.9,6228.0],\"type\":\"scatter\"},{\"line\":{\"color\":\"rgba(255, 181, 184, 0.8999999999999999)\",\"dash\":\"solid\",\"shape\":\"linear\",\"width\":1.3},\"mode\":\"lines\",\"name\":\"Rosa Concepcion Ruiz De Abad\",\"text\":\"\",\"x\":[\"2018-C04\",\"2018-C05\",\"2018-C06\",\"2018-C07\",\"2018-C08\",\"2018-C09\",\"2018-C10\",\"2018-C11\",\"2018-C12\",\"2018-C13\",\"2019-C01\",\"2019-C02\",\"2019-C03\",\"2019-C04\",\"2019-C05\",\"2019-C06\",\"2019-C07\",\"2019-C08\",\"2019-C09\",\"2019-C10\",\"2019-C11\",\"2019-C12\",\"2019-C13\",\"2020-C01\",\"2020-C02\",\"2020-C03\",\"2020-C04\",\"2020-C05\",\"2020-C06\",\"2020-C07\",\"2020-C08\",\"2020-C09\",\"2020-C10\",\"2020-C11\",\"2020-C12\",\"2021-C01\",\"2021-C02\",\"2021-C03\",\"2021-C04\",\"2021-C05\",\"2021-C06\",\"2021-C07\",\"2021-C08\",\"2021-C09\",\"2021-C10\",\"2021-C11\",\"2021-C12\",\"2021-C13\",\"2022-C01\",\"2022-C02\",\"2022-C03\",\"2022-C04\"],\"y\":[20708.13,20094.5,22719.6,19883.2,14577.1,18519.8,16235.3,16977.7,21585.4,22197.9,23651.7,26407.2,23834.1,21361.5,22518.0,23737.9,25163.9,23182.5,25257.5,21360.1,22700.2,27290.3,25837.4,20760.4,22869.4,22345.1,6500.1,12524.2,11389.6,15337.16,15213.2,12414.73,14627.1,17494.1,17760.3,18510.1,22538.1,13647.9,7745.6,8999.7,10582.1,12009.4,11711.7,11049.2,14030.3,14009.1,17606.1,16605.8,15071.1,16814.7,17614.4,19846.2],\"type\":\"scatter\"},{\"line\":{\"color\":\"rgba(226, 74, 51, 0.8999999999999999)\",\"dash\":\"solid\",\"shape\":\"linear\",\"width\":1.3},\"mode\":\"lines\",\"name\":\"Rosario Elizabe Lazo Ramirez\",\"text\":\"\",\"x\":[\"2018-C04\",\"2018-C05\",\"2018-C06\",\"2018-C07\",\"2018-C08\",\"2018-C09\",\"2018-C10\",\"2018-C11\",\"2018-C12\",\"2018-C13\",\"2019-C01\",\"2019-C02\",\"2019-C03\",\"2019-C04\",\"2019-C05\",\"2019-C06\",\"2019-C07\",\"2019-C08\",\"2019-C09\",\"2019-C10\",\"2019-C11\",\"2019-C12\",\"2019-C13\",\"2020-C01\",\"2020-C02\",\"2020-C03\",\"2020-C04\",\"2020-C05\",\"2020-C06\",\"2020-C07\",\"2020-C08\",\"2020-C09\",\"2020-C10\",\"2020-C11\",\"2020-C12\",\"2021-C01\",\"2021-C02\",\"2021-C03\",\"2021-C04\",\"2021-C05\",\"2021-C06\",\"2021-C07\",\"2021-C08\",\"2021-C09\",\"2021-C10\",\"2021-C11\",\"2021-C12\",\"2021-C13\",\"2022-C01\",\"2022-C02\",\"2022-C03\",\"2022-C04\"],\"y\":[57296.37,58918.8,47040.6,46605.6,44148.9,33310.5,30082.5,27604.3,38460.7,47387.4,51469.1,31964.5,29281.2,30424.0,34902.1,37738.7,37327.6,39584.5,42614.9,33302.7,31090.7,32986.3,30611.8,32225.8,31788.7,30263.8,9907.9,26715.0,28880.7,31073.1,33657.7,26730.59,26644.0,34406.6,33194.9,32642.0,30066.6,26167.6,24916.4,23319.3,27872.5,27773.0,26079.7,30074.0,32110.5,29135.7,36821.3,17711.0,17665.0,20282.3,22493.9,24891.4],\"type\":\"scatter\"},{\"line\":{\"color\":\"rgba(62, 111, 176, 0.8999999999999999)\",\"dash\":\"solid\",\"shape\":\"linear\",\"width\":1.3},\"mode\":\"lines\",\"name\":\"Yenit Marizela Panta Gonzales\",\"text\":\"\",\"x\":[\"2018-C04\",\"2018-C05\",\"2018-C06\",\"2018-C07\",\"2018-C08\",\"2018-C09\",\"2018-C10\",\"2018-C11\",\"2018-C12\",\"2018-C13\",\"2019-C01\",\"2019-C02\",\"2019-C03\",\"2019-C04\",\"2019-C05\",\"2019-C06\",\"2019-C07\",\"2019-C08\",\"2019-C09\",\"2019-C10\",\"2019-C11\",\"2019-C12\",\"2019-C13\",\"2020-C01\",\"2020-C02\",\"2020-C03\",\"2020-C04\",\"2020-C05\",\"2020-C06\",\"2020-C07\",\"2020-C08\",\"2020-C09\",\"2020-C10\",\"2020-C11\",\"2020-C12\",\"2021-C01\",\"2021-C02\",\"2021-C03\",\"2021-C04\",\"2021-C05\",\"2021-C06\",\"2021-C07\",\"2021-C08\",\"2021-C09\",\"2021-C10\",\"2021-C11\",\"2021-C12\",\"2021-C13\",\"2022-C01\",\"2022-C02\",\"2022-C03\",\"2022-C04\"],\"y\":[\"\",\"\",\"\",\"\",\"\",19912.0,18752.0,20723.5,19626.1,15602.0,18583.3,22790.4,22002.5,18515.1,21494.1,19119.0,19146.9,18520.7,18675.6,18524.7,19323.2,20484.9,20950.2,19337.9,27878.6,25143.2,13097.4,28252.1,37403.82,47458.32,48265.4,53402.03,48304.0,54220.2,58977.1,27426.4,30955.0,29424.2,27056.6,26474.2,31718.7,33044.3,20721.8,22077.2,19385.2,21880.7,23925.3,18599.9,19063.6,19998.3,22242.1,21798.9],\"type\":\"scatter\"},{\"line\":{\"color\":\"rgba(132, 118, 202, 0.8999999999999999)\",\"dash\":\"solid\",\"shape\":\"linear\",\"width\":1.3},\"mode\":\"lines\",\"name\":\"Yessica Lizbeth Panta Gonzales\",\"text\":\"\",\"x\":[\"2018-C04\",\"2018-C05\",\"2018-C06\",\"2018-C07\",\"2018-C08\",\"2018-C09\",\"2018-C10\",\"2018-C11\",\"2018-C12\",\"2018-C13\",\"2019-C01\",\"2019-C02\",\"2019-C03\",\"2019-C04\",\"2019-C05\",\"2019-C06\",\"2019-C07\",\"2019-C08\",\"2019-C09\",\"2019-C10\",\"2019-C11\",\"2019-C12\",\"2019-C13\",\"2020-C01\",\"2020-C02\",\"2020-C03\",\"2020-C04\",\"2020-C05\",\"2020-C06\",\"2020-C07\",\"2020-C08\",\"2020-C09\",\"2020-C10\",\"2020-C11\",\"2020-C12\",\"2021-C01\",\"2021-C02\",\"2021-C03\",\"2021-C04\",\"2021-C05\",\"2021-C06\",\"2021-C07\",\"2021-C08\",\"2021-C09\",\"2021-C10\",\"2021-C11\",\"2021-C12\",\"2021-C13\",\"2022-C01\",\"2022-C02\",\"2022-C03\",\"2022-C04\"],\"y\":[\"\",\"\",\"\",\"\",\"\",\"\",\"\",\"\",\"\",\"\",\"\",\"\",\"\",\"\",\"\",\"\",\"\",\"\",\"\",\"\",\"\",\"\",\"\",\"\",\"\",\"\",\"\",\"\",\"\",\"\",\"\",\"\",\"\",\"\",\"\",21526.2,22892.0,20952.0,18180.4,16030.8,20533.9,20550.3,22786.6,20290.6,23577.7,23898.3,24125.8,20697.7,12937.8,17113.0,14690.9,13108.7],\"type\":\"scatter\"}],                        {\"legend\":{\"bgcolor\":\"#FFFFFF\",\"font\":{\"color\":\"#666666\"}},\"paper_bgcolor\":\"#FFFFFF\",\"plot_bgcolor\":\"#E5E5E5\",\"template\":{\"data\":{\"barpolar\":[{\"marker\":{\"line\":{\"color\":\"#E5ECF6\",\"width\":0.5},\"pattern\":{\"fillmode\":\"overlay\",\"size\":10,\"solidity\":0.2}},\"type\":\"barpolar\"}],\"bar\":[{\"error_x\":{\"color\":\"#2a3f5f\"},\"error_y\":{\"color\":\"#2a3f5f\"},\"marker\":{\"line\":{\"color\":\"#E5ECF6\",\"width\":0.5},\"pattern\":{\"fillmode\":\"overlay\",\"size\":10,\"solidity\":0.2}},\"type\":\"bar\"}],\"carpet\":[{\"aaxis\":{\"endlinecolor\":\"#2a3f5f\",\"gridcolor\":\"white\",\"linecolor\":\"white\",\"minorgridcolor\":\"white\",\"startlinecolor\":\"#2a3f5f\"},\"baxis\":{\"endlinecolor\":\"#2a3f5f\",\"gridcolor\":\"white\",\"linecolor\":\"white\",\"minorgridcolor\":\"white\",\"startlinecolor\":\"#2a3f5f\"},\"type\":\"carpet\"}],\"choropleth\":[{\"colorbar\":{\"outlinewidth\":0,\"ticks\":\"\"},\"type\":\"choropleth\"}],\"contourcarpet\":[{\"colorbar\":{\"outlinewidth\":0,\"ticks\":\"\"},\"type\":\"contourcarpet\"}],\"contour\":[{\"colorbar\":{\"outlinewidth\":0,\"ticks\":\"\"},\"colorscale\":[[0.0,\"#0d0887\"],[0.1111111111111111,\"#46039f\"],[0.2222222222222222,\"#7201a8\"],[0.3333333333333333,\"#9c179e\"],[0.4444444444444444,\"#bd3786\"],[0.5555555555555556,\"#d8576b\"],[0.6666666666666666,\"#ed7953\"],[0.7777777777777778,\"#fb9f3a\"],[0.8888888888888888,\"#fdca26\"],[1.0,\"#f0f921\"]],\"type\":\"contour\"}],\"heatmapgl\":[{\"colorbar\":{\"outlinewidth\":0,\"ticks\":\"\"},\"colorscale\":[[0.0,\"#0d0887\"],[0.1111111111111111,\"#46039f\"],[0.2222222222222222,\"#7201a8\"],[0.3333333333333333,\"#9c179e\"],[0.4444444444444444,\"#bd3786\"],[0.5555555555555556,\"#d8576b\"],[0.6666666666666666,\"#ed7953\"],[0.7777777777777778,\"#fb9f3a\"],[0.8888888888888888,\"#fdca26\"],[1.0,\"#f0f921\"]],\"type\":\"heatmapgl\"}],\"heatmap\":[{\"colorbar\":{\"outlinewidth\":0,\"ticks\":\"\"},\"colorscale\":[[0.0,\"#0d0887\"],[0.1111111111111111,\"#46039f\"],[0.2222222222222222,\"#7201a8\"],[0.3333333333333333,\"#9c179e\"],[0.4444444444444444,\"#bd3786\"],[0.5555555555555556,\"#d8576b\"],[0.6666666666666666,\"#ed7953\"],[0.7777777777777778,\"#fb9f3a\"],[0.8888888888888888,\"#fdca26\"],[1.0,\"#f0f921\"]],\"type\":\"heatmap\"}],\"histogram2dcontour\":[{\"colorbar\":{\"outlinewidth\":0,\"ticks\":\"\"},\"colorscale\":[[0.0,\"#0d0887\"],[0.1111111111111111,\"#46039f\"],[0.2222222222222222,\"#7201a8\"],[0.3333333333333333,\"#9c179e\"],[0.4444444444444444,\"#bd3786\"],[0.5555555555555556,\"#d8576b\"],[0.6666666666666666,\"#ed7953\"],[0.7777777777777778,\"#fb9f3a\"],[0.8888888888888888,\"#fdca26\"],[1.0,\"#f0f921\"]],\"type\":\"histogram2dcontour\"}],\"histogram2d\":[{\"colorbar\":{\"outlinewidth\":0,\"ticks\":\"\"},\"colorscale\":[[0.0,\"#0d0887\"],[0.1111111111111111,\"#46039f\"],[0.2222222222222222,\"#7201a8\"],[0.3333333333333333,\"#9c179e\"],[0.4444444444444444,\"#bd3786\"],[0.5555555555555556,\"#d8576b\"],[0.6666666666666666,\"#ed7953\"],[0.7777777777777778,\"#fb9f3a\"],[0.8888888888888888,\"#fdca26\"],[1.0,\"#f0f921\"]],\"type\":\"histogram2d\"}],\"histogram\":[{\"marker\":{\"pattern\":{\"fillmode\":\"overlay\",\"size\":10,\"solidity\":0.2}},\"type\":\"histogram\"}],\"mesh3d\":[{\"colorbar\":{\"outlinewidth\":0,\"ticks\":\"\"},\"type\":\"mesh3d\"}],\"parcoords\":[{\"line\":{\"colorbar\":{\"outlinewidth\":0,\"ticks\":\"\"}},\"type\":\"parcoords\"}],\"pie\":[{\"automargin\":true,\"type\":\"pie\"}],\"scatter3d\":[{\"line\":{\"colorbar\":{\"outlinewidth\":0,\"ticks\":\"\"}},\"marker\":{\"colorbar\":{\"outlinewidth\":0,\"ticks\":\"\"}},\"type\":\"scatter3d\"}],\"scattercarpet\":[{\"marker\":{\"colorbar\":{\"outlinewidth\":0,\"ticks\":\"\"}},\"type\":\"scattercarpet\"}],\"scattergeo\":[{\"marker\":{\"colorbar\":{\"outlinewidth\":0,\"ticks\":\"\"}},\"type\":\"scattergeo\"}],\"scattergl\":[{\"marker\":{\"colorbar\":{\"outlinewidth\":0,\"ticks\":\"\"}},\"type\":\"scattergl\"}],\"scattermapbox\":[{\"marker\":{\"colorbar\":{\"outlinewidth\":0,\"ticks\":\"\"}},\"type\":\"scattermapbox\"}],\"scatterpolargl\":[{\"marker\":{\"colorbar\":{\"outlinewidth\":0,\"ticks\":\"\"}},\"type\":\"scatterpolargl\"}],\"scatterpolar\":[{\"marker\":{\"colorbar\":{\"outlinewidth\":0,\"ticks\":\"\"}},\"type\":\"scatterpolar\"}],\"scatter\":[{\"fillpattern\":{\"fillmode\":\"overlay\",\"size\":10,\"solidity\":0.2},\"type\":\"scatter\"}],\"scatterternary\":[{\"marker\":{\"colorbar\":{\"outlinewidth\":0,\"ticks\":\"\"}},\"type\":\"scatterternary\"}],\"surface\":[{\"colorbar\":{\"outlinewidth\":0,\"ticks\":\"\"},\"colorscale\":[[0.0,\"#0d0887\"],[0.1111111111111111,\"#46039f\"],[0.2222222222222222,\"#7201a8\"],[0.3333333333333333,\"#9c179e\"],[0.4444444444444444,\"#bd3786\"],[0.5555555555555556,\"#d8576b\"],[0.6666666666666666,\"#ed7953\"],[0.7777777777777778,\"#fb9f3a\"],[0.8888888888888888,\"#fdca26\"],[1.0,\"#f0f921\"]],\"type\":\"surface\"}],\"table\":[{\"cells\":{\"fill\":{\"color\":\"#EBF0F8\"},\"line\":{\"color\":\"white\"}},\"header\":{\"fill\":{\"color\":\"#C8D4E3\"},\"line\":{\"color\":\"white\"}},\"type\":\"table\"}]},\"layout\":{\"annotationdefaults\":{\"arrowcolor\":\"#2a3f5f\",\"arrowhead\":0,\"arrowwidth\":1},\"autotypenumbers\":\"strict\",\"coloraxis\":{\"colorbar\":{\"outlinewidth\":0,\"ticks\":\"\"}},\"colorscale\":{\"diverging\":[[0,\"#8e0152\"],[0.1,\"#c51b7d\"],[0.2,\"#de77ae\"],[0.3,\"#f1b6da\"],[0.4,\"#fde0ef\"],[0.5,\"#f7f7f7\"],[0.6,\"#e6f5d0\"],[0.7,\"#b8e186\"],[0.8,\"#7fbc41\"],[0.9,\"#4d9221\"],[1,\"#276419\"]],\"sequential\":[[0.0,\"#0d0887\"],[0.1111111111111111,\"#46039f\"],[0.2222222222222222,\"#7201a8\"],[0.3333333333333333,\"#9c179e\"],[0.4444444444444444,\"#bd3786\"],[0.5555555555555556,\"#d8576b\"],[0.6666666666666666,\"#ed7953\"],[0.7777777777777778,\"#fb9f3a\"],[0.8888888888888888,\"#fdca26\"],[1.0,\"#f0f921\"]],\"sequentialminus\":[[0.0,\"#0d0887\"],[0.1111111111111111,\"#46039f\"],[0.2222222222222222,\"#7201a8\"],[0.3333333333333333,\"#9c179e\"],[0.4444444444444444,\"#bd3786\"],[0.5555555555555556,\"#d8576b\"],[0.6666666666666666,\"#ed7953\"],[0.7777777777777778,\"#fb9f3a\"],[0.8888888888888888,\"#fdca26\"],[1.0,\"#f0f921\"]]},\"colorway\":[\"#636efa\",\"#EF553B\",\"#00cc96\",\"#ab63fa\",\"#FFA15A\",\"#19d3f3\",\"#FF6692\",\"#B6E880\",\"#FF97FF\",\"#FECB52\"],\"font\":{\"color\":\"#2a3f5f\"},\"geo\":{\"bgcolor\":\"white\",\"lakecolor\":\"white\",\"landcolor\":\"#E5ECF6\",\"showlakes\":true,\"showland\":true,\"subunitcolor\":\"white\"},\"hoverlabel\":{\"align\":\"left\"},\"hovermode\":\"closest\",\"mapbox\":{\"style\":\"light\"},\"paper_bgcolor\":\"white\",\"plot_bgcolor\":\"#E5ECF6\",\"polar\":{\"angularaxis\":{\"gridcolor\":\"white\",\"linecolor\":\"white\",\"ticks\":\"\"},\"bgcolor\":\"#E5ECF6\",\"radialaxis\":{\"gridcolor\":\"white\",\"linecolor\":\"white\",\"ticks\":\"\"}},\"scene\":{\"xaxis\":{\"backgroundcolor\":\"#E5ECF6\",\"gridcolor\":\"white\",\"gridwidth\":2,\"linecolor\":\"white\",\"showbackground\":true,\"ticks\":\"\",\"zerolinecolor\":\"white\"},\"yaxis\":{\"backgroundcolor\":\"#E5ECF6\",\"gridcolor\":\"white\",\"gridwidth\":2,\"linecolor\":\"white\",\"showbackground\":true,\"ticks\":\"\",\"zerolinecolor\":\"white\"},\"zaxis\":{\"backgroundcolor\":\"#E5ECF6\",\"gridcolor\":\"white\",\"gridwidth\":2,\"linecolor\":\"white\",\"showbackground\":true,\"ticks\":\"\",\"zerolinecolor\":\"white\"}},\"shapedefaults\":{\"line\":{\"color\":\"#2a3f5f\"}},\"ternary\":{\"aaxis\":{\"gridcolor\":\"white\",\"linecolor\":\"white\",\"ticks\":\"\"},\"baxis\":{\"gridcolor\":\"white\",\"linecolor\":\"white\",\"ticks\":\"\"},\"bgcolor\":\"#E5ECF6\",\"caxis\":{\"gridcolor\":\"white\",\"linecolor\":\"white\",\"ticks\":\"\"}},\"title\":{\"x\":0.05},\"xaxis\":{\"automargin\":true,\"gridcolor\":\"white\",\"linecolor\":\"white\",\"ticks\":\"\",\"title\":{\"standoff\":15},\"zerolinecolor\":\"white\",\"zerolinewidth\":2},\"yaxis\":{\"automargin\":true,\"gridcolor\":\"white\",\"linecolor\":\"white\",\"ticks\":\"\",\"title\":{\"standoff\":15},\"zerolinecolor\":\"white\",\"zerolinewidth\":2}}},\"title\":{\"font\":{\"color\":\"#151516\"},\"text\":\"Venta Publica Grupal por Campania\"},\"xaxis\":{\"gridcolor\":\"#F6F6F6\",\"showgrid\":true,\"tickfont\":{\"color\":\"#666666\"},\"title\":{\"font\":{\"color\":\"#666666\"},\"text\":\"Campania\"},\"zerolinecolor\":\"#F6F6F6\"},\"yaxis\":{\"gridcolor\":\"#F6F6F6\",\"showgrid\":true,\"tickfont\":{\"color\":\"#666666\"},\"title\":{\"font\":{\"color\":\"#666666\"},\"text\":\"Venta Publica Grupal\"},\"zerolinecolor\":\"#F6F6F6\"}},                        {\"showLink\": true, \"linkText\": \"Export to plot.ly\", \"plotlyServerURL\": \"https://plot.ly\", \"responsive\": true}                    ).then(function(){\n",
       "                            \n",
       "var gd = document.getElementById('a4d4bca8-ab13-42ad-8e46-bcc85cef7918');\n",
       "var x = new MutationObserver(function (mutations, observer) {{\n",
       "        var display = window.getComputedStyle(gd).display;\n",
       "        if (!display || display === 'none') {{\n",
       "            console.log([gd, 'removed!']);\n",
       "            Plotly.purge(gd);\n",
       "            observer.disconnect();\n",
       "        }}\n",
       "}});\n",
       "\n",
       "// Listen for the removal of the full notebook cells\n",
       "var notebookContainer = gd.closest('#notebook-container');\n",
       "if (notebookContainer) {{\n",
       "    x.observe(notebookContainer, {childList: true});\n",
       "}}\n",
       "\n",
       "// Listen for the clearing of the current output cell\n",
       "var outputEl = gd.closest('.output');\n",
       "if (outputEl) {{\n",
       "    x.observe(outputEl, {childList: true});\n",
       "}}\n",
       "\n",
       "                        })                };                });            </script>        </div>"
      ]
     },
     "metadata": {},
     "output_type": "display_data"
    }
   ],
   "source": [
    "df_desempeno.iplot(kind='line', xTitle='Campania', yTitle='Venta Publica Grupal',\n",
    "                    title='Venta Publica Grupal por Campania')"
   ]
  },
  {
   "cell_type": "code",
   "execution_count": 49,
   "id": "dd698992",
   "metadata": {},
   "outputs": [
    {
     "data": {
      "application/vnd.plotly.v1+json": {
       "config": {
        "linkText": "Export to plot.ly",
        "plotlyServerURL": "https://plot.ly",
        "showLink": true
       },
       "data": [
        {
         "marker": {
          "color": "rgba(144, 238, 144, 0.6)",
          "line": {
           "color": "rgba(144, 238, 144, 1.0)",
           "width": 1
          }
         },
         "name": "2022-C03",
         "orientation": "v",
         "text": "",
         "type": "bar",
         "x": [
          "Ana Fabiola Huancas Ruiz",
          "Blanca Susana Severino Carreño De Berru",
          "ELENA ELIZABETH CHERO RUIZ",
          "Imelda Chamba Niño",
          "Lesly Anali Valladolid Silva",
          "Luis Miguel Tupac Yupanqui Lazo",
          "Natali Karen Litano Silupu",
          "Rosa Concepcion Ruiz De Abad",
          "Rosario Elizabe Lazo Ramirez",
          "Yenit Marizela Panta Gonzales",
          "Yessica Lizbeth Panta Gonzales"
         ],
         "y": [
          "",
          17244.6,
          16020.8,
          13733,
          6799.1,
          18501.4,
          7062.9,
          17614.4,
          22493.9,
          22242.1,
          14690.9
         ]
        }
       ],
       "layout": {
        "legend": {
         "bgcolor": "#FFFFFF",
         "font": {
          "color": "#666666"
         }
        },
        "paper_bgcolor": "#FFFFFF",
        "plot_bgcolor": "#E5E5E5",
        "template": {
         "data": {
          "bar": [
           {
            "error_x": {
             "color": "#2a3f5f"
            },
            "error_y": {
             "color": "#2a3f5f"
            },
            "marker": {
             "line": {
              "color": "#E5ECF6",
              "width": 0.5
             },
             "pattern": {
              "fillmode": "overlay",
              "size": 10,
              "solidity": 0.2
             }
            },
            "type": "bar"
           }
          ],
          "barpolar": [
           {
            "marker": {
             "line": {
              "color": "#E5ECF6",
              "width": 0.5
             },
             "pattern": {
              "fillmode": "overlay",
              "size": 10,
              "solidity": 0.2
             }
            },
            "type": "barpolar"
           }
          ],
          "carpet": [
           {
            "aaxis": {
             "endlinecolor": "#2a3f5f",
             "gridcolor": "white",
             "linecolor": "white",
             "minorgridcolor": "white",
             "startlinecolor": "#2a3f5f"
            },
            "baxis": {
             "endlinecolor": "#2a3f5f",
             "gridcolor": "white",
             "linecolor": "white",
             "minorgridcolor": "white",
             "startlinecolor": "#2a3f5f"
            },
            "type": "carpet"
           }
          ],
          "choropleth": [
           {
            "colorbar": {
             "outlinewidth": 0,
             "ticks": ""
            },
            "type": "choropleth"
           }
          ],
          "contour": [
           {
            "colorbar": {
             "outlinewidth": 0,
             "ticks": ""
            },
            "colorscale": [
             [
              0,
              "#0d0887"
             ],
             [
              0.1111111111111111,
              "#46039f"
             ],
             [
              0.2222222222222222,
              "#7201a8"
             ],
             [
              0.3333333333333333,
              "#9c179e"
             ],
             [
              0.4444444444444444,
              "#bd3786"
             ],
             [
              0.5555555555555556,
              "#d8576b"
             ],
             [
              0.6666666666666666,
              "#ed7953"
             ],
             [
              0.7777777777777778,
              "#fb9f3a"
             ],
             [
              0.8888888888888888,
              "#fdca26"
             ],
             [
              1,
              "#f0f921"
             ]
            ],
            "type": "contour"
           }
          ],
          "contourcarpet": [
           {
            "colorbar": {
             "outlinewidth": 0,
             "ticks": ""
            },
            "type": "contourcarpet"
           }
          ],
          "heatmap": [
           {
            "colorbar": {
             "outlinewidth": 0,
             "ticks": ""
            },
            "colorscale": [
             [
              0,
              "#0d0887"
             ],
             [
              0.1111111111111111,
              "#46039f"
             ],
             [
              0.2222222222222222,
              "#7201a8"
             ],
             [
              0.3333333333333333,
              "#9c179e"
             ],
             [
              0.4444444444444444,
              "#bd3786"
             ],
             [
              0.5555555555555556,
              "#d8576b"
             ],
             [
              0.6666666666666666,
              "#ed7953"
             ],
             [
              0.7777777777777778,
              "#fb9f3a"
             ],
             [
              0.8888888888888888,
              "#fdca26"
             ],
             [
              1,
              "#f0f921"
             ]
            ],
            "type": "heatmap"
           }
          ],
          "heatmapgl": [
           {
            "colorbar": {
             "outlinewidth": 0,
             "ticks": ""
            },
            "colorscale": [
             [
              0,
              "#0d0887"
             ],
             [
              0.1111111111111111,
              "#46039f"
             ],
             [
              0.2222222222222222,
              "#7201a8"
             ],
             [
              0.3333333333333333,
              "#9c179e"
             ],
             [
              0.4444444444444444,
              "#bd3786"
             ],
             [
              0.5555555555555556,
              "#d8576b"
             ],
             [
              0.6666666666666666,
              "#ed7953"
             ],
             [
              0.7777777777777778,
              "#fb9f3a"
             ],
             [
              0.8888888888888888,
              "#fdca26"
             ],
             [
              1,
              "#f0f921"
             ]
            ],
            "type": "heatmapgl"
           }
          ],
          "histogram": [
           {
            "marker": {
             "pattern": {
              "fillmode": "overlay",
              "size": 10,
              "solidity": 0.2
             }
            },
            "type": "histogram"
           }
          ],
          "histogram2d": [
           {
            "colorbar": {
             "outlinewidth": 0,
             "ticks": ""
            },
            "colorscale": [
             [
              0,
              "#0d0887"
             ],
             [
              0.1111111111111111,
              "#46039f"
             ],
             [
              0.2222222222222222,
              "#7201a8"
             ],
             [
              0.3333333333333333,
              "#9c179e"
             ],
             [
              0.4444444444444444,
              "#bd3786"
             ],
             [
              0.5555555555555556,
              "#d8576b"
             ],
             [
              0.6666666666666666,
              "#ed7953"
             ],
             [
              0.7777777777777778,
              "#fb9f3a"
             ],
             [
              0.8888888888888888,
              "#fdca26"
             ],
             [
              1,
              "#f0f921"
             ]
            ],
            "type": "histogram2d"
           }
          ],
          "histogram2dcontour": [
           {
            "colorbar": {
             "outlinewidth": 0,
             "ticks": ""
            },
            "colorscale": [
             [
              0,
              "#0d0887"
             ],
             [
              0.1111111111111111,
              "#46039f"
             ],
             [
              0.2222222222222222,
              "#7201a8"
             ],
             [
              0.3333333333333333,
              "#9c179e"
             ],
             [
              0.4444444444444444,
              "#bd3786"
             ],
             [
              0.5555555555555556,
              "#d8576b"
             ],
             [
              0.6666666666666666,
              "#ed7953"
             ],
             [
              0.7777777777777778,
              "#fb9f3a"
             ],
             [
              0.8888888888888888,
              "#fdca26"
             ],
             [
              1,
              "#f0f921"
             ]
            ],
            "type": "histogram2dcontour"
           }
          ],
          "mesh3d": [
           {
            "colorbar": {
             "outlinewidth": 0,
             "ticks": ""
            },
            "type": "mesh3d"
           }
          ],
          "parcoords": [
           {
            "line": {
             "colorbar": {
              "outlinewidth": 0,
              "ticks": ""
             }
            },
            "type": "parcoords"
           }
          ],
          "pie": [
           {
            "automargin": true,
            "type": "pie"
           }
          ],
          "scatter": [
           {
            "fillpattern": {
             "fillmode": "overlay",
             "size": 10,
             "solidity": 0.2
            },
            "type": "scatter"
           }
          ],
          "scatter3d": [
           {
            "line": {
             "colorbar": {
              "outlinewidth": 0,
              "ticks": ""
             }
            },
            "marker": {
             "colorbar": {
              "outlinewidth": 0,
              "ticks": ""
             }
            },
            "type": "scatter3d"
           }
          ],
          "scattercarpet": [
           {
            "marker": {
             "colorbar": {
              "outlinewidth": 0,
              "ticks": ""
             }
            },
            "type": "scattercarpet"
           }
          ],
          "scattergeo": [
           {
            "marker": {
             "colorbar": {
              "outlinewidth": 0,
              "ticks": ""
             }
            },
            "type": "scattergeo"
           }
          ],
          "scattergl": [
           {
            "marker": {
             "colorbar": {
              "outlinewidth": 0,
              "ticks": ""
             }
            },
            "type": "scattergl"
           }
          ],
          "scattermapbox": [
           {
            "marker": {
             "colorbar": {
              "outlinewidth": 0,
              "ticks": ""
             }
            },
            "type": "scattermapbox"
           }
          ],
          "scatterpolar": [
           {
            "marker": {
             "colorbar": {
              "outlinewidth": 0,
              "ticks": ""
             }
            },
            "type": "scatterpolar"
           }
          ],
          "scatterpolargl": [
           {
            "marker": {
             "colorbar": {
              "outlinewidth": 0,
              "ticks": ""
             }
            },
            "type": "scatterpolargl"
           }
          ],
          "scatterternary": [
           {
            "marker": {
             "colorbar": {
              "outlinewidth": 0,
              "ticks": ""
             }
            },
            "type": "scatterternary"
           }
          ],
          "surface": [
           {
            "colorbar": {
             "outlinewidth": 0,
             "ticks": ""
            },
            "colorscale": [
             [
              0,
              "#0d0887"
             ],
             [
              0.1111111111111111,
              "#46039f"
             ],
             [
              0.2222222222222222,
              "#7201a8"
             ],
             [
              0.3333333333333333,
              "#9c179e"
             ],
             [
              0.4444444444444444,
              "#bd3786"
             ],
             [
              0.5555555555555556,
              "#d8576b"
             ],
             [
              0.6666666666666666,
              "#ed7953"
             ],
             [
              0.7777777777777778,
              "#fb9f3a"
             ],
             [
              0.8888888888888888,
              "#fdca26"
             ],
             [
              1,
              "#f0f921"
             ]
            ],
            "type": "surface"
           }
          ],
          "table": [
           {
            "cells": {
             "fill": {
              "color": "#EBF0F8"
             },
             "line": {
              "color": "white"
             }
            },
            "header": {
             "fill": {
              "color": "#C8D4E3"
             },
             "line": {
              "color": "white"
             }
            },
            "type": "table"
           }
          ]
         },
         "layout": {
          "annotationdefaults": {
           "arrowcolor": "#2a3f5f",
           "arrowhead": 0,
           "arrowwidth": 1
          },
          "autotypenumbers": "strict",
          "coloraxis": {
           "colorbar": {
            "outlinewidth": 0,
            "ticks": ""
           }
          },
          "colorscale": {
           "diverging": [
            [
             0,
             "#8e0152"
            ],
            [
             0.1,
             "#c51b7d"
            ],
            [
             0.2,
             "#de77ae"
            ],
            [
             0.3,
             "#f1b6da"
            ],
            [
             0.4,
             "#fde0ef"
            ],
            [
             0.5,
             "#f7f7f7"
            ],
            [
             0.6,
             "#e6f5d0"
            ],
            [
             0.7,
             "#b8e186"
            ],
            [
             0.8,
             "#7fbc41"
            ],
            [
             0.9,
             "#4d9221"
            ],
            [
             1,
             "#276419"
            ]
           ],
           "sequential": [
            [
             0,
             "#0d0887"
            ],
            [
             0.1111111111111111,
             "#46039f"
            ],
            [
             0.2222222222222222,
             "#7201a8"
            ],
            [
             0.3333333333333333,
             "#9c179e"
            ],
            [
             0.4444444444444444,
             "#bd3786"
            ],
            [
             0.5555555555555556,
             "#d8576b"
            ],
            [
             0.6666666666666666,
             "#ed7953"
            ],
            [
             0.7777777777777778,
             "#fb9f3a"
            ],
            [
             0.8888888888888888,
             "#fdca26"
            ],
            [
             1,
             "#f0f921"
            ]
           ],
           "sequentialminus": [
            [
             0,
             "#0d0887"
            ],
            [
             0.1111111111111111,
             "#46039f"
            ],
            [
             0.2222222222222222,
             "#7201a8"
            ],
            [
             0.3333333333333333,
             "#9c179e"
            ],
            [
             0.4444444444444444,
             "#bd3786"
            ],
            [
             0.5555555555555556,
             "#d8576b"
            ],
            [
             0.6666666666666666,
             "#ed7953"
            ],
            [
             0.7777777777777778,
             "#fb9f3a"
            ],
            [
             0.8888888888888888,
             "#fdca26"
            ],
            [
             1,
             "#f0f921"
            ]
           ]
          },
          "colorway": [
           "#636efa",
           "#EF553B",
           "#00cc96",
           "#ab63fa",
           "#FFA15A",
           "#19d3f3",
           "#FF6692",
           "#B6E880",
           "#FF97FF",
           "#FECB52"
          ],
          "font": {
           "color": "#2a3f5f"
          },
          "geo": {
           "bgcolor": "white",
           "lakecolor": "white",
           "landcolor": "#E5ECF6",
           "showlakes": true,
           "showland": true,
           "subunitcolor": "white"
          },
          "hoverlabel": {
           "align": "left"
          },
          "hovermode": "closest",
          "mapbox": {
           "style": "light"
          },
          "paper_bgcolor": "white",
          "plot_bgcolor": "#E5ECF6",
          "polar": {
           "angularaxis": {
            "gridcolor": "white",
            "linecolor": "white",
            "ticks": ""
           },
           "bgcolor": "#E5ECF6",
           "radialaxis": {
            "gridcolor": "white",
            "linecolor": "white",
            "ticks": ""
           }
          },
          "scene": {
           "xaxis": {
            "backgroundcolor": "#E5ECF6",
            "gridcolor": "white",
            "gridwidth": 2,
            "linecolor": "white",
            "showbackground": true,
            "ticks": "",
            "zerolinecolor": "white"
           },
           "yaxis": {
            "backgroundcolor": "#E5ECF6",
            "gridcolor": "white",
            "gridwidth": 2,
            "linecolor": "white",
            "showbackground": true,
            "ticks": "",
            "zerolinecolor": "white"
           },
           "zaxis": {
            "backgroundcolor": "#E5ECF6",
            "gridcolor": "white",
            "gridwidth": 2,
            "linecolor": "white",
            "showbackground": true,
            "ticks": "",
            "zerolinecolor": "white"
           }
          },
          "shapedefaults": {
           "line": {
            "color": "#2a3f5f"
           }
          },
          "ternary": {
           "aaxis": {
            "gridcolor": "white",
            "linecolor": "white",
            "ticks": ""
           },
           "baxis": {
            "gridcolor": "white",
            "linecolor": "white",
            "ticks": ""
           },
           "bgcolor": "#E5ECF6",
           "caxis": {
            "gridcolor": "white",
            "linecolor": "white",
            "ticks": ""
           }
          },
          "title": {
           "x": 0.05
          },
          "xaxis": {
           "automargin": true,
           "gridcolor": "white",
           "linecolor": "white",
           "ticks": "",
           "title": {
            "standoff": 15
           },
           "zerolinecolor": "white",
           "zerolinewidth": 2
          },
          "yaxis": {
           "automargin": true,
           "gridcolor": "white",
           "linecolor": "white",
           "ticks": "",
           "title": {
            "standoff": 15
           },
           "zerolinecolor": "white",
           "zerolinewidth": 2
          }
         }
        },
        "title": {
         "font": {
          "color": "#151516"
         },
         "text": "Venta Publica Grupal en 2022-C03"
        },
        "xaxis": {
         "gridcolor": "#F6F6F6",
         "showgrid": true,
         "tickfont": {
          "color": "#666666"
         },
         "title": {
          "font": {
           "color": "#666666"
          },
          "text": "Campania"
         },
         "zerolinecolor": "#F6F6F6"
        },
        "yaxis": {
         "gridcolor": "#F6F6F6",
         "showgrid": true,
         "tickfont": {
          "color": "#666666"
         },
         "title": {
          "font": {
           "color": "#666666"
          },
          "text": "Venta Publica Grupal"
         },
         "zerolinecolor": "#F6F6F6"
        }
       }
      },
      "text/html": [
       "<div>                            <div id=\"82d3a403-e433-4ec4-8494-fddc81c8d5c4\" class=\"plotly-graph-div\" style=\"height:525px; width:100%;\"></div>            <script type=\"text/javascript\">                require([\"plotly\"], function(Plotly) {                    window.PLOTLYENV=window.PLOTLYENV || {};\n",
       "                    window.PLOTLYENV.BASE_URL='https://plot.ly';                                    if (document.getElementById(\"82d3a403-e433-4ec4-8494-fddc81c8d5c4\")) {                    Plotly.newPlot(                        \"82d3a403-e433-4ec4-8494-fddc81c8d5c4\",                        [{\"marker\":{\"color\":\"rgba(144, 238, 144, 0.6)\",\"line\":{\"color\":\"rgba(144, 238, 144, 1.0)\",\"width\":1}},\"name\":\"2022-C03\",\"orientation\":\"v\",\"text\":\"\",\"x\":[\"Ana Fabiola Huancas Ruiz\",\"Blanca Susana Severino Carre\\u00f1o De Berru\",\"ELENA ELIZABETH CHERO RUIZ\",\"Imelda Chamba Ni\\u00f1o\",\"Lesly Anali Valladolid Silva\",\"Luis Miguel Tupac Yupanqui Lazo\",\"Natali Karen Litano Silupu\",\"Rosa Concepcion Ruiz De Abad\",\"Rosario Elizabe Lazo Ramirez\",\"Yenit Marizela Panta Gonzales\",\"Yessica Lizbeth Panta Gonzales\"],\"y\":[\"\",17244.6,16020.8,13733.0,6799.1,18501.4,7062.9,17614.4,22493.9,22242.1,14690.9],\"type\":\"bar\"}],                        {\"legend\":{\"bgcolor\":\"#FFFFFF\",\"font\":{\"color\":\"#666666\"}},\"paper_bgcolor\":\"#FFFFFF\",\"plot_bgcolor\":\"#E5E5E5\",\"template\":{\"data\":{\"barpolar\":[{\"marker\":{\"line\":{\"color\":\"#E5ECF6\",\"width\":0.5},\"pattern\":{\"fillmode\":\"overlay\",\"size\":10,\"solidity\":0.2}},\"type\":\"barpolar\"}],\"bar\":[{\"error_x\":{\"color\":\"#2a3f5f\"},\"error_y\":{\"color\":\"#2a3f5f\"},\"marker\":{\"line\":{\"color\":\"#E5ECF6\",\"width\":0.5},\"pattern\":{\"fillmode\":\"overlay\",\"size\":10,\"solidity\":0.2}},\"type\":\"bar\"}],\"carpet\":[{\"aaxis\":{\"endlinecolor\":\"#2a3f5f\",\"gridcolor\":\"white\",\"linecolor\":\"white\",\"minorgridcolor\":\"white\",\"startlinecolor\":\"#2a3f5f\"},\"baxis\":{\"endlinecolor\":\"#2a3f5f\",\"gridcolor\":\"white\",\"linecolor\":\"white\",\"minorgridcolor\":\"white\",\"startlinecolor\":\"#2a3f5f\"},\"type\":\"carpet\"}],\"choropleth\":[{\"colorbar\":{\"outlinewidth\":0,\"ticks\":\"\"},\"type\":\"choropleth\"}],\"contourcarpet\":[{\"colorbar\":{\"outlinewidth\":0,\"ticks\":\"\"},\"type\":\"contourcarpet\"}],\"contour\":[{\"colorbar\":{\"outlinewidth\":0,\"ticks\":\"\"},\"colorscale\":[[0.0,\"#0d0887\"],[0.1111111111111111,\"#46039f\"],[0.2222222222222222,\"#7201a8\"],[0.3333333333333333,\"#9c179e\"],[0.4444444444444444,\"#bd3786\"],[0.5555555555555556,\"#d8576b\"],[0.6666666666666666,\"#ed7953\"],[0.7777777777777778,\"#fb9f3a\"],[0.8888888888888888,\"#fdca26\"],[1.0,\"#f0f921\"]],\"type\":\"contour\"}],\"heatmapgl\":[{\"colorbar\":{\"outlinewidth\":0,\"ticks\":\"\"},\"colorscale\":[[0.0,\"#0d0887\"],[0.1111111111111111,\"#46039f\"],[0.2222222222222222,\"#7201a8\"],[0.3333333333333333,\"#9c179e\"],[0.4444444444444444,\"#bd3786\"],[0.5555555555555556,\"#d8576b\"],[0.6666666666666666,\"#ed7953\"],[0.7777777777777778,\"#fb9f3a\"],[0.8888888888888888,\"#fdca26\"],[1.0,\"#f0f921\"]],\"type\":\"heatmapgl\"}],\"heatmap\":[{\"colorbar\":{\"outlinewidth\":0,\"ticks\":\"\"},\"colorscale\":[[0.0,\"#0d0887\"],[0.1111111111111111,\"#46039f\"],[0.2222222222222222,\"#7201a8\"],[0.3333333333333333,\"#9c179e\"],[0.4444444444444444,\"#bd3786\"],[0.5555555555555556,\"#d8576b\"],[0.6666666666666666,\"#ed7953\"],[0.7777777777777778,\"#fb9f3a\"],[0.8888888888888888,\"#fdca26\"],[1.0,\"#f0f921\"]],\"type\":\"heatmap\"}],\"histogram2dcontour\":[{\"colorbar\":{\"outlinewidth\":0,\"ticks\":\"\"},\"colorscale\":[[0.0,\"#0d0887\"],[0.1111111111111111,\"#46039f\"],[0.2222222222222222,\"#7201a8\"],[0.3333333333333333,\"#9c179e\"],[0.4444444444444444,\"#bd3786\"],[0.5555555555555556,\"#d8576b\"],[0.6666666666666666,\"#ed7953\"],[0.7777777777777778,\"#fb9f3a\"],[0.8888888888888888,\"#fdca26\"],[1.0,\"#f0f921\"]],\"type\":\"histogram2dcontour\"}],\"histogram2d\":[{\"colorbar\":{\"outlinewidth\":0,\"ticks\":\"\"},\"colorscale\":[[0.0,\"#0d0887\"],[0.1111111111111111,\"#46039f\"],[0.2222222222222222,\"#7201a8\"],[0.3333333333333333,\"#9c179e\"],[0.4444444444444444,\"#bd3786\"],[0.5555555555555556,\"#d8576b\"],[0.6666666666666666,\"#ed7953\"],[0.7777777777777778,\"#fb9f3a\"],[0.8888888888888888,\"#fdca26\"],[1.0,\"#f0f921\"]],\"type\":\"histogram2d\"}],\"histogram\":[{\"marker\":{\"pattern\":{\"fillmode\":\"overlay\",\"size\":10,\"solidity\":0.2}},\"type\":\"histogram\"}],\"mesh3d\":[{\"colorbar\":{\"outlinewidth\":0,\"ticks\":\"\"},\"type\":\"mesh3d\"}],\"parcoords\":[{\"line\":{\"colorbar\":{\"outlinewidth\":0,\"ticks\":\"\"}},\"type\":\"parcoords\"}],\"pie\":[{\"automargin\":true,\"type\":\"pie\"}],\"scatter3d\":[{\"line\":{\"colorbar\":{\"outlinewidth\":0,\"ticks\":\"\"}},\"marker\":{\"colorbar\":{\"outlinewidth\":0,\"ticks\":\"\"}},\"type\":\"scatter3d\"}],\"scattercarpet\":[{\"marker\":{\"colorbar\":{\"outlinewidth\":0,\"ticks\":\"\"}},\"type\":\"scattercarpet\"}],\"scattergeo\":[{\"marker\":{\"colorbar\":{\"outlinewidth\":0,\"ticks\":\"\"}},\"type\":\"scattergeo\"}],\"scattergl\":[{\"marker\":{\"colorbar\":{\"outlinewidth\":0,\"ticks\":\"\"}},\"type\":\"scattergl\"}],\"scattermapbox\":[{\"marker\":{\"colorbar\":{\"outlinewidth\":0,\"ticks\":\"\"}},\"type\":\"scattermapbox\"}],\"scatterpolargl\":[{\"marker\":{\"colorbar\":{\"outlinewidth\":0,\"ticks\":\"\"}},\"type\":\"scatterpolargl\"}],\"scatterpolar\":[{\"marker\":{\"colorbar\":{\"outlinewidth\":0,\"ticks\":\"\"}},\"type\":\"scatterpolar\"}],\"scatter\":[{\"fillpattern\":{\"fillmode\":\"overlay\",\"size\":10,\"solidity\":0.2},\"type\":\"scatter\"}],\"scatterternary\":[{\"marker\":{\"colorbar\":{\"outlinewidth\":0,\"ticks\":\"\"}},\"type\":\"scatterternary\"}],\"surface\":[{\"colorbar\":{\"outlinewidth\":0,\"ticks\":\"\"},\"colorscale\":[[0.0,\"#0d0887\"],[0.1111111111111111,\"#46039f\"],[0.2222222222222222,\"#7201a8\"],[0.3333333333333333,\"#9c179e\"],[0.4444444444444444,\"#bd3786\"],[0.5555555555555556,\"#d8576b\"],[0.6666666666666666,\"#ed7953\"],[0.7777777777777778,\"#fb9f3a\"],[0.8888888888888888,\"#fdca26\"],[1.0,\"#f0f921\"]],\"type\":\"surface\"}],\"table\":[{\"cells\":{\"fill\":{\"color\":\"#EBF0F8\"},\"line\":{\"color\":\"white\"}},\"header\":{\"fill\":{\"color\":\"#C8D4E3\"},\"line\":{\"color\":\"white\"}},\"type\":\"table\"}]},\"layout\":{\"annotationdefaults\":{\"arrowcolor\":\"#2a3f5f\",\"arrowhead\":0,\"arrowwidth\":1},\"autotypenumbers\":\"strict\",\"coloraxis\":{\"colorbar\":{\"outlinewidth\":0,\"ticks\":\"\"}},\"colorscale\":{\"diverging\":[[0,\"#8e0152\"],[0.1,\"#c51b7d\"],[0.2,\"#de77ae\"],[0.3,\"#f1b6da\"],[0.4,\"#fde0ef\"],[0.5,\"#f7f7f7\"],[0.6,\"#e6f5d0\"],[0.7,\"#b8e186\"],[0.8,\"#7fbc41\"],[0.9,\"#4d9221\"],[1,\"#276419\"]],\"sequential\":[[0.0,\"#0d0887\"],[0.1111111111111111,\"#46039f\"],[0.2222222222222222,\"#7201a8\"],[0.3333333333333333,\"#9c179e\"],[0.4444444444444444,\"#bd3786\"],[0.5555555555555556,\"#d8576b\"],[0.6666666666666666,\"#ed7953\"],[0.7777777777777778,\"#fb9f3a\"],[0.8888888888888888,\"#fdca26\"],[1.0,\"#f0f921\"]],\"sequentialminus\":[[0.0,\"#0d0887\"],[0.1111111111111111,\"#46039f\"],[0.2222222222222222,\"#7201a8\"],[0.3333333333333333,\"#9c179e\"],[0.4444444444444444,\"#bd3786\"],[0.5555555555555556,\"#d8576b\"],[0.6666666666666666,\"#ed7953\"],[0.7777777777777778,\"#fb9f3a\"],[0.8888888888888888,\"#fdca26\"],[1.0,\"#f0f921\"]]},\"colorway\":[\"#636efa\",\"#EF553B\",\"#00cc96\",\"#ab63fa\",\"#FFA15A\",\"#19d3f3\",\"#FF6692\",\"#B6E880\",\"#FF97FF\",\"#FECB52\"],\"font\":{\"color\":\"#2a3f5f\"},\"geo\":{\"bgcolor\":\"white\",\"lakecolor\":\"white\",\"landcolor\":\"#E5ECF6\",\"showlakes\":true,\"showland\":true,\"subunitcolor\":\"white\"},\"hoverlabel\":{\"align\":\"left\"},\"hovermode\":\"closest\",\"mapbox\":{\"style\":\"light\"},\"paper_bgcolor\":\"white\",\"plot_bgcolor\":\"#E5ECF6\",\"polar\":{\"angularaxis\":{\"gridcolor\":\"white\",\"linecolor\":\"white\",\"ticks\":\"\"},\"bgcolor\":\"#E5ECF6\",\"radialaxis\":{\"gridcolor\":\"white\",\"linecolor\":\"white\",\"ticks\":\"\"}},\"scene\":{\"xaxis\":{\"backgroundcolor\":\"#E5ECF6\",\"gridcolor\":\"white\",\"gridwidth\":2,\"linecolor\":\"white\",\"showbackground\":true,\"ticks\":\"\",\"zerolinecolor\":\"white\"},\"yaxis\":{\"backgroundcolor\":\"#E5ECF6\",\"gridcolor\":\"white\",\"gridwidth\":2,\"linecolor\":\"white\",\"showbackground\":true,\"ticks\":\"\",\"zerolinecolor\":\"white\"},\"zaxis\":{\"backgroundcolor\":\"#E5ECF6\",\"gridcolor\":\"white\",\"gridwidth\":2,\"linecolor\":\"white\",\"showbackground\":true,\"ticks\":\"\",\"zerolinecolor\":\"white\"}},\"shapedefaults\":{\"line\":{\"color\":\"#2a3f5f\"}},\"ternary\":{\"aaxis\":{\"gridcolor\":\"white\",\"linecolor\":\"white\",\"ticks\":\"\"},\"baxis\":{\"gridcolor\":\"white\",\"linecolor\":\"white\",\"ticks\":\"\"},\"bgcolor\":\"#E5ECF6\",\"caxis\":{\"gridcolor\":\"white\",\"linecolor\":\"white\",\"ticks\":\"\"}},\"title\":{\"x\":0.05},\"xaxis\":{\"automargin\":true,\"gridcolor\":\"white\",\"linecolor\":\"white\",\"ticks\":\"\",\"title\":{\"standoff\":15},\"zerolinecolor\":\"white\",\"zerolinewidth\":2},\"yaxis\":{\"automargin\":true,\"gridcolor\":\"white\",\"linecolor\":\"white\",\"ticks\":\"\",\"title\":{\"standoff\":15},\"zerolinecolor\":\"white\",\"zerolinewidth\":2}}},\"title\":{\"font\":{\"color\":\"#151516\"},\"text\":\"Venta Publica Grupal en 2022-C03\"},\"xaxis\":{\"gridcolor\":\"#F6F6F6\",\"showgrid\":true,\"tickfont\":{\"color\":\"#666666\"},\"title\":{\"font\":{\"color\":\"#666666\"},\"text\":\"Campania\"},\"zerolinecolor\":\"#F6F6F6\"},\"yaxis\":{\"gridcolor\":\"#F6F6F6\",\"showgrid\":true,\"tickfont\":{\"color\":\"#666666\"},\"title\":{\"font\":{\"color\":\"#666666\"},\"text\":\"Venta Publica Grupal\"},\"zerolinecolor\":\"#F6F6F6\"}},                        {\"showLink\": true, \"linkText\": \"Export to plot.ly\", \"plotlyServerURL\": \"https://plot.ly\", \"responsive\": true}                    ).then(function(){\n",
       "                            \n",
       "var gd = document.getElementById('82d3a403-e433-4ec4-8494-fddc81c8d5c4');\n",
       "var x = new MutationObserver(function (mutations, observer) {{\n",
       "        var display = window.getComputedStyle(gd).display;\n",
       "        if (!display || display === 'none') {{\n",
       "            console.log([gd, 'removed!']);\n",
       "            Plotly.purge(gd);\n",
       "            observer.disconnect();\n",
       "        }}\n",
       "}});\n",
       "\n",
       "// Listen for the removal of the full notebook cells\n",
       "var notebookContainer = gd.closest('#notebook-container');\n",
       "if (notebookContainer) {{\n",
       "    x.observe(notebookContainer, {childList: true});\n",
       "}}\n",
       "\n",
       "// Listen for the clearing of the current output cell\n",
       "var outputEl = gd.closest('.output');\n",
       "if (outputEl) {{\n",
       "    x.observe(outputEl, {childList: true});\n",
       "}}\n",
       "\n",
       "                        })                };                });            </script>        </div>"
      ]
     },
     "metadata": {},
     "output_type": "display_data"
    }
   ],
   "source": [
    "df_desempeno_2022_C03 = df_desempeno[df_desempeno.index.isin(['2022-C03'])]\n",
    "df_desempeno_2022_C03 = df_desempeno_2022_C03.T\n",
    "df_desempeno_2022_C03.iplot(kind='bar', color='lightgreen',\n",
    "                           xTitle='Campania', yTitle='Venta Publica Grupal',\n",
    "                           title='Venta Publica Grupal en 2022-C03')"
   ]
  },
  {
   "cell_type": "code",
   "execution_count": 21,
   "id": "d033435e",
   "metadata": {},
   "outputs": [
    {
     "data": {
      "application/vnd.plotly.v1+json": {
       "config": {
        "linkText": "Export to plot.ly",
        "plotlyServerURL": "https://plot.ly",
        "showLink": true
       },
       "data": [
        {
         "marker": {
          "color": "rgba(226, 74, 51, 0.6)",
          "line": {
           "color": "rgba(226, 74, 51, 1.0)",
           "width": 1
          }
         },
         "name": "Ana Fabiola Huancas Ruiz",
         "orientation": "v",
         "text": "",
         "type": "bar",
         "x": [
          "2022-C01",
          "2022-C02",
          "2022-C03"
         ],
         "y": [
          "",
          "",
          ""
         ]
        },
        {
         "marker": {
          "color": "rgba(62, 111, 176, 0.6)",
          "line": {
           "color": "rgba(62, 111, 176, 1.0)",
           "width": 1
          }
         },
         "name": "Blanca Susana Severino Carreño De Berru",
         "orientation": "v",
         "text": "",
         "type": "bar",
         "x": [
          "2022-C01",
          "2022-C02",
          "2022-C03"
         ],
         "y": [
          17232.8,
          18590.2,
          17244.6
         ]
        },
        {
         "marker": {
          "color": "rgba(132, 118, 202, 0.6)",
          "line": {
           "color": "rgba(132, 118, 202, 1.0)",
           "width": 1
          }
         },
         "name": "ELENA ELIZABETH CHERO RUIZ",
         "orientation": "v",
         "text": "",
         "type": "bar",
         "x": [
          "2022-C01",
          "2022-C02",
          "2022-C03"
         ],
         "y": [
          16263.4,
          15280.2,
          16020.8
         ]
        },
        {
         "marker": {
          "color": "rgba(101, 101, 101, 0.6)",
          "line": {
           "color": "rgba(101, 101, 101, 1.0)",
           "width": 1
          }
         },
         "name": "Imelda Chamba Niño",
         "orientation": "v",
         "text": "",
         "type": "bar",
         "x": [
          "2022-C01",
          "2022-C02",
          "2022-C03"
         ],
         "y": [
          15018.3,
          12637.9,
          13733
         ]
        },
        {
         "marker": {
          "color": "rgba(251, 193, 94, 0.6)",
          "line": {
           "color": "rgba(251, 193, 94, 1.0)",
           "width": 1
          }
         },
         "name": "Lesly Anali Valladolid Silva",
         "orientation": "v",
         "text": "",
         "type": "bar",
         "x": [
          "2022-C01",
          "2022-C02",
          "2022-C03"
         ],
         "y": [
          9260.5,
          8205.2,
          6799.1
         ]
        },
        {
         "marker": {
          "color": "rgba(142, 186, 66, 0.6)",
          "line": {
           "color": "rgba(142, 186, 66, 1.0)",
           "width": 1
          }
         },
         "name": "Luis Miguel Tupac Yupanqui Lazo",
         "orientation": "v",
         "text": "",
         "type": "bar",
         "x": [
          "2022-C01",
          "2022-C02",
          "2022-C03"
         ],
         "y": [
          15000.3,
          15373,
          18501.4
         ]
        },
        {
         "marker": {
          "color": "rgba(255, 181, 184, 0.6)",
          "line": {
           "color": "rgba(255, 181, 184, 1.0)",
           "width": 1
          }
         },
         "name": "Natali Karen Litano Silupu",
         "orientation": "v",
         "text": "",
         "type": "bar",
         "x": [
          "2022-C01",
          "2022-C02",
          "2022-C03"
         ],
         "y": [
          6891,
          8428.5,
          7062.9
         ]
        },
        {
         "marker": {
          "color": "rgba(255, 181, 184, 0.6)",
          "line": {
           "color": "rgba(255, 181, 184, 0.8999999999999999)",
           "width": 1
          }
         },
         "name": "Rosa Concepcion Ruiz De Abad",
         "orientation": "v",
         "text": "",
         "type": "bar",
         "x": [
          "2022-C01",
          "2022-C02",
          "2022-C03"
         ],
         "y": [
          15071.1,
          16814.7,
          17614.4
         ]
        },
        {
         "marker": {
          "color": "rgba(226, 74, 51, 0.6)",
          "line": {
           "color": "rgba(226, 74, 51, 0.8999999999999999)",
           "width": 1
          }
         },
         "name": "Rosario Elizabe Lazo Ramirez",
         "orientation": "v",
         "text": "",
         "type": "bar",
         "x": [
          "2022-C01",
          "2022-C02",
          "2022-C03"
         ],
         "y": [
          17665,
          20282.3,
          22493.9
         ]
        },
        {
         "marker": {
          "color": "rgba(62, 111, 176, 0.6)",
          "line": {
           "color": "rgba(62, 111, 176, 0.8999999999999999)",
           "width": 1
          }
         },
         "name": "Yenit Marizela Panta Gonzales",
         "orientation": "v",
         "text": "",
         "type": "bar",
         "x": [
          "2022-C01",
          "2022-C02",
          "2022-C03"
         ],
         "y": [
          19063.6,
          19998.3,
          22242.1
         ]
        },
        {
         "marker": {
          "color": "rgba(132, 118, 202, 0.6)",
          "line": {
           "color": "rgba(132, 118, 202, 0.8999999999999999)",
           "width": 1
          }
         },
         "name": "Yessica Lizbeth Panta Gonzales",
         "orientation": "v",
         "text": "",
         "type": "bar",
         "x": [
          "2022-C01",
          "2022-C02",
          "2022-C03"
         ],
         "y": [
          12937.8,
          17113,
          14690.9
         ]
        }
       ],
       "layout": {
        "legend": {
         "bgcolor": "#FFFFFF",
         "font": {
          "color": "#666666"
         }
        },
        "paper_bgcolor": "#FFFFFF",
        "plot_bgcolor": "#E5E5E5",
        "template": {
         "data": {
          "bar": [
           {
            "error_x": {
             "color": "#2a3f5f"
            },
            "error_y": {
             "color": "#2a3f5f"
            },
            "marker": {
             "line": {
              "color": "#E5ECF6",
              "width": 0.5
             },
             "pattern": {
              "fillmode": "overlay",
              "size": 10,
              "solidity": 0.2
             }
            },
            "type": "bar"
           }
          ],
          "barpolar": [
           {
            "marker": {
             "line": {
              "color": "#E5ECF6",
              "width": 0.5
             },
             "pattern": {
              "fillmode": "overlay",
              "size": 10,
              "solidity": 0.2
             }
            },
            "type": "barpolar"
           }
          ],
          "carpet": [
           {
            "aaxis": {
             "endlinecolor": "#2a3f5f",
             "gridcolor": "white",
             "linecolor": "white",
             "minorgridcolor": "white",
             "startlinecolor": "#2a3f5f"
            },
            "baxis": {
             "endlinecolor": "#2a3f5f",
             "gridcolor": "white",
             "linecolor": "white",
             "minorgridcolor": "white",
             "startlinecolor": "#2a3f5f"
            },
            "type": "carpet"
           }
          ],
          "choropleth": [
           {
            "colorbar": {
             "outlinewidth": 0,
             "ticks": ""
            },
            "type": "choropleth"
           }
          ],
          "contour": [
           {
            "colorbar": {
             "outlinewidth": 0,
             "ticks": ""
            },
            "colorscale": [
             [
              0,
              "#0d0887"
             ],
             [
              0.1111111111111111,
              "#46039f"
             ],
             [
              0.2222222222222222,
              "#7201a8"
             ],
             [
              0.3333333333333333,
              "#9c179e"
             ],
             [
              0.4444444444444444,
              "#bd3786"
             ],
             [
              0.5555555555555556,
              "#d8576b"
             ],
             [
              0.6666666666666666,
              "#ed7953"
             ],
             [
              0.7777777777777778,
              "#fb9f3a"
             ],
             [
              0.8888888888888888,
              "#fdca26"
             ],
             [
              1,
              "#f0f921"
             ]
            ],
            "type": "contour"
           }
          ],
          "contourcarpet": [
           {
            "colorbar": {
             "outlinewidth": 0,
             "ticks": ""
            },
            "type": "contourcarpet"
           }
          ],
          "heatmap": [
           {
            "colorbar": {
             "outlinewidth": 0,
             "ticks": ""
            },
            "colorscale": [
             [
              0,
              "#0d0887"
             ],
             [
              0.1111111111111111,
              "#46039f"
             ],
             [
              0.2222222222222222,
              "#7201a8"
             ],
             [
              0.3333333333333333,
              "#9c179e"
             ],
             [
              0.4444444444444444,
              "#bd3786"
             ],
             [
              0.5555555555555556,
              "#d8576b"
             ],
             [
              0.6666666666666666,
              "#ed7953"
             ],
             [
              0.7777777777777778,
              "#fb9f3a"
             ],
             [
              0.8888888888888888,
              "#fdca26"
             ],
             [
              1,
              "#f0f921"
             ]
            ],
            "type": "heatmap"
           }
          ],
          "heatmapgl": [
           {
            "colorbar": {
             "outlinewidth": 0,
             "ticks": ""
            },
            "colorscale": [
             [
              0,
              "#0d0887"
             ],
             [
              0.1111111111111111,
              "#46039f"
             ],
             [
              0.2222222222222222,
              "#7201a8"
             ],
             [
              0.3333333333333333,
              "#9c179e"
             ],
             [
              0.4444444444444444,
              "#bd3786"
             ],
             [
              0.5555555555555556,
              "#d8576b"
             ],
             [
              0.6666666666666666,
              "#ed7953"
             ],
             [
              0.7777777777777778,
              "#fb9f3a"
             ],
             [
              0.8888888888888888,
              "#fdca26"
             ],
             [
              1,
              "#f0f921"
             ]
            ],
            "type": "heatmapgl"
           }
          ],
          "histogram": [
           {
            "marker": {
             "pattern": {
              "fillmode": "overlay",
              "size": 10,
              "solidity": 0.2
             }
            },
            "type": "histogram"
           }
          ],
          "histogram2d": [
           {
            "colorbar": {
             "outlinewidth": 0,
             "ticks": ""
            },
            "colorscale": [
             [
              0,
              "#0d0887"
             ],
             [
              0.1111111111111111,
              "#46039f"
             ],
             [
              0.2222222222222222,
              "#7201a8"
             ],
             [
              0.3333333333333333,
              "#9c179e"
             ],
             [
              0.4444444444444444,
              "#bd3786"
             ],
             [
              0.5555555555555556,
              "#d8576b"
             ],
             [
              0.6666666666666666,
              "#ed7953"
             ],
             [
              0.7777777777777778,
              "#fb9f3a"
             ],
             [
              0.8888888888888888,
              "#fdca26"
             ],
             [
              1,
              "#f0f921"
             ]
            ],
            "type": "histogram2d"
           }
          ],
          "histogram2dcontour": [
           {
            "colorbar": {
             "outlinewidth": 0,
             "ticks": ""
            },
            "colorscale": [
             [
              0,
              "#0d0887"
             ],
             [
              0.1111111111111111,
              "#46039f"
             ],
             [
              0.2222222222222222,
              "#7201a8"
             ],
             [
              0.3333333333333333,
              "#9c179e"
             ],
             [
              0.4444444444444444,
              "#bd3786"
             ],
             [
              0.5555555555555556,
              "#d8576b"
             ],
             [
              0.6666666666666666,
              "#ed7953"
             ],
             [
              0.7777777777777778,
              "#fb9f3a"
             ],
             [
              0.8888888888888888,
              "#fdca26"
             ],
             [
              1,
              "#f0f921"
             ]
            ],
            "type": "histogram2dcontour"
           }
          ],
          "mesh3d": [
           {
            "colorbar": {
             "outlinewidth": 0,
             "ticks": ""
            },
            "type": "mesh3d"
           }
          ],
          "parcoords": [
           {
            "line": {
             "colorbar": {
              "outlinewidth": 0,
              "ticks": ""
             }
            },
            "type": "parcoords"
           }
          ],
          "pie": [
           {
            "automargin": true,
            "type": "pie"
           }
          ],
          "scatter": [
           {
            "fillpattern": {
             "fillmode": "overlay",
             "size": 10,
             "solidity": 0.2
            },
            "type": "scatter"
           }
          ],
          "scatter3d": [
           {
            "line": {
             "colorbar": {
              "outlinewidth": 0,
              "ticks": ""
             }
            },
            "marker": {
             "colorbar": {
              "outlinewidth": 0,
              "ticks": ""
             }
            },
            "type": "scatter3d"
           }
          ],
          "scattercarpet": [
           {
            "marker": {
             "colorbar": {
              "outlinewidth": 0,
              "ticks": ""
             }
            },
            "type": "scattercarpet"
           }
          ],
          "scattergeo": [
           {
            "marker": {
             "colorbar": {
              "outlinewidth": 0,
              "ticks": ""
             }
            },
            "type": "scattergeo"
           }
          ],
          "scattergl": [
           {
            "marker": {
             "colorbar": {
              "outlinewidth": 0,
              "ticks": ""
             }
            },
            "type": "scattergl"
           }
          ],
          "scattermapbox": [
           {
            "marker": {
             "colorbar": {
              "outlinewidth": 0,
              "ticks": ""
             }
            },
            "type": "scattermapbox"
           }
          ],
          "scatterpolar": [
           {
            "marker": {
             "colorbar": {
              "outlinewidth": 0,
              "ticks": ""
             }
            },
            "type": "scatterpolar"
           }
          ],
          "scatterpolargl": [
           {
            "marker": {
             "colorbar": {
              "outlinewidth": 0,
              "ticks": ""
             }
            },
            "type": "scatterpolargl"
           }
          ],
          "scatterternary": [
           {
            "marker": {
             "colorbar": {
              "outlinewidth": 0,
              "ticks": ""
             }
            },
            "type": "scatterternary"
           }
          ],
          "surface": [
           {
            "colorbar": {
             "outlinewidth": 0,
             "ticks": ""
            },
            "colorscale": [
             [
              0,
              "#0d0887"
             ],
             [
              0.1111111111111111,
              "#46039f"
             ],
             [
              0.2222222222222222,
              "#7201a8"
             ],
             [
              0.3333333333333333,
              "#9c179e"
             ],
             [
              0.4444444444444444,
              "#bd3786"
             ],
             [
              0.5555555555555556,
              "#d8576b"
             ],
             [
              0.6666666666666666,
              "#ed7953"
             ],
             [
              0.7777777777777778,
              "#fb9f3a"
             ],
             [
              0.8888888888888888,
              "#fdca26"
             ],
             [
              1,
              "#f0f921"
             ]
            ],
            "type": "surface"
           }
          ],
          "table": [
           {
            "cells": {
             "fill": {
              "color": "#EBF0F8"
             },
             "line": {
              "color": "white"
             }
            },
            "header": {
             "fill": {
              "color": "#C8D4E3"
             },
             "line": {
              "color": "white"
             }
            },
            "type": "table"
           }
          ]
         },
         "layout": {
          "annotationdefaults": {
           "arrowcolor": "#2a3f5f",
           "arrowhead": 0,
           "arrowwidth": 1
          },
          "autotypenumbers": "strict",
          "coloraxis": {
           "colorbar": {
            "outlinewidth": 0,
            "ticks": ""
           }
          },
          "colorscale": {
           "diverging": [
            [
             0,
             "#8e0152"
            ],
            [
             0.1,
             "#c51b7d"
            ],
            [
             0.2,
             "#de77ae"
            ],
            [
             0.3,
             "#f1b6da"
            ],
            [
             0.4,
             "#fde0ef"
            ],
            [
             0.5,
             "#f7f7f7"
            ],
            [
             0.6,
             "#e6f5d0"
            ],
            [
             0.7,
             "#b8e186"
            ],
            [
             0.8,
             "#7fbc41"
            ],
            [
             0.9,
             "#4d9221"
            ],
            [
             1,
             "#276419"
            ]
           ],
           "sequential": [
            [
             0,
             "#0d0887"
            ],
            [
             0.1111111111111111,
             "#46039f"
            ],
            [
             0.2222222222222222,
             "#7201a8"
            ],
            [
             0.3333333333333333,
             "#9c179e"
            ],
            [
             0.4444444444444444,
             "#bd3786"
            ],
            [
             0.5555555555555556,
             "#d8576b"
            ],
            [
             0.6666666666666666,
             "#ed7953"
            ],
            [
             0.7777777777777778,
             "#fb9f3a"
            ],
            [
             0.8888888888888888,
             "#fdca26"
            ],
            [
             1,
             "#f0f921"
            ]
           ],
           "sequentialminus": [
            [
             0,
             "#0d0887"
            ],
            [
             0.1111111111111111,
             "#46039f"
            ],
            [
             0.2222222222222222,
             "#7201a8"
            ],
            [
             0.3333333333333333,
             "#9c179e"
            ],
            [
             0.4444444444444444,
             "#bd3786"
            ],
            [
             0.5555555555555556,
             "#d8576b"
            ],
            [
             0.6666666666666666,
             "#ed7953"
            ],
            [
             0.7777777777777778,
             "#fb9f3a"
            ],
            [
             0.8888888888888888,
             "#fdca26"
            ],
            [
             1,
             "#f0f921"
            ]
           ]
          },
          "colorway": [
           "#636efa",
           "#EF553B",
           "#00cc96",
           "#ab63fa",
           "#FFA15A",
           "#19d3f3",
           "#FF6692",
           "#B6E880",
           "#FF97FF",
           "#FECB52"
          ],
          "font": {
           "color": "#2a3f5f"
          },
          "geo": {
           "bgcolor": "white",
           "lakecolor": "white",
           "landcolor": "#E5ECF6",
           "showlakes": true,
           "showland": true,
           "subunitcolor": "white"
          },
          "hoverlabel": {
           "align": "left"
          },
          "hovermode": "closest",
          "mapbox": {
           "style": "light"
          },
          "paper_bgcolor": "white",
          "plot_bgcolor": "#E5ECF6",
          "polar": {
           "angularaxis": {
            "gridcolor": "white",
            "linecolor": "white",
            "ticks": ""
           },
           "bgcolor": "#E5ECF6",
           "radialaxis": {
            "gridcolor": "white",
            "linecolor": "white",
            "ticks": ""
           }
          },
          "scene": {
           "xaxis": {
            "backgroundcolor": "#E5ECF6",
            "gridcolor": "white",
            "gridwidth": 2,
            "linecolor": "white",
            "showbackground": true,
            "ticks": "",
            "zerolinecolor": "white"
           },
           "yaxis": {
            "backgroundcolor": "#E5ECF6",
            "gridcolor": "white",
            "gridwidth": 2,
            "linecolor": "white",
            "showbackground": true,
            "ticks": "",
            "zerolinecolor": "white"
           },
           "zaxis": {
            "backgroundcolor": "#E5ECF6",
            "gridcolor": "white",
            "gridwidth": 2,
            "linecolor": "white",
            "showbackground": true,
            "ticks": "",
            "zerolinecolor": "white"
           }
          },
          "shapedefaults": {
           "line": {
            "color": "#2a3f5f"
           }
          },
          "ternary": {
           "aaxis": {
            "gridcolor": "white",
            "linecolor": "white",
            "ticks": ""
           },
           "baxis": {
            "gridcolor": "white",
            "linecolor": "white",
            "ticks": ""
           },
           "bgcolor": "#E5ECF6",
           "caxis": {
            "gridcolor": "white",
            "linecolor": "white",
            "ticks": ""
           }
          },
          "title": {
           "x": 0.05
          },
          "xaxis": {
           "automargin": true,
           "gridcolor": "white",
           "linecolor": "white",
           "ticks": "",
           "title": {
            "standoff": 15
           },
           "zerolinecolor": "white",
           "zerolinewidth": 2
          },
          "yaxis": {
           "automargin": true,
           "gridcolor": "white",
           "linecolor": "white",
           "ticks": "",
           "title": {
            "standoff": 15
           },
           "zerolinecolor": "white",
           "zerolinewidth": 2
          }
         }
        },
        "title": {
         "font": {
          "color": "#151516"
         },
         "text": "Venta Publica Grupal en 2022"
        },
        "xaxis": {
         "gridcolor": "#F6F6F6",
         "showgrid": true,
         "tickfont": {
          "color": "#666666"
         },
         "title": {
          "font": {
           "color": "#666666"
          },
          "text": "Campania"
         },
         "zerolinecolor": "#F6F6F6"
        },
        "yaxis": {
         "gridcolor": "#F6F6F6",
         "showgrid": true,
         "tickfont": {
          "color": "#666666"
         },
         "title": {
          "font": {
           "color": "#666666"
          },
          "text": "Venta Publica Grupal"
         },
         "zerolinecolor": "#F6F6F6"
        }
       }
      },
      "text/html": [
       "<div>                            <div id=\"505f52f5-1fec-41c7-9e7f-59d72bc8ed80\" class=\"plotly-graph-div\" style=\"height:525px; width:100%;\"></div>            <script type=\"text/javascript\">                require([\"plotly\"], function(Plotly) {                    window.PLOTLYENV=window.PLOTLYENV || {};\n",
       "                    window.PLOTLYENV.BASE_URL='https://plot.ly';                                    if (document.getElementById(\"505f52f5-1fec-41c7-9e7f-59d72bc8ed80\")) {                    Plotly.newPlot(                        \"505f52f5-1fec-41c7-9e7f-59d72bc8ed80\",                        [{\"marker\":{\"color\":\"rgba(226, 74, 51, 0.6)\",\"line\":{\"color\":\"rgba(226, 74, 51, 1.0)\",\"width\":1}},\"name\":\"Ana Fabiola Huancas Ruiz\",\"orientation\":\"v\",\"text\":\"\",\"x\":[\"2022-C01\",\"2022-C02\",\"2022-C03\"],\"y\":[\"\",\"\",\"\"],\"type\":\"bar\"},{\"marker\":{\"color\":\"rgba(62, 111, 176, 0.6)\",\"line\":{\"color\":\"rgba(62, 111, 176, 1.0)\",\"width\":1}},\"name\":\"Blanca Susana Severino Carre\\u00f1o De Berru\",\"orientation\":\"v\",\"text\":\"\",\"x\":[\"2022-C01\",\"2022-C02\",\"2022-C03\"],\"y\":[17232.8,18590.2,17244.6],\"type\":\"bar\"},{\"marker\":{\"color\":\"rgba(132, 118, 202, 0.6)\",\"line\":{\"color\":\"rgba(132, 118, 202, 1.0)\",\"width\":1}},\"name\":\"ELENA ELIZABETH CHERO RUIZ\",\"orientation\":\"v\",\"text\":\"\",\"x\":[\"2022-C01\",\"2022-C02\",\"2022-C03\"],\"y\":[16263.4,15280.2,16020.8],\"type\":\"bar\"},{\"marker\":{\"color\":\"rgba(101, 101, 101, 0.6)\",\"line\":{\"color\":\"rgba(101, 101, 101, 1.0)\",\"width\":1}},\"name\":\"Imelda Chamba Ni\\u00f1o\",\"orientation\":\"v\",\"text\":\"\",\"x\":[\"2022-C01\",\"2022-C02\",\"2022-C03\"],\"y\":[15018.3,12637.9,13733.0],\"type\":\"bar\"},{\"marker\":{\"color\":\"rgba(251, 193, 94, 0.6)\",\"line\":{\"color\":\"rgba(251, 193, 94, 1.0)\",\"width\":1}},\"name\":\"Lesly Anali Valladolid Silva\",\"orientation\":\"v\",\"text\":\"\",\"x\":[\"2022-C01\",\"2022-C02\",\"2022-C03\"],\"y\":[9260.5,8205.2,6799.1],\"type\":\"bar\"},{\"marker\":{\"color\":\"rgba(142, 186, 66, 0.6)\",\"line\":{\"color\":\"rgba(142, 186, 66, 1.0)\",\"width\":1}},\"name\":\"Luis Miguel Tupac Yupanqui Lazo\",\"orientation\":\"v\",\"text\":\"\",\"x\":[\"2022-C01\",\"2022-C02\",\"2022-C03\"],\"y\":[15000.3,15373.0,18501.4],\"type\":\"bar\"},{\"marker\":{\"color\":\"rgba(255, 181, 184, 0.6)\",\"line\":{\"color\":\"rgba(255, 181, 184, 1.0)\",\"width\":1}},\"name\":\"Natali Karen Litano Silupu\",\"orientation\":\"v\",\"text\":\"\",\"x\":[\"2022-C01\",\"2022-C02\",\"2022-C03\"],\"y\":[6891.0,8428.5,7062.9],\"type\":\"bar\"},{\"marker\":{\"color\":\"rgba(255, 181, 184, 0.6)\",\"line\":{\"color\":\"rgba(255, 181, 184, 0.8999999999999999)\",\"width\":1}},\"name\":\"Rosa Concepcion Ruiz De Abad\",\"orientation\":\"v\",\"text\":\"\",\"x\":[\"2022-C01\",\"2022-C02\",\"2022-C03\"],\"y\":[15071.1,16814.7,17614.4],\"type\":\"bar\"},{\"marker\":{\"color\":\"rgba(226, 74, 51, 0.6)\",\"line\":{\"color\":\"rgba(226, 74, 51, 0.8999999999999999)\",\"width\":1}},\"name\":\"Rosario Elizabe Lazo Ramirez\",\"orientation\":\"v\",\"text\":\"\",\"x\":[\"2022-C01\",\"2022-C02\",\"2022-C03\"],\"y\":[17665.0,20282.3,22493.9],\"type\":\"bar\"},{\"marker\":{\"color\":\"rgba(62, 111, 176, 0.6)\",\"line\":{\"color\":\"rgba(62, 111, 176, 0.8999999999999999)\",\"width\":1}},\"name\":\"Yenit Marizela Panta Gonzales\",\"orientation\":\"v\",\"text\":\"\",\"x\":[\"2022-C01\",\"2022-C02\",\"2022-C03\"],\"y\":[19063.6,19998.3,22242.1],\"type\":\"bar\"},{\"marker\":{\"color\":\"rgba(132, 118, 202, 0.6)\",\"line\":{\"color\":\"rgba(132, 118, 202, 0.8999999999999999)\",\"width\":1}},\"name\":\"Yessica Lizbeth Panta Gonzales\",\"orientation\":\"v\",\"text\":\"\",\"x\":[\"2022-C01\",\"2022-C02\",\"2022-C03\"],\"y\":[12937.8,17113.0,14690.9],\"type\":\"bar\"}],                        {\"legend\":{\"bgcolor\":\"#FFFFFF\",\"font\":{\"color\":\"#666666\"}},\"paper_bgcolor\":\"#FFFFFF\",\"plot_bgcolor\":\"#E5E5E5\",\"template\":{\"data\":{\"barpolar\":[{\"marker\":{\"line\":{\"color\":\"#E5ECF6\",\"width\":0.5},\"pattern\":{\"fillmode\":\"overlay\",\"size\":10,\"solidity\":0.2}},\"type\":\"barpolar\"}],\"bar\":[{\"error_x\":{\"color\":\"#2a3f5f\"},\"error_y\":{\"color\":\"#2a3f5f\"},\"marker\":{\"line\":{\"color\":\"#E5ECF6\",\"width\":0.5},\"pattern\":{\"fillmode\":\"overlay\",\"size\":10,\"solidity\":0.2}},\"type\":\"bar\"}],\"carpet\":[{\"aaxis\":{\"endlinecolor\":\"#2a3f5f\",\"gridcolor\":\"white\",\"linecolor\":\"white\",\"minorgridcolor\":\"white\",\"startlinecolor\":\"#2a3f5f\"},\"baxis\":{\"endlinecolor\":\"#2a3f5f\",\"gridcolor\":\"white\",\"linecolor\":\"white\",\"minorgridcolor\":\"white\",\"startlinecolor\":\"#2a3f5f\"},\"type\":\"carpet\"}],\"choropleth\":[{\"colorbar\":{\"outlinewidth\":0,\"ticks\":\"\"},\"type\":\"choropleth\"}],\"contourcarpet\":[{\"colorbar\":{\"outlinewidth\":0,\"ticks\":\"\"},\"type\":\"contourcarpet\"}],\"contour\":[{\"colorbar\":{\"outlinewidth\":0,\"ticks\":\"\"},\"colorscale\":[[0.0,\"#0d0887\"],[0.1111111111111111,\"#46039f\"],[0.2222222222222222,\"#7201a8\"],[0.3333333333333333,\"#9c179e\"],[0.4444444444444444,\"#bd3786\"],[0.5555555555555556,\"#d8576b\"],[0.6666666666666666,\"#ed7953\"],[0.7777777777777778,\"#fb9f3a\"],[0.8888888888888888,\"#fdca26\"],[1.0,\"#f0f921\"]],\"type\":\"contour\"}],\"heatmapgl\":[{\"colorbar\":{\"outlinewidth\":0,\"ticks\":\"\"},\"colorscale\":[[0.0,\"#0d0887\"],[0.1111111111111111,\"#46039f\"],[0.2222222222222222,\"#7201a8\"],[0.3333333333333333,\"#9c179e\"],[0.4444444444444444,\"#bd3786\"],[0.5555555555555556,\"#d8576b\"],[0.6666666666666666,\"#ed7953\"],[0.7777777777777778,\"#fb9f3a\"],[0.8888888888888888,\"#fdca26\"],[1.0,\"#f0f921\"]],\"type\":\"heatmapgl\"}],\"heatmap\":[{\"colorbar\":{\"outlinewidth\":0,\"ticks\":\"\"},\"colorscale\":[[0.0,\"#0d0887\"],[0.1111111111111111,\"#46039f\"],[0.2222222222222222,\"#7201a8\"],[0.3333333333333333,\"#9c179e\"],[0.4444444444444444,\"#bd3786\"],[0.5555555555555556,\"#d8576b\"],[0.6666666666666666,\"#ed7953\"],[0.7777777777777778,\"#fb9f3a\"],[0.8888888888888888,\"#fdca26\"],[1.0,\"#f0f921\"]],\"type\":\"heatmap\"}],\"histogram2dcontour\":[{\"colorbar\":{\"outlinewidth\":0,\"ticks\":\"\"},\"colorscale\":[[0.0,\"#0d0887\"],[0.1111111111111111,\"#46039f\"],[0.2222222222222222,\"#7201a8\"],[0.3333333333333333,\"#9c179e\"],[0.4444444444444444,\"#bd3786\"],[0.5555555555555556,\"#d8576b\"],[0.6666666666666666,\"#ed7953\"],[0.7777777777777778,\"#fb9f3a\"],[0.8888888888888888,\"#fdca26\"],[1.0,\"#f0f921\"]],\"type\":\"histogram2dcontour\"}],\"histogram2d\":[{\"colorbar\":{\"outlinewidth\":0,\"ticks\":\"\"},\"colorscale\":[[0.0,\"#0d0887\"],[0.1111111111111111,\"#46039f\"],[0.2222222222222222,\"#7201a8\"],[0.3333333333333333,\"#9c179e\"],[0.4444444444444444,\"#bd3786\"],[0.5555555555555556,\"#d8576b\"],[0.6666666666666666,\"#ed7953\"],[0.7777777777777778,\"#fb9f3a\"],[0.8888888888888888,\"#fdca26\"],[1.0,\"#f0f921\"]],\"type\":\"histogram2d\"}],\"histogram\":[{\"marker\":{\"pattern\":{\"fillmode\":\"overlay\",\"size\":10,\"solidity\":0.2}},\"type\":\"histogram\"}],\"mesh3d\":[{\"colorbar\":{\"outlinewidth\":0,\"ticks\":\"\"},\"type\":\"mesh3d\"}],\"parcoords\":[{\"line\":{\"colorbar\":{\"outlinewidth\":0,\"ticks\":\"\"}},\"type\":\"parcoords\"}],\"pie\":[{\"automargin\":true,\"type\":\"pie\"}],\"scatter3d\":[{\"line\":{\"colorbar\":{\"outlinewidth\":0,\"ticks\":\"\"}},\"marker\":{\"colorbar\":{\"outlinewidth\":0,\"ticks\":\"\"}},\"type\":\"scatter3d\"}],\"scattercarpet\":[{\"marker\":{\"colorbar\":{\"outlinewidth\":0,\"ticks\":\"\"}},\"type\":\"scattercarpet\"}],\"scattergeo\":[{\"marker\":{\"colorbar\":{\"outlinewidth\":0,\"ticks\":\"\"}},\"type\":\"scattergeo\"}],\"scattergl\":[{\"marker\":{\"colorbar\":{\"outlinewidth\":0,\"ticks\":\"\"}},\"type\":\"scattergl\"}],\"scattermapbox\":[{\"marker\":{\"colorbar\":{\"outlinewidth\":0,\"ticks\":\"\"}},\"type\":\"scattermapbox\"}],\"scatterpolargl\":[{\"marker\":{\"colorbar\":{\"outlinewidth\":0,\"ticks\":\"\"}},\"type\":\"scatterpolargl\"}],\"scatterpolar\":[{\"marker\":{\"colorbar\":{\"outlinewidth\":0,\"ticks\":\"\"}},\"type\":\"scatterpolar\"}],\"scatter\":[{\"fillpattern\":{\"fillmode\":\"overlay\",\"size\":10,\"solidity\":0.2},\"type\":\"scatter\"}],\"scatterternary\":[{\"marker\":{\"colorbar\":{\"outlinewidth\":0,\"ticks\":\"\"}},\"type\":\"scatterternary\"}],\"surface\":[{\"colorbar\":{\"outlinewidth\":0,\"ticks\":\"\"},\"colorscale\":[[0.0,\"#0d0887\"],[0.1111111111111111,\"#46039f\"],[0.2222222222222222,\"#7201a8\"],[0.3333333333333333,\"#9c179e\"],[0.4444444444444444,\"#bd3786\"],[0.5555555555555556,\"#d8576b\"],[0.6666666666666666,\"#ed7953\"],[0.7777777777777778,\"#fb9f3a\"],[0.8888888888888888,\"#fdca26\"],[1.0,\"#f0f921\"]],\"type\":\"surface\"}],\"table\":[{\"cells\":{\"fill\":{\"color\":\"#EBF0F8\"},\"line\":{\"color\":\"white\"}},\"header\":{\"fill\":{\"color\":\"#C8D4E3\"},\"line\":{\"color\":\"white\"}},\"type\":\"table\"}]},\"layout\":{\"annotationdefaults\":{\"arrowcolor\":\"#2a3f5f\",\"arrowhead\":0,\"arrowwidth\":1},\"autotypenumbers\":\"strict\",\"coloraxis\":{\"colorbar\":{\"outlinewidth\":0,\"ticks\":\"\"}},\"colorscale\":{\"diverging\":[[0,\"#8e0152\"],[0.1,\"#c51b7d\"],[0.2,\"#de77ae\"],[0.3,\"#f1b6da\"],[0.4,\"#fde0ef\"],[0.5,\"#f7f7f7\"],[0.6,\"#e6f5d0\"],[0.7,\"#b8e186\"],[0.8,\"#7fbc41\"],[0.9,\"#4d9221\"],[1,\"#276419\"]],\"sequential\":[[0.0,\"#0d0887\"],[0.1111111111111111,\"#46039f\"],[0.2222222222222222,\"#7201a8\"],[0.3333333333333333,\"#9c179e\"],[0.4444444444444444,\"#bd3786\"],[0.5555555555555556,\"#d8576b\"],[0.6666666666666666,\"#ed7953\"],[0.7777777777777778,\"#fb9f3a\"],[0.8888888888888888,\"#fdca26\"],[1.0,\"#f0f921\"]],\"sequentialminus\":[[0.0,\"#0d0887\"],[0.1111111111111111,\"#46039f\"],[0.2222222222222222,\"#7201a8\"],[0.3333333333333333,\"#9c179e\"],[0.4444444444444444,\"#bd3786\"],[0.5555555555555556,\"#d8576b\"],[0.6666666666666666,\"#ed7953\"],[0.7777777777777778,\"#fb9f3a\"],[0.8888888888888888,\"#fdca26\"],[1.0,\"#f0f921\"]]},\"colorway\":[\"#636efa\",\"#EF553B\",\"#00cc96\",\"#ab63fa\",\"#FFA15A\",\"#19d3f3\",\"#FF6692\",\"#B6E880\",\"#FF97FF\",\"#FECB52\"],\"font\":{\"color\":\"#2a3f5f\"},\"geo\":{\"bgcolor\":\"white\",\"lakecolor\":\"white\",\"landcolor\":\"#E5ECF6\",\"showlakes\":true,\"showland\":true,\"subunitcolor\":\"white\"},\"hoverlabel\":{\"align\":\"left\"},\"hovermode\":\"closest\",\"mapbox\":{\"style\":\"light\"},\"paper_bgcolor\":\"white\",\"plot_bgcolor\":\"#E5ECF6\",\"polar\":{\"angularaxis\":{\"gridcolor\":\"white\",\"linecolor\":\"white\",\"ticks\":\"\"},\"bgcolor\":\"#E5ECF6\",\"radialaxis\":{\"gridcolor\":\"white\",\"linecolor\":\"white\",\"ticks\":\"\"}},\"scene\":{\"xaxis\":{\"backgroundcolor\":\"#E5ECF6\",\"gridcolor\":\"white\",\"gridwidth\":2,\"linecolor\":\"white\",\"showbackground\":true,\"ticks\":\"\",\"zerolinecolor\":\"white\"},\"yaxis\":{\"backgroundcolor\":\"#E5ECF6\",\"gridcolor\":\"white\",\"gridwidth\":2,\"linecolor\":\"white\",\"showbackground\":true,\"ticks\":\"\",\"zerolinecolor\":\"white\"},\"zaxis\":{\"backgroundcolor\":\"#E5ECF6\",\"gridcolor\":\"white\",\"gridwidth\":2,\"linecolor\":\"white\",\"showbackground\":true,\"ticks\":\"\",\"zerolinecolor\":\"white\"}},\"shapedefaults\":{\"line\":{\"color\":\"#2a3f5f\"}},\"ternary\":{\"aaxis\":{\"gridcolor\":\"white\",\"linecolor\":\"white\",\"ticks\":\"\"},\"baxis\":{\"gridcolor\":\"white\",\"linecolor\":\"white\",\"ticks\":\"\"},\"bgcolor\":\"#E5ECF6\",\"caxis\":{\"gridcolor\":\"white\",\"linecolor\":\"white\",\"ticks\":\"\"}},\"title\":{\"x\":0.05},\"xaxis\":{\"automargin\":true,\"gridcolor\":\"white\",\"linecolor\":\"white\",\"ticks\":\"\",\"title\":{\"standoff\":15},\"zerolinecolor\":\"white\",\"zerolinewidth\":2},\"yaxis\":{\"automargin\":true,\"gridcolor\":\"white\",\"linecolor\":\"white\",\"ticks\":\"\",\"title\":{\"standoff\":15},\"zerolinecolor\":\"white\",\"zerolinewidth\":2}}},\"title\":{\"font\":{\"color\":\"#151516\"},\"text\":\"Venta Publica Grupal en 2022\"},\"xaxis\":{\"gridcolor\":\"#F6F6F6\",\"showgrid\":true,\"tickfont\":{\"color\":\"#666666\"},\"title\":{\"font\":{\"color\":\"#666666\"},\"text\":\"Campania\"},\"zerolinecolor\":\"#F6F6F6\"},\"yaxis\":{\"gridcolor\":\"#F6F6F6\",\"showgrid\":true,\"tickfont\":{\"color\":\"#666666\"},\"title\":{\"font\":{\"color\":\"#666666\"},\"text\":\"Venta Publica Grupal\"},\"zerolinecolor\":\"#F6F6F6\"}},                        {\"showLink\": true, \"linkText\": \"Export to plot.ly\", \"plotlyServerURL\": \"https://plot.ly\", \"responsive\": true}                    ).then(function(){\n",
       "                            \n",
       "var gd = document.getElementById('505f52f5-1fec-41c7-9e7f-59d72bc8ed80');\n",
       "var x = new MutationObserver(function (mutations, observer) {{\n",
       "        var display = window.getComputedStyle(gd).display;\n",
       "        if (!display || display === 'none') {{\n",
       "            console.log([gd, 'removed!']);\n",
       "            Plotly.purge(gd);\n",
       "            observer.disconnect();\n",
       "        }}\n",
       "}});\n",
       "\n",
       "// Listen for the removal of the full notebook cells\n",
       "var notebookContainer = gd.closest('#notebook-container');\n",
       "if (notebookContainer) {{\n",
       "    x.observe(notebookContainer, {childList: true});\n",
       "}}\n",
       "\n",
       "// Listen for the clearing of the current output cell\n",
       "var outputEl = gd.closest('.output');\n",
       "if (outputEl) {{\n",
       "    x.observe(outputEl, {childList: true});\n",
       "}}\n",
       "\n",
       "                        })                };                });            </script>        </div>"
      ]
     },
     "metadata": {},
     "output_type": "display_data"
    }
   ],
   "source": [
    "df_desempeno_sample = df_desempeno[df_desempeno.index.isin(['2022-C01', '2022-C02', '2022-C03'])]\n",
    "\n",
    "df_desempeno_sample.iplot(kind='bar',\n",
    "                           xTitle='Campania', yTitle='Venta Publica Grupal',\n",
    "                           title='Venta Publica Grupal en 2022')"
   ]
  },
  {
   "cell_type": "code",
   "execution_count": 22,
   "id": "152cf5b4",
   "metadata": {},
   "outputs": [
    {
     "data": {
      "application/vnd.plotly.v1+json": {
       "config": {
        "linkText": "Export to plot.ly",
        "plotlyServerURL": "https://plot.ly",
        "showLink": true
       },
       "data": [
        {
         "boxpoints": false,
         "line": {
          "width": 1.3
         },
         "marker": {
          "color": "rgba(219, 64, 82, 1.0)"
         },
         "name": "Rosario Elizabe Lazo Ramirez",
         "orientation": "v",
         "type": "box",
         "y": [
          57296.37,
          58918.8,
          47040.6,
          46605.6,
          44148.9,
          33310.5,
          30082.5,
          27604.3,
          38460.7,
          47387.4,
          51469.1,
          31964.5,
          29281.2,
          30424,
          34902.1,
          37738.7,
          37327.6,
          39584.5,
          42614.9,
          33302.7,
          31090.7,
          32986.3,
          30611.8,
          32225.8,
          31788.7,
          30263.8,
          9907.9,
          26715,
          28880.7,
          31073.1,
          33657.7,
          26730.59,
          26644,
          34406.6,
          33194.9,
          32642,
          30066.6,
          26167.6,
          24916.4,
          23319.3,
          27872.5,
          27773,
          26079.7,
          30074,
          32110.5,
          29135.7,
          36821.3,
          17711,
          17665,
          20282.3,
          22493.9,
          24891.4
         ]
        }
       ],
       "layout": {
        "legend": {
         "bgcolor": "#FFFFFF",
         "font": {
          "color": "#666666"
         }
        },
        "paper_bgcolor": "#FFFFFF",
        "plot_bgcolor": "#E5E5E5",
        "template": {
         "data": {
          "bar": [
           {
            "error_x": {
             "color": "#2a3f5f"
            },
            "error_y": {
             "color": "#2a3f5f"
            },
            "marker": {
             "line": {
              "color": "#E5ECF6",
              "width": 0.5
             },
             "pattern": {
              "fillmode": "overlay",
              "size": 10,
              "solidity": 0.2
             }
            },
            "type": "bar"
           }
          ],
          "barpolar": [
           {
            "marker": {
             "line": {
              "color": "#E5ECF6",
              "width": 0.5
             },
             "pattern": {
              "fillmode": "overlay",
              "size": 10,
              "solidity": 0.2
             }
            },
            "type": "barpolar"
           }
          ],
          "carpet": [
           {
            "aaxis": {
             "endlinecolor": "#2a3f5f",
             "gridcolor": "white",
             "linecolor": "white",
             "minorgridcolor": "white",
             "startlinecolor": "#2a3f5f"
            },
            "baxis": {
             "endlinecolor": "#2a3f5f",
             "gridcolor": "white",
             "linecolor": "white",
             "minorgridcolor": "white",
             "startlinecolor": "#2a3f5f"
            },
            "type": "carpet"
           }
          ],
          "choropleth": [
           {
            "colorbar": {
             "outlinewidth": 0,
             "ticks": ""
            },
            "type": "choropleth"
           }
          ],
          "contour": [
           {
            "colorbar": {
             "outlinewidth": 0,
             "ticks": ""
            },
            "colorscale": [
             [
              0,
              "#0d0887"
             ],
             [
              0.1111111111111111,
              "#46039f"
             ],
             [
              0.2222222222222222,
              "#7201a8"
             ],
             [
              0.3333333333333333,
              "#9c179e"
             ],
             [
              0.4444444444444444,
              "#bd3786"
             ],
             [
              0.5555555555555556,
              "#d8576b"
             ],
             [
              0.6666666666666666,
              "#ed7953"
             ],
             [
              0.7777777777777778,
              "#fb9f3a"
             ],
             [
              0.8888888888888888,
              "#fdca26"
             ],
             [
              1,
              "#f0f921"
             ]
            ],
            "type": "contour"
           }
          ],
          "contourcarpet": [
           {
            "colorbar": {
             "outlinewidth": 0,
             "ticks": ""
            },
            "type": "contourcarpet"
           }
          ],
          "heatmap": [
           {
            "colorbar": {
             "outlinewidth": 0,
             "ticks": ""
            },
            "colorscale": [
             [
              0,
              "#0d0887"
             ],
             [
              0.1111111111111111,
              "#46039f"
             ],
             [
              0.2222222222222222,
              "#7201a8"
             ],
             [
              0.3333333333333333,
              "#9c179e"
             ],
             [
              0.4444444444444444,
              "#bd3786"
             ],
             [
              0.5555555555555556,
              "#d8576b"
             ],
             [
              0.6666666666666666,
              "#ed7953"
             ],
             [
              0.7777777777777778,
              "#fb9f3a"
             ],
             [
              0.8888888888888888,
              "#fdca26"
             ],
             [
              1,
              "#f0f921"
             ]
            ],
            "type": "heatmap"
           }
          ],
          "heatmapgl": [
           {
            "colorbar": {
             "outlinewidth": 0,
             "ticks": ""
            },
            "colorscale": [
             [
              0,
              "#0d0887"
             ],
             [
              0.1111111111111111,
              "#46039f"
             ],
             [
              0.2222222222222222,
              "#7201a8"
             ],
             [
              0.3333333333333333,
              "#9c179e"
             ],
             [
              0.4444444444444444,
              "#bd3786"
             ],
             [
              0.5555555555555556,
              "#d8576b"
             ],
             [
              0.6666666666666666,
              "#ed7953"
             ],
             [
              0.7777777777777778,
              "#fb9f3a"
             ],
             [
              0.8888888888888888,
              "#fdca26"
             ],
             [
              1,
              "#f0f921"
             ]
            ],
            "type": "heatmapgl"
           }
          ],
          "histogram": [
           {
            "marker": {
             "pattern": {
              "fillmode": "overlay",
              "size": 10,
              "solidity": 0.2
             }
            },
            "type": "histogram"
           }
          ],
          "histogram2d": [
           {
            "colorbar": {
             "outlinewidth": 0,
             "ticks": ""
            },
            "colorscale": [
             [
              0,
              "#0d0887"
             ],
             [
              0.1111111111111111,
              "#46039f"
             ],
             [
              0.2222222222222222,
              "#7201a8"
             ],
             [
              0.3333333333333333,
              "#9c179e"
             ],
             [
              0.4444444444444444,
              "#bd3786"
             ],
             [
              0.5555555555555556,
              "#d8576b"
             ],
             [
              0.6666666666666666,
              "#ed7953"
             ],
             [
              0.7777777777777778,
              "#fb9f3a"
             ],
             [
              0.8888888888888888,
              "#fdca26"
             ],
             [
              1,
              "#f0f921"
             ]
            ],
            "type": "histogram2d"
           }
          ],
          "histogram2dcontour": [
           {
            "colorbar": {
             "outlinewidth": 0,
             "ticks": ""
            },
            "colorscale": [
             [
              0,
              "#0d0887"
             ],
             [
              0.1111111111111111,
              "#46039f"
             ],
             [
              0.2222222222222222,
              "#7201a8"
             ],
             [
              0.3333333333333333,
              "#9c179e"
             ],
             [
              0.4444444444444444,
              "#bd3786"
             ],
             [
              0.5555555555555556,
              "#d8576b"
             ],
             [
              0.6666666666666666,
              "#ed7953"
             ],
             [
              0.7777777777777778,
              "#fb9f3a"
             ],
             [
              0.8888888888888888,
              "#fdca26"
             ],
             [
              1,
              "#f0f921"
             ]
            ],
            "type": "histogram2dcontour"
           }
          ],
          "mesh3d": [
           {
            "colorbar": {
             "outlinewidth": 0,
             "ticks": ""
            },
            "type": "mesh3d"
           }
          ],
          "parcoords": [
           {
            "line": {
             "colorbar": {
              "outlinewidth": 0,
              "ticks": ""
             }
            },
            "type": "parcoords"
           }
          ],
          "pie": [
           {
            "automargin": true,
            "type": "pie"
           }
          ],
          "scatter": [
           {
            "fillpattern": {
             "fillmode": "overlay",
             "size": 10,
             "solidity": 0.2
            },
            "type": "scatter"
           }
          ],
          "scatter3d": [
           {
            "line": {
             "colorbar": {
              "outlinewidth": 0,
              "ticks": ""
             }
            },
            "marker": {
             "colorbar": {
              "outlinewidth": 0,
              "ticks": ""
             }
            },
            "type": "scatter3d"
           }
          ],
          "scattercarpet": [
           {
            "marker": {
             "colorbar": {
              "outlinewidth": 0,
              "ticks": ""
             }
            },
            "type": "scattercarpet"
           }
          ],
          "scattergeo": [
           {
            "marker": {
             "colorbar": {
              "outlinewidth": 0,
              "ticks": ""
             }
            },
            "type": "scattergeo"
           }
          ],
          "scattergl": [
           {
            "marker": {
             "colorbar": {
              "outlinewidth": 0,
              "ticks": ""
             }
            },
            "type": "scattergl"
           }
          ],
          "scattermapbox": [
           {
            "marker": {
             "colorbar": {
              "outlinewidth": 0,
              "ticks": ""
             }
            },
            "type": "scattermapbox"
           }
          ],
          "scatterpolar": [
           {
            "marker": {
             "colorbar": {
              "outlinewidth": 0,
              "ticks": ""
             }
            },
            "type": "scatterpolar"
           }
          ],
          "scatterpolargl": [
           {
            "marker": {
             "colorbar": {
              "outlinewidth": 0,
              "ticks": ""
             }
            },
            "type": "scatterpolargl"
           }
          ],
          "scatterternary": [
           {
            "marker": {
             "colorbar": {
              "outlinewidth": 0,
              "ticks": ""
             }
            },
            "type": "scatterternary"
           }
          ],
          "surface": [
           {
            "colorbar": {
             "outlinewidth": 0,
             "ticks": ""
            },
            "colorscale": [
             [
              0,
              "#0d0887"
             ],
             [
              0.1111111111111111,
              "#46039f"
             ],
             [
              0.2222222222222222,
              "#7201a8"
             ],
             [
              0.3333333333333333,
              "#9c179e"
             ],
             [
              0.4444444444444444,
              "#bd3786"
             ],
             [
              0.5555555555555556,
              "#d8576b"
             ],
             [
              0.6666666666666666,
              "#ed7953"
             ],
             [
              0.7777777777777778,
              "#fb9f3a"
             ],
             [
              0.8888888888888888,
              "#fdca26"
             ],
             [
              1,
              "#f0f921"
             ]
            ],
            "type": "surface"
           }
          ],
          "table": [
           {
            "cells": {
             "fill": {
              "color": "#EBF0F8"
             },
             "line": {
              "color": "white"
             }
            },
            "header": {
             "fill": {
              "color": "#C8D4E3"
             },
             "line": {
              "color": "white"
             }
            },
            "type": "table"
           }
          ]
         },
         "layout": {
          "annotationdefaults": {
           "arrowcolor": "#2a3f5f",
           "arrowhead": 0,
           "arrowwidth": 1
          },
          "autotypenumbers": "strict",
          "coloraxis": {
           "colorbar": {
            "outlinewidth": 0,
            "ticks": ""
           }
          },
          "colorscale": {
           "diverging": [
            [
             0,
             "#8e0152"
            ],
            [
             0.1,
             "#c51b7d"
            ],
            [
             0.2,
             "#de77ae"
            ],
            [
             0.3,
             "#f1b6da"
            ],
            [
             0.4,
             "#fde0ef"
            ],
            [
             0.5,
             "#f7f7f7"
            ],
            [
             0.6,
             "#e6f5d0"
            ],
            [
             0.7,
             "#b8e186"
            ],
            [
             0.8,
             "#7fbc41"
            ],
            [
             0.9,
             "#4d9221"
            ],
            [
             1,
             "#276419"
            ]
           ],
           "sequential": [
            [
             0,
             "#0d0887"
            ],
            [
             0.1111111111111111,
             "#46039f"
            ],
            [
             0.2222222222222222,
             "#7201a8"
            ],
            [
             0.3333333333333333,
             "#9c179e"
            ],
            [
             0.4444444444444444,
             "#bd3786"
            ],
            [
             0.5555555555555556,
             "#d8576b"
            ],
            [
             0.6666666666666666,
             "#ed7953"
            ],
            [
             0.7777777777777778,
             "#fb9f3a"
            ],
            [
             0.8888888888888888,
             "#fdca26"
            ],
            [
             1,
             "#f0f921"
            ]
           ],
           "sequentialminus": [
            [
             0,
             "#0d0887"
            ],
            [
             0.1111111111111111,
             "#46039f"
            ],
            [
             0.2222222222222222,
             "#7201a8"
            ],
            [
             0.3333333333333333,
             "#9c179e"
            ],
            [
             0.4444444444444444,
             "#bd3786"
            ],
            [
             0.5555555555555556,
             "#d8576b"
            ],
            [
             0.6666666666666666,
             "#ed7953"
            ],
            [
             0.7777777777777778,
             "#fb9f3a"
            ],
            [
             0.8888888888888888,
             "#fdca26"
            ],
            [
             1,
             "#f0f921"
            ]
           ]
          },
          "colorway": [
           "#636efa",
           "#EF553B",
           "#00cc96",
           "#ab63fa",
           "#FFA15A",
           "#19d3f3",
           "#FF6692",
           "#B6E880",
           "#FF97FF",
           "#FECB52"
          ],
          "font": {
           "color": "#2a3f5f"
          },
          "geo": {
           "bgcolor": "white",
           "lakecolor": "white",
           "landcolor": "#E5ECF6",
           "showlakes": true,
           "showland": true,
           "subunitcolor": "white"
          },
          "hoverlabel": {
           "align": "left"
          },
          "hovermode": "closest",
          "mapbox": {
           "style": "light"
          },
          "paper_bgcolor": "white",
          "plot_bgcolor": "#E5ECF6",
          "polar": {
           "angularaxis": {
            "gridcolor": "white",
            "linecolor": "white",
            "ticks": ""
           },
           "bgcolor": "#E5ECF6",
           "radialaxis": {
            "gridcolor": "white",
            "linecolor": "white",
            "ticks": ""
           }
          },
          "scene": {
           "xaxis": {
            "backgroundcolor": "#E5ECF6",
            "gridcolor": "white",
            "gridwidth": 2,
            "linecolor": "white",
            "showbackground": true,
            "ticks": "",
            "zerolinecolor": "white"
           },
           "yaxis": {
            "backgroundcolor": "#E5ECF6",
            "gridcolor": "white",
            "gridwidth": 2,
            "linecolor": "white",
            "showbackground": true,
            "ticks": "",
            "zerolinecolor": "white"
           },
           "zaxis": {
            "backgroundcolor": "#E5ECF6",
            "gridcolor": "white",
            "gridwidth": 2,
            "linecolor": "white",
            "showbackground": true,
            "ticks": "",
            "zerolinecolor": "white"
           }
          },
          "shapedefaults": {
           "line": {
            "color": "#2a3f5f"
           }
          },
          "ternary": {
           "aaxis": {
            "gridcolor": "white",
            "linecolor": "white",
            "ticks": ""
           },
           "baxis": {
            "gridcolor": "white",
            "linecolor": "white",
            "ticks": ""
           },
           "bgcolor": "#E5ECF6",
           "caxis": {
            "gridcolor": "white",
            "linecolor": "white",
            "ticks": ""
           }
          },
          "title": {
           "x": 0.05
          },
          "xaxis": {
           "automargin": true,
           "gridcolor": "white",
           "linecolor": "white",
           "ticks": "",
           "title": {
            "standoff": 15
           },
           "zerolinecolor": "white",
           "zerolinewidth": 2
          },
          "yaxis": {
           "automargin": true,
           "gridcolor": "white",
           "linecolor": "white",
           "ticks": "",
           "title": {
            "standoff": 15
           },
           "zerolinecolor": "white",
           "zerolinewidth": 2
          }
         }
        },
        "title": {
         "font": {
          "color": "#151516"
         }
        },
        "xaxis": {
         "gridcolor": "#F6F6F6",
         "showgrid": true,
         "tickfont": {
          "color": "#666666"
         },
         "title": {
          "font": {
           "color": "#666666"
          },
          "text": ""
         },
         "zerolinecolor": "#F6F6F6"
        },
        "yaxis": {
         "gridcolor": "#F6F6F6",
         "showgrid": true,
         "tickfont": {
          "color": "#666666"
         },
         "title": {
          "font": {
           "color": "#666666"
          },
          "text": "Venta Publica Grupal"
         },
         "zerolinecolor": "#F6F6F6"
        }
       }
      },
      "text/html": [
       "<div>                            <div id=\"8333f676-a83c-4f07-a0ec-711beeb3999f\" class=\"plotly-graph-div\" style=\"height:525px; width:100%;\"></div>            <script type=\"text/javascript\">                require([\"plotly\"], function(Plotly) {                    window.PLOTLYENV=window.PLOTLYENV || {};\n",
       "                    window.PLOTLYENV.BASE_URL='https://plot.ly';                                    if (document.getElementById(\"8333f676-a83c-4f07-a0ec-711beeb3999f\")) {                    Plotly.newPlot(                        \"8333f676-a83c-4f07-a0ec-711beeb3999f\",                        [{\"boxpoints\":false,\"line\":{\"width\":1.3},\"marker\":{\"color\":\"rgba(219, 64, 82, 1.0)\"},\"name\":\"Rosario Elizabe Lazo Ramirez\",\"orientation\":\"v\",\"y\":[57296.37,58918.8,47040.6,46605.6,44148.9,33310.5,30082.5,27604.3,38460.7,47387.4,51469.1,31964.5,29281.2,30424.0,34902.1,37738.7,37327.6,39584.5,42614.9,33302.7,31090.7,32986.3,30611.8,32225.8,31788.7,30263.8,9907.9,26715.0,28880.7,31073.1,33657.7,26730.59,26644.0,34406.6,33194.9,32642.0,30066.6,26167.6,24916.4,23319.3,27872.5,27773.0,26079.7,30074.0,32110.5,29135.7,36821.3,17711.0,17665.0,20282.3,22493.9,24891.4],\"type\":\"box\"}],                        {\"legend\":{\"bgcolor\":\"#FFFFFF\",\"font\":{\"color\":\"#666666\"}},\"paper_bgcolor\":\"#FFFFFF\",\"plot_bgcolor\":\"#E5E5E5\",\"template\":{\"data\":{\"barpolar\":[{\"marker\":{\"line\":{\"color\":\"#E5ECF6\",\"width\":0.5},\"pattern\":{\"fillmode\":\"overlay\",\"size\":10,\"solidity\":0.2}},\"type\":\"barpolar\"}],\"bar\":[{\"error_x\":{\"color\":\"#2a3f5f\"},\"error_y\":{\"color\":\"#2a3f5f\"},\"marker\":{\"line\":{\"color\":\"#E5ECF6\",\"width\":0.5},\"pattern\":{\"fillmode\":\"overlay\",\"size\":10,\"solidity\":0.2}},\"type\":\"bar\"}],\"carpet\":[{\"aaxis\":{\"endlinecolor\":\"#2a3f5f\",\"gridcolor\":\"white\",\"linecolor\":\"white\",\"minorgridcolor\":\"white\",\"startlinecolor\":\"#2a3f5f\"},\"baxis\":{\"endlinecolor\":\"#2a3f5f\",\"gridcolor\":\"white\",\"linecolor\":\"white\",\"minorgridcolor\":\"white\",\"startlinecolor\":\"#2a3f5f\"},\"type\":\"carpet\"}],\"choropleth\":[{\"colorbar\":{\"outlinewidth\":0,\"ticks\":\"\"},\"type\":\"choropleth\"}],\"contourcarpet\":[{\"colorbar\":{\"outlinewidth\":0,\"ticks\":\"\"},\"type\":\"contourcarpet\"}],\"contour\":[{\"colorbar\":{\"outlinewidth\":0,\"ticks\":\"\"},\"colorscale\":[[0.0,\"#0d0887\"],[0.1111111111111111,\"#46039f\"],[0.2222222222222222,\"#7201a8\"],[0.3333333333333333,\"#9c179e\"],[0.4444444444444444,\"#bd3786\"],[0.5555555555555556,\"#d8576b\"],[0.6666666666666666,\"#ed7953\"],[0.7777777777777778,\"#fb9f3a\"],[0.8888888888888888,\"#fdca26\"],[1.0,\"#f0f921\"]],\"type\":\"contour\"}],\"heatmapgl\":[{\"colorbar\":{\"outlinewidth\":0,\"ticks\":\"\"},\"colorscale\":[[0.0,\"#0d0887\"],[0.1111111111111111,\"#46039f\"],[0.2222222222222222,\"#7201a8\"],[0.3333333333333333,\"#9c179e\"],[0.4444444444444444,\"#bd3786\"],[0.5555555555555556,\"#d8576b\"],[0.6666666666666666,\"#ed7953\"],[0.7777777777777778,\"#fb9f3a\"],[0.8888888888888888,\"#fdca26\"],[1.0,\"#f0f921\"]],\"type\":\"heatmapgl\"}],\"heatmap\":[{\"colorbar\":{\"outlinewidth\":0,\"ticks\":\"\"},\"colorscale\":[[0.0,\"#0d0887\"],[0.1111111111111111,\"#46039f\"],[0.2222222222222222,\"#7201a8\"],[0.3333333333333333,\"#9c179e\"],[0.4444444444444444,\"#bd3786\"],[0.5555555555555556,\"#d8576b\"],[0.6666666666666666,\"#ed7953\"],[0.7777777777777778,\"#fb9f3a\"],[0.8888888888888888,\"#fdca26\"],[1.0,\"#f0f921\"]],\"type\":\"heatmap\"}],\"histogram2dcontour\":[{\"colorbar\":{\"outlinewidth\":0,\"ticks\":\"\"},\"colorscale\":[[0.0,\"#0d0887\"],[0.1111111111111111,\"#46039f\"],[0.2222222222222222,\"#7201a8\"],[0.3333333333333333,\"#9c179e\"],[0.4444444444444444,\"#bd3786\"],[0.5555555555555556,\"#d8576b\"],[0.6666666666666666,\"#ed7953\"],[0.7777777777777778,\"#fb9f3a\"],[0.8888888888888888,\"#fdca26\"],[1.0,\"#f0f921\"]],\"type\":\"histogram2dcontour\"}],\"histogram2d\":[{\"colorbar\":{\"outlinewidth\":0,\"ticks\":\"\"},\"colorscale\":[[0.0,\"#0d0887\"],[0.1111111111111111,\"#46039f\"],[0.2222222222222222,\"#7201a8\"],[0.3333333333333333,\"#9c179e\"],[0.4444444444444444,\"#bd3786\"],[0.5555555555555556,\"#d8576b\"],[0.6666666666666666,\"#ed7953\"],[0.7777777777777778,\"#fb9f3a\"],[0.8888888888888888,\"#fdca26\"],[1.0,\"#f0f921\"]],\"type\":\"histogram2d\"}],\"histogram\":[{\"marker\":{\"pattern\":{\"fillmode\":\"overlay\",\"size\":10,\"solidity\":0.2}},\"type\":\"histogram\"}],\"mesh3d\":[{\"colorbar\":{\"outlinewidth\":0,\"ticks\":\"\"},\"type\":\"mesh3d\"}],\"parcoords\":[{\"line\":{\"colorbar\":{\"outlinewidth\":0,\"ticks\":\"\"}},\"type\":\"parcoords\"}],\"pie\":[{\"automargin\":true,\"type\":\"pie\"}],\"scatter3d\":[{\"line\":{\"colorbar\":{\"outlinewidth\":0,\"ticks\":\"\"}},\"marker\":{\"colorbar\":{\"outlinewidth\":0,\"ticks\":\"\"}},\"type\":\"scatter3d\"}],\"scattercarpet\":[{\"marker\":{\"colorbar\":{\"outlinewidth\":0,\"ticks\":\"\"}},\"type\":\"scattercarpet\"}],\"scattergeo\":[{\"marker\":{\"colorbar\":{\"outlinewidth\":0,\"ticks\":\"\"}},\"type\":\"scattergeo\"}],\"scattergl\":[{\"marker\":{\"colorbar\":{\"outlinewidth\":0,\"ticks\":\"\"}},\"type\":\"scattergl\"}],\"scattermapbox\":[{\"marker\":{\"colorbar\":{\"outlinewidth\":0,\"ticks\":\"\"}},\"type\":\"scattermapbox\"}],\"scatterpolargl\":[{\"marker\":{\"colorbar\":{\"outlinewidth\":0,\"ticks\":\"\"}},\"type\":\"scatterpolargl\"}],\"scatterpolar\":[{\"marker\":{\"colorbar\":{\"outlinewidth\":0,\"ticks\":\"\"}},\"type\":\"scatterpolar\"}],\"scatter\":[{\"fillpattern\":{\"fillmode\":\"overlay\",\"size\":10,\"solidity\":0.2},\"type\":\"scatter\"}],\"scatterternary\":[{\"marker\":{\"colorbar\":{\"outlinewidth\":0,\"ticks\":\"\"}},\"type\":\"scatterternary\"}],\"surface\":[{\"colorbar\":{\"outlinewidth\":0,\"ticks\":\"\"},\"colorscale\":[[0.0,\"#0d0887\"],[0.1111111111111111,\"#46039f\"],[0.2222222222222222,\"#7201a8\"],[0.3333333333333333,\"#9c179e\"],[0.4444444444444444,\"#bd3786\"],[0.5555555555555556,\"#d8576b\"],[0.6666666666666666,\"#ed7953\"],[0.7777777777777778,\"#fb9f3a\"],[0.8888888888888888,\"#fdca26\"],[1.0,\"#f0f921\"]],\"type\":\"surface\"}],\"table\":[{\"cells\":{\"fill\":{\"color\":\"#EBF0F8\"},\"line\":{\"color\":\"white\"}},\"header\":{\"fill\":{\"color\":\"#C8D4E3\"},\"line\":{\"color\":\"white\"}},\"type\":\"table\"}]},\"layout\":{\"annotationdefaults\":{\"arrowcolor\":\"#2a3f5f\",\"arrowhead\":0,\"arrowwidth\":1},\"autotypenumbers\":\"strict\",\"coloraxis\":{\"colorbar\":{\"outlinewidth\":0,\"ticks\":\"\"}},\"colorscale\":{\"diverging\":[[0,\"#8e0152\"],[0.1,\"#c51b7d\"],[0.2,\"#de77ae\"],[0.3,\"#f1b6da\"],[0.4,\"#fde0ef\"],[0.5,\"#f7f7f7\"],[0.6,\"#e6f5d0\"],[0.7,\"#b8e186\"],[0.8,\"#7fbc41\"],[0.9,\"#4d9221\"],[1,\"#276419\"]],\"sequential\":[[0.0,\"#0d0887\"],[0.1111111111111111,\"#46039f\"],[0.2222222222222222,\"#7201a8\"],[0.3333333333333333,\"#9c179e\"],[0.4444444444444444,\"#bd3786\"],[0.5555555555555556,\"#d8576b\"],[0.6666666666666666,\"#ed7953\"],[0.7777777777777778,\"#fb9f3a\"],[0.8888888888888888,\"#fdca26\"],[1.0,\"#f0f921\"]],\"sequentialminus\":[[0.0,\"#0d0887\"],[0.1111111111111111,\"#46039f\"],[0.2222222222222222,\"#7201a8\"],[0.3333333333333333,\"#9c179e\"],[0.4444444444444444,\"#bd3786\"],[0.5555555555555556,\"#d8576b\"],[0.6666666666666666,\"#ed7953\"],[0.7777777777777778,\"#fb9f3a\"],[0.8888888888888888,\"#fdca26\"],[1.0,\"#f0f921\"]]},\"colorway\":[\"#636efa\",\"#EF553B\",\"#00cc96\",\"#ab63fa\",\"#FFA15A\",\"#19d3f3\",\"#FF6692\",\"#B6E880\",\"#FF97FF\",\"#FECB52\"],\"font\":{\"color\":\"#2a3f5f\"},\"geo\":{\"bgcolor\":\"white\",\"lakecolor\":\"white\",\"landcolor\":\"#E5ECF6\",\"showlakes\":true,\"showland\":true,\"subunitcolor\":\"white\"},\"hoverlabel\":{\"align\":\"left\"},\"hovermode\":\"closest\",\"mapbox\":{\"style\":\"light\"},\"paper_bgcolor\":\"white\",\"plot_bgcolor\":\"#E5ECF6\",\"polar\":{\"angularaxis\":{\"gridcolor\":\"white\",\"linecolor\":\"white\",\"ticks\":\"\"},\"bgcolor\":\"#E5ECF6\",\"radialaxis\":{\"gridcolor\":\"white\",\"linecolor\":\"white\",\"ticks\":\"\"}},\"scene\":{\"xaxis\":{\"backgroundcolor\":\"#E5ECF6\",\"gridcolor\":\"white\",\"gridwidth\":2,\"linecolor\":\"white\",\"showbackground\":true,\"ticks\":\"\",\"zerolinecolor\":\"white\"},\"yaxis\":{\"backgroundcolor\":\"#E5ECF6\",\"gridcolor\":\"white\",\"gridwidth\":2,\"linecolor\":\"white\",\"showbackground\":true,\"ticks\":\"\",\"zerolinecolor\":\"white\"},\"zaxis\":{\"backgroundcolor\":\"#E5ECF6\",\"gridcolor\":\"white\",\"gridwidth\":2,\"linecolor\":\"white\",\"showbackground\":true,\"ticks\":\"\",\"zerolinecolor\":\"white\"}},\"shapedefaults\":{\"line\":{\"color\":\"#2a3f5f\"}},\"ternary\":{\"aaxis\":{\"gridcolor\":\"white\",\"linecolor\":\"white\",\"ticks\":\"\"},\"baxis\":{\"gridcolor\":\"white\",\"linecolor\":\"white\",\"ticks\":\"\"},\"bgcolor\":\"#E5ECF6\",\"caxis\":{\"gridcolor\":\"white\",\"linecolor\":\"white\",\"ticks\":\"\"}},\"title\":{\"x\":0.05},\"xaxis\":{\"automargin\":true,\"gridcolor\":\"white\",\"linecolor\":\"white\",\"ticks\":\"\",\"title\":{\"standoff\":15},\"zerolinecolor\":\"white\",\"zerolinewidth\":2},\"yaxis\":{\"automargin\":true,\"gridcolor\":\"white\",\"linecolor\":\"white\",\"ticks\":\"\",\"title\":{\"standoff\":15},\"zerolinecolor\":\"white\",\"zerolinewidth\":2}}},\"title\":{\"font\":{\"color\":\"#151516\"}},\"xaxis\":{\"gridcolor\":\"#F6F6F6\",\"showgrid\":true,\"tickfont\":{\"color\":\"#666666\"},\"title\":{\"font\":{\"color\":\"#666666\"},\"text\":\"\"},\"zerolinecolor\":\"#F6F6F6\"},\"yaxis\":{\"gridcolor\":\"#F6F6F6\",\"showgrid\":true,\"tickfont\":{\"color\":\"#666666\"},\"title\":{\"font\":{\"color\":\"#666666\"},\"text\":\"Venta Publica Grupal\"},\"zerolinecolor\":\"#F6F6F6\"}},                        {\"showLink\": true, \"linkText\": \"Export to plot.ly\", \"plotlyServerURL\": \"https://plot.ly\", \"responsive\": true}                    ).then(function(){\n",
       "                            \n",
       "var gd = document.getElementById('8333f676-a83c-4f07-a0ec-711beeb3999f');\n",
       "var x = new MutationObserver(function (mutations, observer) {{\n",
       "        var display = window.getComputedStyle(gd).display;\n",
       "        if (!display || display === 'none') {{\n",
       "            console.log([gd, 'removed!']);\n",
       "            Plotly.purge(gd);\n",
       "            observer.disconnect();\n",
       "        }}\n",
       "}});\n",
       "\n",
       "// Listen for the removal of the full notebook cells\n",
       "var notebookContainer = gd.closest('#notebook-container');\n",
       "if (notebookContainer) {{\n",
       "    x.observe(notebookContainer, {childList: true});\n",
       "}}\n",
       "\n",
       "// Listen for the clearing of the current output cell\n",
       "var outputEl = gd.closest('.output');\n",
       "if (outputEl) {{\n",
       "    x.observe(outputEl, {childList: true});\n",
       "}}\n",
       "\n",
       "                        })                };                });            </script>        </div>"
      ]
     },
     "metadata": {},
     "output_type": "display_data"
    }
   ],
   "source": [
    "df_desempeno['Rosario Elizabe Lazo Ramirez'].iplot(kind='box', color='red', \n",
    "                                     yTitle='Venta Publica Grupal')"
   ]
  },
  {
   "cell_type": "code",
   "execution_count": 25,
   "id": "9fb0f6ab",
   "metadata": {},
   "outputs": [
    {
     "data": {
      "application/vnd.plotly.v1+json": {
       "config": {
        "linkText": "Export to plot.ly",
        "plotlyServerURL": "https://plot.ly",
        "showLink": true
       },
       "data": [
        {
         "boxpoints": false,
         "line": {
          "width": 1.3
         },
         "marker": {
          "color": "rgba(226, 74, 51, 1.0)"
         },
         "name": "Ana Fabiola Huancas Ruiz",
         "orientation": "v",
         "type": "box",
         "y": [
          19491.01,
          13730.7,
          14277.4,
          13249.4,
          14568.4,
          16283.6,
          13934,
          10814.9,
          10531.1,
          null,
          null,
          null,
          null,
          null,
          null,
          null,
          null,
          null,
          null,
          null,
          null,
          null,
          null,
          null,
          null,
          null,
          null,
          null,
          null,
          null,
          null,
          null,
          null,
          null,
          null,
          null,
          null,
          null,
          null,
          null,
          null,
          null,
          null,
          null,
          null,
          null,
          null,
          null,
          null,
          null,
          null,
          null
         ]
        },
        {
         "boxpoints": false,
         "line": {
          "width": 1.3
         },
         "marker": {
          "color": "rgba(62, 111, 176, 1.0)"
         },
         "name": "Blanca Susana Severino Carreño De Berru",
         "orientation": "v",
         "type": "box",
         "y": [
          null,
          null,
          21477,
          19283.5,
          21202.2,
          24378.6,
          23960.5,
          16818.3,
          21418.5,
          16866.3,
          14161.1,
          14889.7,
          15895.7,
          13449.7,
          11034,
          9851.8,
          11036.6,
          12153.2,
          11971.8,
          null,
          null,
          null,
          null,
          null,
          null,
          null,
          null,
          null,
          null,
          null,
          null,
          null,
          null,
          null,
          null,
          null,
          null,
          null,
          null,
          null,
          null,
          null,
          null,
          null,
          null,
          null,
          null,
          15011,
          17232.8,
          18590.2,
          17244.6,
          17001.2
         ]
        },
        {
         "boxpoints": false,
         "line": {
          "width": 1.3
         },
         "marker": {
          "color": "rgba(132, 118, 202, 1.0)"
         },
         "name": "ELENA ELIZABETH CHERO RUIZ",
         "orientation": "v",
         "type": "box",
         "y": [
          null,
          null,
          null,
          null,
          null,
          null,
          null,
          null,
          null,
          null,
          null,
          null,
          null,
          null,
          null,
          null,
          null,
          null,
          null,
          null,
          null,
          null,
          null,
          null,
          null,
          null,
          null,
          null,
          null,
          null,
          null,
          null,
          null,
          null,
          null,
          18559.5,
          18549.9,
          14106.1,
          14400.7,
          13789.5,
          15220.3,
          18616,
          22061.2,
          19452.9,
          20698.8,
          19458.5,
          19108.6,
          16319.3,
          16263.4,
          15280.2,
          16020.8,
          12118.8
         ]
        },
        {
         "boxpoints": false,
         "line": {
          "width": 1.3
         },
         "marker": {
          "color": "rgba(101, 101, 101, 1.0)"
         },
         "name": "Imelda Chamba Niño",
         "orientation": "v",
         "type": "box",
         "y": [
          19724.47,
          20779,
          23367.6,
          20940.8,
          17509.5,
          16256.4,
          16642.9,
          18525.5,
          18990.4,
          19796.4,
          19421.2,
          19001.2,
          18503.6,
          18673.6,
          21481.8,
          19965.3,
          18523.1,
          16843.6,
          18549.9,
          18684.5,
          18526.1,
          19992.5,
          18600.6,
          20305.1,
          18672.7,
          15234.7,
          4924.3,
          7135.7,
          8758.3,
          12934,
          13177.32,
          12652.71,
          12678.3,
          13052.9,
          17090.3,
          14708.5,
          14372.9,
          12384.5,
          11525.3,
          9501,
          9602.8,
          7763.9,
          8196.4,
          11237.4,
          15139.1,
          15044.5,
          15214.8,
          13835.9,
          15018.3,
          12637.9,
          13733,
          11780.6
         ]
        },
        {
         "boxpoints": false,
         "line": {
          "width": 1.3
         },
         "marker": {
          "color": "rgba(251, 193, 94, 1.0)"
         },
         "name": "Lesly Anali Valladolid Silva",
         "orientation": "v",
         "type": "box",
         "y": [
          null,
          null,
          null,
          null,
          null,
          null,
          null,
          null,
          null,
          null,
          null,
          null,
          null,
          null,
          null,
          null,
          null,
          null,
          null,
          null,
          null,
          null,
          null,
          null,
          null,
          null,
          null,
          null,
          null,
          null,
          null,
          null,
          null,
          null,
          null,
          null,
          null,
          null,
          null,
          null,
          null,
          null,
          11473.1,
          13401.3,
          11511.5,
          12359.7,
          15036,
          7580,
          9260.5,
          8205.2,
          6799.1,
          5861
         ]
        },
        {
         "boxpoints": false,
         "line": {
          "width": 1.3
         },
         "marker": {
          "color": "rgba(142, 186, 66, 1.0)"
         },
         "name": "Luis Miguel Tupac Yupanqui Lazo",
         "orientation": "v",
         "type": "box",
         "y": [
          null,
          null,
          null,
          null,
          null,
          null,
          null,
          null,
          null,
          null,
          null,
          null,
          null,
          null,
          null,
          null,
          null,
          null,
          null,
          18577.5,
          18538.8,
          18669.7,
          18789.7,
          21346.8,
          16837.4,
          18505.5,
          6859.1,
          10003.6,
          13047.3,
          17160.02,
          17798.5,
          17790.09,
          14852.7,
          20364.4,
          17513.6,
          20411.8,
          23205.4,
          17437.5,
          16176,
          19051,
          18450.9,
          17592.9,
          19461.7,
          18761.6,
          16398.6,
          15950,
          23672.1,
          20464.7,
          15000.3,
          15373,
          18501.4,
          16194.9
         ]
        },
        {
         "boxpoints": false,
         "line": {
          "width": 1.3
         },
         "marker": {
          "color": "rgba(255, 181, 184, 1.0)"
         },
         "name": "Natali Karen Litano Silupu",
         "orientation": "v",
         "type": "box",
         "y": [
          null,
          null,
          null,
          null,
          null,
          null,
          null,
          null,
          null,
          null,
          null,
          18533.2,
          18516.6,
          15020.5,
          16924,
          14828.4,
          12259.9,
          14805.6,
          18506.6,
          13082.6,
          8631.8,
          10330.6,
          11075.9,
          9579.6,
          11258.7,
          8570.7,
          6363.9,
          10051.3,
          11377,
          12533.7,
          14420.76,
          11039.6,
          6853.7,
          6145.1,
          6410.2,
          11488.6,
          9341.2,
          9629.2,
          5892.5,
          12565.9,
          7423.3,
          6521.1,
          10589.4,
          6720.8,
          8203.3,
          14016.3,
          12064.5,
          8121.3,
          6891,
          8428.5,
          7062.9,
          6228
         ]
        },
        {
         "boxpoints": false,
         "line": {
          "width": 1.3
         },
         "marker": {
          "color": "rgba(255, 181, 184, 0.8999999999999999)"
         },
         "name": "Rosa Concepcion Ruiz De Abad",
         "orientation": "v",
         "type": "box",
         "y": [
          20708.13,
          20094.5,
          22719.6,
          19883.2,
          14577.1,
          18519.8,
          16235.3,
          16977.7,
          21585.4,
          22197.9,
          23651.7,
          26407.2,
          23834.1,
          21361.5,
          22518,
          23737.9,
          25163.9,
          23182.5,
          25257.5,
          21360.1,
          22700.2,
          27290.3,
          25837.4,
          20760.4,
          22869.4,
          22345.1,
          6500.1,
          12524.2,
          11389.6,
          15337.16,
          15213.2,
          12414.73,
          14627.1,
          17494.1,
          17760.3,
          18510.1,
          22538.1,
          13647.9,
          7745.6,
          8999.7,
          10582.1,
          12009.4,
          11711.7,
          11049.2,
          14030.3,
          14009.1,
          17606.1,
          16605.8,
          15071.1,
          16814.7,
          17614.4,
          19846.2
         ]
        },
        {
         "boxpoints": false,
         "line": {
          "width": 1.3
         },
         "marker": {
          "color": "rgba(226, 74, 51, 0.8999999999999999)"
         },
         "name": "Rosario Elizabe Lazo Ramirez",
         "orientation": "v",
         "type": "box",
         "y": [
          57296.37,
          58918.8,
          47040.6,
          46605.6,
          44148.9,
          33310.5,
          30082.5,
          27604.3,
          38460.7,
          47387.4,
          51469.1,
          31964.5,
          29281.2,
          30424,
          34902.1,
          37738.7,
          37327.6,
          39584.5,
          42614.9,
          33302.7,
          31090.7,
          32986.3,
          30611.8,
          32225.8,
          31788.7,
          30263.8,
          9907.9,
          26715,
          28880.7,
          31073.1,
          33657.7,
          26730.59,
          26644,
          34406.6,
          33194.9,
          32642,
          30066.6,
          26167.6,
          24916.4,
          23319.3,
          27872.5,
          27773,
          26079.7,
          30074,
          32110.5,
          29135.7,
          36821.3,
          17711,
          17665,
          20282.3,
          22493.9,
          24891.4
         ]
        },
        {
         "boxpoints": false,
         "line": {
          "width": 1.3
         },
         "marker": {
          "color": "rgba(62, 111, 176, 0.8999999999999999)"
         },
         "name": "Yenit Marizela Panta Gonzales",
         "orientation": "v",
         "type": "box",
         "y": [
          null,
          null,
          null,
          null,
          null,
          19912,
          18752,
          20723.5,
          19626.1,
          15602,
          18583.3,
          22790.4,
          22002.5,
          18515.1,
          21494.1,
          19119,
          19146.9,
          18520.7,
          18675.6,
          18524.7,
          19323.2,
          20484.9,
          20950.2,
          19337.9,
          27878.6,
          25143.2,
          13097.4,
          28252.1,
          37403.82,
          47458.32,
          48265.4,
          53402.03,
          48304,
          54220.2,
          58977.1,
          27426.4,
          30955,
          29424.2,
          27056.6,
          26474.2,
          31718.7,
          33044.3,
          20721.8,
          22077.2,
          19385.2,
          21880.7,
          23925.3,
          18599.9,
          19063.6,
          19998.3,
          22242.1,
          21798.9
         ]
        },
        {
         "boxpoints": false,
         "line": {
          "width": 1.3
         },
         "marker": {
          "color": "rgba(132, 118, 202, 0.8999999999999999)"
         },
         "name": "Yessica Lizbeth Panta Gonzales",
         "orientation": "v",
         "type": "box",
         "y": [
          null,
          null,
          null,
          null,
          null,
          null,
          null,
          null,
          null,
          null,
          null,
          null,
          null,
          null,
          null,
          null,
          null,
          null,
          null,
          null,
          null,
          null,
          null,
          null,
          null,
          null,
          null,
          null,
          null,
          null,
          null,
          null,
          null,
          null,
          null,
          21526.2,
          22892,
          20952,
          18180.4,
          16030.8,
          20533.9,
          20550.3,
          22786.6,
          20290.6,
          23577.7,
          23898.3,
          24125.8,
          20697.7,
          12937.8,
          17113,
          14690.9,
          13108.7
         ]
        }
       ],
       "layout": {
        "legend": {
         "bgcolor": "#FFFFFF",
         "font": {
          "color": "#666666"
         }
        },
        "paper_bgcolor": "#FFFFFF",
        "plot_bgcolor": "#E5E5E5",
        "template": {
         "data": {
          "bar": [
           {
            "error_x": {
             "color": "#2a3f5f"
            },
            "error_y": {
             "color": "#2a3f5f"
            },
            "marker": {
             "line": {
              "color": "#E5ECF6",
              "width": 0.5
             },
             "pattern": {
              "fillmode": "overlay",
              "size": 10,
              "solidity": 0.2
             }
            },
            "type": "bar"
           }
          ],
          "barpolar": [
           {
            "marker": {
             "line": {
              "color": "#E5ECF6",
              "width": 0.5
             },
             "pattern": {
              "fillmode": "overlay",
              "size": 10,
              "solidity": 0.2
             }
            },
            "type": "barpolar"
           }
          ],
          "carpet": [
           {
            "aaxis": {
             "endlinecolor": "#2a3f5f",
             "gridcolor": "white",
             "linecolor": "white",
             "minorgridcolor": "white",
             "startlinecolor": "#2a3f5f"
            },
            "baxis": {
             "endlinecolor": "#2a3f5f",
             "gridcolor": "white",
             "linecolor": "white",
             "minorgridcolor": "white",
             "startlinecolor": "#2a3f5f"
            },
            "type": "carpet"
           }
          ],
          "choropleth": [
           {
            "colorbar": {
             "outlinewidth": 0,
             "ticks": ""
            },
            "type": "choropleth"
           }
          ],
          "contour": [
           {
            "colorbar": {
             "outlinewidth": 0,
             "ticks": ""
            },
            "colorscale": [
             [
              0,
              "#0d0887"
             ],
             [
              0.1111111111111111,
              "#46039f"
             ],
             [
              0.2222222222222222,
              "#7201a8"
             ],
             [
              0.3333333333333333,
              "#9c179e"
             ],
             [
              0.4444444444444444,
              "#bd3786"
             ],
             [
              0.5555555555555556,
              "#d8576b"
             ],
             [
              0.6666666666666666,
              "#ed7953"
             ],
             [
              0.7777777777777778,
              "#fb9f3a"
             ],
             [
              0.8888888888888888,
              "#fdca26"
             ],
             [
              1,
              "#f0f921"
             ]
            ],
            "type": "contour"
           }
          ],
          "contourcarpet": [
           {
            "colorbar": {
             "outlinewidth": 0,
             "ticks": ""
            },
            "type": "contourcarpet"
           }
          ],
          "heatmap": [
           {
            "colorbar": {
             "outlinewidth": 0,
             "ticks": ""
            },
            "colorscale": [
             [
              0,
              "#0d0887"
             ],
             [
              0.1111111111111111,
              "#46039f"
             ],
             [
              0.2222222222222222,
              "#7201a8"
             ],
             [
              0.3333333333333333,
              "#9c179e"
             ],
             [
              0.4444444444444444,
              "#bd3786"
             ],
             [
              0.5555555555555556,
              "#d8576b"
             ],
             [
              0.6666666666666666,
              "#ed7953"
             ],
             [
              0.7777777777777778,
              "#fb9f3a"
             ],
             [
              0.8888888888888888,
              "#fdca26"
             ],
             [
              1,
              "#f0f921"
             ]
            ],
            "type": "heatmap"
           }
          ],
          "heatmapgl": [
           {
            "colorbar": {
             "outlinewidth": 0,
             "ticks": ""
            },
            "colorscale": [
             [
              0,
              "#0d0887"
             ],
             [
              0.1111111111111111,
              "#46039f"
             ],
             [
              0.2222222222222222,
              "#7201a8"
             ],
             [
              0.3333333333333333,
              "#9c179e"
             ],
             [
              0.4444444444444444,
              "#bd3786"
             ],
             [
              0.5555555555555556,
              "#d8576b"
             ],
             [
              0.6666666666666666,
              "#ed7953"
             ],
             [
              0.7777777777777778,
              "#fb9f3a"
             ],
             [
              0.8888888888888888,
              "#fdca26"
             ],
             [
              1,
              "#f0f921"
             ]
            ],
            "type": "heatmapgl"
           }
          ],
          "histogram": [
           {
            "marker": {
             "pattern": {
              "fillmode": "overlay",
              "size": 10,
              "solidity": 0.2
             }
            },
            "type": "histogram"
           }
          ],
          "histogram2d": [
           {
            "colorbar": {
             "outlinewidth": 0,
             "ticks": ""
            },
            "colorscale": [
             [
              0,
              "#0d0887"
             ],
             [
              0.1111111111111111,
              "#46039f"
             ],
             [
              0.2222222222222222,
              "#7201a8"
             ],
             [
              0.3333333333333333,
              "#9c179e"
             ],
             [
              0.4444444444444444,
              "#bd3786"
             ],
             [
              0.5555555555555556,
              "#d8576b"
             ],
             [
              0.6666666666666666,
              "#ed7953"
             ],
             [
              0.7777777777777778,
              "#fb9f3a"
             ],
             [
              0.8888888888888888,
              "#fdca26"
             ],
             [
              1,
              "#f0f921"
             ]
            ],
            "type": "histogram2d"
           }
          ],
          "histogram2dcontour": [
           {
            "colorbar": {
             "outlinewidth": 0,
             "ticks": ""
            },
            "colorscale": [
             [
              0,
              "#0d0887"
             ],
             [
              0.1111111111111111,
              "#46039f"
             ],
             [
              0.2222222222222222,
              "#7201a8"
             ],
             [
              0.3333333333333333,
              "#9c179e"
             ],
             [
              0.4444444444444444,
              "#bd3786"
             ],
             [
              0.5555555555555556,
              "#d8576b"
             ],
             [
              0.6666666666666666,
              "#ed7953"
             ],
             [
              0.7777777777777778,
              "#fb9f3a"
             ],
             [
              0.8888888888888888,
              "#fdca26"
             ],
             [
              1,
              "#f0f921"
             ]
            ],
            "type": "histogram2dcontour"
           }
          ],
          "mesh3d": [
           {
            "colorbar": {
             "outlinewidth": 0,
             "ticks": ""
            },
            "type": "mesh3d"
           }
          ],
          "parcoords": [
           {
            "line": {
             "colorbar": {
              "outlinewidth": 0,
              "ticks": ""
             }
            },
            "type": "parcoords"
           }
          ],
          "pie": [
           {
            "automargin": true,
            "type": "pie"
           }
          ],
          "scatter": [
           {
            "fillpattern": {
             "fillmode": "overlay",
             "size": 10,
             "solidity": 0.2
            },
            "type": "scatter"
           }
          ],
          "scatter3d": [
           {
            "line": {
             "colorbar": {
              "outlinewidth": 0,
              "ticks": ""
             }
            },
            "marker": {
             "colorbar": {
              "outlinewidth": 0,
              "ticks": ""
             }
            },
            "type": "scatter3d"
           }
          ],
          "scattercarpet": [
           {
            "marker": {
             "colorbar": {
              "outlinewidth": 0,
              "ticks": ""
             }
            },
            "type": "scattercarpet"
           }
          ],
          "scattergeo": [
           {
            "marker": {
             "colorbar": {
              "outlinewidth": 0,
              "ticks": ""
             }
            },
            "type": "scattergeo"
           }
          ],
          "scattergl": [
           {
            "marker": {
             "colorbar": {
              "outlinewidth": 0,
              "ticks": ""
             }
            },
            "type": "scattergl"
           }
          ],
          "scattermapbox": [
           {
            "marker": {
             "colorbar": {
              "outlinewidth": 0,
              "ticks": ""
             }
            },
            "type": "scattermapbox"
           }
          ],
          "scatterpolar": [
           {
            "marker": {
             "colorbar": {
              "outlinewidth": 0,
              "ticks": ""
             }
            },
            "type": "scatterpolar"
           }
          ],
          "scatterpolargl": [
           {
            "marker": {
             "colorbar": {
              "outlinewidth": 0,
              "ticks": ""
             }
            },
            "type": "scatterpolargl"
           }
          ],
          "scatterternary": [
           {
            "marker": {
             "colorbar": {
              "outlinewidth": 0,
              "ticks": ""
             }
            },
            "type": "scatterternary"
           }
          ],
          "surface": [
           {
            "colorbar": {
             "outlinewidth": 0,
             "ticks": ""
            },
            "colorscale": [
             [
              0,
              "#0d0887"
             ],
             [
              0.1111111111111111,
              "#46039f"
             ],
             [
              0.2222222222222222,
              "#7201a8"
             ],
             [
              0.3333333333333333,
              "#9c179e"
             ],
             [
              0.4444444444444444,
              "#bd3786"
             ],
             [
              0.5555555555555556,
              "#d8576b"
             ],
             [
              0.6666666666666666,
              "#ed7953"
             ],
             [
              0.7777777777777778,
              "#fb9f3a"
             ],
             [
              0.8888888888888888,
              "#fdca26"
             ],
             [
              1,
              "#f0f921"
             ]
            ],
            "type": "surface"
           }
          ],
          "table": [
           {
            "cells": {
             "fill": {
              "color": "#EBF0F8"
             },
             "line": {
              "color": "white"
             }
            },
            "header": {
             "fill": {
              "color": "#C8D4E3"
             },
             "line": {
              "color": "white"
             }
            },
            "type": "table"
           }
          ]
         },
         "layout": {
          "annotationdefaults": {
           "arrowcolor": "#2a3f5f",
           "arrowhead": 0,
           "arrowwidth": 1
          },
          "autotypenumbers": "strict",
          "coloraxis": {
           "colorbar": {
            "outlinewidth": 0,
            "ticks": ""
           }
          },
          "colorscale": {
           "diverging": [
            [
             0,
             "#8e0152"
            ],
            [
             0.1,
             "#c51b7d"
            ],
            [
             0.2,
             "#de77ae"
            ],
            [
             0.3,
             "#f1b6da"
            ],
            [
             0.4,
             "#fde0ef"
            ],
            [
             0.5,
             "#f7f7f7"
            ],
            [
             0.6,
             "#e6f5d0"
            ],
            [
             0.7,
             "#b8e186"
            ],
            [
             0.8,
             "#7fbc41"
            ],
            [
             0.9,
             "#4d9221"
            ],
            [
             1,
             "#276419"
            ]
           ],
           "sequential": [
            [
             0,
             "#0d0887"
            ],
            [
             0.1111111111111111,
             "#46039f"
            ],
            [
             0.2222222222222222,
             "#7201a8"
            ],
            [
             0.3333333333333333,
             "#9c179e"
            ],
            [
             0.4444444444444444,
             "#bd3786"
            ],
            [
             0.5555555555555556,
             "#d8576b"
            ],
            [
             0.6666666666666666,
             "#ed7953"
            ],
            [
             0.7777777777777778,
             "#fb9f3a"
            ],
            [
             0.8888888888888888,
             "#fdca26"
            ],
            [
             1,
             "#f0f921"
            ]
           ],
           "sequentialminus": [
            [
             0,
             "#0d0887"
            ],
            [
             0.1111111111111111,
             "#46039f"
            ],
            [
             0.2222222222222222,
             "#7201a8"
            ],
            [
             0.3333333333333333,
             "#9c179e"
            ],
            [
             0.4444444444444444,
             "#bd3786"
            ],
            [
             0.5555555555555556,
             "#d8576b"
            ],
            [
             0.6666666666666666,
             "#ed7953"
            ],
            [
             0.7777777777777778,
             "#fb9f3a"
            ],
            [
             0.8888888888888888,
             "#fdca26"
            ],
            [
             1,
             "#f0f921"
            ]
           ]
          },
          "colorway": [
           "#636efa",
           "#EF553B",
           "#00cc96",
           "#ab63fa",
           "#FFA15A",
           "#19d3f3",
           "#FF6692",
           "#B6E880",
           "#FF97FF",
           "#FECB52"
          ],
          "font": {
           "color": "#2a3f5f"
          },
          "geo": {
           "bgcolor": "white",
           "lakecolor": "white",
           "landcolor": "#E5ECF6",
           "showlakes": true,
           "showland": true,
           "subunitcolor": "white"
          },
          "hoverlabel": {
           "align": "left"
          },
          "hovermode": "closest",
          "mapbox": {
           "style": "light"
          },
          "paper_bgcolor": "white",
          "plot_bgcolor": "#E5ECF6",
          "polar": {
           "angularaxis": {
            "gridcolor": "white",
            "linecolor": "white",
            "ticks": ""
           },
           "bgcolor": "#E5ECF6",
           "radialaxis": {
            "gridcolor": "white",
            "linecolor": "white",
            "ticks": ""
           }
          },
          "scene": {
           "xaxis": {
            "backgroundcolor": "#E5ECF6",
            "gridcolor": "white",
            "gridwidth": 2,
            "linecolor": "white",
            "showbackground": true,
            "ticks": "",
            "zerolinecolor": "white"
           },
           "yaxis": {
            "backgroundcolor": "#E5ECF6",
            "gridcolor": "white",
            "gridwidth": 2,
            "linecolor": "white",
            "showbackground": true,
            "ticks": "",
            "zerolinecolor": "white"
           },
           "zaxis": {
            "backgroundcolor": "#E5ECF6",
            "gridcolor": "white",
            "gridwidth": 2,
            "linecolor": "white",
            "showbackground": true,
            "ticks": "",
            "zerolinecolor": "white"
           }
          },
          "shapedefaults": {
           "line": {
            "color": "#2a3f5f"
           }
          },
          "ternary": {
           "aaxis": {
            "gridcolor": "white",
            "linecolor": "white",
            "ticks": ""
           },
           "baxis": {
            "gridcolor": "white",
            "linecolor": "white",
            "ticks": ""
           },
           "bgcolor": "#E5ECF6",
           "caxis": {
            "gridcolor": "white",
            "linecolor": "white",
            "ticks": ""
           }
          },
          "title": {
           "x": 0.05
          },
          "xaxis": {
           "automargin": true,
           "gridcolor": "white",
           "linecolor": "white",
           "ticks": "",
           "title": {
            "standoff": 15
           },
           "zerolinecolor": "white",
           "zerolinewidth": 2
          },
          "yaxis": {
           "automargin": true,
           "gridcolor": "white",
           "linecolor": "white",
           "ticks": "",
           "title": {
            "standoff": 15
           },
           "zerolinecolor": "white",
           "zerolinewidth": 2
          }
         }
        },
        "title": {
         "font": {
          "color": "#151516"
         }
        },
        "xaxis": {
         "gridcolor": "#F6F6F6",
         "showgrid": true,
         "tickfont": {
          "color": "#666666"
         },
         "title": {
          "font": {
           "color": "#666666"
          },
          "text": "Nombre"
         },
         "zerolinecolor": "#F6F6F6"
        },
        "yaxis": {
         "gridcolor": "#F6F6F6",
         "showgrid": true,
         "tickfont": {
          "color": "#666666"
         },
         "title": {
          "font": {
           "color": "#666666"
          },
          "text": "Venta Publica Grupal"
         },
         "zerolinecolor": "#F6F6F6"
        }
       }
      },
      "text/html": [
       "<div>                            <div id=\"d03740f8-bad6-4898-89dd-804140c8eea6\" class=\"plotly-graph-div\" style=\"height:525px; width:100%;\"></div>            <script type=\"text/javascript\">                require([\"plotly\"], function(Plotly) {                    window.PLOTLYENV=window.PLOTLYENV || {};\n",
       "                    window.PLOTLYENV.BASE_URL='https://plot.ly';                                    if (document.getElementById(\"d03740f8-bad6-4898-89dd-804140c8eea6\")) {                    Plotly.newPlot(                        \"d03740f8-bad6-4898-89dd-804140c8eea6\",                        [{\"boxpoints\":false,\"line\":{\"width\":1.3},\"marker\":{\"color\":\"rgba(226, 74, 51, 1.0)\"},\"name\":\"Ana Fabiola Huancas Ruiz\",\"orientation\":\"v\",\"y\":[19491.01,13730.7,14277.4,13249.4,14568.4,16283.6,13934.0,10814.9,10531.1,null,null,null,null,null,null,null,null,null,null,null,null,null,null,null,null,null,null,null,null,null,null,null,null,null,null,null,null,null,null,null,null,null,null,null,null,null,null,null,null,null,null,null],\"type\":\"box\"},{\"boxpoints\":false,\"line\":{\"width\":1.3},\"marker\":{\"color\":\"rgba(62, 111, 176, 1.0)\"},\"name\":\"Blanca Susana Severino Carre\\u00f1o De Berru\",\"orientation\":\"v\",\"y\":[null,null,21477.0,19283.5,21202.2,24378.6,23960.5,16818.3,21418.5,16866.3,14161.1,14889.7,15895.7,13449.7,11034.0,9851.8,11036.6,12153.2,11971.8,null,null,null,null,null,null,null,null,null,null,null,null,null,null,null,null,null,null,null,null,null,null,null,null,null,null,null,null,15011.0,17232.8,18590.2,17244.6,17001.2],\"type\":\"box\"},{\"boxpoints\":false,\"line\":{\"width\":1.3},\"marker\":{\"color\":\"rgba(132, 118, 202, 1.0)\"},\"name\":\"ELENA ELIZABETH CHERO RUIZ\",\"orientation\":\"v\",\"y\":[null,null,null,null,null,null,null,null,null,null,null,null,null,null,null,null,null,null,null,null,null,null,null,null,null,null,null,null,null,null,null,null,null,null,null,18559.5,18549.9,14106.1,14400.7,13789.5,15220.3,18616.0,22061.2,19452.9,20698.8,19458.5,19108.6,16319.3,16263.4,15280.2,16020.8,12118.8],\"type\":\"box\"},{\"boxpoints\":false,\"line\":{\"width\":1.3},\"marker\":{\"color\":\"rgba(101, 101, 101, 1.0)\"},\"name\":\"Imelda Chamba Ni\\u00f1o\",\"orientation\":\"v\",\"y\":[19724.47,20779.0,23367.6,20940.8,17509.5,16256.4,16642.9,18525.5,18990.4,19796.4,19421.2,19001.2,18503.6,18673.6,21481.8,19965.3,18523.1,16843.6,18549.9,18684.5,18526.1,19992.5,18600.6,20305.1,18672.7,15234.7,4924.3,7135.7,8758.3,12934.0,13177.32,12652.71,12678.3,13052.9,17090.3,14708.5,14372.9,12384.5,11525.3,9501.0,9602.8,7763.9,8196.4,11237.4,15139.1,15044.5,15214.8,13835.9,15018.3,12637.9,13733.0,11780.6],\"type\":\"box\"},{\"boxpoints\":false,\"line\":{\"width\":1.3},\"marker\":{\"color\":\"rgba(251, 193, 94, 1.0)\"},\"name\":\"Lesly Anali Valladolid Silva\",\"orientation\":\"v\",\"y\":[null,null,null,null,null,null,null,null,null,null,null,null,null,null,null,null,null,null,null,null,null,null,null,null,null,null,null,null,null,null,null,null,null,null,null,null,null,null,null,null,null,null,11473.1,13401.3,11511.5,12359.7,15036.0,7580.0,9260.5,8205.2,6799.1,5861.0],\"type\":\"box\"},{\"boxpoints\":false,\"line\":{\"width\":1.3},\"marker\":{\"color\":\"rgba(142, 186, 66, 1.0)\"},\"name\":\"Luis Miguel Tupac Yupanqui Lazo\",\"orientation\":\"v\",\"y\":[null,null,null,null,null,null,null,null,null,null,null,null,null,null,null,null,null,null,null,18577.5,18538.8,18669.7,18789.7,21346.8,16837.4,18505.5,6859.1,10003.6,13047.3,17160.02,17798.5,17790.09,14852.7,20364.4,17513.6,20411.8,23205.4,17437.5,16176.0,19051.0,18450.9,17592.9,19461.7,18761.6,16398.6,15950.0,23672.1,20464.7,15000.3,15373.0,18501.4,16194.9],\"type\":\"box\"},{\"boxpoints\":false,\"line\":{\"width\":1.3},\"marker\":{\"color\":\"rgba(255, 181, 184, 1.0)\"},\"name\":\"Natali Karen Litano Silupu\",\"orientation\":\"v\",\"y\":[null,null,null,null,null,null,null,null,null,null,null,18533.2,18516.6,15020.5,16924.0,14828.4,12259.9,14805.6,18506.6,13082.6,8631.8,10330.6,11075.9,9579.6,11258.7,8570.7,6363.9,10051.3,11377.0,12533.7,14420.76,11039.6,6853.7,6145.1,6410.2,11488.6,9341.2,9629.2,5892.5,12565.9,7423.3,6521.1,10589.4,6720.8,8203.3,14016.3,12064.5,8121.3,6891.0,8428.5,7062.9,6228.0],\"type\":\"box\"},{\"boxpoints\":false,\"line\":{\"width\":1.3},\"marker\":{\"color\":\"rgba(255, 181, 184, 0.8999999999999999)\"},\"name\":\"Rosa Concepcion Ruiz De Abad\",\"orientation\":\"v\",\"y\":[20708.13,20094.5,22719.6,19883.2,14577.1,18519.8,16235.3,16977.7,21585.4,22197.9,23651.7,26407.2,23834.1,21361.5,22518.0,23737.9,25163.9,23182.5,25257.5,21360.1,22700.2,27290.3,25837.4,20760.4,22869.4,22345.1,6500.1,12524.2,11389.6,15337.16,15213.2,12414.73,14627.1,17494.1,17760.3,18510.1,22538.1,13647.9,7745.6,8999.7,10582.1,12009.4,11711.7,11049.2,14030.3,14009.1,17606.1,16605.8,15071.1,16814.7,17614.4,19846.2],\"type\":\"box\"},{\"boxpoints\":false,\"line\":{\"width\":1.3},\"marker\":{\"color\":\"rgba(226, 74, 51, 0.8999999999999999)\"},\"name\":\"Rosario Elizabe Lazo Ramirez\",\"orientation\":\"v\",\"y\":[57296.37,58918.8,47040.6,46605.6,44148.9,33310.5,30082.5,27604.3,38460.7,47387.4,51469.1,31964.5,29281.2,30424.0,34902.1,37738.7,37327.6,39584.5,42614.9,33302.7,31090.7,32986.3,30611.8,32225.8,31788.7,30263.8,9907.9,26715.0,28880.7,31073.1,33657.7,26730.59,26644.0,34406.6,33194.9,32642.0,30066.6,26167.6,24916.4,23319.3,27872.5,27773.0,26079.7,30074.0,32110.5,29135.7,36821.3,17711.0,17665.0,20282.3,22493.9,24891.4],\"type\":\"box\"},{\"boxpoints\":false,\"line\":{\"width\":1.3},\"marker\":{\"color\":\"rgba(62, 111, 176, 0.8999999999999999)\"},\"name\":\"Yenit Marizela Panta Gonzales\",\"orientation\":\"v\",\"y\":[null,null,null,null,null,19912.0,18752.0,20723.5,19626.1,15602.0,18583.3,22790.4,22002.5,18515.1,21494.1,19119.0,19146.9,18520.7,18675.6,18524.7,19323.2,20484.9,20950.2,19337.9,27878.6,25143.2,13097.4,28252.1,37403.82,47458.32,48265.4,53402.03,48304.0,54220.2,58977.1,27426.4,30955.0,29424.2,27056.6,26474.2,31718.7,33044.3,20721.8,22077.2,19385.2,21880.7,23925.3,18599.9,19063.6,19998.3,22242.1,21798.9],\"type\":\"box\"},{\"boxpoints\":false,\"line\":{\"width\":1.3},\"marker\":{\"color\":\"rgba(132, 118, 202, 0.8999999999999999)\"},\"name\":\"Yessica Lizbeth Panta Gonzales\",\"orientation\":\"v\",\"y\":[null,null,null,null,null,null,null,null,null,null,null,null,null,null,null,null,null,null,null,null,null,null,null,null,null,null,null,null,null,null,null,null,null,null,null,21526.2,22892.0,20952.0,18180.4,16030.8,20533.9,20550.3,22786.6,20290.6,23577.7,23898.3,24125.8,20697.7,12937.8,17113.0,14690.9,13108.7],\"type\":\"box\"}],                        {\"legend\":{\"bgcolor\":\"#FFFFFF\",\"font\":{\"color\":\"#666666\"}},\"paper_bgcolor\":\"#FFFFFF\",\"plot_bgcolor\":\"#E5E5E5\",\"template\":{\"data\":{\"barpolar\":[{\"marker\":{\"line\":{\"color\":\"#E5ECF6\",\"width\":0.5},\"pattern\":{\"fillmode\":\"overlay\",\"size\":10,\"solidity\":0.2}},\"type\":\"barpolar\"}],\"bar\":[{\"error_x\":{\"color\":\"#2a3f5f\"},\"error_y\":{\"color\":\"#2a3f5f\"},\"marker\":{\"line\":{\"color\":\"#E5ECF6\",\"width\":0.5},\"pattern\":{\"fillmode\":\"overlay\",\"size\":10,\"solidity\":0.2}},\"type\":\"bar\"}],\"carpet\":[{\"aaxis\":{\"endlinecolor\":\"#2a3f5f\",\"gridcolor\":\"white\",\"linecolor\":\"white\",\"minorgridcolor\":\"white\",\"startlinecolor\":\"#2a3f5f\"},\"baxis\":{\"endlinecolor\":\"#2a3f5f\",\"gridcolor\":\"white\",\"linecolor\":\"white\",\"minorgridcolor\":\"white\",\"startlinecolor\":\"#2a3f5f\"},\"type\":\"carpet\"}],\"choropleth\":[{\"colorbar\":{\"outlinewidth\":0,\"ticks\":\"\"},\"type\":\"choropleth\"}],\"contourcarpet\":[{\"colorbar\":{\"outlinewidth\":0,\"ticks\":\"\"},\"type\":\"contourcarpet\"}],\"contour\":[{\"colorbar\":{\"outlinewidth\":0,\"ticks\":\"\"},\"colorscale\":[[0.0,\"#0d0887\"],[0.1111111111111111,\"#46039f\"],[0.2222222222222222,\"#7201a8\"],[0.3333333333333333,\"#9c179e\"],[0.4444444444444444,\"#bd3786\"],[0.5555555555555556,\"#d8576b\"],[0.6666666666666666,\"#ed7953\"],[0.7777777777777778,\"#fb9f3a\"],[0.8888888888888888,\"#fdca26\"],[1.0,\"#f0f921\"]],\"type\":\"contour\"}],\"heatmapgl\":[{\"colorbar\":{\"outlinewidth\":0,\"ticks\":\"\"},\"colorscale\":[[0.0,\"#0d0887\"],[0.1111111111111111,\"#46039f\"],[0.2222222222222222,\"#7201a8\"],[0.3333333333333333,\"#9c179e\"],[0.4444444444444444,\"#bd3786\"],[0.5555555555555556,\"#d8576b\"],[0.6666666666666666,\"#ed7953\"],[0.7777777777777778,\"#fb9f3a\"],[0.8888888888888888,\"#fdca26\"],[1.0,\"#f0f921\"]],\"type\":\"heatmapgl\"}],\"heatmap\":[{\"colorbar\":{\"outlinewidth\":0,\"ticks\":\"\"},\"colorscale\":[[0.0,\"#0d0887\"],[0.1111111111111111,\"#46039f\"],[0.2222222222222222,\"#7201a8\"],[0.3333333333333333,\"#9c179e\"],[0.4444444444444444,\"#bd3786\"],[0.5555555555555556,\"#d8576b\"],[0.6666666666666666,\"#ed7953\"],[0.7777777777777778,\"#fb9f3a\"],[0.8888888888888888,\"#fdca26\"],[1.0,\"#f0f921\"]],\"type\":\"heatmap\"}],\"histogram2dcontour\":[{\"colorbar\":{\"outlinewidth\":0,\"ticks\":\"\"},\"colorscale\":[[0.0,\"#0d0887\"],[0.1111111111111111,\"#46039f\"],[0.2222222222222222,\"#7201a8\"],[0.3333333333333333,\"#9c179e\"],[0.4444444444444444,\"#bd3786\"],[0.5555555555555556,\"#d8576b\"],[0.6666666666666666,\"#ed7953\"],[0.7777777777777778,\"#fb9f3a\"],[0.8888888888888888,\"#fdca26\"],[1.0,\"#f0f921\"]],\"type\":\"histogram2dcontour\"}],\"histogram2d\":[{\"colorbar\":{\"outlinewidth\":0,\"ticks\":\"\"},\"colorscale\":[[0.0,\"#0d0887\"],[0.1111111111111111,\"#46039f\"],[0.2222222222222222,\"#7201a8\"],[0.3333333333333333,\"#9c179e\"],[0.4444444444444444,\"#bd3786\"],[0.5555555555555556,\"#d8576b\"],[0.6666666666666666,\"#ed7953\"],[0.7777777777777778,\"#fb9f3a\"],[0.8888888888888888,\"#fdca26\"],[1.0,\"#f0f921\"]],\"type\":\"histogram2d\"}],\"histogram\":[{\"marker\":{\"pattern\":{\"fillmode\":\"overlay\",\"size\":10,\"solidity\":0.2}},\"type\":\"histogram\"}],\"mesh3d\":[{\"colorbar\":{\"outlinewidth\":0,\"ticks\":\"\"},\"type\":\"mesh3d\"}],\"parcoords\":[{\"line\":{\"colorbar\":{\"outlinewidth\":0,\"ticks\":\"\"}},\"type\":\"parcoords\"}],\"pie\":[{\"automargin\":true,\"type\":\"pie\"}],\"scatter3d\":[{\"line\":{\"colorbar\":{\"outlinewidth\":0,\"ticks\":\"\"}},\"marker\":{\"colorbar\":{\"outlinewidth\":0,\"ticks\":\"\"}},\"type\":\"scatter3d\"}],\"scattercarpet\":[{\"marker\":{\"colorbar\":{\"outlinewidth\":0,\"ticks\":\"\"}},\"type\":\"scattercarpet\"}],\"scattergeo\":[{\"marker\":{\"colorbar\":{\"outlinewidth\":0,\"ticks\":\"\"}},\"type\":\"scattergeo\"}],\"scattergl\":[{\"marker\":{\"colorbar\":{\"outlinewidth\":0,\"ticks\":\"\"}},\"type\":\"scattergl\"}],\"scattermapbox\":[{\"marker\":{\"colorbar\":{\"outlinewidth\":0,\"ticks\":\"\"}},\"type\":\"scattermapbox\"}],\"scatterpolargl\":[{\"marker\":{\"colorbar\":{\"outlinewidth\":0,\"ticks\":\"\"}},\"type\":\"scatterpolargl\"}],\"scatterpolar\":[{\"marker\":{\"colorbar\":{\"outlinewidth\":0,\"ticks\":\"\"}},\"type\":\"scatterpolar\"}],\"scatter\":[{\"fillpattern\":{\"fillmode\":\"overlay\",\"size\":10,\"solidity\":0.2},\"type\":\"scatter\"}],\"scatterternary\":[{\"marker\":{\"colorbar\":{\"outlinewidth\":0,\"ticks\":\"\"}},\"type\":\"scatterternary\"}],\"surface\":[{\"colorbar\":{\"outlinewidth\":0,\"ticks\":\"\"},\"colorscale\":[[0.0,\"#0d0887\"],[0.1111111111111111,\"#46039f\"],[0.2222222222222222,\"#7201a8\"],[0.3333333333333333,\"#9c179e\"],[0.4444444444444444,\"#bd3786\"],[0.5555555555555556,\"#d8576b\"],[0.6666666666666666,\"#ed7953\"],[0.7777777777777778,\"#fb9f3a\"],[0.8888888888888888,\"#fdca26\"],[1.0,\"#f0f921\"]],\"type\":\"surface\"}],\"table\":[{\"cells\":{\"fill\":{\"color\":\"#EBF0F8\"},\"line\":{\"color\":\"white\"}},\"header\":{\"fill\":{\"color\":\"#C8D4E3\"},\"line\":{\"color\":\"white\"}},\"type\":\"table\"}]},\"layout\":{\"annotationdefaults\":{\"arrowcolor\":\"#2a3f5f\",\"arrowhead\":0,\"arrowwidth\":1},\"autotypenumbers\":\"strict\",\"coloraxis\":{\"colorbar\":{\"outlinewidth\":0,\"ticks\":\"\"}},\"colorscale\":{\"diverging\":[[0,\"#8e0152\"],[0.1,\"#c51b7d\"],[0.2,\"#de77ae\"],[0.3,\"#f1b6da\"],[0.4,\"#fde0ef\"],[0.5,\"#f7f7f7\"],[0.6,\"#e6f5d0\"],[0.7,\"#b8e186\"],[0.8,\"#7fbc41\"],[0.9,\"#4d9221\"],[1,\"#276419\"]],\"sequential\":[[0.0,\"#0d0887\"],[0.1111111111111111,\"#46039f\"],[0.2222222222222222,\"#7201a8\"],[0.3333333333333333,\"#9c179e\"],[0.4444444444444444,\"#bd3786\"],[0.5555555555555556,\"#d8576b\"],[0.6666666666666666,\"#ed7953\"],[0.7777777777777778,\"#fb9f3a\"],[0.8888888888888888,\"#fdca26\"],[1.0,\"#f0f921\"]],\"sequentialminus\":[[0.0,\"#0d0887\"],[0.1111111111111111,\"#46039f\"],[0.2222222222222222,\"#7201a8\"],[0.3333333333333333,\"#9c179e\"],[0.4444444444444444,\"#bd3786\"],[0.5555555555555556,\"#d8576b\"],[0.6666666666666666,\"#ed7953\"],[0.7777777777777778,\"#fb9f3a\"],[0.8888888888888888,\"#fdca26\"],[1.0,\"#f0f921\"]]},\"colorway\":[\"#636efa\",\"#EF553B\",\"#00cc96\",\"#ab63fa\",\"#FFA15A\",\"#19d3f3\",\"#FF6692\",\"#B6E880\",\"#FF97FF\",\"#FECB52\"],\"font\":{\"color\":\"#2a3f5f\"},\"geo\":{\"bgcolor\":\"white\",\"lakecolor\":\"white\",\"landcolor\":\"#E5ECF6\",\"showlakes\":true,\"showland\":true,\"subunitcolor\":\"white\"},\"hoverlabel\":{\"align\":\"left\"},\"hovermode\":\"closest\",\"mapbox\":{\"style\":\"light\"},\"paper_bgcolor\":\"white\",\"plot_bgcolor\":\"#E5ECF6\",\"polar\":{\"angularaxis\":{\"gridcolor\":\"white\",\"linecolor\":\"white\",\"ticks\":\"\"},\"bgcolor\":\"#E5ECF6\",\"radialaxis\":{\"gridcolor\":\"white\",\"linecolor\":\"white\",\"ticks\":\"\"}},\"scene\":{\"xaxis\":{\"backgroundcolor\":\"#E5ECF6\",\"gridcolor\":\"white\",\"gridwidth\":2,\"linecolor\":\"white\",\"showbackground\":true,\"ticks\":\"\",\"zerolinecolor\":\"white\"},\"yaxis\":{\"backgroundcolor\":\"#E5ECF6\",\"gridcolor\":\"white\",\"gridwidth\":2,\"linecolor\":\"white\",\"showbackground\":true,\"ticks\":\"\",\"zerolinecolor\":\"white\"},\"zaxis\":{\"backgroundcolor\":\"#E5ECF6\",\"gridcolor\":\"white\",\"gridwidth\":2,\"linecolor\":\"white\",\"showbackground\":true,\"ticks\":\"\",\"zerolinecolor\":\"white\"}},\"shapedefaults\":{\"line\":{\"color\":\"#2a3f5f\"}},\"ternary\":{\"aaxis\":{\"gridcolor\":\"white\",\"linecolor\":\"white\",\"ticks\":\"\"},\"baxis\":{\"gridcolor\":\"white\",\"linecolor\":\"white\",\"ticks\":\"\"},\"bgcolor\":\"#E5ECF6\",\"caxis\":{\"gridcolor\":\"white\",\"linecolor\":\"white\",\"ticks\":\"\"}},\"title\":{\"x\":0.05},\"xaxis\":{\"automargin\":true,\"gridcolor\":\"white\",\"linecolor\":\"white\",\"ticks\":\"\",\"title\":{\"standoff\":15},\"zerolinecolor\":\"white\",\"zerolinewidth\":2},\"yaxis\":{\"automargin\":true,\"gridcolor\":\"white\",\"linecolor\":\"white\",\"ticks\":\"\",\"title\":{\"standoff\":15},\"zerolinecolor\":\"white\",\"zerolinewidth\":2}}},\"title\":{\"font\":{\"color\":\"#151516\"}},\"xaxis\":{\"gridcolor\":\"#F6F6F6\",\"showgrid\":true,\"tickfont\":{\"color\":\"#666666\"},\"title\":{\"font\":{\"color\":\"#666666\"},\"text\":\"Nombre\"},\"zerolinecolor\":\"#F6F6F6\"},\"yaxis\":{\"gridcolor\":\"#F6F6F6\",\"showgrid\":true,\"tickfont\":{\"color\":\"#666666\"},\"title\":{\"font\":{\"color\":\"#666666\"},\"text\":\"Venta Publica Grupal\"},\"zerolinecolor\":\"#F6F6F6\"}},                        {\"showLink\": true, \"linkText\": \"Export to plot.ly\", \"plotlyServerURL\": \"https://plot.ly\", \"responsive\": true}                    ).then(function(){\n",
       "                            \n",
       "var gd = document.getElementById('d03740f8-bad6-4898-89dd-804140c8eea6');\n",
       "var x = new MutationObserver(function (mutations, observer) {{\n",
       "        var display = window.getComputedStyle(gd).display;\n",
       "        if (!display || display === 'none') {{\n",
       "            console.log([gd, 'removed!']);\n",
       "            Plotly.purge(gd);\n",
       "            observer.disconnect();\n",
       "        }}\n",
       "}});\n",
       "\n",
       "// Listen for the removal of the full notebook cells\n",
       "var notebookContainer = gd.closest('#notebook-container');\n",
       "if (notebookContainer) {{\n",
       "    x.observe(notebookContainer, {childList: true});\n",
       "}}\n",
       "\n",
       "// Listen for the clearing of the current output cell\n",
       "var outputEl = gd.closest('.output');\n",
       "if (outputEl) {{\n",
       "    x.observe(outputEl, {childList: true});\n",
       "}}\n",
       "\n",
       "                        })                };                });            </script>        </div>"
      ]
     },
     "metadata": {},
     "output_type": "display_data"
    }
   ],
   "source": [
    "df_desempeno.iplot(kind='box', xTitle='Nombre',\n",
    "                    yTitle='Venta Publica Grupal')"
   ]
  },
  {
   "cell_type": "code",
   "execution_count": 24,
   "id": "f79a89cf",
   "metadata": {},
   "outputs": [
    {
     "data": {
      "application/vnd.plotly.v1+json": {
       "config": {
        "linkText": "Export to plot.ly",
        "plotlyServerURL": "https://plot.ly",
        "showLink": true
       },
       "data": [
        {
         "histfunc": "count",
         "histnorm": "",
         "marker": {
          "color": "rgba(226, 74, 51, 1.0)",
          "line": {
           "color": "#D9D9D9",
           "width": 1.3
          }
         },
         "name": "Rosario Elizabe Lazo Ramirez",
         "opacity": 0.8,
         "orientation": "v",
         "type": "histogram",
         "x": [
          57296.37,
          58918.8,
          47040.6,
          46605.6,
          44148.9,
          33310.5,
          30082.5,
          27604.3,
          38460.7,
          47387.4,
          51469.1,
          31964.5,
          29281.2,
          30424,
          34902.1,
          37738.7,
          37327.6,
          39584.5,
          42614.9,
          33302.7,
          31090.7,
          32986.3,
          30611.8,
          32225.8,
          31788.7,
          30263.8,
          9907.9,
          26715,
          28880.7,
          31073.1,
          33657.7,
          26730.59,
          26644,
          34406.6,
          33194.9,
          32642,
          30066.6,
          26167.6,
          24916.4,
          23319.3,
          27872.5,
          27773,
          26079.7,
          30074,
          32110.5,
          29135.7,
          36821.3,
          17711,
          17665,
          20282.3,
          22493.9,
          24891.4
         ]
        },
        {
         "histfunc": "count",
         "histnorm": "",
         "marker": {
          "color": "rgba(62, 111, 176, 1.0)",
          "line": {
           "color": "#D9D9D9",
           "width": 1.3
          }
         },
         "name": "Luis Miguel Tupac Yupanqui Lazo",
         "opacity": 0.8,
         "orientation": "v",
         "type": "histogram",
         "x": [
          null,
          null,
          null,
          null,
          null,
          null,
          null,
          null,
          null,
          null,
          null,
          null,
          null,
          null,
          null,
          null,
          null,
          null,
          null,
          18577.5,
          18538.8,
          18669.7,
          18789.7,
          21346.8,
          16837.4,
          18505.5,
          6859.1,
          10003.6,
          13047.3,
          17160.02,
          17798.5,
          17790.09,
          14852.7,
          20364.4,
          17513.6,
          20411.8,
          23205.4,
          17437.5,
          16176,
          19051,
          18450.9,
          17592.9,
          19461.7,
          18761.6,
          16398.6,
          15950,
          23672.1,
          20464.7,
          15000.3,
          15373,
          18501.4,
          16194.9
         ]
        }
       ],
       "layout": {
        "barmode": "overlay",
        "legend": {
         "bgcolor": "#FFFFFF",
         "font": {
          "color": "#666666"
         }
        },
        "paper_bgcolor": "#FFFFFF",
        "plot_bgcolor": "#E5E5E5",
        "template": {
         "data": {
          "bar": [
           {
            "error_x": {
             "color": "#2a3f5f"
            },
            "error_y": {
             "color": "#2a3f5f"
            },
            "marker": {
             "line": {
              "color": "#E5ECF6",
              "width": 0.5
             },
             "pattern": {
              "fillmode": "overlay",
              "size": 10,
              "solidity": 0.2
             }
            },
            "type": "bar"
           }
          ],
          "barpolar": [
           {
            "marker": {
             "line": {
              "color": "#E5ECF6",
              "width": 0.5
             },
             "pattern": {
              "fillmode": "overlay",
              "size": 10,
              "solidity": 0.2
             }
            },
            "type": "barpolar"
           }
          ],
          "carpet": [
           {
            "aaxis": {
             "endlinecolor": "#2a3f5f",
             "gridcolor": "white",
             "linecolor": "white",
             "minorgridcolor": "white",
             "startlinecolor": "#2a3f5f"
            },
            "baxis": {
             "endlinecolor": "#2a3f5f",
             "gridcolor": "white",
             "linecolor": "white",
             "minorgridcolor": "white",
             "startlinecolor": "#2a3f5f"
            },
            "type": "carpet"
           }
          ],
          "choropleth": [
           {
            "colorbar": {
             "outlinewidth": 0,
             "ticks": ""
            },
            "type": "choropleth"
           }
          ],
          "contour": [
           {
            "colorbar": {
             "outlinewidth": 0,
             "ticks": ""
            },
            "colorscale": [
             [
              0,
              "#0d0887"
             ],
             [
              0.1111111111111111,
              "#46039f"
             ],
             [
              0.2222222222222222,
              "#7201a8"
             ],
             [
              0.3333333333333333,
              "#9c179e"
             ],
             [
              0.4444444444444444,
              "#bd3786"
             ],
             [
              0.5555555555555556,
              "#d8576b"
             ],
             [
              0.6666666666666666,
              "#ed7953"
             ],
             [
              0.7777777777777778,
              "#fb9f3a"
             ],
             [
              0.8888888888888888,
              "#fdca26"
             ],
             [
              1,
              "#f0f921"
             ]
            ],
            "type": "contour"
           }
          ],
          "contourcarpet": [
           {
            "colorbar": {
             "outlinewidth": 0,
             "ticks": ""
            },
            "type": "contourcarpet"
           }
          ],
          "heatmap": [
           {
            "colorbar": {
             "outlinewidth": 0,
             "ticks": ""
            },
            "colorscale": [
             [
              0,
              "#0d0887"
             ],
             [
              0.1111111111111111,
              "#46039f"
             ],
             [
              0.2222222222222222,
              "#7201a8"
             ],
             [
              0.3333333333333333,
              "#9c179e"
             ],
             [
              0.4444444444444444,
              "#bd3786"
             ],
             [
              0.5555555555555556,
              "#d8576b"
             ],
             [
              0.6666666666666666,
              "#ed7953"
             ],
             [
              0.7777777777777778,
              "#fb9f3a"
             ],
             [
              0.8888888888888888,
              "#fdca26"
             ],
             [
              1,
              "#f0f921"
             ]
            ],
            "type": "heatmap"
           }
          ],
          "heatmapgl": [
           {
            "colorbar": {
             "outlinewidth": 0,
             "ticks": ""
            },
            "colorscale": [
             [
              0,
              "#0d0887"
             ],
             [
              0.1111111111111111,
              "#46039f"
             ],
             [
              0.2222222222222222,
              "#7201a8"
             ],
             [
              0.3333333333333333,
              "#9c179e"
             ],
             [
              0.4444444444444444,
              "#bd3786"
             ],
             [
              0.5555555555555556,
              "#d8576b"
             ],
             [
              0.6666666666666666,
              "#ed7953"
             ],
             [
              0.7777777777777778,
              "#fb9f3a"
             ],
             [
              0.8888888888888888,
              "#fdca26"
             ],
             [
              1,
              "#f0f921"
             ]
            ],
            "type": "heatmapgl"
           }
          ],
          "histogram": [
           {
            "marker": {
             "pattern": {
              "fillmode": "overlay",
              "size": 10,
              "solidity": 0.2
             }
            },
            "type": "histogram"
           }
          ],
          "histogram2d": [
           {
            "colorbar": {
             "outlinewidth": 0,
             "ticks": ""
            },
            "colorscale": [
             [
              0,
              "#0d0887"
             ],
             [
              0.1111111111111111,
              "#46039f"
             ],
             [
              0.2222222222222222,
              "#7201a8"
             ],
             [
              0.3333333333333333,
              "#9c179e"
             ],
             [
              0.4444444444444444,
              "#bd3786"
             ],
             [
              0.5555555555555556,
              "#d8576b"
             ],
             [
              0.6666666666666666,
              "#ed7953"
             ],
             [
              0.7777777777777778,
              "#fb9f3a"
             ],
             [
              0.8888888888888888,
              "#fdca26"
             ],
             [
              1,
              "#f0f921"
             ]
            ],
            "type": "histogram2d"
           }
          ],
          "histogram2dcontour": [
           {
            "colorbar": {
             "outlinewidth": 0,
             "ticks": ""
            },
            "colorscale": [
             [
              0,
              "#0d0887"
             ],
             [
              0.1111111111111111,
              "#46039f"
             ],
             [
              0.2222222222222222,
              "#7201a8"
             ],
             [
              0.3333333333333333,
              "#9c179e"
             ],
             [
              0.4444444444444444,
              "#bd3786"
             ],
             [
              0.5555555555555556,
              "#d8576b"
             ],
             [
              0.6666666666666666,
              "#ed7953"
             ],
             [
              0.7777777777777778,
              "#fb9f3a"
             ],
             [
              0.8888888888888888,
              "#fdca26"
             ],
             [
              1,
              "#f0f921"
             ]
            ],
            "type": "histogram2dcontour"
           }
          ],
          "mesh3d": [
           {
            "colorbar": {
             "outlinewidth": 0,
             "ticks": ""
            },
            "type": "mesh3d"
           }
          ],
          "parcoords": [
           {
            "line": {
             "colorbar": {
              "outlinewidth": 0,
              "ticks": ""
             }
            },
            "type": "parcoords"
           }
          ],
          "pie": [
           {
            "automargin": true,
            "type": "pie"
           }
          ],
          "scatter": [
           {
            "fillpattern": {
             "fillmode": "overlay",
             "size": 10,
             "solidity": 0.2
            },
            "type": "scatter"
           }
          ],
          "scatter3d": [
           {
            "line": {
             "colorbar": {
              "outlinewidth": 0,
              "ticks": ""
             }
            },
            "marker": {
             "colorbar": {
              "outlinewidth": 0,
              "ticks": ""
             }
            },
            "type": "scatter3d"
           }
          ],
          "scattercarpet": [
           {
            "marker": {
             "colorbar": {
              "outlinewidth": 0,
              "ticks": ""
             }
            },
            "type": "scattercarpet"
           }
          ],
          "scattergeo": [
           {
            "marker": {
             "colorbar": {
              "outlinewidth": 0,
              "ticks": ""
             }
            },
            "type": "scattergeo"
           }
          ],
          "scattergl": [
           {
            "marker": {
             "colorbar": {
              "outlinewidth": 0,
              "ticks": ""
             }
            },
            "type": "scattergl"
           }
          ],
          "scattermapbox": [
           {
            "marker": {
             "colorbar": {
              "outlinewidth": 0,
              "ticks": ""
             }
            },
            "type": "scattermapbox"
           }
          ],
          "scatterpolar": [
           {
            "marker": {
             "colorbar": {
              "outlinewidth": 0,
              "ticks": ""
             }
            },
            "type": "scatterpolar"
           }
          ],
          "scatterpolargl": [
           {
            "marker": {
             "colorbar": {
              "outlinewidth": 0,
              "ticks": ""
             }
            },
            "type": "scatterpolargl"
           }
          ],
          "scatterternary": [
           {
            "marker": {
             "colorbar": {
              "outlinewidth": 0,
              "ticks": ""
             }
            },
            "type": "scatterternary"
           }
          ],
          "surface": [
           {
            "colorbar": {
             "outlinewidth": 0,
             "ticks": ""
            },
            "colorscale": [
             [
              0,
              "#0d0887"
             ],
             [
              0.1111111111111111,
              "#46039f"
             ],
             [
              0.2222222222222222,
              "#7201a8"
             ],
             [
              0.3333333333333333,
              "#9c179e"
             ],
             [
              0.4444444444444444,
              "#bd3786"
             ],
             [
              0.5555555555555556,
              "#d8576b"
             ],
             [
              0.6666666666666666,
              "#ed7953"
             ],
             [
              0.7777777777777778,
              "#fb9f3a"
             ],
             [
              0.8888888888888888,
              "#fdca26"
             ],
             [
              1,
              "#f0f921"
             ]
            ],
            "type": "surface"
           }
          ],
          "table": [
           {
            "cells": {
             "fill": {
              "color": "#EBF0F8"
             },
             "line": {
              "color": "white"
             }
            },
            "header": {
             "fill": {
              "color": "#C8D4E3"
             },
             "line": {
              "color": "white"
             }
            },
            "type": "table"
           }
          ]
         },
         "layout": {
          "annotationdefaults": {
           "arrowcolor": "#2a3f5f",
           "arrowhead": 0,
           "arrowwidth": 1
          },
          "autotypenumbers": "strict",
          "coloraxis": {
           "colorbar": {
            "outlinewidth": 0,
            "ticks": ""
           }
          },
          "colorscale": {
           "diverging": [
            [
             0,
             "#8e0152"
            ],
            [
             0.1,
             "#c51b7d"
            ],
            [
             0.2,
             "#de77ae"
            ],
            [
             0.3,
             "#f1b6da"
            ],
            [
             0.4,
             "#fde0ef"
            ],
            [
             0.5,
             "#f7f7f7"
            ],
            [
             0.6,
             "#e6f5d0"
            ],
            [
             0.7,
             "#b8e186"
            ],
            [
             0.8,
             "#7fbc41"
            ],
            [
             0.9,
             "#4d9221"
            ],
            [
             1,
             "#276419"
            ]
           ],
           "sequential": [
            [
             0,
             "#0d0887"
            ],
            [
             0.1111111111111111,
             "#46039f"
            ],
            [
             0.2222222222222222,
             "#7201a8"
            ],
            [
             0.3333333333333333,
             "#9c179e"
            ],
            [
             0.4444444444444444,
             "#bd3786"
            ],
            [
             0.5555555555555556,
             "#d8576b"
            ],
            [
             0.6666666666666666,
             "#ed7953"
            ],
            [
             0.7777777777777778,
             "#fb9f3a"
            ],
            [
             0.8888888888888888,
             "#fdca26"
            ],
            [
             1,
             "#f0f921"
            ]
           ],
           "sequentialminus": [
            [
             0,
             "#0d0887"
            ],
            [
             0.1111111111111111,
             "#46039f"
            ],
            [
             0.2222222222222222,
             "#7201a8"
            ],
            [
             0.3333333333333333,
             "#9c179e"
            ],
            [
             0.4444444444444444,
             "#bd3786"
            ],
            [
             0.5555555555555556,
             "#d8576b"
            ],
            [
             0.6666666666666666,
             "#ed7953"
            ],
            [
             0.7777777777777778,
             "#fb9f3a"
            ],
            [
             0.8888888888888888,
             "#fdca26"
            ],
            [
             1,
             "#f0f921"
            ]
           ]
          },
          "colorway": [
           "#636efa",
           "#EF553B",
           "#00cc96",
           "#ab63fa",
           "#FFA15A",
           "#19d3f3",
           "#FF6692",
           "#B6E880",
           "#FF97FF",
           "#FECB52"
          ],
          "font": {
           "color": "#2a3f5f"
          },
          "geo": {
           "bgcolor": "white",
           "lakecolor": "white",
           "landcolor": "#E5ECF6",
           "showlakes": true,
           "showland": true,
           "subunitcolor": "white"
          },
          "hoverlabel": {
           "align": "left"
          },
          "hovermode": "closest",
          "mapbox": {
           "style": "light"
          },
          "paper_bgcolor": "white",
          "plot_bgcolor": "#E5ECF6",
          "polar": {
           "angularaxis": {
            "gridcolor": "white",
            "linecolor": "white",
            "ticks": ""
           },
           "bgcolor": "#E5ECF6",
           "radialaxis": {
            "gridcolor": "white",
            "linecolor": "white",
            "ticks": ""
           }
          },
          "scene": {
           "xaxis": {
            "backgroundcolor": "#E5ECF6",
            "gridcolor": "white",
            "gridwidth": 2,
            "linecolor": "white",
            "showbackground": true,
            "ticks": "",
            "zerolinecolor": "white"
           },
           "yaxis": {
            "backgroundcolor": "#E5ECF6",
            "gridcolor": "white",
            "gridwidth": 2,
            "linecolor": "white",
            "showbackground": true,
            "ticks": "",
            "zerolinecolor": "white"
           },
           "zaxis": {
            "backgroundcolor": "#E5ECF6",
            "gridcolor": "white",
            "gridwidth": 2,
            "linecolor": "white",
            "showbackground": true,
            "ticks": "",
            "zerolinecolor": "white"
           }
          },
          "shapedefaults": {
           "line": {
            "color": "#2a3f5f"
           }
          },
          "ternary": {
           "aaxis": {
            "gridcolor": "white",
            "linecolor": "white",
            "ticks": ""
           },
           "baxis": {
            "gridcolor": "white",
            "linecolor": "white",
            "ticks": ""
           },
           "bgcolor": "#E5ECF6",
           "caxis": {
            "gridcolor": "white",
            "linecolor": "white",
            "ticks": ""
           }
          },
          "title": {
           "x": 0.05
          },
          "xaxis": {
           "automargin": true,
           "gridcolor": "white",
           "linecolor": "white",
           "ticks": "",
           "title": {
            "standoff": 15
           },
           "zerolinecolor": "white",
           "zerolinewidth": 2
          },
          "yaxis": {
           "automargin": true,
           "gridcolor": "white",
           "linecolor": "white",
           "ticks": "",
           "title": {
            "standoff": 15
           },
           "zerolinecolor": "white",
           "zerolinewidth": 2
          }
         }
        },
        "title": {
         "font": {
          "color": "#151516"
         }
        },
        "xaxis": {
         "gridcolor": "#F6F6F6",
         "showgrid": true,
         "tickfont": {
          "color": "#666666"
         },
         "title": {
          "font": {
           "color": "#666666"
          },
          "text": "Venta Publica Grupal"
         },
         "zerolinecolor": "#F6F6F6"
        },
        "yaxis": {
         "gridcolor": "#F6F6F6",
         "showgrid": true,
         "tickfont": {
          "color": "#666666"
         },
         "title": {
          "font": {
           "color": "#666666"
          },
          "text": ""
         },
         "zerolinecolor": "#F6F6F6"
        }
       }
      },
      "text/html": [
       "<div>                            <div id=\"342493e1-ef8e-46cc-a52b-7007d7173da1\" class=\"plotly-graph-div\" style=\"height:525px; width:100%;\"></div>            <script type=\"text/javascript\">                require([\"plotly\"], function(Plotly) {                    window.PLOTLYENV=window.PLOTLYENV || {};\n",
       "                    window.PLOTLYENV.BASE_URL='https://plot.ly';                                    if (document.getElementById(\"342493e1-ef8e-46cc-a52b-7007d7173da1\")) {                    Plotly.newPlot(                        \"342493e1-ef8e-46cc-a52b-7007d7173da1\",                        [{\"histfunc\":\"count\",\"histnorm\":\"\",\"marker\":{\"color\":\"rgba(226, 74, 51, 1.0)\",\"line\":{\"color\":\"#D9D9D9\",\"width\":1.3}},\"name\":\"Rosario Elizabe Lazo Ramirez\",\"opacity\":0.8,\"orientation\":\"v\",\"x\":[57296.37,58918.8,47040.6,46605.6,44148.9,33310.5,30082.5,27604.3,38460.7,47387.4,51469.1,31964.5,29281.2,30424.0,34902.1,37738.7,37327.6,39584.5,42614.9,33302.7,31090.7,32986.3,30611.8,32225.8,31788.7,30263.8,9907.9,26715.0,28880.7,31073.1,33657.7,26730.59,26644.0,34406.6,33194.9,32642.0,30066.6,26167.6,24916.4,23319.3,27872.5,27773.0,26079.7,30074.0,32110.5,29135.7,36821.3,17711.0,17665.0,20282.3,22493.9,24891.4],\"type\":\"histogram\"},{\"histfunc\":\"count\",\"histnorm\":\"\",\"marker\":{\"color\":\"rgba(62, 111, 176, 1.0)\",\"line\":{\"color\":\"#D9D9D9\",\"width\":1.3}},\"name\":\"Luis Miguel Tupac Yupanqui Lazo\",\"opacity\":0.8,\"orientation\":\"v\",\"x\":[null,null,null,null,null,null,null,null,null,null,null,null,null,null,null,null,null,null,null,18577.5,18538.8,18669.7,18789.7,21346.8,16837.4,18505.5,6859.1,10003.6,13047.3,17160.02,17798.5,17790.09,14852.7,20364.4,17513.6,20411.8,23205.4,17437.5,16176.0,19051.0,18450.9,17592.9,19461.7,18761.6,16398.6,15950.0,23672.1,20464.7,15000.3,15373.0,18501.4,16194.9],\"type\":\"histogram\"}],                        {\"barmode\":\"overlay\",\"legend\":{\"bgcolor\":\"#FFFFFF\",\"font\":{\"color\":\"#666666\"}},\"paper_bgcolor\":\"#FFFFFF\",\"plot_bgcolor\":\"#E5E5E5\",\"template\":{\"data\":{\"barpolar\":[{\"marker\":{\"line\":{\"color\":\"#E5ECF6\",\"width\":0.5},\"pattern\":{\"fillmode\":\"overlay\",\"size\":10,\"solidity\":0.2}},\"type\":\"barpolar\"}],\"bar\":[{\"error_x\":{\"color\":\"#2a3f5f\"},\"error_y\":{\"color\":\"#2a3f5f\"},\"marker\":{\"line\":{\"color\":\"#E5ECF6\",\"width\":0.5},\"pattern\":{\"fillmode\":\"overlay\",\"size\":10,\"solidity\":0.2}},\"type\":\"bar\"}],\"carpet\":[{\"aaxis\":{\"endlinecolor\":\"#2a3f5f\",\"gridcolor\":\"white\",\"linecolor\":\"white\",\"minorgridcolor\":\"white\",\"startlinecolor\":\"#2a3f5f\"},\"baxis\":{\"endlinecolor\":\"#2a3f5f\",\"gridcolor\":\"white\",\"linecolor\":\"white\",\"minorgridcolor\":\"white\",\"startlinecolor\":\"#2a3f5f\"},\"type\":\"carpet\"}],\"choropleth\":[{\"colorbar\":{\"outlinewidth\":0,\"ticks\":\"\"},\"type\":\"choropleth\"}],\"contourcarpet\":[{\"colorbar\":{\"outlinewidth\":0,\"ticks\":\"\"},\"type\":\"contourcarpet\"}],\"contour\":[{\"colorbar\":{\"outlinewidth\":0,\"ticks\":\"\"},\"colorscale\":[[0.0,\"#0d0887\"],[0.1111111111111111,\"#46039f\"],[0.2222222222222222,\"#7201a8\"],[0.3333333333333333,\"#9c179e\"],[0.4444444444444444,\"#bd3786\"],[0.5555555555555556,\"#d8576b\"],[0.6666666666666666,\"#ed7953\"],[0.7777777777777778,\"#fb9f3a\"],[0.8888888888888888,\"#fdca26\"],[1.0,\"#f0f921\"]],\"type\":\"contour\"}],\"heatmapgl\":[{\"colorbar\":{\"outlinewidth\":0,\"ticks\":\"\"},\"colorscale\":[[0.0,\"#0d0887\"],[0.1111111111111111,\"#46039f\"],[0.2222222222222222,\"#7201a8\"],[0.3333333333333333,\"#9c179e\"],[0.4444444444444444,\"#bd3786\"],[0.5555555555555556,\"#d8576b\"],[0.6666666666666666,\"#ed7953\"],[0.7777777777777778,\"#fb9f3a\"],[0.8888888888888888,\"#fdca26\"],[1.0,\"#f0f921\"]],\"type\":\"heatmapgl\"}],\"heatmap\":[{\"colorbar\":{\"outlinewidth\":0,\"ticks\":\"\"},\"colorscale\":[[0.0,\"#0d0887\"],[0.1111111111111111,\"#46039f\"],[0.2222222222222222,\"#7201a8\"],[0.3333333333333333,\"#9c179e\"],[0.4444444444444444,\"#bd3786\"],[0.5555555555555556,\"#d8576b\"],[0.6666666666666666,\"#ed7953\"],[0.7777777777777778,\"#fb9f3a\"],[0.8888888888888888,\"#fdca26\"],[1.0,\"#f0f921\"]],\"type\":\"heatmap\"}],\"histogram2dcontour\":[{\"colorbar\":{\"outlinewidth\":0,\"ticks\":\"\"},\"colorscale\":[[0.0,\"#0d0887\"],[0.1111111111111111,\"#46039f\"],[0.2222222222222222,\"#7201a8\"],[0.3333333333333333,\"#9c179e\"],[0.4444444444444444,\"#bd3786\"],[0.5555555555555556,\"#d8576b\"],[0.6666666666666666,\"#ed7953\"],[0.7777777777777778,\"#fb9f3a\"],[0.8888888888888888,\"#fdca26\"],[1.0,\"#f0f921\"]],\"type\":\"histogram2dcontour\"}],\"histogram2d\":[{\"colorbar\":{\"outlinewidth\":0,\"ticks\":\"\"},\"colorscale\":[[0.0,\"#0d0887\"],[0.1111111111111111,\"#46039f\"],[0.2222222222222222,\"#7201a8\"],[0.3333333333333333,\"#9c179e\"],[0.4444444444444444,\"#bd3786\"],[0.5555555555555556,\"#d8576b\"],[0.6666666666666666,\"#ed7953\"],[0.7777777777777778,\"#fb9f3a\"],[0.8888888888888888,\"#fdca26\"],[1.0,\"#f0f921\"]],\"type\":\"histogram2d\"}],\"histogram\":[{\"marker\":{\"pattern\":{\"fillmode\":\"overlay\",\"size\":10,\"solidity\":0.2}},\"type\":\"histogram\"}],\"mesh3d\":[{\"colorbar\":{\"outlinewidth\":0,\"ticks\":\"\"},\"type\":\"mesh3d\"}],\"parcoords\":[{\"line\":{\"colorbar\":{\"outlinewidth\":0,\"ticks\":\"\"}},\"type\":\"parcoords\"}],\"pie\":[{\"automargin\":true,\"type\":\"pie\"}],\"scatter3d\":[{\"line\":{\"colorbar\":{\"outlinewidth\":0,\"ticks\":\"\"}},\"marker\":{\"colorbar\":{\"outlinewidth\":0,\"ticks\":\"\"}},\"type\":\"scatter3d\"}],\"scattercarpet\":[{\"marker\":{\"colorbar\":{\"outlinewidth\":0,\"ticks\":\"\"}},\"type\":\"scattercarpet\"}],\"scattergeo\":[{\"marker\":{\"colorbar\":{\"outlinewidth\":0,\"ticks\":\"\"}},\"type\":\"scattergeo\"}],\"scattergl\":[{\"marker\":{\"colorbar\":{\"outlinewidth\":0,\"ticks\":\"\"}},\"type\":\"scattergl\"}],\"scattermapbox\":[{\"marker\":{\"colorbar\":{\"outlinewidth\":0,\"ticks\":\"\"}},\"type\":\"scattermapbox\"}],\"scatterpolargl\":[{\"marker\":{\"colorbar\":{\"outlinewidth\":0,\"ticks\":\"\"}},\"type\":\"scatterpolargl\"}],\"scatterpolar\":[{\"marker\":{\"colorbar\":{\"outlinewidth\":0,\"ticks\":\"\"}},\"type\":\"scatterpolar\"}],\"scatter\":[{\"fillpattern\":{\"fillmode\":\"overlay\",\"size\":10,\"solidity\":0.2},\"type\":\"scatter\"}],\"scatterternary\":[{\"marker\":{\"colorbar\":{\"outlinewidth\":0,\"ticks\":\"\"}},\"type\":\"scatterternary\"}],\"surface\":[{\"colorbar\":{\"outlinewidth\":0,\"ticks\":\"\"},\"colorscale\":[[0.0,\"#0d0887\"],[0.1111111111111111,\"#46039f\"],[0.2222222222222222,\"#7201a8\"],[0.3333333333333333,\"#9c179e\"],[0.4444444444444444,\"#bd3786\"],[0.5555555555555556,\"#d8576b\"],[0.6666666666666666,\"#ed7953\"],[0.7777777777777778,\"#fb9f3a\"],[0.8888888888888888,\"#fdca26\"],[1.0,\"#f0f921\"]],\"type\":\"surface\"}],\"table\":[{\"cells\":{\"fill\":{\"color\":\"#EBF0F8\"},\"line\":{\"color\":\"white\"}},\"header\":{\"fill\":{\"color\":\"#C8D4E3\"},\"line\":{\"color\":\"white\"}},\"type\":\"table\"}]},\"layout\":{\"annotationdefaults\":{\"arrowcolor\":\"#2a3f5f\",\"arrowhead\":0,\"arrowwidth\":1},\"autotypenumbers\":\"strict\",\"coloraxis\":{\"colorbar\":{\"outlinewidth\":0,\"ticks\":\"\"}},\"colorscale\":{\"diverging\":[[0,\"#8e0152\"],[0.1,\"#c51b7d\"],[0.2,\"#de77ae\"],[0.3,\"#f1b6da\"],[0.4,\"#fde0ef\"],[0.5,\"#f7f7f7\"],[0.6,\"#e6f5d0\"],[0.7,\"#b8e186\"],[0.8,\"#7fbc41\"],[0.9,\"#4d9221\"],[1,\"#276419\"]],\"sequential\":[[0.0,\"#0d0887\"],[0.1111111111111111,\"#46039f\"],[0.2222222222222222,\"#7201a8\"],[0.3333333333333333,\"#9c179e\"],[0.4444444444444444,\"#bd3786\"],[0.5555555555555556,\"#d8576b\"],[0.6666666666666666,\"#ed7953\"],[0.7777777777777778,\"#fb9f3a\"],[0.8888888888888888,\"#fdca26\"],[1.0,\"#f0f921\"]],\"sequentialminus\":[[0.0,\"#0d0887\"],[0.1111111111111111,\"#46039f\"],[0.2222222222222222,\"#7201a8\"],[0.3333333333333333,\"#9c179e\"],[0.4444444444444444,\"#bd3786\"],[0.5555555555555556,\"#d8576b\"],[0.6666666666666666,\"#ed7953\"],[0.7777777777777778,\"#fb9f3a\"],[0.8888888888888888,\"#fdca26\"],[1.0,\"#f0f921\"]]},\"colorway\":[\"#636efa\",\"#EF553B\",\"#00cc96\",\"#ab63fa\",\"#FFA15A\",\"#19d3f3\",\"#FF6692\",\"#B6E880\",\"#FF97FF\",\"#FECB52\"],\"font\":{\"color\":\"#2a3f5f\"},\"geo\":{\"bgcolor\":\"white\",\"lakecolor\":\"white\",\"landcolor\":\"#E5ECF6\",\"showlakes\":true,\"showland\":true,\"subunitcolor\":\"white\"},\"hoverlabel\":{\"align\":\"left\"},\"hovermode\":\"closest\",\"mapbox\":{\"style\":\"light\"},\"paper_bgcolor\":\"white\",\"plot_bgcolor\":\"#E5ECF6\",\"polar\":{\"angularaxis\":{\"gridcolor\":\"white\",\"linecolor\":\"white\",\"ticks\":\"\"},\"bgcolor\":\"#E5ECF6\",\"radialaxis\":{\"gridcolor\":\"white\",\"linecolor\":\"white\",\"ticks\":\"\"}},\"scene\":{\"xaxis\":{\"backgroundcolor\":\"#E5ECF6\",\"gridcolor\":\"white\",\"gridwidth\":2,\"linecolor\":\"white\",\"showbackground\":true,\"ticks\":\"\",\"zerolinecolor\":\"white\"},\"yaxis\":{\"backgroundcolor\":\"#E5ECF6\",\"gridcolor\":\"white\",\"gridwidth\":2,\"linecolor\":\"white\",\"showbackground\":true,\"ticks\":\"\",\"zerolinecolor\":\"white\"},\"zaxis\":{\"backgroundcolor\":\"#E5ECF6\",\"gridcolor\":\"white\",\"gridwidth\":2,\"linecolor\":\"white\",\"showbackground\":true,\"ticks\":\"\",\"zerolinecolor\":\"white\"}},\"shapedefaults\":{\"line\":{\"color\":\"#2a3f5f\"}},\"ternary\":{\"aaxis\":{\"gridcolor\":\"white\",\"linecolor\":\"white\",\"ticks\":\"\"},\"baxis\":{\"gridcolor\":\"white\",\"linecolor\":\"white\",\"ticks\":\"\"},\"bgcolor\":\"#E5ECF6\",\"caxis\":{\"gridcolor\":\"white\",\"linecolor\":\"white\",\"ticks\":\"\"}},\"title\":{\"x\":0.05},\"xaxis\":{\"automargin\":true,\"gridcolor\":\"white\",\"linecolor\":\"white\",\"ticks\":\"\",\"title\":{\"standoff\":15},\"zerolinecolor\":\"white\",\"zerolinewidth\":2},\"yaxis\":{\"automargin\":true,\"gridcolor\":\"white\",\"linecolor\":\"white\",\"ticks\":\"\",\"title\":{\"standoff\":15},\"zerolinecolor\":\"white\",\"zerolinewidth\":2}}},\"title\":{\"font\":{\"color\":\"#151516\"}},\"xaxis\":{\"gridcolor\":\"#F6F6F6\",\"showgrid\":true,\"tickfont\":{\"color\":\"#666666\"},\"title\":{\"font\":{\"color\":\"#666666\"},\"text\":\"Venta Publica Grupal\"},\"zerolinecolor\":\"#F6F6F6\"},\"yaxis\":{\"gridcolor\":\"#F6F6F6\",\"showgrid\":true,\"tickfont\":{\"color\":\"#666666\"},\"title\":{\"font\":{\"color\":\"#666666\"},\"text\":\"\"},\"zerolinecolor\":\"#F6F6F6\"}},                        {\"showLink\": true, \"linkText\": \"Export to plot.ly\", \"plotlyServerURL\": \"https://plot.ly\", \"responsive\": true}                    ).then(function(){\n",
       "                            \n",
       "var gd = document.getElementById('342493e1-ef8e-46cc-a52b-7007d7173da1');\n",
       "var x = new MutationObserver(function (mutations, observer) {{\n",
       "        var display = window.getComputedStyle(gd).display;\n",
       "        if (!display || display === 'none') {{\n",
       "            console.log([gd, 'removed!']);\n",
       "            Plotly.purge(gd);\n",
       "            observer.disconnect();\n",
       "        }}\n",
       "}});\n",
       "\n",
       "// Listen for the removal of the full notebook cells\n",
       "var notebookContainer = gd.closest('#notebook-container');\n",
       "if (notebookContainer) {{\n",
       "    x.observe(notebookContainer, {childList: true});\n",
       "}}\n",
       "\n",
       "// Listen for the clearing of the current output cell\n",
       "var outputEl = gd.closest('.output');\n",
       "if (outputEl) {{\n",
       "    x.observe(outputEl, {childList: true});\n",
       "}}\n",
       "\n",
       "                        })                };                });            </script>        </div>"
      ]
     },
     "metadata": {},
     "output_type": "display_data"
    }
   ],
   "source": [
    "df_desempeno[['Rosario Elizabe Lazo Ramirez', 'Luis Miguel Tupac Yupanqui Lazo']].iplot(kind='hist',\n",
    "                                                    xTitle='Venta Publica Grupal')"
   ]
  },
  {
   "cell_type": "code",
   "execution_count": 52,
   "id": "cc9636e1",
   "metadata": {},
   "outputs": [
    {
     "data": {
      "application/vnd.plotly.v1+json": {
       "config": {
        "linkText": "Export to plot.ly",
        "plotlyServerURL": "https://plot.ly",
        "showLink": true
       },
       "data": [
        {
         "labels": [
          "Ana Fabiola Huancas Ruiz",
          "Blanca Susana Severino Carreño De Berru",
          "ELENA ELIZABETH CHERO RUIZ",
          "Imelda Chamba Niño",
          "Lesly Anali Valladolid Silva",
          "Luis Miguel Tupac Yupanqui Lazo",
          "Natali Karen Litano Silupu",
          "Rosa Concepcion Ruiz De Abad",
          "Rosario Elizabe Lazo Ramirez",
          "Yenit Marizela Panta Gonzales",
          "Yessica Lizbeth Panta Gonzales"
         ],
         "marker": {
          "colors": [
           "rgba(226, 74, 51, 1.0)",
           "rgba(62, 111, 176, 1.0)",
           "rgba(132, 118, 202, 1.0)",
           "rgba(101, 101, 101, 1.0)",
           "rgba(251, 193, 94, 1.0)",
           "rgba(142, 186, 66, 1.0)",
           "rgba(255, 181, 184, 1.0)",
           "rgba(255, 181, 184, 0.8999999999999999)",
           "rgba(226, 74, 51, 0.8999999999999999)",
           "rgba(62, 111, 176, 0.8999999999999999)",
           "rgba(132, 118, 202, 0.8999999999999999)"
          ]
         },
         "name": "",
         "type": "pie",
         "values": [
          null,
          17244.6,
          16020.8,
          13733,
          6799.1,
          18501.4,
          7062.9,
          17614.4,
          22493.9,
          22242.1,
          14690.9
         ]
        }
       ],
       "layout": {
        "legend": {
         "bgcolor": "#FFFFFF",
         "font": {
          "color": "#666666"
         }
        },
        "paper_bgcolor": "#FFFFFF",
        "plot_bgcolor": "#E5E5E5",
        "title": "Venta Publica Grupal en 2022-C03 (%)",
        "titlefont": {
         "color": "#151516"
        }
       }
      },
      "text/html": [
       "<div>                            <div id=\"0e33b18b-f6d2-458a-959c-54b644e93235\" class=\"plotly-graph-div\" style=\"height:525px; width:100%;\"></div>            <script type=\"text/javascript\">                require([\"plotly\"], function(Plotly) {                    window.PLOTLYENV=window.PLOTLYENV || {};\n",
       "                    window.PLOTLYENV.BASE_URL='https://plot.ly';                                    if (document.getElementById(\"0e33b18b-f6d2-458a-959c-54b644e93235\")) {                    Plotly.newPlot(                        \"0e33b18b-f6d2-458a-959c-54b644e93235\",                        [{\"labels\":[\"Ana Fabiola Huancas Ruiz\",\"Blanca Susana Severino Carre\\u00f1o De Berru\",\"ELENA ELIZABETH CHERO RUIZ\",\"Imelda Chamba Ni\\u00f1o\",\"Lesly Anali Valladolid Silva\",\"Luis Miguel Tupac Yupanqui Lazo\",\"Natali Karen Litano Silupu\",\"Rosa Concepcion Ruiz De Abad\",\"Rosario Elizabe Lazo Ramirez\",\"Yenit Marizela Panta Gonzales\",\"Yessica Lizbeth Panta Gonzales\"],\"marker\":{\"colors\":[\"rgba(226, 74, 51, 1.0)\",\"rgba(62, 111, 176, 1.0)\",\"rgba(132, 118, 202, 1.0)\",\"rgba(101, 101, 101, 1.0)\",\"rgba(251, 193, 94, 1.0)\",\"rgba(142, 186, 66, 1.0)\",\"rgba(255, 181, 184, 1.0)\",\"rgba(255, 181, 184, 0.8999999999999999)\",\"rgba(226, 74, 51, 0.8999999999999999)\",\"rgba(62, 111, 176, 0.8999999999999999)\",\"rgba(132, 118, 202, 0.8999999999999999)\"]},\"name\":\"\",\"values\":[null,17244.6,16020.8,13733.0,6799.1,18501.4,7062.9,17614.4,22493.9,22242.1,14690.9],\"type\":\"pie\"}],                        {\"legend\":{\"bgcolor\":\"#FFFFFF\",\"font\":{\"color\":\"#666666\"}},\"paper_bgcolor\":\"#FFFFFF\",\"plot_bgcolor\":\"#E5E5E5\",\"titlefont\":{\"color\":\"#151516\"},\"title\":\"Venta Publica Grupal en 2022-C03 (%)\"},                        {\"showLink\": true, \"linkText\": \"Export to plot.ly\", \"plotlyServerURL\": \"https://plot.ly\", \"responsive\": true}                    ).then(function(){\n",
       "                            \n",
       "var gd = document.getElementById('0e33b18b-f6d2-458a-959c-54b644e93235');\n",
       "var x = new MutationObserver(function (mutations, observer) {{\n",
       "        var display = window.getComputedStyle(gd).display;\n",
       "        if (!display || display === 'none') {{\n",
       "            console.log([gd, 'removed!']);\n",
       "            Plotly.purge(gd);\n",
       "            observer.disconnect();\n",
       "        }}\n",
       "}});\n",
       "\n",
       "// Listen for the removal of the full notebook cells\n",
       "var notebookContainer = gd.closest('#notebook-container');\n",
       "if (notebookContainer) {{\n",
       "    x.observe(notebookContainer, {childList: true});\n",
       "}}\n",
       "\n",
       "// Listen for the clearing of the current output cell\n",
       "var outputEl = gd.closest('.output');\n",
       "if (outputEl) {{\n",
       "    x.observe(outputEl, {childList: true});\n",
       "}}\n",
       "\n",
       "                        })                };                });            </script>        </div>"
      ]
     },
     "metadata": {},
     "output_type": "display_data"
    }
   ],
   "source": [
    "# transforming data\n",
    "df_desempeno_2022_C03 = df_desempeno_2022_C03.reset_index()\n",
    "\n",
    "df_desempeno_2022_C03.iplot(kind='pie', labels='NOMBRES', values='2022-C03',title='Venta Publica Grupal en 2022-C03 (%)')"
   ]
  },
  {
   "cell_type": "code",
   "execution_count": 54,
   "id": "bc3a9c81",
   "metadata": {},
   "outputs": [
    {
     "data": {
      "application/vnd.plotly.v1+json": {
       "config": {
        "linkText": "Export to plot.ly",
        "plotlyServerURL": "https://plot.ly",
        "showLink": true
       },
       "data": [
        {
         "line": {
          "color": "rgba(226, 74, 51, 1.0)",
          "dash": "solid",
          "shape": "linear",
          "width": 1.3
         },
         "marker": {
          "size": 12,
          "symbol": "circle"
         },
         "mode": "markers",
         "name": "Ana Fabiola Huancas Ruiz",
         "text": "",
         "type": "scatter",
         "x": [
          "2018-C04",
          "2018-C05",
          "2018-C06",
          "2018-C07",
          "2018-C08",
          "2018-C09",
          "2018-C10",
          "2018-C11",
          "2018-C12",
          "2018-C13",
          "2019-C01",
          "2019-C02",
          "2019-C03",
          "2019-C04",
          "2019-C05",
          "2019-C06",
          "2019-C07",
          "2019-C08",
          "2019-C09",
          "2019-C10",
          "2019-C11",
          "2019-C12",
          "2019-C13",
          "2020-C01",
          "2020-C02",
          "2020-C03",
          "2020-C04",
          "2020-C05",
          "2020-C06",
          "2020-C07",
          "2020-C08",
          "2020-C09",
          "2020-C10",
          "2020-C11",
          "2020-C12",
          "2021-C01",
          "2021-C02",
          "2021-C03",
          "2021-C04",
          "2021-C05",
          "2021-C06",
          "2021-C07",
          "2021-C08",
          "2021-C09",
          "2021-C10",
          "2021-C11",
          "2021-C12",
          "2021-C13",
          "2022-C01",
          "2022-C02",
          "2022-C03",
          "2022-C04"
         ],
         "y": [
          19491.01,
          13730.7,
          14277.4,
          13249.4,
          14568.4,
          16283.6,
          13934,
          10814.9,
          10531.1,
          "",
          "",
          "",
          "",
          "",
          "",
          "",
          "",
          "",
          "",
          "",
          "",
          "",
          "",
          "",
          "",
          "",
          "",
          "",
          "",
          "",
          "",
          "",
          "",
          "",
          "",
          "",
          "",
          "",
          "",
          "",
          "",
          "",
          "",
          "",
          "",
          "",
          "",
          "",
          "",
          "",
          "",
          ""
         ]
        },
        {
         "line": {
          "color": "rgba(62, 111, 176, 1.0)",
          "dash": "solid",
          "shape": "linear",
          "width": 1.3
         },
         "marker": {
          "size": 12,
          "symbol": "circle"
         },
         "mode": "markers",
         "name": "Blanca Susana Severino Carreño De Berru",
         "text": "",
         "type": "scatter",
         "x": [
          "2018-C04",
          "2018-C05",
          "2018-C06",
          "2018-C07",
          "2018-C08",
          "2018-C09",
          "2018-C10",
          "2018-C11",
          "2018-C12",
          "2018-C13",
          "2019-C01",
          "2019-C02",
          "2019-C03",
          "2019-C04",
          "2019-C05",
          "2019-C06",
          "2019-C07",
          "2019-C08",
          "2019-C09",
          "2019-C10",
          "2019-C11",
          "2019-C12",
          "2019-C13",
          "2020-C01",
          "2020-C02",
          "2020-C03",
          "2020-C04",
          "2020-C05",
          "2020-C06",
          "2020-C07",
          "2020-C08",
          "2020-C09",
          "2020-C10",
          "2020-C11",
          "2020-C12",
          "2021-C01",
          "2021-C02",
          "2021-C03",
          "2021-C04",
          "2021-C05",
          "2021-C06",
          "2021-C07",
          "2021-C08",
          "2021-C09",
          "2021-C10",
          "2021-C11",
          "2021-C12",
          "2021-C13",
          "2022-C01",
          "2022-C02",
          "2022-C03",
          "2022-C04"
         ],
         "y": [
          "",
          "",
          21477,
          19283.5,
          21202.2,
          24378.6,
          23960.5,
          16818.3,
          21418.5,
          16866.3,
          14161.1,
          14889.7,
          15895.7,
          13449.7,
          11034,
          9851.8,
          11036.6,
          12153.2,
          11971.8,
          "",
          "",
          "",
          "",
          "",
          "",
          "",
          "",
          "",
          "",
          "",
          "",
          "",
          "",
          "",
          "",
          "",
          "",
          "",
          "",
          "",
          "",
          "",
          "",
          "",
          "",
          "",
          "",
          15011,
          17232.8,
          18590.2,
          17244.6,
          17001.2
         ]
        },
        {
         "line": {
          "color": "rgba(132, 118, 202, 1.0)",
          "dash": "solid",
          "shape": "linear",
          "width": 1.3
         },
         "marker": {
          "size": 12,
          "symbol": "circle"
         },
         "mode": "markers",
         "name": "ELENA ELIZABETH CHERO RUIZ",
         "text": "",
         "type": "scatter",
         "x": [
          "2018-C04",
          "2018-C05",
          "2018-C06",
          "2018-C07",
          "2018-C08",
          "2018-C09",
          "2018-C10",
          "2018-C11",
          "2018-C12",
          "2018-C13",
          "2019-C01",
          "2019-C02",
          "2019-C03",
          "2019-C04",
          "2019-C05",
          "2019-C06",
          "2019-C07",
          "2019-C08",
          "2019-C09",
          "2019-C10",
          "2019-C11",
          "2019-C12",
          "2019-C13",
          "2020-C01",
          "2020-C02",
          "2020-C03",
          "2020-C04",
          "2020-C05",
          "2020-C06",
          "2020-C07",
          "2020-C08",
          "2020-C09",
          "2020-C10",
          "2020-C11",
          "2020-C12",
          "2021-C01",
          "2021-C02",
          "2021-C03",
          "2021-C04",
          "2021-C05",
          "2021-C06",
          "2021-C07",
          "2021-C08",
          "2021-C09",
          "2021-C10",
          "2021-C11",
          "2021-C12",
          "2021-C13",
          "2022-C01",
          "2022-C02",
          "2022-C03",
          "2022-C04"
         ],
         "y": [
          "",
          "",
          "",
          "",
          "",
          "",
          "",
          "",
          "",
          "",
          "",
          "",
          "",
          "",
          "",
          "",
          "",
          "",
          "",
          "",
          "",
          "",
          "",
          "",
          "",
          "",
          "",
          "",
          "",
          "",
          "",
          "",
          "",
          "",
          "",
          18559.5,
          18549.9,
          14106.1,
          14400.7,
          13789.5,
          15220.3,
          18616,
          22061.2,
          19452.9,
          20698.8,
          19458.5,
          19108.6,
          16319.3,
          16263.4,
          15280.2,
          16020.8,
          12118.8
         ]
        },
        {
         "line": {
          "color": "rgba(101, 101, 101, 1.0)",
          "dash": "solid",
          "shape": "linear",
          "width": 1.3
         },
         "marker": {
          "size": 12,
          "symbol": "circle"
         },
         "mode": "markers",
         "name": "Imelda Chamba Niño",
         "text": "",
         "type": "scatter",
         "x": [
          "2018-C04",
          "2018-C05",
          "2018-C06",
          "2018-C07",
          "2018-C08",
          "2018-C09",
          "2018-C10",
          "2018-C11",
          "2018-C12",
          "2018-C13",
          "2019-C01",
          "2019-C02",
          "2019-C03",
          "2019-C04",
          "2019-C05",
          "2019-C06",
          "2019-C07",
          "2019-C08",
          "2019-C09",
          "2019-C10",
          "2019-C11",
          "2019-C12",
          "2019-C13",
          "2020-C01",
          "2020-C02",
          "2020-C03",
          "2020-C04",
          "2020-C05",
          "2020-C06",
          "2020-C07",
          "2020-C08",
          "2020-C09",
          "2020-C10",
          "2020-C11",
          "2020-C12",
          "2021-C01",
          "2021-C02",
          "2021-C03",
          "2021-C04",
          "2021-C05",
          "2021-C06",
          "2021-C07",
          "2021-C08",
          "2021-C09",
          "2021-C10",
          "2021-C11",
          "2021-C12",
          "2021-C13",
          "2022-C01",
          "2022-C02",
          "2022-C03",
          "2022-C04"
         ],
         "y": [
          19724.47,
          20779,
          23367.6,
          20940.8,
          17509.5,
          16256.4,
          16642.9,
          18525.5,
          18990.4,
          19796.4,
          19421.2,
          19001.2,
          18503.6,
          18673.6,
          21481.8,
          19965.3,
          18523.1,
          16843.6,
          18549.9,
          18684.5,
          18526.1,
          19992.5,
          18600.6,
          20305.1,
          18672.7,
          15234.7,
          4924.3,
          7135.7,
          8758.3,
          12934,
          13177.32,
          12652.71,
          12678.3,
          13052.9,
          17090.3,
          14708.5,
          14372.9,
          12384.5,
          11525.3,
          9501,
          9602.8,
          7763.9,
          8196.4,
          11237.4,
          15139.1,
          15044.5,
          15214.8,
          13835.9,
          15018.3,
          12637.9,
          13733,
          11780.6
         ]
        },
        {
         "line": {
          "color": "rgba(251, 193, 94, 1.0)",
          "dash": "solid",
          "shape": "linear",
          "width": 1.3
         },
         "marker": {
          "size": 12,
          "symbol": "circle"
         },
         "mode": "markers",
         "name": "Lesly Anali Valladolid Silva",
         "text": "",
         "type": "scatter",
         "x": [
          "2018-C04",
          "2018-C05",
          "2018-C06",
          "2018-C07",
          "2018-C08",
          "2018-C09",
          "2018-C10",
          "2018-C11",
          "2018-C12",
          "2018-C13",
          "2019-C01",
          "2019-C02",
          "2019-C03",
          "2019-C04",
          "2019-C05",
          "2019-C06",
          "2019-C07",
          "2019-C08",
          "2019-C09",
          "2019-C10",
          "2019-C11",
          "2019-C12",
          "2019-C13",
          "2020-C01",
          "2020-C02",
          "2020-C03",
          "2020-C04",
          "2020-C05",
          "2020-C06",
          "2020-C07",
          "2020-C08",
          "2020-C09",
          "2020-C10",
          "2020-C11",
          "2020-C12",
          "2021-C01",
          "2021-C02",
          "2021-C03",
          "2021-C04",
          "2021-C05",
          "2021-C06",
          "2021-C07",
          "2021-C08",
          "2021-C09",
          "2021-C10",
          "2021-C11",
          "2021-C12",
          "2021-C13",
          "2022-C01",
          "2022-C02",
          "2022-C03",
          "2022-C04"
         ],
         "y": [
          "",
          "",
          "",
          "",
          "",
          "",
          "",
          "",
          "",
          "",
          "",
          "",
          "",
          "",
          "",
          "",
          "",
          "",
          "",
          "",
          "",
          "",
          "",
          "",
          "",
          "",
          "",
          "",
          "",
          "",
          "",
          "",
          "",
          "",
          "",
          "",
          "",
          "",
          "",
          "",
          "",
          "",
          11473.1,
          13401.3,
          11511.5,
          12359.7,
          15036,
          7580,
          9260.5,
          8205.2,
          6799.1,
          5861
         ]
        },
        {
         "line": {
          "color": "rgba(142, 186, 66, 1.0)",
          "dash": "solid",
          "shape": "linear",
          "width": 1.3
         },
         "marker": {
          "size": 12,
          "symbol": "circle"
         },
         "mode": "markers",
         "name": "Luis Miguel Tupac Yupanqui Lazo",
         "text": "",
         "type": "scatter",
         "x": [
          "2018-C04",
          "2018-C05",
          "2018-C06",
          "2018-C07",
          "2018-C08",
          "2018-C09",
          "2018-C10",
          "2018-C11",
          "2018-C12",
          "2018-C13",
          "2019-C01",
          "2019-C02",
          "2019-C03",
          "2019-C04",
          "2019-C05",
          "2019-C06",
          "2019-C07",
          "2019-C08",
          "2019-C09",
          "2019-C10",
          "2019-C11",
          "2019-C12",
          "2019-C13",
          "2020-C01",
          "2020-C02",
          "2020-C03",
          "2020-C04",
          "2020-C05",
          "2020-C06",
          "2020-C07",
          "2020-C08",
          "2020-C09",
          "2020-C10",
          "2020-C11",
          "2020-C12",
          "2021-C01",
          "2021-C02",
          "2021-C03",
          "2021-C04",
          "2021-C05",
          "2021-C06",
          "2021-C07",
          "2021-C08",
          "2021-C09",
          "2021-C10",
          "2021-C11",
          "2021-C12",
          "2021-C13",
          "2022-C01",
          "2022-C02",
          "2022-C03",
          "2022-C04"
         ],
         "y": [
          "",
          "",
          "",
          "",
          "",
          "",
          "",
          "",
          "",
          "",
          "",
          "",
          "",
          "",
          "",
          "",
          "",
          "",
          "",
          18577.5,
          18538.8,
          18669.7,
          18789.7,
          21346.8,
          16837.4,
          18505.5,
          6859.1,
          10003.6,
          13047.3,
          17160.02,
          17798.5,
          17790.09,
          14852.7,
          20364.4,
          17513.6,
          20411.8,
          23205.4,
          17437.5,
          16176,
          19051,
          18450.9,
          17592.9,
          19461.7,
          18761.6,
          16398.6,
          15950,
          23672.1,
          20464.7,
          15000.3,
          15373,
          18501.4,
          16194.9
         ]
        },
        {
         "line": {
          "color": "rgba(255, 181, 184, 1.0)",
          "dash": "solid",
          "shape": "linear",
          "width": 1.3
         },
         "marker": {
          "size": 12,
          "symbol": "circle"
         },
         "mode": "markers",
         "name": "Natali Karen Litano Silupu",
         "text": "",
         "type": "scatter",
         "x": [
          "2018-C04",
          "2018-C05",
          "2018-C06",
          "2018-C07",
          "2018-C08",
          "2018-C09",
          "2018-C10",
          "2018-C11",
          "2018-C12",
          "2018-C13",
          "2019-C01",
          "2019-C02",
          "2019-C03",
          "2019-C04",
          "2019-C05",
          "2019-C06",
          "2019-C07",
          "2019-C08",
          "2019-C09",
          "2019-C10",
          "2019-C11",
          "2019-C12",
          "2019-C13",
          "2020-C01",
          "2020-C02",
          "2020-C03",
          "2020-C04",
          "2020-C05",
          "2020-C06",
          "2020-C07",
          "2020-C08",
          "2020-C09",
          "2020-C10",
          "2020-C11",
          "2020-C12",
          "2021-C01",
          "2021-C02",
          "2021-C03",
          "2021-C04",
          "2021-C05",
          "2021-C06",
          "2021-C07",
          "2021-C08",
          "2021-C09",
          "2021-C10",
          "2021-C11",
          "2021-C12",
          "2021-C13",
          "2022-C01",
          "2022-C02",
          "2022-C03",
          "2022-C04"
         ],
         "y": [
          "",
          "",
          "",
          "",
          "",
          "",
          "",
          "",
          "",
          "",
          "",
          18533.2,
          18516.6,
          15020.5,
          16924,
          14828.4,
          12259.9,
          14805.6,
          18506.6,
          13082.6,
          8631.8,
          10330.6,
          11075.9,
          9579.6,
          11258.7,
          8570.7,
          6363.9,
          10051.3,
          11377,
          12533.7,
          14420.76,
          11039.6,
          6853.7,
          6145.1,
          6410.2,
          11488.6,
          9341.2,
          9629.2,
          5892.5,
          12565.9,
          7423.3,
          6521.1,
          10589.4,
          6720.8,
          8203.3,
          14016.3,
          12064.5,
          8121.3,
          6891,
          8428.5,
          7062.9,
          6228
         ]
        },
        {
         "line": {
          "color": "rgba(255, 181, 184, 0.8999999999999999)",
          "dash": "solid",
          "shape": "linear",
          "width": 1.3
         },
         "marker": {
          "size": 12,
          "symbol": "circle"
         },
         "mode": "markers",
         "name": "Rosa Concepcion Ruiz De Abad",
         "text": "",
         "type": "scatter",
         "x": [
          "2018-C04",
          "2018-C05",
          "2018-C06",
          "2018-C07",
          "2018-C08",
          "2018-C09",
          "2018-C10",
          "2018-C11",
          "2018-C12",
          "2018-C13",
          "2019-C01",
          "2019-C02",
          "2019-C03",
          "2019-C04",
          "2019-C05",
          "2019-C06",
          "2019-C07",
          "2019-C08",
          "2019-C09",
          "2019-C10",
          "2019-C11",
          "2019-C12",
          "2019-C13",
          "2020-C01",
          "2020-C02",
          "2020-C03",
          "2020-C04",
          "2020-C05",
          "2020-C06",
          "2020-C07",
          "2020-C08",
          "2020-C09",
          "2020-C10",
          "2020-C11",
          "2020-C12",
          "2021-C01",
          "2021-C02",
          "2021-C03",
          "2021-C04",
          "2021-C05",
          "2021-C06",
          "2021-C07",
          "2021-C08",
          "2021-C09",
          "2021-C10",
          "2021-C11",
          "2021-C12",
          "2021-C13",
          "2022-C01",
          "2022-C02",
          "2022-C03",
          "2022-C04"
         ],
         "y": [
          20708.13,
          20094.5,
          22719.6,
          19883.2,
          14577.1,
          18519.8,
          16235.3,
          16977.7,
          21585.4,
          22197.9,
          23651.7,
          26407.2,
          23834.1,
          21361.5,
          22518,
          23737.9,
          25163.9,
          23182.5,
          25257.5,
          21360.1,
          22700.2,
          27290.3,
          25837.4,
          20760.4,
          22869.4,
          22345.1,
          6500.1,
          12524.2,
          11389.6,
          15337.16,
          15213.2,
          12414.73,
          14627.1,
          17494.1,
          17760.3,
          18510.1,
          22538.1,
          13647.9,
          7745.6,
          8999.7,
          10582.1,
          12009.4,
          11711.7,
          11049.2,
          14030.3,
          14009.1,
          17606.1,
          16605.8,
          15071.1,
          16814.7,
          17614.4,
          19846.2
         ]
        },
        {
         "line": {
          "color": "rgba(226, 74, 51, 0.8999999999999999)",
          "dash": "solid",
          "shape": "linear",
          "width": 1.3
         },
         "marker": {
          "size": 12,
          "symbol": "circle"
         },
         "mode": "markers",
         "name": "Rosario Elizabe Lazo Ramirez",
         "text": "",
         "type": "scatter",
         "x": [
          "2018-C04",
          "2018-C05",
          "2018-C06",
          "2018-C07",
          "2018-C08",
          "2018-C09",
          "2018-C10",
          "2018-C11",
          "2018-C12",
          "2018-C13",
          "2019-C01",
          "2019-C02",
          "2019-C03",
          "2019-C04",
          "2019-C05",
          "2019-C06",
          "2019-C07",
          "2019-C08",
          "2019-C09",
          "2019-C10",
          "2019-C11",
          "2019-C12",
          "2019-C13",
          "2020-C01",
          "2020-C02",
          "2020-C03",
          "2020-C04",
          "2020-C05",
          "2020-C06",
          "2020-C07",
          "2020-C08",
          "2020-C09",
          "2020-C10",
          "2020-C11",
          "2020-C12",
          "2021-C01",
          "2021-C02",
          "2021-C03",
          "2021-C04",
          "2021-C05",
          "2021-C06",
          "2021-C07",
          "2021-C08",
          "2021-C09",
          "2021-C10",
          "2021-C11",
          "2021-C12",
          "2021-C13",
          "2022-C01",
          "2022-C02",
          "2022-C03",
          "2022-C04"
         ],
         "y": [
          57296.37,
          58918.8,
          47040.6,
          46605.6,
          44148.9,
          33310.5,
          30082.5,
          27604.3,
          38460.7,
          47387.4,
          51469.1,
          31964.5,
          29281.2,
          30424,
          34902.1,
          37738.7,
          37327.6,
          39584.5,
          42614.9,
          33302.7,
          31090.7,
          32986.3,
          30611.8,
          32225.8,
          31788.7,
          30263.8,
          9907.9,
          26715,
          28880.7,
          31073.1,
          33657.7,
          26730.59,
          26644,
          34406.6,
          33194.9,
          32642,
          30066.6,
          26167.6,
          24916.4,
          23319.3,
          27872.5,
          27773,
          26079.7,
          30074,
          32110.5,
          29135.7,
          36821.3,
          17711,
          17665,
          20282.3,
          22493.9,
          24891.4
         ]
        },
        {
         "line": {
          "color": "rgba(62, 111, 176, 0.8999999999999999)",
          "dash": "solid",
          "shape": "linear",
          "width": 1.3
         },
         "marker": {
          "size": 12,
          "symbol": "circle"
         },
         "mode": "markers",
         "name": "Yenit Marizela Panta Gonzales",
         "text": "",
         "type": "scatter",
         "x": [
          "2018-C04",
          "2018-C05",
          "2018-C06",
          "2018-C07",
          "2018-C08",
          "2018-C09",
          "2018-C10",
          "2018-C11",
          "2018-C12",
          "2018-C13",
          "2019-C01",
          "2019-C02",
          "2019-C03",
          "2019-C04",
          "2019-C05",
          "2019-C06",
          "2019-C07",
          "2019-C08",
          "2019-C09",
          "2019-C10",
          "2019-C11",
          "2019-C12",
          "2019-C13",
          "2020-C01",
          "2020-C02",
          "2020-C03",
          "2020-C04",
          "2020-C05",
          "2020-C06",
          "2020-C07",
          "2020-C08",
          "2020-C09",
          "2020-C10",
          "2020-C11",
          "2020-C12",
          "2021-C01",
          "2021-C02",
          "2021-C03",
          "2021-C04",
          "2021-C05",
          "2021-C06",
          "2021-C07",
          "2021-C08",
          "2021-C09",
          "2021-C10",
          "2021-C11",
          "2021-C12",
          "2021-C13",
          "2022-C01",
          "2022-C02",
          "2022-C03",
          "2022-C04"
         ],
         "y": [
          "",
          "",
          "",
          "",
          "",
          19912,
          18752,
          20723.5,
          19626.1,
          15602,
          18583.3,
          22790.4,
          22002.5,
          18515.1,
          21494.1,
          19119,
          19146.9,
          18520.7,
          18675.6,
          18524.7,
          19323.2,
          20484.9,
          20950.2,
          19337.9,
          27878.6,
          25143.2,
          13097.4,
          28252.1,
          37403.82,
          47458.32,
          48265.4,
          53402.03,
          48304,
          54220.2,
          58977.1,
          27426.4,
          30955,
          29424.2,
          27056.6,
          26474.2,
          31718.7,
          33044.3,
          20721.8,
          22077.2,
          19385.2,
          21880.7,
          23925.3,
          18599.9,
          19063.6,
          19998.3,
          22242.1,
          21798.9
         ]
        },
        {
         "line": {
          "color": "rgba(132, 118, 202, 0.8999999999999999)",
          "dash": "solid",
          "shape": "linear",
          "width": 1.3
         },
         "marker": {
          "size": 12,
          "symbol": "circle"
         },
         "mode": "markers",
         "name": "Yessica Lizbeth Panta Gonzales",
         "text": "",
         "type": "scatter",
         "x": [
          "2018-C04",
          "2018-C05",
          "2018-C06",
          "2018-C07",
          "2018-C08",
          "2018-C09",
          "2018-C10",
          "2018-C11",
          "2018-C12",
          "2018-C13",
          "2019-C01",
          "2019-C02",
          "2019-C03",
          "2019-C04",
          "2019-C05",
          "2019-C06",
          "2019-C07",
          "2019-C08",
          "2019-C09",
          "2019-C10",
          "2019-C11",
          "2019-C12",
          "2019-C13",
          "2020-C01",
          "2020-C02",
          "2020-C03",
          "2020-C04",
          "2020-C05",
          "2020-C06",
          "2020-C07",
          "2020-C08",
          "2020-C09",
          "2020-C10",
          "2020-C11",
          "2020-C12",
          "2021-C01",
          "2021-C02",
          "2021-C03",
          "2021-C04",
          "2021-C05",
          "2021-C06",
          "2021-C07",
          "2021-C08",
          "2021-C09",
          "2021-C10",
          "2021-C11",
          "2021-C12",
          "2021-C13",
          "2022-C01",
          "2022-C02",
          "2022-C03",
          "2022-C04"
         ],
         "y": [
          "",
          "",
          "",
          "",
          "",
          "",
          "",
          "",
          "",
          "",
          "",
          "",
          "",
          "",
          "",
          "",
          "",
          "",
          "",
          "",
          "",
          "",
          "",
          "",
          "",
          "",
          "",
          "",
          "",
          "",
          "",
          "",
          "",
          "",
          "",
          21526.2,
          22892,
          20952,
          18180.4,
          16030.8,
          20533.9,
          20550.3,
          22786.6,
          20290.6,
          23577.7,
          23898.3,
          24125.8,
          20697.7,
          12937.8,
          17113,
          14690.9,
          13108.7
         ]
        }
       ],
       "layout": {
        "legend": {
         "bgcolor": "#FFFFFF",
         "font": {
          "color": "#666666"
         }
        },
        "paper_bgcolor": "#FFFFFF",
        "plot_bgcolor": "#E5E5E5",
        "template": {
         "data": {
          "bar": [
           {
            "error_x": {
             "color": "#2a3f5f"
            },
            "error_y": {
             "color": "#2a3f5f"
            },
            "marker": {
             "line": {
              "color": "#E5ECF6",
              "width": 0.5
             },
             "pattern": {
              "fillmode": "overlay",
              "size": 10,
              "solidity": 0.2
             }
            },
            "type": "bar"
           }
          ],
          "barpolar": [
           {
            "marker": {
             "line": {
              "color": "#E5ECF6",
              "width": 0.5
             },
             "pattern": {
              "fillmode": "overlay",
              "size": 10,
              "solidity": 0.2
             }
            },
            "type": "barpolar"
           }
          ],
          "carpet": [
           {
            "aaxis": {
             "endlinecolor": "#2a3f5f",
             "gridcolor": "white",
             "linecolor": "white",
             "minorgridcolor": "white",
             "startlinecolor": "#2a3f5f"
            },
            "baxis": {
             "endlinecolor": "#2a3f5f",
             "gridcolor": "white",
             "linecolor": "white",
             "minorgridcolor": "white",
             "startlinecolor": "#2a3f5f"
            },
            "type": "carpet"
           }
          ],
          "choropleth": [
           {
            "colorbar": {
             "outlinewidth": 0,
             "ticks": ""
            },
            "type": "choropleth"
           }
          ],
          "contour": [
           {
            "colorbar": {
             "outlinewidth": 0,
             "ticks": ""
            },
            "colorscale": [
             [
              0,
              "#0d0887"
             ],
             [
              0.1111111111111111,
              "#46039f"
             ],
             [
              0.2222222222222222,
              "#7201a8"
             ],
             [
              0.3333333333333333,
              "#9c179e"
             ],
             [
              0.4444444444444444,
              "#bd3786"
             ],
             [
              0.5555555555555556,
              "#d8576b"
             ],
             [
              0.6666666666666666,
              "#ed7953"
             ],
             [
              0.7777777777777778,
              "#fb9f3a"
             ],
             [
              0.8888888888888888,
              "#fdca26"
             ],
             [
              1,
              "#f0f921"
             ]
            ],
            "type": "contour"
           }
          ],
          "contourcarpet": [
           {
            "colorbar": {
             "outlinewidth": 0,
             "ticks": ""
            },
            "type": "contourcarpet"
           }
          ],
          "heatmap": [
           {
            "colorbar": {
             "outlinewidth": 0,
             "ticks": ""
            },
            "colorscale": [
             [
              0,
              "#0d0887"
             ],
             [
              0.1111111111111111,
              "#46039f"
             ],
             [
              0.2222222222222222,
              "#7201a8"
             ],
             [
              0.3333333333333333,
              "#9c179e"
             ],
             [
              0.4444444444444444,
              "#bd3786"
             ],
             [
              0.5555555555555556,
              "#d8576b"
             ],
             [
              0.6666666666666666,
              "#ed7953"
             ],
             [
              0.7777777777777778,
              "#fb9f3a"
             ],
             [
              0.8888888888888888,
              "#fdca26"
             ],
             [
              1,
              "#f0f921"
             ]
            ],
            "type": "heatmap"
           }
          ],
          "heatmapgl": [
           {
            "colorbar": {
             "outlinewidth": 0,
             "ticks": ""
            },
            "colorscale": [
             [
              0,
              "#0d0887"
             ],
             [
              0.1111111111111111,
              "#46039f"
             ],
             [
              0.2222222222222222,
              "#7201a8"
             ],
             [
              0.3333333333333333,
              "#9c179e"
             ],
             [
              0.4444444444444444,
              "#bd3786"
             ],
             [
              0.5555555555555556,
              "#d8576b"
             ],
             [
              0.6666666666666666,
              "#ed7953"
             ],
             [
              0.7777777777777778,
              "#fb9f3a"
             ],
             [
              0.8888888888888888,
              "#fdca26"
             ],
             [
              1,
              "#f0f921"
             ]
            ],
            "type": "heatmapgl"
           }
          ],
          "histogram": [
           {
            "marker": {
             "pattern": {
              "fillmode": "overlay",
              "size": 10,
              "solidity": 0.2
             }
            },
            "type": "histogram"
           }
          ],
          "histogram2d": [
           {
            "colorbar": {
             "outlinewidth": 0,
             "ticks": ""
            },
            "colorscale": [
             [
              0,
              "#0d0887"
             ],
             [
              0.1111111111111111,
              "#46039f"
             ],
             [
              0.2222222222222222,
              "#7201a8"
             ],
             [
              0.3333333333333333,
              "#9c179e"
             ],
             [
              0.4444444444444444,
              "#bd3786"
             ],
             [
              0.5555555555555556,
              "#d8576b"
             ],
             [
              0.6666666666666666,
              "#ed7953"
             ],
             [
              0.7777777777777778,
              "#fb9f3a"
             ],
             [
              0.8888888888888888,
              "#fdca26"
             ],
             [
              1,
              "#f0f921"
             ]
            ],
            "type": "histogram2d"
           }
          ],
          "histogram2dcontour": [
           {
            "colorbar": {
             "outlinewidth": 0,
             "ticks": ""
            },
            "colorscale": [
             [
              0,
              "#0d0887"
             ],
             [
              0.1111111111111111,
              "#46039f"
             ],
             [
              0.2222222222222222,
              "#7201a8"
             ],
             [
              0.3333333333333333,
              "#9c179e"
             ],
             [
              0.4444444444444444,
              "#bd3786"
             ],
             [
              0.5555555555555556,
              "#d8576b"
             ],
             [
              0.6666666666666666,
              "#ed7953"
             ],
             [
              0.7777777777777778,
              "#fb9f3a"
             ],
             [
              0.8888888888888888,
              "#fdca26"
             ],
             [
              1,
              "#f0f921"
             ]
            ],
            "type": "histogram2dcontour"
           }
          ],
          "mesh3d": [
           {
            "colorbar": {
             "outlinewidth": 0,
             "ticks": ""
            },
            "type": "mesh3d"
           }
          ],
          "parcoords": [
           {
            "line": {
             "colorbar": {
              "outlinewidth": 0,
              "ticks": ""
             }
            },
            "type": "parcoords"
           }
          ],
          "pie": [
           {
            "automargin": true,
            "type": "pie"
           }
          ],
          "scatter": [
           {
            "fillpattern": {
             "fillmode": "overlay",
             "size": 10,
             "solidity": 0.2
            },
            "type": "scatter"
           }
          ],
          "scatter3d": [
           {
            "line": {
             "colorbar": {
              "outlinewidth": 0,
              "ticks": ""
             }
            },
            "marker": {
             "colorbar": {
              "outlinewidth": 0,
              "ticks": ""
             }
            },
            "type": "scatter3d"
           }
          ],
          "scattercarpet": [
           {
            "marker": {
             "colorbar": {
              "outlinewidth": 0,
              "ticks": ""
             }
            },
            "type": "scattercarpet"
           }
          ],
          "scattergeo": [
           {
            "marker": {
             "colorbar": {
              "outlinewidth": 0,
              "ticks": ""
             }
            },
            "type": "scattergeo"
           }
          ],
          "scattergl": [
           {
            "marker": {
             "colorbar": {
              "outlinewidth": 0,
              "ticks": ""
             }
            },
            "type": "scattergl"
           }
          ],
          "scattermapbox": [
           {
            "marker": {
             "colorbar": {
              "outlinewidth": 0,
              "ticks": ""
             }
            },
            "type": "scattermapbox"
           }
          ],
          "scatterpolar": [
           {
            "marker": {
             "colorbar": {
              "outlinewidth": 0,
              "ticks": ""
             }
            },
            "type": "scatterpolar"
           }
          ],
          "scatterpolargl": [
           {
            "marker": {
             "colorbar": {
              "outlinewidth": 0,
              "ticks": ""
             }
            },
            "type": "scatterpolargl"
           }
          ],
          "scatterternary": [
           {
            "marker": {
             "colorbar": {
              "outlinewidth": 0,
              "ticks": ""
             }
            },
            "type": "scatterternary"
           }
          ],
          "surface": [
           {
            "colorbar": {
             "outlinewidth": 0,
             "ticks": ""
            },
            "colorscale": [
             [
              0,
              "#0d0887"
             ],
             [
              0.1111111111111111,
              "#46039f"
             ],
             [
              0.2222222222222222,
              "#7201a8"
             ],
             [
              0.3333333333333333,
              "#9c179e"
             ],
             [
              0.4444444444444444,
              "#bd3786"
             ],
             [
              0.5555555555555556,
              "#d8576b"
             ],
             [
              0.6666666666666666,
              "#ed7953"
             ],
             [
              0.7777777777777778,
              "#fb9f3a"
             ],
             [
              0.8888888888888888,
              "#fdca26"
             ],
             [
              1,
              "#f0f921"
             ]
            ],
            "type": "surface"
           }
          ],
          "table": [
           {
            "cells": {
             "fill": {
              "color": "#EBF0F8"
             },
             "line": {
              "color": "white"
             }
            },
            "header": {
             "fill": {
              "color": "#C8D4E3"
             },
             "line": {
              "color": "white"
             }
            },
            "type": "table"
           }
          ]
         },
         "layout": {
          "annotationdefaults": {
           "arrowcolor": "#2a3f5f",
           "arrowhead": 0,
           "arrowwidth": 1
          },
          "autotypenumbers": "strict",
          "coloraxis": {
           "colorbar": {
            "outlinewidth": 0,
            "ticks": ""
           }
          },
          "colorscale": {
           "diverging": [
            [
             0,
             "#8e0152"
            ],
            [
             0.1,
             "#c51b7d"
            ],
            [
             0.2,
             "#de77ae"
            ],
            [
             0.3,
             "#f1b6da"
            ],
            [
             0.4,
             "#fde0ef"
            ],
            [
             0.5,
             "#f7f7f7"
            ],
            [
             0.6,
             "#e6f5d0"
            ],
            [
             0.7,
             "#b8e186"
            ],
            [
             0.8,
             "#7fbc41"
            ],
            [
             0.9,
             "#4d9221"
            ],
            [
             1,
             "#276419"
            ]
           ],
           "sequential": [
            [
             0,
             "#0d0887"
            ],
            [
             0.1111111111111111,
             "#46039f"
            ],
            [
             0.2222222222222222,
             "#7201a8"
            ],
            [
             0.3333333333333333,
             "#9c179e"
            ],
            [
             0.4444444444444444,
             "#bd3786"
            ],
            [
             0.5555555555555556,
             "#d8576b"
            ],
            [
             0.6666666666666666,
             "#ed7953"
            ],
            [
             0.7777777777777778,
             "#fb9f3a"
            ],
            [
             0.8888888888888888,
             "#fdca26"
            ],
            [
             1,
             "#f0f921"
            ]
           ],
           "sequentialminus": [
            [
             0,
             "#0d0887"
            ],
            [
             0.1111111111111111,
             "#46039f"
            ],
            [
             0.2222222222222222,
             "#7201a8"
            ],
            [
             0.3333333333333333,
             "#9c179e"
            ],
            [
             0.4444444444444444,
             "#bd3786"
            ],
            [
             0.5555555555555556,
             "#d8576b"
            ],
            [
             0.6666666666666666,
             "#ed7953"
            ],
            [
             0.7777777777777778,
             "#fb9f3a"
            ],
            [
             0.8888888888888888,
             "#fdca26"
            ],
            [
             1,
             "#f0f921"
            ]
           ]
          },
          "colorway": [
           "#636efa",
           "#EF553B",
           "#00cc96",
           "#ab63fa",
           "#FFA15A",
           "#19d3f3",
           "#FF6692",
           "#B6E880",
           "#FF97FF",
           "#FECB52"
          ],
          "font": {
           "color": "#2a3f5f"
          },
          "geo": {
           "bgcolor": "white",
           "lakecolor": "white",
           "landcolor": "#E5ECF6",
           "showlakes": true,
           "showland": true,
           "subunitcolor": "white"
          },
          "hoverlabel": {
           "align": "left"
          },
          "hovermode": "closest",
          "mapbox": {
           "style": "light"
          },
          "paper_bgcolor": "white",
          "plot_bgcolor": "#E5ECF6",
          "polar": {
           "angularaxis": {
            "gridcolor": "white",
            "linecolor": "white",
            "ticks": ""
           },
           "bgcolor": "#E5ECF6",
           "radialaxis": {
            "gridcolor": "white",
            "linecolor": "white",
            "ticks": ""
           }
          },
          "scene": {
           "xaxis": {
            "backgroundcolor": "#E5ECF6",
            "gridcolor": "white",
            "gridwidth": 2,
            "linecolor": "white",
            "showbackground": true,
            "ticks": "",
            "zerolinecolor": "white"
           },
           "yaxis": {
            "backgroundcolor": "#E5ECF6",
            "gridcolor": "white",
            "gridwidth": 2,
            "linecolor": "white",
            "showbackground": true,
            "ticks": "",
            "zerolinecolor": "white"
           },
           "zaxis": {
            "backgroundcolor": "#E5ECF6",
            "gridcolor": "white",
            "gridwidth": 2,
            "linecolor": "white",
            "showbackground": true,
            "ticks": "",
            "zerolinecolor": "white"
           }
          },
          "shapedefaults": {
           "line": {
            "color": "#2a3f5f"
           }
          },
          "ternary": {
           "aaxis": {
            "gridcolor": "white",
            "linecolor": "white",
            "ticks": ""
           },
           "baxis": {
            "gridcolor": "white",
            "linecolor": "white",
            "ticks": ""
           },
           "bgcolor": "#E5ECF6",
           "caxis": {
            "gridcolor": "white",
            "linecolor": "white",
            "ticks": ""
           }
          },
          "title": {
           "x": 0.05
          },
          "xaxis": {
           "automargin": true,
           "gridcolor": "white",
           "linecolor": "white",
           "ticks": "",
           "title": {
            "standoff": 15
           },
           "zerolinecolor": "white",
           "zerolinewidth": 2
          },
          "yaxis": {
           "automargin": true,
           "gridcolor": "white",
           "linecolor": "white",
           "ticks": "",
           "title": {
            "standoff": 15
           },
           "zerolinecolor": "white",
           "zerolinewidth": 2
          }
         }
        },
        "title": {
         "font": {
          "color": "#151516"
         },
         "text": "Venta Publica Grupal por Campania"
        },
        "xaxis": {
         "gridcolor": "#F6F6F6",
         "showgrid": true,
         "tickfont": {
          "color": "#666666"
         },
         "title": {
          "font": {
           "color": "#666666"
          },
          "text": "Campania"
         },
         "zerolinecolor": "#F6F6F6"
        },
        "yaxis": {
         "gridcolor": "#F6F6F6",
         "showgrid": true,
         "tickfont": {
          "color": "#666666"
         },
         "title": {
          "font": {
           "color": "#666666"
          },
          "text": "Venta Publica Grupal"
         },
         "zerolinecolor": "#F6F6F6"
        }
       }
      },
      "text/html": [
       "<div>                            <div id=\"fc67d25e-fd8d-45ea-a9df-65da3e370a2f\" class=\"plotly-graph-div\" style=\"height:525px; width:100%;\"></div>            <script type=\"text/javascript\">                require([\"plotly\"], function(Plotly) {                    window.PLOTLYENV=window.PLOTLYENV || {};\n",
       "                    window.PLOTLYENV.BASE_URL='https://plot.ly';                                    if (document.getElementById(\"fc67d25e-fd8d-45ea-a9df-65da3e370a2f\")) {                    Plotly.newPlot(                        \"fc67d25e-fd8d-45ea-a9df-65da3e370a2f\",                        [{\"line\":{\"color\":\"rgba(226, 74, 51, 1.0)\",\"dash\":\"solid\",\"shape\":\"linear\",\"width\":1.3},\"marker\":{\"size\":12,\"symbol\":\"circle\"},\"mode\":\"markers\",\"name\":\"Ana Fabiola Huancas Ruiz\",\"text\":\"\",\"x\":[\"2018-C04\",\"2018-C05\",\"2018-C06\",\"2018-C07\",\"2018-C08\",\"2018-C09\",\"2018-C10\",\"2018-C11\",\"2018-C12\",\"2018-C13\",\"2019-C01\",\"2019-C02\",\"2019-C03\",\"2019-C04\",\"2019-C05\",\"2019-C06\",\"2019-C07\",\"2019-C08\",\"2019-C09\",\"2019-C10\",\"2019-C11\",\"2019-C12\",\"2019-C13\",\"2020-C01\",\"2020-C02\",\"2020-C03\",\"2020-C04\",\"2020-C05\",\"2020-C06\",\"2020-C07\",\"2020-C08\",\"2020-C09\",\"2020-C10\",\"2020-C11\",\"2020-C12\",\"2021-C01\",\"2021-C02\",\"2021-C03\",\"2021-C04\",\"2021-C05\",\"2021-C06\",\"2021-C07\",\"2021-C08\",\"2021-C09\",\"2021-C10\",\"2021-C11\",\"2021-C12\",\"2021-C13\",\"2022-C01\",\"2022-C02\",\"2022-C03\",\"2022-C04\"],\"y\":[19491.01,13730.7,14277.4,13249.4,14568.4,16283.6,13934.0,10814.9,10531.1,\"\",\"\",\"\",\"\",\"\",\"\",\"\",\"\",\"\",\"\",\"\",\"\",\"\",\"\",\"\",\"\",\"\",\"\",\"\",\"\",\"\",\"\",\"\",\"\",\"\",\"\",\"\",\"\",\"\",\"\",\"\",\"\",\"\",\"\",\"\",\"\",\"\",\"\",\"\",\"\",\"\",\"\",\"\"],\"type\":\"scatter\"},{\"line\":{\"color\":\"rgba(62, 111, 176, 1.0)\",\"dash\":\"solid\",\"shape\":\"linear\",\"width\":1.3},\"marker\":{\"size\":12,\"symbol\":\"circle\"},\"mode\":\"markers\",\"name\":\"Blanca Susana Severino Carre\\u00f1o De Berru\",\"text\":\"\",\"x\":[\"2018-C04\",\"2018-C05\",\"2018-C06\",\"2018-C07\",\"2018-C08\",\"2018-C09\",\"2018-C10\",\"2018-C11\",\"2018-C12\",\"2018-C13\",\"2019-C01\",\"2019-C02\",\"2019-C03\",\"2019-C04\",\"2019-C05\",\"2019-C06\",\"2019-C07\",\"2019-C08\",\"2019-C09\",\"2019-C10\",\"2019-C11\",\"2019-C12\",\"2019-C13\",\"2020-C01\",\"2020-C02\",\"2020-C03\",\"2020-C04\",\"2020-C05\",\"2020-C06\",\"2020-C07\",\"2020-C08\",\"2020-C09\",\"2020-C10\",\"2020-C11\",\"2020-C12\",\"2021-C01\",\"2021-C02\",\"2021-C03\",\"2021-C04\",\"2021-C05\",\"2021-C06\",\"2021-C07\",\"2021-C08\",\"2021-C09\",\"2021-C10\",\"2021-C11\",\"2021-C12\",\"2021-C13\",\"2022-C01\",\"2022-C02\",\"2022-C03\",\"2022-C04\"],\"y\":[\"\",\"\",21477.0,19283.5,21202.2,24378.6,23960.5,16818.3,21418.5,16866.3,14161.1,14889.7,15895.7,13449.7,11034.0,9851.8,11036.6,12153.2,11971.8,\"\",\"\",\"\",\"\",\"\",\"\",\"\",\"\",\"\",\"\",\"\",\"\",\"\",\"\",\"\",\"\",\"\",\"\",\"\",\"\",\"\",\"\",\"\",\"\",\"\",\"\",\"\",\"\",15011.0,17232.8,18590.2,17244.6,17001.2],\"type\":\"scatter\"},{\"line\":{\"color\":\"rgba(132, 118, 202, 1.0)\",\"dash\":\"solid\",\"shape\":\"linear\",\"width\":1.3},\"marker\":{\"size\":12,\"symbol\":\"circle\"},\"mode\":\"markers\",\"name\":\"ELENA ELIZABETH CHERO RUIZ\",\"text\":\"\",\"x\":[\"2018-C04\",\"2018-C05\",\"2018-C06\",\"2018-C07\",\"2018-C08\",\"2018-C09\",\"2018-C10\",\"2018-C11\",\"2018-C12\",\"2018-C13\",\"2019-C01\",\"2019-C02\",\"2019-C03\",\"2019-C04\",\"2019-C05\",\"2019-C06\",\"2019-C07\",\"2019-C08\",\"2019-C09\",\"2019-C10\",\"2019-C11\",\"2019-C12\",\"2019-C13\",\"2020-C01\",\"2020-C02\",\"2020-C03\",\"2020-C04\",\"2020-C05\",\"2020-C06\",\"2020-C07\",\"2020-C08\",\"2020-C09\",\"2020-C10\",\"2020-C11\",\"2020-C12\",\"2021-C01\",\"2021-C02\",\"2021-C03\",\"2021-C04\",\"2021-C05\",\"2021-C06\",\"2021-C07\",\"2021-C08\",\"2021-C09\",\"2021-C10\",\"2021-C11\",\"2021-C12\",\"2021-C13\",\"2022-C01\",\"2022-C02\",\"2022-C03\",\"2022-C04\"],\"y\":[\"\",\"\",\"\",\"\",\"\",\"\",\"\",\"\",\"\",\"\",\"\",\"\",\"\",\"\",\"\",\"\",\"\",\"\",\"\",\"\",\"\",\"\",\"\",\"\",\"\",\"\",\"\",\"\",\"\",\"\",\"\",\"\",\"\",\"\",\"\",18559.5,18549.9,14106.1,14400.7,13789.5,15220.3,18616.0,22061.2,19452.9,20698.8,19458.5,19108.6,16319.3,16263.4,15280.2,16020.8,12118.8],\"type\":\"scatter\"},{\"line\":{\"color\":\"rgba(101, 101, 101, 1.0)\",\"dash\":\"solid\",\"shape\":\"linear\",\"width\":1.3},\"marker\":{\"size\":12,\"symbol\":\"circle\"},\"mode\":\"markers\",\"name\":\"Imelda Chamba Ni\\u00f1o\",\"text\":\"\",\"x\":[\"2018-C04\",\"2018-C05\",\"2018-C06\",\"2018-C07\",\"2018-C08\",\"2018-C09\",\"2018-C10\",\"2018-C11\",\"2018-C12\",\"2018-C13\",\"2019-C01\",\"2019-C02\",\"2019-C03\",\"2019-C04\",\"2019-C05\",\"2019-C06\",\"2019-C07\",\"2019-C08\",\"2019-C09\",\"2019-C10\",\"2019-C11\",\"2019-C12\",\"2019-C13\",\"2020-C01\",\"2020-C02\",\"2020-C03\",\"2020-C04\",\"2020-C05\",\"2020-C06\",\"2020-C07\",\"2020-C08\",\"2020-C09\",\"2020-C10\",\"2020-C11\",\"2020-C12\",\"2021-C01\",\"2021-C02\",\"2021-C03\",\"2021-C04\",\"2021-C05\",\"2021-C06\",\"2021-C07\",\"2021-C08\",\"2021-C09\",\"2021-C10\",\"2021-C11\",\"2021-C12\",\"2021-C13\",\"2022-C01\",\"2022-C02\",\"2022-C03\",\"2022-C04\"],\"y\":[19724.47,20779.0,23367.6,20940.8,17509.5,16256.4,16642.9,18525.5,18990.4,19796.4,19421.2,19001.2,18503.6,18673.6,21481.8,19965.3,18523.1,16843.6,18549.9,18684.5,18526.1,19992.5,18600.6,20305.1,18672.7,15234.7,4924.3,7135.7,8758.3,12934.0,13177.32,12652.71,12678.3,13052.9,17090.3,14708.5,14372.9,12384.5,11525.3,9501.0,9602.8,7763.9,8196.4,11237.4,15139.1,15044.5,15214.8,13835.9,15018.3,12637.9,13733.0,11780.6],\"type\":\"scatter\"},{\"line\":{\"color\":\"rgba(251, 193, 94, 1.0)\",\"dash\":\"solid\",\"shape\":\"linear\",\"width\":1.3},\"marker\":{\"size\":12,\"symbol\":\"circle\"},\"mode\":\"markers\",\"name\":\"Lesly Anali Valladolid Silva\",\"text\":\"\",\"x\":[\"2018-C04\",\"2018-C05\",\"2018-C06\",\"2018-C07\",\"2018-C08\",\"2018-C09\",\"2018-C10\",\"2018-C11\",\"2018-C12\",\"2018-C13\",\"2019-C01\",\"2019-C02\",\"2019-C03\",\"2019-C04\",\"2019-C05\",\"2019-C06\",\"2019-C07\",\"2019-C08\",\"2019-C09\",\"2019-C10\",\"2019-C11\",\"2019-C12\",\"2019-C13\",\"2020-C01\",\"2020-C02\",\"2020-C03\",\"2020-C04\",\"2020-C05\",\"2020-C06\",\"2020-C07\",\"2020-C08\",\"2020-C09\",\"2020-C10\",\"2020-C11\",\"2020-C12\",\"2021-C01\",\"2021-C02\",\"2021-C03\",\"2021-C04\",\"2021-C05\",\"2021-C06\",\"2021-C07\",\"2021-C08\",\"2021-C09\",\"2021-C10\",\"2021-C11\",\"2021-C12\",\"2021-C13\",\"2022-C01\",\"2022-C02\",\"2022-C03\",\"2022-C04\"],\"y\":[\"\",\"\",\"\",\"\",\"\",\"\",\"\",\"\",\"\",\"\",\"\",\"\",\"\",\"\",\"\",\"\",\"\",\"\",\"\",\"\",\"\",\"\",\"\",\"\",\"\",\"\",\"\",\"\",\"\",\"\",\"\",\"\",\"\",\"\",\"\",\"\",\"\",\"\",\"\",\"\",\"\",\"\",11473.1,13401.3,11511.5,12359.7,15036.0,7580.0,9260.5,8205.2,6799.1,5861.0],\"type\":\"scatter\"},{\"line\":{\"color\":\"rgba(142, 186, 66, 1.0)\",\"dash\":\"solid\",\"shape\":\"linear\",\"width\":1.3},\"marker\":{\"size\":12,\"symbol\":\"circle\"},\"mode\":\"markers\",\"name\":\"Luis Miguel Tupac Yupanqui Lazo\",\"text\":\"\",\"x\":[\"2018-C04\",\"2018-C05\",\"2018-C06\",\"2018-C07\",\"2018-C08\",\"2018-C09\",\"2018-C10\",\"2018-C11\",\"2018-C12\",\"2018-C13\",\"2019-C01\",\"2019-C02\",\"2019-C03\",\"2019-C04\",\"2019-C05\",\"2019-C06\",\"2019-C07\",\"2019-C08\",\"2019-C09\",\"2019-C10\",\"2019-C11\",\"2019-C12\",\"2019-C13\",\"2020-C01\",\"2020-C02\",\"2020-C03\",\"2020-C04\",\"2020-C05\",\"2020-C06\",\"2020-C07\",\"2020-C08\",\"2020-C09\",\"2020-C10\",\"2020-C11\",\"2020-C12\",\"2021-C01\",\"2021-C02\",\"2021-C03\",\"2021-C04\",\"2021-C05\",\"2021-C06\",\"2021-C07\",\"2021-C08\",\"2021-C09\",\"2021-C10\",\"2021-C11\",\"2021-C12\",\"2021-C13\",\"2022-C01\",\"2022-C02\",\"2022-C03\",\"2022-C04\"],\"y\":[\"\",\"\",\"\",\"\",\"\",\"\",\"\",\"\",\"\",\"\",\"\",\"\",\"\",\"\",\"\",\"\",\"\",\"\",\"\",18577.5,18538.8,18669.7,18789.7,21346.8,16837.4,18505.5,6859.1,10003.6,13047.3,17160.02,17798.5,17790.09,14852.7,20364.4,17513.6,20411.8,23205.4,17437.5,16176.0,19051.0,18450.9,17592.9,19461.7,18761.6,16398.6,15950.0,23672.1,20464.7,15000.3,15373.0,18501.4,16194.9],\"type\":\"scatter\"},{\"line\":{\"color\":\"rgba(255, 181, 184, 1.0)\",\"dash\":\"solid\",\"shape\":\"linear\",\"width\":1.3},\"marker\":{\"size\":12,\"symbol\":\"circle\"},\"mode\":\"markers\",\"name\":\"Natali Karen Litano Silupu\",\"text\":\"\",\"x\":[\"2018-C04\",\"2018-C05\",\"2018-C06\",\"2018-C07\",\"2018-C08\",\"2018-C09\",\"2018-C10\",\"2018-C11\",\"2018-C12\",\"2018-C13\",\"2019-C01\",\"2019-C02\",\"2019-C03\",\"2019-C04\",\"2019-C05\",\"2019-C06\",\"2019-C07\",\"2019-C08\",\"2019-C09\",\"2019-C10\",\"2019-C11\",\"2019-C12\",\"2019-C13\",\"2020-C01\",\"2020-C02\",\"2020-C03\",\"2020-C04\",\"2020-C05\",\"2020-C06\",\"2020-C07\",\"2020-C08\",\"2020-C09\",\"2020-C10\",\"2020-C11\",\"2020-C12\",\"2021-C01\",\"2021-C02\",\"2021-C03\",\"2021-C04\",\"2021-C05\",\"2021-C06\",\"2021-C07\",\"2021-C08\",\"2021-C09\",\"2021-C10\",\"2021-C11\",\"2021-C12\",\"2021-C13\",\"2022-C01\",\"2022-C02\",\"2022-C03\",\"2022-C04\"],\"y\":[\"\",\"\",\"\",\"\",\"\",\"\",\"\",\"\",\"\",\"\",\"\",18533.2,18516.6,15020.5,16924.0,14828.4,12259.9,14805.6,18506.6,13082.6,8631.8,10330.6,11075.9,9579.6,11258.7,8570.7,6363.9,10051.3,11377.0,12533.7,14420.76,11039.6,6853.7,6145.1,6410.2,11488.6,9341.2,9629.2,5892.5,12565.9,7423.3,6521.1,10589.4,6720.8,8203.3,14016.3,12064.5,8121.3,6891.0,8428.5,7062.9,6228.0],\"type\":\"scatter\"},{\"line\":{\"color\":\"rgba(255, 181, 184, 0.8999999999999999)\",\"dash\":\"solid\",\"shape\":\"linear\",\"width\":1.3},\"marker\":{\"size\":12,\"symbol\":\"circle\"},\"mode\":\"markers\",\"name\":\"Rosa Concepcion Ruiz De Abad\",\"text\":\"\",\"x\":[\"2018-C04\",\"2018-C05\",\"2018-C06\",\"2018-C07\",\"2018-C08\",\"2018-C09\",\"2018-C10\",\"2018-C11\",\"2018-C12\",\"2018-C13\",\"2019-C01\",\"2019-C02\",\"2019-C03\",\"2019-C04\",\"2019-C05\",\"2019-C06\",\"2019-C07\",\"2019-C08\",\"2019-C09\",\"2019-C10\",\"2019-C11\",\"2019-C12\",\"2019-C13\",\"2020-C01\",\"2020-C02\",\"2020-C03\",\"2020-C04\",\"2020-C05\",\"2020-C06\",\"2020-C07\",\"2020-C08\",\"2020-C09\",\"2020-C10\",\"2020-C11\",\"2020-C12\",\"2021-C01\",\"2021-C02\",\"2021-C03\",\"2021-C04\",\"2021-C05\",\"2021-C06\",\"2021-C07\",\"2021-C08\",\"2021-C09\",\"2021-C10\",\"2021-C11\",\"2021-C12\",\"2021-C13\",\"2022-C01\",\"2022-C02\",\"2022-C03\",\"2022-C04\"],\"y\":[20708.13,20094.5,22719.6,19883.2,14577.1,18519.8,16235.3,16977.7,21585.4,22197.9,23651.7,26407.2,23834.1,21361.5,22518.0,23737.9,25163.9,23182.5,25257.5,21360.1,22700.2,27290.3,25837.4,20760.4,22869.4,22345.1,6500.1,12524.2,11389.6,15337.16,15213.2,12414.73,14627.1,17494.1,17760.3,18510.1,22538.1,13647.9,7745.6,8999.7,10582.1,12009.4,11711.7,11049.2,14030.3,14009.1,17606.1,16605.8,15071.1,16814.7,17614.4,19846.2],\"type\":\"scatter\"},{\"line\":{\"color\":\"rgba(226, 74, 51, 0.8999999999999999)\",\"dash\":\"solid\",\"shape\":\"linear\",\"width\":1.3},\"marker\":{\"size\":12,\"symbol\":\"circle\"},\"mode\":\"markers\",\"name\":\"Rosario Elizabe Lazo Ramirez\",\"text\":\"\",\"x\":[\"2018-C04\",\"2018-C05\",\"2018-C06\",\"2018-C07\",\"2018-C08\",\"2018-C09\",\"2018-C10\",\"2018-C11\",\"2018-C12\",\"2018-C13\",\"2019-C01\",\"2019-C02\",\"2019-C03\",\"2019-C04\",\"2019-C05\",\"2019-C06\",\"2019-C07\",\"2019-C08\",\"2019-C09\",\"2019-C10\",\"2019-C11\",\"2019-C12\",\"2019-C13\",\"2020-C01\",\"2020-C02\",\"2020-C03\",\"2020-C04\",\"2020-C05\",\"2020-C06\",\"2020-C07\",\"2020-C08\",\"2020-C09\",\"2020-C10\",\"2020-C11\",\"2020-C12\",\"2021-C01\",\"2021-C02\",\"2021-C03\",\"2021-C04\",\"2021-C05\",\"2021-C06\",\"2021-C07\",\"2021-C08\",\"2021-C09\",\"2021-C10\",\"2021-C11\",\"2021-C12\",\"2021-C13\",\"2022-C01\",\"2022-C02\",\"2022-C03\",\"2022-C04\"],\"y\":[57296.37,58918.8,47040.6,46605.6,44148.9,33310.5,30082.5,27604.3,38460.7,47387.4,51469.1,31964.5,29281.2,30424.0,34902.1,37738.7,37327.6,39584.5,42614.9,33302.7,31090.7,32986.3,30611.8,32225.8,31788.7,30263.8,9907.9,26715.0,28880.7,31073.1,33657.7,26730.59,26644.0,34406.6,33194.9,32642.0,30066.6,26167.6,24916.4,23319.3,27872.5,27773.0,26079.7,30074.0,32110.5,29135.7,36821.3,17711.0,17665.0,20282.3,22493.9,24891.4],\"type\":\"scatter\"},{\"line\":{\"color\":\"rgba(62, 111, 176, 0.8999999999999999)\",\"dash\":\"solid\",\"shape\":\"linear\",\"width\":1.3},\"marker\":{\"size\":12,\"symbol\":\"circle\"},\"mode\":\"markers\",\"name\":\"Yenit Marizela Panta Gonzales\",\"text\":\"\",\"x\":[\"2018-C04\",\"2018-C05\",\"2018-C06\",\"2018-C07\",\"2018-C08\",\"2018-C09\",\"2018-C10\",\"2018-C11\",\"2018-C12\",\"2018-C13\",\"2019-C01\",\"2019-C02\",\"2019-C03\",\"2019-C04\",\"2019-C05\",\"2019-C06\",\"2019-C07\",\"2019-C08\",\"2019-C09\",\"2019-C10\",\"2019-C11\",\"2019-C12\",\"2019-C13\",\"2020-C01\",\"2020-C02\",\"2020-C03\",\"2020-C04\",\"2020-C05\",\"2020-C06\",\"2020-C07\",\"2020-C08\",\"2020-C09\",\"2020-C10\",\"2020-C11\",\"2020-C12\",\"2021-C01\",\"2021-C02\",\"2021-C03\",\"2021-C04\",\"2021-C05\",\"2021-C06\",\"2021-C07\",\"2021-C08\",\"2021-C09\",\"2021-C10\",\"2021-C11\",\"2021-C12\",\"2021-C13\",\"2022-C01\",\"2022-C02\",\"2022-C03\",\"2022-C04\"],\"y\":[\"\",\"\",\"\",\"\",\"\",19912.0,18752.0,20723.5,19626.1,15602.0,18583.3,22790.4,22002.5,18515.1,21494.1,19119.0,19146.9,18520.7,18675.6,18524.7,19323.2,20484.9,20950.2,19337.9,27878.6,25143.2,13097.4,28252.1,37403.82,47458.32,48265.4,53402.03,48304.0,54220.2,58977.1,27426.4,30955.0,29424.2,27056.6,26474.2,31718.7,33044.3,20721.8,22077.2,19385.2,21880.7,23925.3,18599.9,19063.6,19998.3,22242.1,21798.9],\"type\":\"scatter\"},{\"line\":{\"color\":\"rgba(132, 118, 202, 0.8999999999999999)\",\"dash\":\"solid\",\"shape\":\"linear\",\"width\":1.3},\"marker\":{\"size\":12,\"symbol\":\"circle\"},\"mode\":\"markers\",\"name\":\"Yessica Lizbeth Panta Gonzales\",\"text\":\"\",\"x\":[\"2018-C04\",\"2018-C05\",\"2018-C06\",\"2018-C07\",\"2018-C08\",\"2018-C09\",\"2018-C10\",\"2018-C11\",\"2018-C12\",\"2018-C13\",\"2019-C01\",\"2019-C02\",\"2019-C03\",\"2019-C04\",\"2019-C05\",\"2019-C06\",\"2019-C07\",\"2019-C08\",\"2019-C09\",\"2019-C10\",\"2019-C11\",\"2019-C12\",\"2019-C13\",\"2020-C01\",\"2020-C02\",\"2020-C03\",\"2020-C04\",\"2020-C05\",\"2020-C06\",\"2020-C07\",\"2020-C08\",\"2020-C09\",\"2020-C10\",\"2020-C11\",\"2020-C12\",\"2021-C01\",\"2021-C02\",\"2021-C03\",\"2021-C04\",\"2021-C05\",\"2021-C06\",\"2021-C07\",\"2021-C08\",\"2021-C09\",\"2021-C10\",\"2021-C11\",\"2021-C12\",\"2021-C13\",\"2022-C01\",\"2022-C02\",\"2022-C03\",\"2022-C04\"],\"y\":[\"\",\"\",\"\",\"\",\"\",\"\",\"\",\"\",\"\",\"\",\"\",\"\",\"\",\"\",\"\",\"\",\"\",\"\",\"\",\"\",\"\",\"\",\"\",\"\",\"\",\"\",\"\",\"\",\"\",\"\",\"\",\"\",\"\",\"\",\"\",21526.2,22892.0,20952.0,18180.4,16030.8,20533.9,20550.3,22786.6,20290.6,23577.7,23898.3,24125.8,20697.7,12937.8,17113.0,14690.9,13108.7],\"type\":\"scatter\"}],                        {\"legend\":{\"bgcolor\":\"#FFFFFF\",\"font\":{\"color\":\"#666666\"}},\"paper_bgcolor\":\"#FFFFFF\",\"plot_bgcolor\":\"#E5E5E5\",\"template\":{\"data\":{\"barpolar\":[{\"marker\":{\"line\":{\"color\":\"#E5ECF6\",\"width\":0.5},\"pattern\":{\"fillmode\":\"overlay\",\"size\":10,\"solidity\":0.2}},\"type\":\"barpolar\"}],\"bar\":[{\"error_x\":{\"color\":\"#2a3f5f\"},\"error_y\":{\"color\":\"#2a3f5f\"},\"marker\":{\"line\":{\"color\":\"#E5ECF6\",\"width\":0.5},\"pattern\":{\"fillmode\":\"overlay\",\"size\":10,\"solidity\":0.2}},\"type\":\"bar\"}],\"carpet\":[{\"aaxis\":{\"endlinecolor\":\"#2a3f5f\",\"gridcolor\":\"white\",\"linecolor\":\"white\",\"minorgridcolor\":\"white\",\"startlinecolor\":\"#2a3f5f\"},\"baxis\":{\"endlinecolor\":\"#2a3f5f\",\"gridcolor\":\"white\",\"linecolor\":\"white\",\"minorgridcolor\":\"white\",\"startlinecolor\":\"#2a3f5f\"},\"type\":\"carpet\"}],\"choropleth\":[{\"colorbar\":{\"outlinewidth\":0,\"ticks\":\"\"},\"type\":\"choropleth\"}],\"contourcarpet\":[{\"colorbar\":{\"outlinewidth\":0,\"ticks\":\"\"},\"type\":\"contourcarpet\"}],\"contour\":[{\"colorbar\":{\"outlinewidth\":0,\"ticks\":\"\"},\"colorscale\":[[0.0,\"#0d0887\"],[0.1111111111111111,\"#46039f\"],[0.2222222222222222,\"#7201a8\"],[0.3333333333333333,\"#9c179e\"],[0.4444444444444444,\"#bd3786\"],[0.5555555555555556,\"#d8576b\"],[0.6666666666666666,\"#ed7953\"],[0.7777777777777778,\"#fb9f3a\"],[0.8888888888888888,\"#fdca26\"],[1.0,\"#f0f921\"]],\"type\":\"contour\"}],\"heatmapgl\":[{\"colorbar\":{\"outlinewidth\":0,\"ticks\":\"\"},\"colorscale\":[[0.0,\"#0d0887\"],[0.1111111111111111,\"#46039f\"],[0.2222222222222222,\"#7201a8\"],[0.3333333333333333,\"#9c179e\"],[0.4444444444444444,\"#bd3786\"],[0.5555555555555556,\"#d8576b\"],[0.6666666666666666,\"#ed7953\"],[0.7777777777777778,\"#fb9f3a\"],[0.8888888888888888,\"#fdca26\"],[1.0,\"#f0f921\"]],\"type\":\"heatmapgl\"}],\"heatmap\":[{\"colorbar\":{\"outlinewidth\":0,\"ticks\":\"\"},\"colorscale\":[[0.0,\"#0d0887\"],[0.1111111111111111,\"#46039f\"],[0.2222222222222222,\"#7201a8\"],[0.3333333333333333,\"#9c179e\"],[0.4444444444444444,\"#bd3786\"],[0.5555555555555556,\"#d8576b\"],[0.6666666666666666,\"#ed7953\"],[0.7777777777777778,\"#fb9f3a\"],[0.8888888888888888,\"#fdca26\"],[1.0,\"#f0f921\"]],\"type\":\"heatmap\"}],\"histogram2dcontour\":[{\"colorbar\":{\"outlinewidth\":0,\"ticks\":\"\"},\"colorscale\":[[0.0,\"#0d0887\"],[0.1111111111111111,\"#46039f\"],[0.2222222222222222,\"#7201a8\"],[0.3333333333333333,\"#9c179e\"],[0.4444444444444444,\"#bd3786\"],[0.5555555555555556,\"#d8576b\"],[0.6666666666666666,\"#ed7953\"],[0.7777777777777778,\"#fb9f3a\"],[0.8888888888888888,\"#fdca26\"],[1.0,\"#f0f921\"]],\"type\":\"histogram2dcontour\"}],\"histogram2d\":[{\"colorbar\":{\"outlinewidth\":0,\"ticks\":\"\"},\"colorscale\":[[0.0,\"#0d0887\"],[0.1111111111111111,\"#46039f\"],[0.2222222222222222,\"#7201a8\"],[0.3333333333333333,\"#9c179e\"],[0.4444444444444444,\"#bd3786\"],[0.5555555555555556,\"#d8576b\"],[0.6666666666666666,\"#ed7953\"],[0.7777777777777778,\"#fb9f3a\"],[0.8888888888888888,\"#fdca26\"],[1.0,\"#f0f921\"]],\"type\":\"histogram2d\"}],\"histogram\":[{\"marker\":{\"pattern\":{\"fillmode\":\"overlay\",\"size\":10,\"solidity\":0.2}},\"type\":\"histogram\"}],\"mesh3d\":[{\"colorbar\":{\"outlinewidth\":0,\"ticks\":\"\"},\"type\":\"mesh3d\"}],\"parcoords\":[{\"line\":{\"colorbar\":{\"outlinewidth\":0,\"ticks\":\"\"}},\"type\":\"parcoords\"}],\"pie\":[{\"automargin\":true,\"type\":\"pie\"}],\"scatter3d\":[{\"line\":{\"colorbar\":{\"outlinewidth\":0,\"ticks\":\"\"}},\"marker\":{\"colorbar\":{\"outlinewidth\":0,\"ticks\":\"\"}},\"type\":\"scatter3d\"}],\"scattercarpet\":[{\"marker\":{\"colorbar\":{\"outlinewidth\":0,\"ticks\":\"\"}},\"type\":\"scattercarpet\"}],\"scattergeo\":[{\"marker\":{\"colorbar\":{\"outlinewidth\":0,\"ticks\":\"\"}},\"type\":\"scattergeo\"}],\"scattergl\":[{\"marker\":{\"colorbar\":{\"outlinewidth\":0,\"ticks\":\"\"}},\"type\":\"scattergl\"}],\"scattermapbox\":[{\"marker\":{\"colorbar\":{\"outlinewidth\":0,\"ticks\":\"\"}},\"type\":\"scattermapbox\"}],\"scatterpolargl\":[{\"marker\":{\"colorbar\":{\"outlinewidth\":0,\"ticks\":\"\"}},\"type\":\"scatterpolargl\"}],\"scatterpolar\":[{\"marker\":{\"colorbar\":{\"outlinewidth\":0,\"ticks\":\"\"}},\"type\":\"scatterpolar\"}],\"scatter\":[{\"fillpattern\":{\"fillmode\":\"overlay\",\"size\":10,\"solidity\":0.2},\"type\":\"scatter\"}],\"scatterternary\":[{\"marker\":{\"colorbar\":{\"outlinewidth\":0,\"ticks\":\"\"}},\"type\":\"scatterternary\"}],\"surface\":[{\"colorbar\":{\"outlinewidth\":0,\"ticks\":\"\"},\"colorscale\":[[0.0,\"#0d0887\"],[0.1111111111111111,\"#46039f\"],[0.2222222222222222,\"#7201a8\"],[0.3333333333333333,\"#9c179e\"],[0.4444444444444444,\"#bd3786\"],[0.5555555555555556,\"#d8576b\"],[0.6666666666666666,\"#ed7953\"],[0.7777777777777778,\"#fb9f3a\"],[0.8888888888888888,\"#fdca26\"],[1.0,\"#f0f921\"]],\"type\":\"surface\"}],\"table\":[{\"cells\":{\"fill\":{\"color\":\"#EBF0F8\"},\"line\":{\"color\":\"white\"}},\"header\":{\"fill\":{\"color\":\"#C8D4E3\"},\"line\":{\"color\":\"white\"}},\"type\":\"table\"}]},\"layout\":{\"annotationdefaults\":{\"arrowcolor\":\"#2a3f5f\",\"arrowhead\":0,\"arrowwidth\":1},\"autotypenumbers\":\"strict\",\"coloraxis\":{\"colorbar\":{\"outlinewidth\":0,\"ticks\":\"\"}},\"colorscale\":{\"diverging\":[[0,\"#8e0152\"],[0.1,\"#c51b7d\"],[0.2,\"#de77ae\"],[0.3,\"#f1b6da\"],[0.4,\"#fde0ef\"],[0.5,\"#f7f7f7\"],[0.6,\"#e6f5d0\"],[0.7,\"#b8e186\"],[0.8,\"#7fbc41\"],[0.9,\"#4d9221\"],[1,\"#276419\"]],\"sequential\":[[0.0,\"#0d0887\"],[0.1111111111111111,\"#46039f\"],[0.2222222222222222,\"#7201a8\"],[0.3333333333333333,\"#9c179e\"],[0.4444444444444444,\"#bd3786\"],[0.5555555555555556,\"#d8576b\"],[0.6666666666666666,\"#ed7953\"],[0.7777777777777778,\"#fb9f3a\"],[0.8888888888888888,\"#fdca26\"],[1.0,\"#f0f921\"]],\"sequentialminus\":[[0.0,\"#0d0887\"],[0.1111111111111111,\"#46039f\"],[0.2222222222222222,\"#7201a8\"],[0.3333333333333333,\"#9c179e\"],[0.4444444444444444,\"#bd3786\"],[0.5555555555555556,\"#d8576b\"],[0.6666666666666666,\"#ed7953\"],[0.7777777777777778,\"#fb9f3a\"],[0.8888888888888888,\"#fdca26\"],[1.0,\"#f0f921\"]]},\"colorway\":[\"#636efa\",\"#EF553B\",\"#00cc96\",\"#ab63fa\",\"#FFA15A\",\"#19d3f3\",\"#FF6692\",\"#B6E880\",\"#FF97FF\",\"#FECB52\"],\"font\":{\"color\":\"#2a3f5f\"},\"geo\":{\"bgcolor\":\"white\",\"lakecolor\":\"white\",\"landcolor\":\"#E5ECF6\",\"showlakes\":true,\"showland\":true,\"subunitcolor\":\"white\"},\"hoverlabel\":{\"align\":\"left\"},\"hovermode\":\"closest\",\"mapbox\":{\"style\":\"light\"},\"paper_bgcolor\":\"white\",\"plot_bgcolor\":\"#E5ECF6\",\"polar\":{\"angularaxis\":{\"gridcolor\":\"white\",\"linecolor\":\"white\",\"ticks\":\"\"},\"bgcolor\":\"#E5ECF6\",\"radialaxis\":{\"gridcolor\":\"white\",\"linecolor\":\"white\",\"ticks\":\"\"}},\"scene\":{\"xaxis\":{\"backgroundcolor\":\"#E5ECF6\",\"gridcolor\":\"white\",\"gridwidth\":2,\"linecolor\":\"white\",\"showbackground\":true,\"ticks\":\"\",\"zerolinecolor\":\"white\"},\"yaxis\":{\"backgroundcolor\":\"#E5ECF6\",\"gridcolor\":\"white\",\"gridwidth\":2,\"linecolor\":\"white\",\"showbackground\":true,\"ticks\":\"\",\"zerolinecolor\":\"white\"},\"zaxis\":{\"backgroundcolor\":\"#E5ECF6\",\"gridcolor\":\"white\",\"gridwidth\":2,\"linecolor\":\"white\",\"showbackground\":true,\"ticks\":\"\",\"zerolinecolor\":\"white\"}},\"shapedefaults\":{\"line\":{\"color\":\"#2a3f5f\"}},\"ternary\":{\"aaxis\":{\"gridcolor\":\"white\",\"linecolor\":\"white\",\"ticks\":\"\"},\"baxis\":{\"gridcolor\":\"white\",\"linecolor\":\"white\",\"ticks\":\"\"},\"bgcolor\":\"#E5ECF6\",\"caxis\":{\"gridcolor\":\"white\",\"linecolor\":\"white\",\"ticks\":\"\"}},\"title\":{\"x\":0.05},\"xaxis\":{\"automargin\":true,\"gridcolor\":\"white\",\"linecolor\":\"white\",\"ticks\":\"\",\"title\":{\"standoff\":15},\"zerolinecolor\":\"white\",\"zerolinewidth\":2},\"yaxis\":{\"automargin\":true,\"gridcolor\":\"white\",\"linecolor\":\"white\",\"ticks\":\"\",\"title\":{\"standoff\":15},\"zerolinecolor\":\"white\",\"zerolinewidth\":2}}},\"title\":{\"font\":{\"color\":\"#151516\"},\"text\":\"Venta Publica Grupal por Campania\"},\"xaxis\":{\"gridcolor\":\"#F6F6F6\",\"showgrid\":true,\"tickfont\":{\"color\":\"#666666\"},\"title\":{\"font\":{\"color\":\"#666666\"},\"text\":\"Campania\"},\"zerolinecolor\":\"#F6F6F6\"},\"yaxis\":{\"gridcolor\":\"#F6F6F6\",\"showgrid\":true,\"tickfont\":{\"color\":\"#666666\"},\"title\":{\"font\":{\"color\":\"#666666\"},\"text\":\"Venta Publica Grupal\"},\"zerolinecolor\":\"#F6F6F6\"}},                        {\"showLink\": true, \"linkText\": \"Export to plot.ly\", \"plotlyServerURL\": \"https://plot.ly\", \"responsive\": true}                    ).then(function(){\n",
       "                            \n",
       "var gd = document.getElementById('fc67d25e-fd8d-45ea-a9df-65da3e370a2f');\n",
       "var x = new MutationObserver(function (mutations, observer) {{\n",
       "        var display = window.getComputedStyle(gd).display;\n",
       "        if (!display || display === 'none') {{\n",
       "            console.log([gd, 'removed!']);\n",
       "            Plotly.purge(gd);\n",
       "            observer.disconnect();\n",
       "        }}\n",
       "}});\n",
       "\n",
       "// Listen for the removal of the full notebook cells\n",
       "var notebookContainer = gd.closest('#notebook-container');\n",
       "if (notebookContainer) {{\n",
       "    x.observe(notebookContainer, {childList: true});\n",
       "}}\n",
       "\n",
       "// Listen for the clearing of the current output cell\n",
       "var outputEl = gd.closest('.output');\n",
       "if (outputEl) {{\n",
       "    x.observe(outputEl, {childList: true});\n",
       "}}\n",
       "\n",
       "                        })                };                });            </script>        </div>"
      ]
     },
     "metadata": {},
     "output_type": "display_data"
    }
   ],
   "source": [
    "df_desempeno.iplot(kind='scatter', mode='markers',\n",
    "                   xTitle='Campania', yTitle='Venta Publica Grupal',\n",
    "                    title='Venta Publica Grupal por Campania')"
   ]
  },
  {
   "cell_type": "code",
   "execution_count": null,
   "id": "6b18966e",
   "metadata": {},
   "outputs": [],
   "source": []
  }
 ],
 "metadata": {
  "kernelspec": {
   "display_name": "Python 3 (ipykernel)",
   "language": "python",
   "name": "python3"
  },
  "language_info": {
   "codemirror_mode": {
    "name": "ipython",
    "version": 3
   },
   "file_extension": ".py",
   "mimetype": "text/x-python",
   "name": "python",
   "nbconvert_exporter": "python",
   "pygments_lexer": "ipython3",
   "version": "3.9.7"
  }
 },
 "nbformat": 4,
 "nbformat_minor": 5
}
